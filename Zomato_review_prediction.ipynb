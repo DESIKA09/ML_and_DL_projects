{
  "cells": [
    {
      "cell_type": "markdown",
      "metadata": {
        "id": "m7pARIWC-YvQ"
      },
      "source": [
        "# Case study 3\n",
        "### Problem statement\n",
        "\n",
        "Zomato is India's largest platform for discovering restaurants and ordering food. It operates in India as well as a few cities internationally. Bangalore is one of the biggest customer and restaurant bases for zomato with 4 to 5 million users using the platform each month.\n",
        "\n",
        "Users on the platform can also post reviews of restaurants, and provide a rating accomapnying the review. The content in the reviews should ideally reflect the rating provided by the customer. In many cases, there is a mismatch, owning to multiple reasons where the rating does not match the customer review. The reviews and ratings matching is very important as it builds customer trust on the platform, and helps the user get an accurate picture of the restaurant.\n",
        "\n",
        "You, as a data scientist, need to enable the identification and cleanup of such cases, to ensure the ratings are reflective of the reviews and that the reviews seem trustworthy to the custimer. You will need to use NLP techniques in conjunction with Machine learning models to predict the rating from the review text\n",
        "\n",
        "**Domain**: Hospitality and internet\n",
        "\n",
        "**Analysis to be done**:Perform specific data cleanup build a rating prediction model using Random Forest techniqe\n"
      ]
    },
    {
      "cell_type": "markdown",
      "metadata": {
        "id": "HW0rTshY-Yvi"
      },
      "source": [
        "# Load up basic dependencies\n"
      ]
    },
    {
      "cell_type": "code",
      "execution_count": 1,
      "metadata": {
        "id": "Sw9G2KZzVCZE",
        "colab": {
          "base_uri": "https://localhost:8080/"
        },
        "outputId": "a275e3e9-cdca-4d35-c48e-ec74d06ce719"
      },
      "outputs": [
        {
          "output_type": "stream",
          "name": "stderr",
          "text": [
            "[nltk_data] Downloading package punkt to /root/nltk_data...\n",
            "[nltk_data]   Unzipping tokenizers/punkt.zip.\n"
          ]
        }
      ],
      "source": [
        "import pandas as pd\n",
        "import numpy as np\n",
        "import re\n",
        "from google.colab import files\n",
        "import nltk\n",
        "nltk.download('punkt')\n",
        "from nltk.tokenize import word_tokenize\n",
        "from nltk.corpus import stopwords\n",
        "from string import punctuation\n",
        "from sklearn.model_selection import train_test_split\n",
        "from sklearn.feature_extraction.text import TfidfVectorizer\n",
        "from sklearn.ensemble import RandomForestRegressor, GradientBoostingRegressor\n",
        "from sklearn.model_selection import GridSearchCV\n"
      ]
    },
    {
      "cell_type": "markdown",
      "metadata": {
        "id": "yIyo1ab4-Yvq"
      },
      "source": [
        "# Load and View the Dataset\n",
        "\n"
      ]
    },
    {
      "cell_type": "code",
      "execution_count": 2,
      "metadata": {
        "colab": {
          "base_uri": "https://localhost:8080/",
          "height": 73
        },
        "id": "b-lx_45naIQm",
        "outputId": "060d5f98-1604-4900-ec98-b1d4adfbfabc"
      },
      "outputs": [
        {
          "output_type": "display_data",
          "data": {
            "text/plain": [
              "<IPython.core.display.HTML object>"
            ],
            "text/html": [
              "\n",
              "     <input type=\"file\" id=\"files-cf5d0a12-66ad-40c8-b386-6cc9dff609c6\" name=\"files[]\" multiple disabled\n",
              "        style=\"border:none\" />\n",
              "     <output id=\"result-cf5d0a12-66ad-40c8-b386-6cc9dff609c6\">\n",
              "      Upload widget is only available when the cell has been executed in the\n",
              "      current browser session. Please rerun this cell to enable.\n",
              "      </output>\n",
              "      <script>// Copyright 2017 Google LLC\n",
              "//\n",
              "// Licensed under the Apache License, Version 2.0 (the \"License\");\n",
              "// you may not use this file except in compliance with the License.\n",
              "// You may obtain a copy of the License at\n",
              "//\n",
              "//      http://www.apache.org/licenses/LICENSE-2.0\n",
              "//\n",
              "// Unless required by applicable law or agreed to in writing, software\n",
              "// distributed under the License is distributed on an \"AS IS\" BASIS,\n",
              "// WITHOUT WARRANTIES OR CONDITIONS OF ANY KIND, either express or implied.\n",
              "// See the License for the specific language governing permissions and\n",
              "// limitations under the License.\n",
              "\n",
              "/**\n",
              " * @fileoverview Helpers for google.colab Python module.\n",
              " */\n",
              "(function(scope) {\n",
              "function span(text, styleAttributes = {}) {\n",
              "  const element = document.createElement('span');\n",
              "  element.textContent = text;\n",
              "  for (const key of Object.keys(styleAttributes)) {\n",
              "    element.style[key] = styleAttributes[key];\n",
              "  }\n",
              "  return element;\n",
              "}\n",
              "\n",
              "// Max number of bytes which will be uploaded at a time.\n",
              "const MAX_PAYLOAD_SIZE = 100 * 1024;\n",
              "\n",
              "function _uploadFiles(inputId, outputId) {\n",
              "  const steps = uploadFilesStep(inputId, outputId);\n",
              "  const outputElement = document.getElementById(outputId);\n",
              "  // Cache steps on the outputElement to make it available for the next call\n",
              "  // to uploadFilesContinue from Python.\n",
              "  outputElement.steps = steps;\n",
              "\n",
              "  return _uploadFilesContinue(outputId);\n",
              "}\n",
              "\n",
              "// This is roughly an async generator (not supported in the browser yet),\n",
              "// where there are multiple asynchronous steps and the Python side is going\n",
              "// to poll for completion of each step.\n",
              "// This uses a Promise to block the python side on completion of each step,\n",
              "// then passes the result of the previous step as the input to the next step.\n",
              "function _uploadFilesContinue(outputId) {\n",
              "  const outputElement = document.getElementById(outputId);\n",
              "  const steps = outputElement.steps;\n",
              "\n",
              "  const next = steps.next(outputElement.lastPromiseValue);\n",
              "  return Promise.resolve(next.value.promise).then((value) => {\n",
              "    // Cache the last promise value to make it available to the next\n",
              "    // step of the generator.\n",
              "    outputElement.lastPromiseValue = value;\n",
              "    return next.value.response;\n",
              "  });\n",
              "}\n",
              "\n",
              "/**\n",
              " * Generator function which is called between each async step of the upload\n",
              " * process.\n",
              " * @param {string} inputId Element ID of the input file picker element.\n",
              " * @param {string} outputId Element ID of the output display.\n",
              " * @return {!Iterable<!Object>} Iterable of next steps.\n",
              " */\n",
              "function* uploadFilesStep(inputId, outputId) {\n",
              "  const inputElement = document.getElementById(inputId);\n",
              "  inputElement.disabled = false;\n",
              "\n",
              "  const outputElement = document.getElementById(outputId);\n",
              "  outputElement.innerHTML = '';\n",
              "\n",
              "  const pickedPromise = new Promise((resolve) => {\n",
              "    inputElement.addEventListener('change', (e) => {\n",
              "      resolve(e.target.files);\n",
              "    });\n",
              "  });\n",
              "\n",
              "  const cancel = document.createElement('button');\n",
              "  inputElement.parentElement.appendChild(cancel);\n",
              "  cancel.textContent = 'Cancel upload';\n",
              "  const cancelPromise = new Promise((resolve) => {\n",
              "    cancel.onclick = () => {\n",
              "      resolve(null);\n",
              "    };\n",
              "  });\n",
              "\n",
              "  // Wait for the user to pick the files.\n",
              "  const files = yield {\n",
              "    promise: Promise.race([pickedPromise, cancelPromise]),\n",
              "    response: {\n",
              "      action: 'starting',\n",
              "    }\n",
              "  };\n",
              "\n",
              "  cancel.remove();\n",
              "\n",
              "  // Disable the input element since further picks are not allowed.\n",
              "  inputElement.disabled = true;\n",
              "\n",
              "  if (!files) {\n",
              "    return {\n",
              "      response: {\n",
              "        action: 'complete',\n",
              "      }\n",
              "    };\n",
              "  }\n",
              "\n",
              "  for (const file of files) {\n",
              "    const li = document.createElement('li');\n",
              "    li.append(span(file.name, {fontWeight: 'bold'}));\n",
              "    li.append(span(\n",
              "        `(${file.type || 'n/a'}) - ${file.size} bytes, ` +\n",
              "        `last modified: ${\n",
              "            file.lastModifiedDate ? file.lastModifiedDate.toLocaleDateString() :\n",
              "                                    'n/a'} - `));\n",
              "    const percent = span('0% done');\n",
              "    li.appendChild(percent);\n",
              "\n",
              "    outputElement.appendChild(li);\n",
              "\n",
              "    const fileDataPromise = new Promise((resolve) => {\n",
              "      const reader = new FileReader();\n",
              "      reader.onload = (e) => {\n",
              "        resolve(e.target.result);\n",
              "      };\n",
              "      reader.readAsArrayBuffer(file);\n",
              "    });\n",
              "    // Wait for the data to be ready.\n",
              "    let fileData = yield {\n",
              "      promise: fileDataPromise,\n",
              "      response: {\n",
              "        action: 'continue',\n",
              "      }\n",
              "    };\n",
              "\n",
              "    // Use a chunked sending to avoid message size limits. See b/62115660.\n",
              "    let position = 0;\n",
              "    do {\n",
              "      const length = Math.min(fileData.byteLength - position, MAX_PAYLOAD_SIZE);\n",
              "      const chunk = new Uint8Array(fileData, position, length);\n",
              "      position += length;\n",
              "\n",
              "      const base64 = btoa(String.fromCharCode.apply(null, chunk));\n",
              "      yield {\n",
              "        response: {\n",
              "          action: 'append',\n",
              "          file: file.name,\n",
              "          data: base64,\n",
              "        },\n",
              "      };\n",
              "\n",
              "      let percentDone = fileData.byteLength === 0 ?\n",
              "          100 :\n",
              "          Math.round((position / fileData.byteLength) * 100);\n",
              "      percent.textContent = `${percentDone}% done`;\n",
              "\n",
              "    } while (position < fileData.byteLength);\n",
              "  }\n",
              "\n",
              "  // All done.\n",
              "  yield {\n",
              "    response: {\n",
              "      action: 'complete',\n",
              "    }\n",
              "  };\n",
              "}\n",
              "\n",
              "scope.google = scope.google || {};\n",
              "scope.google.colab = scope.google.colab || {};\n",
              "scope.google.colab._files = {\n",
              "  _uploadFiles,\n",
              "  _uploadFilesContinue,\n",
              "};\n",
              "})(self);\n",
              "</script> "
            ]
          },
          "metadata": {}
        },
        {
          "output_type": "stream",
          "name": "stdout",
          "text": [
            "Saving Zomato_reviews.csv to Zomato_reviews (1).csv\n"
          ]
        }
      ],
      "source": [
        "uploaded = files.upload()"
      ]
    },
    {
      "cell_type": "code",
      "execution_count": 3,
      "metadata": {
        "id": "HJI3umZOWsI9"
      },
      "outputs": [],
      "source": [
        "reviews0 = pd.read_csv(\"Zomato_reviews.csv\", encoding= 'unicode_escape')"
      ]
    },
    {
      "cell_type": "code",
      "execution_count": null,
      "metadata": {
        "colab": {
          "base_uri": "https://localhost:8080/",
          "height": 206
        },
        "id": "fxZoqB50W0Wc",
        "outputId": "2d740f54-1546-4631-d91d-948ed188e5b3"
      },
      "outputs": [
        {
          "data": {
            "text/html": [
              "<div>\n",
              "<style scoped>\n",
              "    .dataframe tbody tr th:only-of-type {\n",
              "        vertical-align: middle;\n",
              "    }\n",
              "\n",
              "    .dataframe tbody tr th {\n",
              "        vertical-align: top;\n",
              "    }\n",
              "\n",
              "    .dataframe thead th {\n",
              "        text-align: right;\n",
              "    }\n",
              "</style>\n",
              "<table border=\"1\" class=\"dataframe\">\n",
              "  <thead>\n",
              "    <tr style=\"text-align: right;\">\n",
              "      <th></th>\n",
              "      <th>rating</th>\n",
              "      <th>review_text</th>\n",
              "    </tr>\n",
              "  </thead>\n",
              "  <tbody>\n",
              "    <tr>\n",
              "      <th>0</th>\n",
              "      <td>1.0</td>\n",
              "      <td>Their service is worst, pricing in menu is dif...</td>\n",
              "    </tr>\n",
              "    <tr>\n",
              "      <th>1</th>\n",
              "      <td>5.0</td>\n",
              "      <td>really appreciate their quality and timing . I...</td>\n",
              "    </tr>\n",
              "    <tr>\n",
              "      <th>2</th>\n",
              "      <td>4.0</td>\n",
              "      <td>Went there on a Friday night, the place was su...</td>\n",
              "    </tr>\n",
              "    <tr>\n",
              "      <th>3</th>\n",
              "      <td>4.0</td>\n",
              "      <td>A very decent place serving good food.\\r\\nOrde...</td>\n",
              "    </tr>\n",
              "    <tr>\n",
              "      <th>4</th>\n",
              "      <td>5.0</td>\n",
              "      <td>One of the BEST places for steaks in the city....</td>\n",
              "    </tr>\n",
              "  </tbody>\n",
              "</table>\n",
              "</div>"
            ],
            "text/plain": [
              "   rating                                        review_text\n",
              "0     1.0  Their service is worst, pricing in menu is dif...\n",
              "1     5.0  really appreciate their quality and timing . I...\n",
              "2     4.0  Went there on a Friday night, the place was su...\n",
              "3     4.0  A very decent place serving good food.\\r\\nOrde...\n",
              "4     5.0  One of the BEST places for steaks in the city...."
            ]
          },
          "execution_count": 82,
          "metadata": {},
          "output_type": "execute_result"
        }
      ],
      "source": [
        "reviews0.head() #viewing the first 5 reviews and ratings"
      ]
    },
    {
      "cell_type": "code",
      "execution_count": 4,
      "metadata": {
        "colab": {
          "base_uri": "https://localhost:8080/",
          "height": 394
        },
        "id": "idxv8PUfbhMt",
        "outputId": "8ef64b25-ded5-4a65-9588-746cd6f169bd"
      },
      "outputs": [
        {
          "output_type": "execute_result",
          "data": {
            "text/plain": [
              "              rating review_text\n",
              "count   27762.000000       27748\n",
              "unique           NaN       10548\n",
              "top              NaN        good\n",
              "freq             NaN         278\n",
              "mean        3.665784         NaN\n",
              "std         1.284573         NaN\n",
              "min         1.000000         NaN\n",
              "25%         3.000000         NaN\n",
              "50%         4.000000         NaN\n",
              "75%         5.000000         NaN\n",
              "max         5.000000         NaN"
            ],
            "text/html": [
              "\n",
              "  <div id=\"df-6e331279-ee62-41e5-bb8f-7a43b46ee6e9\">\n",
              "    <div class=\"colab-df-container\">\n",
              "      <div>\n",
              "<style scoped>\n",
              "    .dataframe tbody tr th:only-of-type {\n",
              "        vertical-align: middle;\n",
              "    }\n",
              "\n",
              "    .dataframe tbody tr th {\n",
              "        vertical-align: top;\n",
              "    }\n",
              "\n",
              "    .dataframe thead th {\n",
              "        text-align: right;\n",
              "    }\n",
              "</style>\n",
              "<table border=\"1\" class=\"dataframe\">\n",
              "  <thead>\n",
              "    <tr style=\"text-align: right;\">\n",
              "      <th></th>\n",
              "      <th>rating</th>\n",
              "      <th>review_text</th>\n",
              "    </tr>\n",
              "  </thead>\n",
              "  <tbody>\n",
              "    <tr>\n",
              "      <th>count</th>\n",
              "      <td>27762.000000</td>\n",
              "      <td>27748</td>\n",
              "    </tr>\n",
              "    <tr>\n",
              "      <th>unique</th>\n",
              "      <td>NaN</td>\n",
              "      <td>10548</td>\n",
              "    </tr>\n",
              "    <tr>\n",
              "      <th>top</th>\n",
              "      <td>NaN</td>\n",
              "      <td>good</td>\n",
              "    </tr>\n",
              "    <tr>\n",
              "      <th>freq</th>\n",
              "      <td>NaN</td>\n",
              "      <td>278</td>\n",
              "    </tr>\n",
              "    <tr>\n",
              "      <th>mean</th>\n",
              "      <td>3.665784</td>\n",
              "      <td>NaN</td>\n",
              "    </tr>\n",
              "    <tr>\n",
              "      <th>std</th>\n",
              "      <td>1.284573</td>\n",
              "      <td>NaN</td>\n",
              "    </tr>\n",
              "    <tr>\n",
              "      <th>min</th>\n",
              "      <td>1.000000</td>\n",
              "      <td>NaN</td>\n",
              "    </tr>\n",
              "    <tr>\n",
              "      <th>25%</th>\n",
              "      <td>3.000000</td>\n",
              "      <td>NaN</td>\n",
              "    </tr>\n",
              "    <tr>\n",
              "      <th>50%</th>\n",
              "      <td>4.000000</td>\n",
              "      <td>NaN</td>\n",
              "    </tr>\n",
              "    <tr>\n",
              "      <th>75%</th>\n",
              "      <td>5.000000</td>\n",
              "      <td>NaN</td>\n",
              "    </tr>\n",
              "    <tr>\n",
              "      <th>max</th>\n",
              "      <td>5.000000</td>\n",
              "      <td>NaN</td>\n",
              "    </tr>\n",
              "  </tbody>\n",
              "</table>\n",
              "</div>\n",
              "      <button class=\"colab-df-convert\" onclick=\"convertToInteractive('df-6e331279-ee62-41e5-bb8f-7a43b46ee6e9')\"\n",
              "              title=\"Convert this dataframe to an interactive table.\"\n",
              "              style=\"display:none;\">\n",
              "        \n",
              "  <svg xmlns=\"http://www.w3.org/2000/svg\" height=\"24px\"viewBox=\"0 0 24 24\"\n",
              "       width=\"24px\">\n",
              "    <path d=\"M0 0h24v24H0V0z\" fill=\"none\"/>\n",
              "    <path d=\"M18.56 5.44l.94 2.06.94-2.06 2.06-.94-2.06-.94-.94-2.06-.94 2.06-2.06.94zm-11 1L8.5 8.5l.94-2.06 2.06-.94-2.06-.94L8.5 2.5l-.94 2.06-2.06.94zm10 10l.94 2.06.94-2.06 2.06-.94-2.06-.94-.94-2.06-.94 2.06-2.06.94z\"/><path d=\"M17.41 7.96l-1.37-1.37c-.4-.4-.92-.59-1.43-.59-.52 0-1.04.2-1.43.59L10.3 9.45l-7.72 7.72c-.78.78-.78 2.05 0 2.83L4 21.41c.39.39.9.59 1.41.59.51 0 1.02-.2 1.41-.59l7.78-7.78 2.81-2.81c.8-.78.8-2.07 0-2.86zM5.41 20L4 18.59l7.72-7.72 1.47 1.35L5.41 20z\"/>\n",
              "  </svg>\n",
              "      </button>\n",
              "      \n",
              "  <style>\n",
              "    .colab-df-container {\n",
              "      display:flex;\n",
              "      flex-wrap:wrap;\n",
              "      gap: 12px;\n",
              "    }\n",
              "\n",
              "    .colab-df-convert {\n",
              "      background-color: #E8F0FE;\n",
              "      border: none;\n",
              "      border-radius: 50%;\n",
              "      cursor: pointer;\n",
              "      display: none;\n",
              "      fill: #1967D2;\n",
              "      height: 32px;\n",
              "      padding: 0 0 0 0;\n",
              "      width: 32px;\n",
              "    }\n",
              "\n",
              "    .colab-df-convert:hover {\n",
              "      background-color: #E2EBFA;\n",
              "      box-shadow: 0px 1px 2px rgba(60, 64, 67, 0.3), 0px 1px 3px 1px rgba(60, 64, 67, 0.15);\n",
              "      fill: #174EA6;\n",
              "    }\n",
              "\n",
              "    [theme=dark] .colab-df-convert {\n",
              "      background-color: #3B4455;\n",
              "      fill: #D2E3FC;\n",
              "    }\n",
              "\n",
              "    [theme=dark] .colab-df-convert:hover {\n",
              "      background-color: #434B5C;\n",
              "      box-shadow: 0px 1px 3px 1px rgba(0, 0, 0, 0.15);\n",
              "      filter: drop-shadow(0px 1px 2px rgba(0, 0, 0, 0.3));\n",
              "      fill: #FFFFFF;\n",
              "    }\n",
              "  </style>\n",
              "\n",
              "      <script>\n",
              "        const buttonEl =\n",
              "          document.querySelector('#df-6e331279-ee62-41e5-bb8f-7a43b46ee6e9 button.colab-df-convert');\n",
              "        buttonEl.style.display =\n",
              "          google.colab.kernel.accessAllowed ? 'block' : 'none';\n",
              "\n",
              "        async function convertToInteractive(key) {\n",
              "          const element = document.querySelector('#df-6e331279-ee62-41e5-bb8f-7a43b46ee6e9');\n",
              "          const dataTable =\n",
              "            await google.colab.kernel.invokeFunction('convertToInteractive',\n",
              "                                                     [key], {});\n",
              "          if (!dataTable) return;\n",
              "\n",
              "          const docLinkHtml = 'Like what you see? Visit the ' +\n",
              "            '<a target=\"_blank\" href=https://colab.research.google.com/notebooks/data_table.ipynb>data table notebook</a>'\n",
              "            + ' to learn more about interactive tables.';\n",
              "          element.innerHTML = '';\n",
              "          dataTable['output_type'] = 'display_data';\n",
              "          await google.colab.output.renderOutput(dataTable, element);\n",
              "          const docLink = document.createElement('div');\n",
              "          docLink.innerHTML = docLinkHtml;\n",
              "          element.appendChild(docLink);\n",
              "        }\n",
              "      </script>\n",
              "    </div>\n",
              "  </div>\n",
              "  "
            ]
          },
          "metadata": {},
          "execution_count": 4
        }
      ],
      "source": [
        "reviews0.describe(include=\"all\")"
      ]
    },
    {
      "cell_type": "markdown",
      "metadata": {
        "id": "otia2IHr-Yv5"
      },
      "source": [
        "# Basic Data Processing"
      ]
    },
    {
      "cell_type": "markdown",
      "metadata": {
        "id": "JSJEAGDG-Yv7"
      },
      "source": [
        "## Remove all records with no review text"
      ]
    },
    {
      "cell_type": "code",
      "execution_count": 5,
      "metadata": {
        "id": "ntIR-I7rbkHk"
      },
      "outputs": [],
      "source": [
        "reviews1 = reviews0[~reviews0.review_text.isnull()].copy()\n",
        "reviews1.reset_index(inplace=True, drop=True)"
      ]
    },
    {
      "cell_type": "code",
      "execution_count": 6,
      "metadata": {
        "colab": {
          "base_uri": "https://localhost:8080/"
        },
        "id": "6tir60ivbs1V",
        "outputId": "9f70822b-d664-44cb-9539-a810a820b3a9"
      },
      "outputs": [
        {
          "output_type": "execute_result",
          "data": {
            "text/plain": [
              "((27762, 2), (27748, 2))"
            ]
          },
          "metadata": {},
          "execution_count": 6
        }
      ],
      "source": [
        "reviews0.shape, reviews1.shape"
      ]
    },
    {
      "cell_type": "markdown",
      "metadata": {
        "id": "13Xr7gxn-Yv_"
      },
      "source": [
        "**Checking imbalances**"
      ]
    },
    {
      "cell_type": "code",
      "execution_count": 7,
      "metadata": {
        "colab": {
          "base_uri": "https://localhost:8080/"
        },
        "id": "LGCB1WXl-YwB",
        "outputId": "27253b2d-a3c4-4091-ab85-89ba2a561efe"
      },
      "outputs": [
        {
          "output_type": "execute_result",
          "data": {
            "text/plain": [
              "4.0    8632\n",
              "5.0    8118\n",
              "3.0    3762\n",
              "1.0    3126\n",
              "2.0    1675\n",
              "3.5    1078\n",
              "4.5     933\n",
              "2.5     261\n",
              "1.5     177\n",
              "Name: rating, dtype: int64"
            ]
          },
          "metadata": {},
          "execution_count": 7
        }
      ],
      "source": [
        "reviews0[\"rating\"].value_counts()"
      ]
    },
    {
      "cell_type": "markdown",
      "metadata": {
        "id": "phhKru55cEKB"
      },
      "source": [
        "## **Converting to list for easy manipulation**\n"
      ]
    },
    {
      "cell_type": "code",
      "execution_count": 8,
      "metadata": {
        "id": "T54zzSTScAQM"
      },
      "outputs": [],
      "source": [
        "reviews_list = reviews1.review_text.values"
      ]
    },
    {
      "cell_type": "code",
      "execution_count": 9,
      "metadata": {
        "colab": {
          "base_uri": "https://localhost:8080/"
        },
        "id": "8RtqSobecNI-",
        "outputId": "c0536711-c610-4d66-e3ec-1a3cab5ad0e8"
      },
      "outputs": [
        {
          "output_type": "execute_result",
          "data": {
            "text/plain": [
              "27748"
            ]
          },
          "metadata": {},
          "execution_count": 9
        }
      ],
      "source": [
        "len(reviews_list)"
      ]
    },
    {
      "cell_type": "markdown",
      "metadata": {
        "id": "NbpcJbjkcSx_"
      },
      "source": [
        "## Text clean up\n",
        "\n",
        "* Normalize the case\n",
        "\n",
        "* Remove stop words\n",
        "\n",
        "* remove \"not\", \"no\" from the stop word list\n",
        "\n",
        "* Remove punctuations\n",
        "\n",
        "### Normalizing case / Case Conversion\n",
        "All the texts are converted into lower case"
      ]
    },
    {
      "cell_type": "code",
      "execution_count": 10,
      "metadata": {
        "id": "cDvtmyxecO6d"
      },
      "outputs": [],
      "source": [
        "reviews_lower = [txt.lower() for txt in reviews_list]"
      ]
    },
    {
      "cell_type": "code",
      "execution_count": 11,
      "metadata": {
        "colab": {
          "base_uri": "https://localhost:8080/"
        },
        "id": "1etteDjvcoga",
        "outputId": "43149479-f44b-45f9-be1d-b5e58aa7782f"
      },
      "outputs": [
        {
          "output_type": "execute_result",
          "data": {
            "text/plain": [
              "['went there on a friday night, the place was surprisingly empty. interesting menu which is almost fully made of dosas. i had bullseye dosa and cheese masala dosa. the bullseye dosa was really good, with the egg perfectly cooked to a half boiled state. the masala in the cheese masala was good, but the cheese was a bit too chewy for my liking. the chutney was good, the sambar was average. the dishes are reasonably priced.',\n",
              " 'a very decent place serving good food.\\r\\nordered chilli fish, chicken & pork sizzler.\\r\\neverything tasted good but pork could have been slightly better cooked.\\r\\ntried 2 beverages, both were very sweet.']"
            ]
          },
          "metadata": {},
          "execution_count": 11
        }
      ],
      "source": [
        "reviews_lower[2:4]"
      ]
    },
    {
      "cell_type": "code",
      "execution_count": 12,
      "metadata": {
        "id": "8naEdXomcqgc"
      },
      "outputs": [],
      "source": [
        "reviews_lower = [\" \".join(txt.split()) for txt in reviews_lower]"
      ]
    },
    {
      "cell_type": "code",
      "execution_count": 13,
      "metadata": {
        "colab": {
          "base_uri": "https://localhost:8080/"
        },
        "id": "V9UdgpIlcvDZ",
        "outputId": "8f961ad4-1147-4f84-c315-abff846035fd"
      },
      "outputs": [
        {
          "output_type": "execute_result",
          "data": {
            "text/plain": [
              "['went there on a friday night, the place was surprisingly empty. interesting menu which is almost fully made of dosas. i had bullseye dosa and cheese masala dosa. the bullseye dosa was really good, with the egg perfectly cooked to a half boiled state. the masala in the cheese masala was good, but the cheese was a bit too chewy for my liking. the chutney was good, the sambar was average. the dishes are reasonably priced.',\n",
              " 'a very decent place serving good food. ordered chilli fish, chicken & pork sizzler. everything tasted good but pork could have been slightly better cooked. tried 2 beverages, both were very sweet.']"
            ]
          },
          "metadata": {},
          "execution_count": 13
        }
      ],
      "source": [
        "reviews_lower[2:4]"
      ]
    },
    {
      "cell_type": "markdown",
      "metadata": {
        "id": "-xkndgEMc2rF"
      },
      "source": [
        "There are different ways to preprocess text: \n",
        "\n",
        "* stop word removal, \n",
        "* tokenization, \n",
        "* stemming. \n",
        "\n",
        "## **Tokenization**\n",
        "Among these, the most important step is tokenization. It’s the process of breaking a stream of textual data into words, terms, sentences, symbols, or some other meaningful elements called tokens. \n",
        "\n",
        "**Why do we need tokenization?**\n",
        "Tokenization is the first step in any NLP pipeline. It has an important effect on the rest of our pipeline. A tokenizer breaks unstructured data and natural language text into chunks of information that can be considered as discrete elements. The token occurrences in a document can be used directly as a vector representing that document. \n",
        "\n",
        "This immediately turns an unstructured string (text document) into a numerical data structure suitable for machine learning. They can also be used directly by a computer to trigger useful actions and responses. Or they might be used in a machine learning pipeline as features that trigger more complex decisions or behavior.\n",
        "\n",
        "Tokenization can separate sentences, words, characters, or subwords. When we split the text into sentences, we call it sentence tokenization. For words, we call it word tokenization."
      ]
    },
    {
      "cell_type": "markdown",
      "metadata": {
        "id": "ULjqEMNLcx4S"
      },
      "source": [
        "### NLTK Word Tokenize\n",
        "NLTK (Natural Language Toolkit) is an open-source Python library for Natural Language Processing. It has easy-to-use interfaces for over 50 corpora and lexical resources such as WordNet, along with a set of text processing libraries for classification, tokenization, stemming, and tagging.\n",
        "\n",
        "We can easily tokenize the sentences and words of the text with the tokenize module of NLTK."
      ]
    },
    {
      "cell_type": "code",
      "execution_count": 14,
      "metadata": {
        "colab": {
          "base_uri": "https://localhost:8080/"
        },
        "id": "fr2Snsvmc6E_",
        "outputId": "ddadcdc8-a58a-4894-e697-4e749c4ef08b"
      },
      "outputs": [
        {
          "output_type": "stream",
          "name": "stdout",
          "text": [
            "['their', 'service', 'is', 'worst', ',', 'pricing', 'in', 'menu', 'is', 'different', 'from', 'bill', '.', 'they', 'can', 'give', 'you', 'a', 'bill', 'with', 'increased', 'pricing', '.', 'even', 'for', 'serving', 'water', ',', 'menu', ',', 'order', 'you', 'need', 'to', 'call', 'them', '3-4', 'times', 'even', 'on', 'a', 'non', 'busy', 'day', '.']\n"
          ]
        }
      ],
      "source": [
        "print(word_tokenize(reviews_lower[0]))"
      ]
    },
    {
      "cell_type": "code",
      "execution_count": 15,
      "metadata": {
        "colab": {
          "base_uri": "https://localhost:8080/"
        },
        "id": "8yzzqSiIc8Dr",
        "outputId": "82fe9577-5354-49cd-8ff7-e9de5e4abffb"
      },
      "outputs": [
        {
          "output_type": "stream",
          "name": "stdout",
          "text": [
            "['their', 'service', 'is', 'worst', ',', 'pricing', 'in', 'menu', 'is', 'different', 'from', 'bill', '.', 'they', 'can', 'give', 'you', 'a', 'bill', 'with', 'increased', 'pricing', '.', 'even', 'for', 'serving', 'water', ',', 'menu', ',', 'order', 'you', 'need', 'to', 'call', 'them', '3-4', 'times', 'even', 'on', 'a', 'non', 'busy', 'day', '.']\n"
          ]
        }
      ],
      "source": [
        "reviews_tokens = [word_tokenize(sent) for sent in reviews_lower]\n",
        "print(reviews_tokens[0])\n"
      ]
    },
    {
      "cell_type": "markdown",
      "metadata": {
        "id": "rTtu2EFPdPCw"
      },
      "source": [
        "## **Remove stop words and punctuations**\n",
        "\n",
        "1. **Stop words** are all those words that don't add much information to the sentence. For example, the last sentence can be shortened to: stop words don't add useful information sentence. And despite the fact that it doesn't look like a proper English sentence, we'd likely understand the meaning if you heard it somewhere. That's why in many cases we can make our models simpler by simply ignoring these words. Stop words are usually the most common words in natural texts. \n",
        "\n",
        "2. When a sentence is tokenized, and all **punctuation marks** are removed from it, all punctuation marks are removed from each word.\n",
        "* Removing punctuation is a standard preparation step in machine learning and data analysis activities.\n",
        "* For example, creating a text classification model is useless; therefore, we eliminate it during the pre-processing step.\n",
        "* When working with user-generated text data, such as social media postings, we will encounter a lot of punctuation that may not be beneficial for the task at hand; thus, removing it becomes a necessary pre-processing chore."
      ]
    },
    {
      "cell_type": "code",
      "execution_count": 16,
      "metadata": {
        "colab": {
          "base_uri": "https://localhost:8080/"
        },
        "id": "aEDwQaAyc-qi",
        "outputId": "c83d570d-e08a-45a4-c2cd-8b5fb1a386c4"
      },
      "outputs": [
        {
          "output_type": "stream",
          "name": "stderr",
          "text": [
            "[nltk_data] Downloading package stopwords to /root/nltk_data...\n",
            "[nltk_data]   Unzipping corpora/stopwords.zip.\n"
          ]
        },
        {
          "output_type": "execute_result",
          "data": {
            "text/plain": [
              "True"
            ]
          },
          "metadata": {},
          "execution_count": 16
        }
      ],
      "source": [
        "nltk.download('stopwords')"
      ]
    },
    {
      "cell_type": "code",
      "execution_count": 17,
      "metadata": {
        "id": "5MFIB2RydVPN"
      },
      "outputs": [],
      "source": [
        "stop_nltk = stopwords.words(\"english\")\n",
        "stop_punct = list(punctuation)"
      ]
    },
    {
      "cell_type": "code",
      "execution_count": 18,
      "metadata": {
        "colab": {
          "base_uri": "https://localhost:8080/"
        },
        "id": "ZO2o68-bdXMs",
        "outputId": "ae1617e1-ad2b-470e-891b-ad213070b43c"
      },
      "outputs": [
        {
          "output_type": "stream",
          "name": "stdout",
          "text": [
            "['i', 'me', 'my', 'myself', 'we', 'our', 'ours', 'ourselves', 'you', \"you're\", \"you've\", \"you'll\", \"you'd\", 'your', 'yours', 'yourself', 'yourselves', 'he', 'him', 'his', 'himself', 'she', \"she's\", 'her', 'hers', 'herself', 'it', \"it's\", 'its', 'itself', 'they', 'them', 'their', 'theirs', 'themselves', 'what', 'which', 'who', 'whom', 'this', 'that', \"that'll\", 'these', 'those', 'am', 'is', 'are', 'was', 'were', 'be', 'been', 'being', 'have', 'has', 'had', 'having', 'do', 'does', 'did', 'doing', 'a', 'an', 'the', 'and', 'but', 'if', 'or', 'because', 'as', 'until', 'while', 'of', 'at', 'by', 'for', 'with', 'about', 'against', 'between', 'into', 'through', 'during', 'before', 'after', 'above', 'below', 'to', 'from', 'up', 'down', 'in', 'out', 'on', 'off', 'over', 'under', 'again', 'further', 'then', 'once', 'here', 'there', 'when', 'where', 'why', 'how', 'all', 'any', 'both', 'each', 'few', 'more', 'most', 'other', 'some', 'such', 'no', 'nor', 'not', 'only', 'own', 'same', 'so', 'than', 'too', 'very', 's', 't', 'can', 'will', 'just', 'don', \"don't\", 'should', \"should've\", 'now', 'd', 'll', 'm', 'o', 're', 've', 'y', 'ain', 'aren', \"aren't\", 'couldn', \"couldn't\", 'didn', \"didn't\", 'doesn', \"doesn't\", 'hadn', \"hadn't\", 'hasn', \"hasn't\", 'haven', \"haven't\", 'isn', \"isn't\", 'ma', 'mightn', \"mightn't\", 'mustn', \"mustn't\", 'needn', \"needn't\", 'shan', \"shan't\", 'shouldn', \"shouldn't\", 'wasn', \"wasn't\", 'weren', \"weren't\", 'won', \"won't\", 'wouldn', \"wouldn't\"]\n"
          ]
        }
      ],
      "source": [
        "print(stop_nltk)"
      ]
    },
    {
      "cell_type": "code",
      "execution_count": 19,
      "metadata": {
        "colab": {
          "base_uri": "https://localhost:8080/"
        },
        "id": "Q-mAFaj2-YwY",
        "outputId": "388125c0-c10d-4c14-f5cd-1cd48899fa4e"
      },
      "outputs": [
        {
          "output_type": "stream",
          "name": "stdout",
          "text": [
            "['!', '\"', '#', '$', '%', '&', \"'\", '(', ')', '*', '+', ',', '-', '.', '/', ':', ';', '<', '=', '>', '?', '@', '[', '\\\\', ']', '^', '_', '`', '{', '|', '}', '~']\n"
          ]
        }
      ],
      "source": [
        "print(stop_punct)"
      ]
    },
    {
      "cell_type": "code",
      "execution_count": 20,
      "metadata": {
        "id": "uiSkVoFfdgKI"
      },
      "outputs": [],
      "source": [
        "stop_nltk.remove(\"no\")\n",
        "stop_nltk.remove(\"not\")\n",
        "stop_nltk.remove(\"don\")\n",
        "stop_nltk.remove(\"won\")\n",
        "stop_nltk.remove(\"did\")\n"
      ]
    },
    {
      "cell_type": "code",
      "execution_count": 21,
      "metadata": {
        "colab": {
          "base_uri": "https://localhost:8080/"
        },
        "id": "Svk5G6uGdluT",
        "outputId": "e268277d-5ccc-4498-de4d-948a9477c266"
      },
      "outputs": [
        {
          "output_type": "execute_result",
          "data": {
            "text/plain": [
              "False"
            ]
          },
          "metadata": {},
          "execution_count": 21
        }
      ],
      "source": [
        "\"no\" in stop_nltk"
      ]
    },
    {
      "cell_type": "code",
      "execution_count": 22,
      "metadata": {
        "id": "ParTv9F_doD1"
      },
      "outputs": [],
      "source": [
        "stop_final = stop_nltk + stop_punct + [\"...\", \"``\",\"''\", \"====\", \"must\"]\n"
      ]
    },
    {
      "cell_type": "code",
      "execution_count": 23,
      "metadata": {
        "id": "S333Qi9ddyDO"
      },
      "outputs": [],
      "source": [
        "def del_stop(sent):\n",
        "    return [term for term in sent if term not in stop_final]"
      ]
    },
    {
      "cell_type": "code",
      "execution_count": 24,
      "metadata": {
        "colab": {
          "base_uri": "https://localhost:8080/"
        },
        "id": "1ravR6pEd01h",
        "outputId": "9845f929-c972-420d-9a98-b4d1bff40a2a"
      },
      "outputs": [
        {
          "output_type": "execute_result",
          "data": {
            "text/plain": [
              "['really',\n",
              " 'appreciate',\n",
              " 'quality',\n",
              " 'timing',\n",
              " 'tried',\n",
              " 'thattil',\n",
              " 'kutti',\n",
              " 'dosa',\n",
              " \"'ve\",\n",
              " 'addicted',\n",
              " 'dosa',\n",
              " 'really',\n",
              " 'chutney',\n",
              " 'really',\n",
              " 'good',\n",
              " 'money',\n",
              " 'worth',\n",
              " 'much',\n",
              " 'better',\n",
              " 'thattukada',\n",
              " 'try']"
            ]
          },
          "metadata": {},
          "execution_count": 24
        }
      ],
      "source": [
        "del_stop(reviews_tokens[1])"
      ]
    },
    {
      "cell_type": "code",
      "execution_count": 34,
      "metadata": {
        "id": "Fbpvsbrhd2zX"
      },
      "outputs": [],
      "source": [
        "reviews_clean = [del_stop(sent) for sent in reviews_tokens]"
      ]
    },
    {
      "cell_type": "code",
      "execution_count": 26,
      "metadata": {
        "colab": {
          "base_uri": "https://localhost:8080/"
        },
        "id": "pO67fztqd7zN",
        "outputId": "50d7739e-ac65-4d33-83db-f34b532d8092"
      },
      "outputs": [
        {
          "output_type": "execute_result",
          "data": {
            "text/plain": [
              "['service worst pricing menu different bill give bill increased pricing even serving water menu order need call 3-4 times even non busy day',\n",
              " \"really appreciate quality timing tried thattil kutti dosa 've addicted dosa really chutney really good money worth much better thattukada try\"]"
            ]
          },
          "metadata": {},
          "execution_count": 26
        }
      ],
      "source": []
    },
    {
      "cell_type": "code",
      "source": [
        "import nltk\n",
        "nltk.download('omw-1.4')\n",
        "nltk.download('wordnet')\n",
        "from nltk.stem import WordNetLemmatizer"
      ],
      "metadata": {
        "colab": {
          "base_uri": "https://localhost:8080/"
        },
        "id": "QNAnp2e4BF95",
        "outputId": "6e3db6a4-88e2-436f-ba54-4ca15f17b9cd"
      },
      "execution_count": 28,
      "outputs": [
        {
          "output_type": "stream",
          "name": "stderr",
          "text": [
            "[nltk_data] Downloading package omw-1.4 to /root/nltk_data...\n",
            "[nltk_data] Downloading package wordnet to /root/nltk_data...\n"
          ]
        }
      ]
    },
    {
      "cell_type": "code",
      "source": [
        "lemmatizer=WordNetLemmatizer()"
      ],
      "metadata": {
        "id": "h0EtAT_cBlqh"
      },
      "execution_count": 35,
      "outputs": []
    },
    {
      "cell_type": "code",
      "source": [
        "def apply_lemmatization(sent):\n",
        "  return[lemmatizer.lemmatize(term) for term in sent]"
      ],
      "metadata": {
        "id": "hC5nbeKDBxkz"
      },
      "execution_count": 36,
      "outputs": []
    },
    {
      "cell_type": "code",
      "source": [
        "reviews_clean[2]"
      ],
      "metadata": {
        "colab": {
          "base_uri": "https://localhost:8080/"
        },
        "id": "eExSbui1B_Y2",
        "outputId": "8367c540-598f-4202-ecbf-c342a020fe76"
      },
      "execution_count": 37,
      "outputs": [
        {
          "output_type": "execute_result",
          "data": {
            "text/plain": [
              "['went',\n",
              " 'friday',\n",
              " 'night',\n",
              " 'place',\n",
              " 'surprisingly',\n",
              " 'empty',\n",
              " 'interesting',\n",
              " 'menu',\n",
              " 'almost',\n",
              " 'fully',\n",
              " 'made',\n",
              " 'dosas',\n",
              " 'bullseye',\n",
              " 'dosa',\n",
              " 'cheese',\n",
              " 'masala',\n",
              " 'dosa',\n",
              " 'bullseye',\n",
              " 'dosa',\n",
              " 'really',\n",
              " 'good',\n",
              " 'egg',\n",
              " 'perfectly',\n",
              " 'cooked',\n",
              " 'half',\n",
              " 'boiled',\n",
              " 'state',\n",
              " 'masala',\n",
              " 'cheese',\n",
              " 'masala',\n",
              " 'good',\n",
              " 'cheese',\n",
              " 'bit',\n",
              " 'chewy',\n",
              " 'liking',\n",
              " 'chutney',\n",
              " 'good',\n",
              " 'sambar',\n",
              " 'average',\n",
              " 'dishes',\n",
              " 'reasonably',\n",
              " 'priced']"
            ]
          },
          "metadata": {},
          "execution_count": 37
        }
      ]
    },
    {
      "cell_type": "code",
      "source": [
        "apply_lemmatization(reviews_clean[2])"
      ],
      "metadata": {
        "colab": {
          "base_uri": "https://localhost:8080/"
        },
        "id": "Qam7ZqwNCTFb",
        "outputId": "2b6c6944-84ab-411a-ec82-76e2112d3493"
      },
      "execution_count": 38,
      "outputs": [
        {
          "output_type": "execute_result",
          "data": {
            "text/plain": [
              "['went',\n",
              " 'friday',\n",
              " 'night',\n",
              " 'place',\n",
              " 'surprisingly',\n",
              " 'empty',\n",
              " 'interesting',\n",
              " 'menu',\n",
              " 'almost',\n",
              " 'fully',\n",
              " 'made',\n",
              " 'dosas',\n",
              " 'bullseye',\n",
              " 'dosa',\n",
              " 'cheese',\n",
              " 'masala',\n",
              " 'dosa',\n",
              " 'bullseye',\n",
              " 'dosa',\n",
              " 'really',\n",
              " 'good',\n",
              " 'egg',\n",
              " 'perfectly',\n",
              " 'cooked',\n",
              " 'half',\n",
              " 'boiled',\n",
              " 'state',\n",
              " 'masala',\n",
              " 'cheese',\n",
              " 'masala',\n",
              " 'good',\n",
              " 'cheese',\n",
              " 'bit',\n",
              " 'chewy',\n",
              " 'liking',\n",
              " 'chutney',\n",
              " 'good',\n",
              " 'sambar',\n",
              " 'average',\n",
              " 'dish',\n",
              " 'reasonably',\n",
              " 'priced']"
            ]
          },
          "metadata": {},
          "execution_count": 38
        }
      ]
    },
    {
      "cell_type": "code",
      "source": [
        "reviews_clean=[apply_lemmatization(sent) for sent in reviews_clean]"
      ],
      "metadata": {
        "id": "lniw_cbrCaQI"
      },
      "execution_count": 40,
      "outputs": []
    },
    {
      "cell_type": "code",
      "source": [
        "reviews_clean = [\" \".join(sent) for sent in reviews_clean]\n",
        "reviews_clean[:2]"
      ],
      "metadata": {
        "colab": {
          "base_uri": "https://localhost:8080/"
        },
        "id": "aj-EnAQ5Cypn",
        "outputId": "d2a1c8ae-d43a-4968-d7ce-589724af9c34"
      },
      "execution_count": 41,
      "outputs": [
        {
          "output_type": "execute_result",
          "data": {
            "text/plain": [
              "['service worst pricing menu different bill give bill increased pricing even serving water menu order need call 3-4 time even non busy day',\n",
              " \"really appreciate quality timing tried thattil kutti dosa 've addicted dosa really chutney really good money worth much better thattukada try\"]"
            ]
          },
          "metadata": {},
          "execution_count": 41
        }
      ]
    },
    {
      "cell_type": "code",
      "source": [
        "len(reviews_clean)"
      ],
      "metadata": {
        "colab": {
          "base_uri": "https://localhost:8080/"
        },
        "id": "ilaZuaWbC5Dq",
        "outputId": "486fc554-7673-49d5-c2f9-ef81d7d1aab0"
      },
      "execution_count": 42,
      "outputs": [
        {
          "output_type": "execute_result",
          "data": {
            "text/plain": [
              "27748"
            ]
          },
          "metadata": {},
          "execution_count": 42
        }
      ]
    },
    {
      "cell_type": "markdown",
      "metadata": {
        "id": "4GJbtjZmeQPS"
      },
      "source": [
        "## **Separate X and Y and perform train test split, 70-30**"
      ]
    },
    {
      "cell_type": "code",
      "execution_count": 43,
      "metadata": {
        "id": "OTuwVY3yeCa0"
      },
      "outputs": [],
      "source": [
        "X = reviews_clean\n",
        "y = reviews1.rating"
      ]
    },
    {
      "cell_type": "code",
      "execution_count": 44,
      "metadata": {
        "id": "wnAGIGiNeYYo"
      },
      "outputs": [],
      "source": [
        "X_train, X_test, y_train, y_test = train_test_split(X, y, test_size = 0.30, random_state=42)\n"
      ]
    },
    {
      "cell_type": "code",
      "execution_count": 45,
      "metadata": {
        "colab": {
          "base_uri": "https://localhost:8080/"
        },
        "id": "jm4eHi8M-Ywh",
        "outputId": "112a4a33-bda4-4399-d7b4-3956c3606a9e"
      },
      "outputs": [
        {
          "output_type": "execute_result",
          "data": {
            "text/plain": [
              "['great place weekend brunch .. drink available reasonable price variety food option available veg nonveg people',\n",
              " 'came enjoy sushi ordered rainbow maki sriracha maki along salad amazing wanted try sushi wallet said no place bit pricey dessert disappointing though vietnamese banana cake supposed come candied banana came cut banana caramel replaced scorched service also poor ask thrice cheque ambience good seating comfortable mixed experience',\n",
              " \"one hyped restaurant bangalore .. thinking visiting place quite long finally happened .. restaurant 31st floor .. 2 part one inside sitting another one open space good thing restaurant view .. r planning romantic dinner proposal dinner burning pocket wo n't hurt u choose place .. food not mark .. schezwan chicken chicken steak ordered chicken hard service slow property quite older u could understand seeing sofasets stain onto .. service could b better ask plate .. served food not plate .. 2 starter 2 alcoholic drink 1 non alcoholic drink cost 3700 buck .. add variety mocktail ..\",\n",
              " 'terrible food undercooked chicken stale',\n",
              " \"place really relaxed vibe 's hard go wrong food selection churros super delicious 'll probably end ordering one plate\",\n",
              " 'one among place could categorized quality le quantity not satisfied price quantity provided however dish pretty good ordered pothu fry vazattiyathu would recommend',\n",
              " 'yummy food try .... especially pasta not miss ..... reasonable rate compared place .... overall nice place',\n",
              " \"great ambiance good food tried chicken pizza great blew mind frozen mud pie 's one best try dessert\",\n",
              " \"amazing place visit restaurant opened place 100 foot regular loved bob 's equally open air setting pocket friendly pricing finger licking good food extensive drink menu work favour place surely visiting often also place serve budweiser draught beer whereas majority serf kingfisher way priced menu ambience offering definitely going crowd puller\",\n",
              " 'one windy evening seating open space clam place savour sip berry blast cake yummy ã\\x83â\\x83â\\x83ã\\x83â\\x82â\\x83ã\\x83â\\x83â\\x82ã\\x83â\\x82â\\x83ã\\x83â\\x83â\\x83ã\\x83â\\x82â\\x82ã\\x83â\\x83â\\x82ã\\x83â\\x82ã\\x82â°ã\\x83â\\x83â\\x83ã\\x83â\\x82â\\x83ã\\x83â\\x83â\\x82ã\\x83â\\x82â\\x82ã\\x83â\\x83â\\x83ã\\x83â\\x82â\\x82ã\\x83â\\x83â\\x82ã\\x83â\\x82â\\x9fã\\x83â\\x83â\\x83ã\\x83â\\x82â\\x83ã\\x83â\\x83â\\x82ã\\x83â\\x82â\\x82ã\\x83â\\x83â\\x83ã\\x83â\\x82â\\x82ã\\x83â\\x83â\\x82ã\\x83â\\x82â\\x98ã\\x83â\\x83â\\x83ã\\x83â\\x82â\\x83ã\\x83â\\x83â\\x82ã\\x83â\\x82â\\x82ã\\x83â\\x83â\\x83ã\\x83â\\x82â\\x82ã\\x83â\\x83â\\x82ã\\x83â\\x82â\\x8b biryani blended well aroma tender chicken chicken manchurian bit hard mr. sagar took good care u overall worth visiting',\n",
              " 'nice small little pizza quick service deliveryã\\x83â\\x83â\\x83ã\\x83â\\x82â\\x83ã\\x83â\\x83â\\x82ã\\x83â\\x82â\\x82ã\\x83â\\x83â\\x83ã\\x83â\\x82â\\x82ã\\x83â\\x83â\\x82ã\\x83â\\x82â\\x92s eat pizza veg non veg good desert mocktails delight visit pizza craving',\n",
              " 'extremely satiating experience earlier today lotus stem opening apetizer say size taste made extremely happy followed extremely delectable bhetki chilli sauce brought back memory back home chicken dumpling prawn hargao cooked pefection chose order nigiri sushi platter main extremely delighted not presentation favour authenticity dish although sushi tad indianized mayo topping feel well accepted indian would popular sweet ending included speciality chocolate dome always steady order restaurants.of chain wherever available including mainland china great afternoon spent good company great food',\n",
              " \"good ambiance better food else need restaurant oh yes staff behavior also good place little crowded 's near marathalli many office space want drive bangalore not bad option .go ahead\",\n",
              " \"pocket friendly decent place buddy hangout owner go way make comfortable taste music mouthwatering food 'm love irish cold coffee chicken samosa juicy burger would love visit\",\n",
              " \"tried black forest pancake cheesy fry death chocolate waffle waffle really nice price reasonable service alright 've got small library ambience nice\",\n",
              " 'bday bash oh boy loved experience ambiance not appealing extravagant donã\\x83â\\x83â\\x83ã\\x83â\\x82â\\x83ã\\x83â\\x83â\\x82ã\\x83â\\x82â\\x83ã\\x83â\\x83â\\x83ã\\x83â\\x82â\\x82ã\\x83â\\x83â\\x82ã\\x83â\\x82â\\x82ã\\x83â\\x83â\\x83ã\\x83â\\x82â\\x83ã\\x83â\\x83â\\x82ã\\x83â\\x82â\\x82ã\\x83â\\x83â\\x83ã\\x83â\\x82â\\x82ã\\x83â\\x83â\\x82ã\\x83â\\x82â\\x92t judge itã\\x83â\\x83â\\x83ã\\x83â\\x82â\\x83ã\\x83â\\x83â\\x82ã\\x83â\\x82â\\x83ã\\x83â\\x83â\\x83ã\\x83â\\x82â\\x82ã\\x83â\\x83â\\x82ã\\x83â\\x82â\\x82ã\\x83â\\x83â\\x83ã\\x83â\\x82â\\x83ã\\x83â\\x83â\\x82ã\\x83â\\x82â\\x82ã\\x83â\\x83â\\x83ã\\x83â\\x82â\\x82ã\\x83â\\x83â\\x82ã\\x83â\\x82â\\x92s amazing place hang itã\\x83â\\x83â\\x83ã\\x83â\\x82â\\x83ã\\x83â\\x83â\\x82ã\\x83â\\x82â\\x83ã\\x83â\\x83â\\x83ã\\x83â\\x82â\\x82ã\\x83â\\x83â\\x82ã\\x83â\\x82â\\x82ã\\x83â\\x83â\\x83ã\\x83â\\x82â\\x83ã\\x83â\\x83â\\x82ã\\x83â\\x82â\\x82ã\\x83â\\x83â\\x83ã\\x83â\\x82â\\x82ã\\x83â\\x83â\\x82ã\\x83â\\x82â\\x92s house common',\n",
              " 'good',\n",
              " 'awesome place spend quality time love place .. stylish thoughtfully designed refreshing place went lunch place totally worth term everything impressed u .. nice open space greenary make place unique awesome ambience .. calm quiet atmosphere .. nothing negative place .. coming food ordered spaghetti amatriciana pork belly tiramisu brewed beer brewery .. every dish utmost delicious right portion perfect blend flavour .. beer amazing .. found tiramisu cream lil hard rum taste coming coffee flavour le otherwise everything great .. look .. service good prompt quick .. friendly staff guide properly selecting food overall nice experience keepup good work ..',\n",
              " \"good buffet restaurant team lunch/dinner went lunch place really crowded would recommend prior reservation internal decor really nice pirate caribbean theme justice 's name coming food nothing special serve type menu buffet restaurant offer taste decent need improve main course though buffet restaurant everybody concentrate starter dessert want stay bit different need something main course n't taste good dessert really did n't try anything else except jalebi-rabdi good\",\n",
              " 'order not proper',\n",
              " 'kerala beef chilli chicken tikka biryani beef bit spicy biryani amazing loved service good',\n",
              " 'received different',\n",
              " 'nice small place biryani love chicken biryani quantity enough person like overall good place lunch dinner',\n",
              " 'several time nice place dine bangalaoren non veg food guess taj one resturant blore serf traditional bangalorean non veg food biryani one core dish tried ghee rice chicken kababs speciality along pinaple sweet one need try grab pure bangalorean non veg food no problem parking good location',\n",
              " 'came across restaurant wandering across street food joint pub place definitely draw attention food joint quite well lit beautiful chinese lamp show glass facade quite comfy place sit regular meal friend ordered lohan veg dim sum tasted fine schezwan noodle red chilly ã\\x83â\\x83â\\x83ã\\x83â\\x82â\\x83ã\\x83â\\x83â\\x82ã\\x83â\\x82â\\x82ã\\x83â\\x83â\\x83ã\\x83â\\x82â\\x82ã\\x83â\\x83â\\x82ã\\x83â\\x82â\\x97basil noodle tasted pretty much expected better place staff courteous took care order well ambience 4/5 staff 5/5 food 3/5 variety 4/5',\n",
              " 'biryani finger licking wow u luv mughlai style go value ur money service something shud work',\n",
              " \"great ambience one essential part not essential part attract customers.so point thumb ambience here.zero point waiter attenders.one point food not nominal according zomato approx rate fixed rps500 two 's not near approx rps 500.also quantity not enough.hope improve attended u ..... late service quite nervous not clear menu attend customer\",\n",
              " 'paid 400 got pizza not even enough 1 person',\n",
              " 'quantity le',\n",
              " 'not biriyani fan place made one absolutely love paneer biriyani place also place usually crowded get best biriyanis reasonable price',\n",
              " 'restaurant top floor phoenix marketcity indoor outdoor seating good place pan asian cuisine thai dish mainly friendly staff take time suggest dish quick service good experience would visit pan asian cuisine dish steamed edamame salmon nigri vegetarian friend not ã\\x83â\\x83â\\x83ã\\x83â\\x82â\\x83ã\\x83â\\x83â\\x82ã\\x83â\\x82â\\x83ã\\x83â\\x83â\\x83ã\\x83â\\x82â\\x82ã\\x83â\\x83â\\x82ã\\x83â\\x82ã\\x82â°ã\\x83â\\x83â\\x83ã\\x83â\\x82â\\x83ã\\x83â\\x83â\\x82ã\\x83â\\x82â\\x82ã\\x83â\\x83â\\x83ã\\x83â\\x82â\\x82ã\\x83â\\x83â\\x82ã\\x83â\\x82â\\x9fã\\x83â\\x83â\\x83ã\\x83â\\x82â\\x83ã\\x83â\\x83â\\x82ã\\x83â\\x82â\\x82ã\\x83â\\x83â\\x83ã\\x83â\\x82â\\x82ã\\x83â\\x83â\\x82ã\\x83â\\x82â\\x98ã\\x83â\\x83â\\x83ã\\x83â\\x82â\\x83ã\\x83â\\x83â\\x82ã\\x83â\\x82â\\x82ã\\x83â\\x83â\\x83ã\\x83â\\x82â\\x82ã\\x83â\\x83â\\x82ã\\x83â\\x82â\\x8b half moon lattice gyoza dimsums thai red curry jasmin rice ok lah',\n",
              " 'chilli chicken chicken guntur dry chicken masala andhra style full meal good restaurant frazer town branch nandini good service tasty food good management everything perfect nice branch',\n",
              " 'ambience 3/5 food 3/5 staff 4/5 overall experience 2.5/5 ordered 3 starter drink one two main course quality okay not much not le',\n",
              " 'good work',\n",
              " 'located opposite esi quarter beside pulla reddy sweet shop indiranagar small shop le sitting option mostly bengali cuisine made enter place went chicken roll ended ordering mughlai paratha egg chicken got parcelled felt item bit expensive thought would egg chicken stuffed paratha egg stuffed along chicken gravy coming taste chicken gravy yummy mughlai paratha let layer maida thick not cooked authenticity missing hope improve time give u chance relish food',\n",
              " 'one bar hang college lady stay away good location though proper uncle bar decent finger food guess rooftop section well',\n",
              " \"looking hangout friend people would like hookah looking right place tried crispy fried mexican cheese ball spaghetti creme pesto extra-ordinary would say delicious also tried banana kiwi shake completed good meal huge range flavor hookah interesting add 's place look really fun foosball got high chair good music feel like place hang friend\",\n",
              " \"reason go 1.only u load money waste reason say no 1.food taste 's pathetic 2.very bad service uncomfortable environment service guy keep stairing much eat 3.worst ambiance 4.money minded owner least bothered customer happy not one please n't waste money\",\n",
              " 'first time noodle bar oh boy impressed wholesome variety noodle top notch taste cutesy ambience point service doesnã\\x83â\\x83â\\x83ã\\x83â\\x82â\\x83ã\\x83â\\x83â\\x82ã\\x83â\\x82â\\x82ã\\x83â\\x83â\\x83ã\\x83â\\x82â\\x82ã\\x83â\\x83â\\x82ã\\x83â\\x82â\\x92t end itã\\x83â\\x83â\\x83ã\\x83â\\x82â\\x83ã\\x83â\\x83â\\x82ã\\x83â\\x82â\\x82ã\\x83â\\x83â\\x83ã\\x83â\\x82â\\x82ã\\x83â\\x83â\\x82ã\\x83â\\x82â\\x92s also easy pocket highly recommended bangalore need guy kudos team',\n",
              " 'great food kept u coming back 4-5 time consistently terrible service put u finally pity good restaurant ruined apathetic rude staff',\n",
              " 'amazing concept fell love ambience ^_^ coming food limited choice menu think increase dish quantity totally unsatisfactory including pricing pizza amazing blue lemonade refreshing butter chicken combo chilli chicken combo nothing extraordinary peri peri fry something yã\\x83â\\x83â\\x83ã\\x83â\\x82â\\x83ã\\x83â\\x83â\\x82ã\\x83â\\x82â\\x82ã\\x83â\\x83â\\x83ã\\x83â\\x82â\\x82ã\\x83â\\x83â\\x82ã\\x83â\\x82â\\x92all definitely try coming back staff totally unorganised lost world roaming back forth nothing acting like are.i think hotel management look revamp menu food:3.5/5 ambience:4/5 taste:3/5',\n",
              " 'nothing beat taste authentic kota kachori definitely time favourite specially kota kachori pyaaz kachori snack good thing also sagari people keep fast highly recommended',\n",
              " 'worst food need refund',\n",
              " \"checked ambience pretty good welcomed taken table menu looked exiting ordered naan mutton rogan josh biriyani say did n't wait long came order looked delicious food served 30mins pure eating naan perfectly cooked mutton soft right amount spice biriyani though made bit spicy rich gulping water neutralize altogether wonderful dinner proactive day\",\n",
              " 'went birthday meal wonderful steak done exactly id asked mashed potato caramelized onion went well mango salsa like topping steak surprisingly good',\n",
              " 'looking new place gang 15 catch ordered couple nutella shake berry smoothie peri peri fry bruschetta potato wedge pasta alfredo food good best past place place i.e ambience sprawling enough lounge friend good book read board game people kept phone aside fought game like yesteryear anyone would want visit place decent food space reasonable pricing definitely go back',\n",
              " 'place good hang quick /pep talk burger good twister awesome.i recommend place good food talk paisa vassol food',\n",
              " 'ya good',\n",
              " 'superrr delivery',\n",
              " 'ambience decent service little slow asked water thrice get take order chicken pad thai noodle hunan noodle box prawn dish really good helping ended wasting taste nice really spicy couldnt certain quantity also ordered celery chicken dimsums dimsums moist nice served regular momo chutneyand celery chutney overall average experience food little spicy taste bud',\n",
              " 'time delivary',\n",
              " 'best biryani',\n",
              " \"recent weekend food joint craving big bowl ramen decided give try happy find best combo ever spicy ramen gimbap side delicious peanut caramel sauce best ate heart 's content happy tummy happy\",\n",
              " 'love cupcake moist fresh iã\\x83â\\x83â\\x83ã\\x83â\\x82â\\x83ã\\x83â\\x83â\\x82ã\\x83â\\x82â\\x83ã\\x83â\\x83â\\x83ã\\x83â\\x82â\\x82ã\\x83â\\x83â\\x82ã\\x83â\\x82ã\\x82â¢ã\\x83â\\x83â\\x83ã\\x83â\\x82â\\x83ã\\x83â\\x83â\\x82ã\\x83â\\x82â\\x82ã\\x83â\\x83â\\x83ã\\x83â\\x82â\\x82ã\\x83â\\x83â\\x82ã\\x83â\\x82â\\x80ã\\x83â\\x83â\\x83ã\\x83â\\x82â\\x83ã\\x83â\\x83â\\x82ã\\x83â\\x82â\\x82ã\\x83â\\x83â\\x83ã\\x83â\\x82â\\x82ã\\x83â\\x83â\\x82ã\\x83â\\x82â\\x99ve tried least half menu looking forward newer variation',\n",
              " \"house common 's great place staff great food also good lack providing great service took almost hour get food table several reminder apart no complaint really hope next time would change mind\",\n",
              " 'located near passport office best place ur meal anytime day tasty food reasonable price else needed problem place small get room sit',\n",
              " 'went lunch offer said 50 ambiance slick loved sat corner seat waiter really nice friendly service also great coming main part food ordered brocolli almond soup 5/5 pizza vegetariana 5/5 loved mushroom risotto 4.5/5 4 cheese raviolli 4/5 flour dough slightly thicker pasta sphagetti arabiata 4/5 tiramisu 4.5/5 one best overall nice place spend tim friend family',\n",
              " 'launching event turned one fabulous launching ever attended interior mind blowing great decor.its huge place flat screen loved enjoy football watching beer got chance party puneeth rajkumar kannada star beer good .tried food item good loved thin crust pizza ambience- 5/5 food yet try',\n",
              " 'worthy tasty food',\n",
              " \"went late around 10 pm place entirely empty customer hookah pricing crazy cheap did n't try time maybe next time food ok ok peri peri chicken yum n spicy chicken little hard .. bruschetta fine well .. alcohol liit cosmopolitan margarita liit missed strong punch overall decent place visit ..\",\n",
              " 'nice cozy warm cafe jayanagar attractive atmosphere walking not able resist place went salted caramel ice cream 5/5 amazing try chocolate ice cream 4.5/5 caramel bar 5/5 peri peri french fry 4/5 soya galouti kabab 3.5/5 kabab dry taste average gave high rating dessert took heart away would like go real soon',\n",
              " 'nice place hangout anytime place umpteen number time never felt disappointed food alcohol fully loaded nacho beer favorite anywhere work great staff highly courteous every time ambience decent',\n",
              " 'great place boy outing .. not lady though pork excellent .. chilli chicken yummy .. would recommend weekday outing weekend would crowded .. booze cost effective',\n",
              " 'night scene romantic ambience great food polite staff quick service lunch scene perfect place hangout chill enjoy great food place casual date night lunch friend enjoyed time steak .. mazing try jack danial steak thing',\n",
              " \"real hyderabadi biriyani lover restaurant went koramangala outlet would suggest people going restaurant always try dish named chicken maharaja dish tandoori chicken chicken keema stuff inside 's like finger licking good biriyani good took back hyderabad day service good hospitality good taste good note spicy food lover favorite place\",\n",
              " \"went high expectation however fate plan start staff good courteous ordered paaya soup tasted quite decent sheek kabab hard chewy supposed juicy flavourful anyways moving tried pathar ka gosht pathar ka gosht soft juicy turned hard rock good thing egg mirchi taste tickling well sheermal also like regular bun allahabad lucknow hope finding good sheermal did n't happen biryani average feel much better term food taste add staff well behaved polite sincerely hope improve thing much better job wishing best\",\n",
              " 'delivery fast',\n",
              " 'decided go lunch rave review first impression good good ambience courteous staff food good ordered udon noodle nice grilled chicken big let down- dry mealy plus deep fried grilled would like rate 3.5/5 zomato doesnã\\x83â\\x83â\\x83ã\\x83â\\x82â\\x83ã\\x83â\\x83â\\x82ã\\x83â\\x82â\\x83ã\\x83â\\x83â\\x83ã\\x83â\\x82â\\x82ã\\x83â\\x83â\\x82ã\\x83â\\x82ã\\x82â¢ã\\x83â\\x83â\\x83ã\\x83â\\x82â\\x83ã\\x83â\\x83â\\x82ã\\x83â\\x82â\\x82ã\\x83â\\x83â\\x83ã\\x83â\\x82â\\x82ã\\x83â\\x83â\\x82ã\\x83â\\x82â\\x80ã\\x83â\\x83â\\x83ã\\x83â\\x82â\\x83ã\\x83â\\x83â\\x82ã\\x83â\\x82â\\x82ã\\x83â\\x83â\\x83ã\\x83â\\x82â\\x82ã\\x83â\\x83â\\x82ã\\x83â\\x82â\\x99t allow .5 rating',\n",
              " 'food delicious try chicken wing went quick bite food filling .. ended ordering pasta quantity great space cozy staff service ver perfect enjoyed',\n",
              " 'keep visiting place itã\\x83â\\x83â\\x83ã\\x83â\\x82â\\x83ã\\x83â\\x83â\\x82ã\\x83â\\x82â\\x82ã\\x83â\\x83â\\x83ã\\x83â\\x82â\\x82ã\\x83â\\x83â\\x82ã\\x83â\\x82â\\x92s one best place buffet staff much courteous service way good highly recommended place lunch dinner',\n",
              " \"place heart koramangala.good ambience staff attitude also fine demand service went lunch buffet served u starters- wing dumpling spring pan-fried potato yummiest fish dish .. went main course mix good average dish .. starting average ones- noddle fried rice totally blunt similar situation happened squid dish did n't really like flavour side dish like prawn fish relatively better actual attraction buffet 's sweet dish segment includes yummiest dish .. like pudding maple syrup strawberry mousse kiwi mousse pastry etc .. way really good experience went durga puja time wednesday week price buffet relatively low round 526 inclusive tax .. short good food low price worth going ..\",\n",
              " \"time order indian food ordered 2 mutton biryani did n't get mutton piece 2 biryani spicy\",\n",
              " 'good place quick bite better option food court since located outside food court premise getting place sit bit problem weekend',\n",
              " \"ambience ahmazingggg 's serene spacious place loved interior set food purely people good taste asian cuisine not people love indian food drink good though service really polite humble staff would n't recommend people inclined indian cuisine otherwise nice place\",\n",
              " 'place gem .. one best korean cuisine restaurant bng .. food simply marvelous .. price decent compared similar restaurant .. service ambience also satisfactory ..',\n",
              " \"visited place colleague sake trying new place hsr since weekday got table easily call 20 min reaching rooftop regular sitting option choose rooftop get quite chilly sometimes ambience nice rooftop sitting place 's nicely curated group size spent quite hour drink constant supply food nice evening u change asked pic lady taking pic guest table n't know purpose new food tasted quite delicious drink also nicely prepared price wise say bit medium pricing worth best shift team\",\n",
              " 'rate 4.4/5 sheer fact food reminds home tug heart sit-down experience first floor felt good rajma chawal nice kota kachori rocked did jalebis makhaniya lassi fini wasnã\\x83â\\x83â\\x83ã\\x83â\\x82â\\x83ã\\x83â\\x83â\\x82ã\\x83â\\x82â\\x83ã\\x83â\\x83â\\x83ã\\x83â\\x82â\\x82ã\\x83â\\x83â\\x82ã\\x83â\\x82â\\x82ã\\x83â\\x83â\\x83ã\\x83â\\x82â\\x83ã\\x83â\\x83â\\x82ã\\x83â\\x82â\\x82ã\\x83â\\x83â\\x83ã\\x83â\\x82â\\x82ã\\x83â\\x83â\\x82ã\\x83â\\x82â\\x92t high point daal baati churma version dbc excellent even got dhokla packed home',\n",
              " 'food good major issue quantity unsatisfactory',\n",
              " \"dumbest restaurant asked chicken biryani call say 's not available ask replace chicken fried rice ultimately sent fried rice boiled egg replacement understandable food quality extremely bad extremely bad fried rice dry literally tasteless 've strong feeling recent 5 star rating got employee using phone no chance customer give 5 star food\",\n",
              " 'went visit friend ginger hotel avanti bbq located inside hotel family anthed friend enjoyed lunch specially recommend alu tuk murg malai kabab portion generous compared price service promt curteous visit loved food yum',\n",
              " 'amazing place good asian cuisine ambience warm chic .. staff extremely courteous friendly food great pickled pepper chicken tried recommendation loved steaming hot chicken dimsum main course wok tossed chicken noodle delicious staff deserves special mention making sure order correct thing enjoy meal awesome experience indeed',\n",
              " 'tried chicken sizzler quantity good r 265/- two piece chicken lollipop 2 piece chilli chicken good portion chowmein perfectly cooked stir fried potato would recommend friend',\n",
              " 'looking new place gang 15 catch ordered couple nutella shake berry smoothie peri peri fry bruschetta potato wedge pasta alfredo food good best past place place i.e ambience sprawling enough lounge friend good book read board game people kept phone aside fought game like yesteryear anyone would want visit place decent food space reasonable pricing definitely go back',\n",
              " 'one premium hukkah cafe bengaluru food delicious tried beef burger chicken hummus delicious ambience classy cozy seating always find good crowd staff good manager abdul great job',\n",
              " 'good',\n",
              " 'mutton piece bad quality not cooked properly upset waste money',\n",
              " \"delivered wrong order please n't order unprofessional never order ever .....................................\",\n",
              " 'place absolutely delight place twice month lovely time time ambiance nice cozy crowd super nice staff nice friendly food good especially chicken biryani',\n",
              " 'kerala beef chilli chicken tikka biryani beef bit spicy biryani amazing loved service good',\n",
              " 'good value money',\n",
              " 'saw old joint always filled hundred people good fast service average taste good knowledgeable staff helpful service 4/5 food 4/5 overall 4/5',\n",
              " 'super tasty healthy food vegan pancake awesome avocado au gratin toast good tofu bhurji vegan topper great well great drink tired chocolate avocado drink pomegranate cocktail good',\n",
              " 'yesterday visited place breathtaking view.we ordered chicken bell pepper tenderloin spicy sesame pad thai chicken banoffee pie food really average nothing extra ordinary banoffee pie try.pad thai quantity huge service pathetic.no one bother take order fill water take much time deliver food not upto mark no issue zomato gold service',\n",
              " \"nice hang friend family 's amazing place take break friend family ..... love place ambience staff happy hour valid 7 try visit 7 pm bcz 's 7 happy hour death mr manoranjan good experience knowledge food beverage .. best guy contact .. definitely visit place group food 3/5 service 4/5 ambiance 5/5 thanks manoranjan .. cheer .....\",\n",
              " \"place located st mark 's road two outlet next ambience kinda okay space little table sticking food quality great price little bit higher side considering space food food western taste good\",\n",
              " 'regular friend i. love everything place service food even mayonnaise serve kick ordered spicy baby corn lemon ice tea spaghetti carbonara veg a-la-king cottage cheese steak chicken rosemary mint everything fantastic loved meal baby corn lil basic though want safe place wont disappoint w lovely ambience also check dessert always delight kitkat cake delicious expected',\n",
              " 'always no power restaurant whenever visited saying no power need wait 1 hr please try avoid reason food good',\n",
              " \"place mouthwatering food long time previously know gotcha place real good revamped ambience coming food .. menu quite expansive year eating bengaluru n't seen chelo kebab restaurant menu gladly restaurant serf though 's not main menu delicious seafood .. noodle .. sizzlers .. mocktails n't anything tasted bad kudos portion quite good best people managing manager extremely humble accommodating highly recommended\",\n",
              " 'ordered online not recommended chili cheese toast mean need toast bread not put cheese green chili piece 2 piece white bread no bread toasted btw not even bread accompanies typical english breakfast not know packaging policy giving coffee leaking aluminum wrap not good idea please remove option coffee home delivery not afford send carton like food joint',\n",
              " \"ordered chicken fry swiggy got along chicken small cockroach seen keeping rice bag near toilet visited restaurant first time decided never ever order rice never visit restaurant liked taste always used order starter curry swiggy still always concerned cleanliness today proved right opinion towards cleanliness n't improved bit term cleanliness today found cockroach chicken fry image attached ordered never going visit order food ever\",\n",
              " 'really good italian food love veg non veg option seafood pizza personal favorite ambience good staff friendly polite love complementary bread bread spread serve bringing ordered dish also good dessert',\n",
              " 'food good roti could better',\n",
              " 'quesadilla roll best chef welcoming even point view veggie go place ..............',\n",
              " 'ordered burito zoodle box mushroom soup powerhouse bowl unfortunately bit disappointed taste neatly packed took 1 hour deliver burito disappointing bland veggie decent quality mushroom soup average quantity good',\n",
              " 'hot sun hungry craving food cold weather step varenyam classic cup filter coffee hot vadas',\n",
              " 'descent kerala food best biriyaani btm ..... looking mallu food like putt dhosha etc .- place ..... feel like home ..... dnt expect star facility ....',\n",
              " 'restaurant superb food awesome especially meal served banana leaf hygienic staff friendly money worth giving go bread butter naan butter chicken r awesome say restaurant think name enough nanhdini ..',\n",
              " 'since last night daughter behind jalebi .. first thing woke made point order jalebi wake .. thatã\\x83â\\x83â\\x83ã\\x83â\\x82â\\x83ã\\x83â\\x83â\\x82ã\\x83â\\x82â\\x83ã\\x83â\\x83â\\x83ã\\x83â\\x82â\\x82ã\\x83â\\x83â\\x82ã\\x83â\\x82â\\x82ã\\x83â\\x83â\\x83ã\\x83â\\x82â\\x83ã\\x83â\\x83â\\x82ã\\x83â\\x82â\\x82ã\\x83â\\x83â\\x83ã\\x83â\\x82â\\x82ã\\x83â\\x83â\\x82ã\\x83â\\x82â\\x92s ended ordering .. along jalebis ordered kachoris breakfast .. item reached hot tasty .. jalebi particular good .. crispy great .. u guy made daughter day .. thanks',\n",
              " 'despite hitting place weekend completely occupied staff commendable job come service.food served really quick.the place distinct ambience white blue theme fact make place lively.the food good too.decent place go friend family',\n",
              " \"woah gem place .. unscheduled visit nice ambience great food service good ordered lassi 's surprise badaam afghani kebab juicy soft chicken lababdar up-to mark butter tandoori roti soft overall great experience\",\n",
              " \"ambience ahmazingggg 's serene spacious place loved interior set food purely people good taste asian cuisine not people love indian food drink good though service really polite humble staff would n't recommend people inclined indian cuisine otherwise nice place\",\n",
              " 'located near passport office best place ur meal anytime day tasty food reasonable price else needed problem place small get room sit',\n",
              " 'amazing amazing onesta baby pizza buffet top notch many amazing variety choose drink dessert good included buffet loved four cheese thin crust pizza three cheese mushroom pizza place really exotic perfect place good date baby',\n",
              " \"sadly not zomato gold food paradise biriyanis reminiscence actual biriyani hyderabad one certainly well maintained paradise managed centralised kitchen nice decent place among starter try tangdi 's nothing else worth\",\n",
              " 'dabba hotel guru ....',\n",
              " 'place live brand name hard rock rock legend postals wall live band every thursday music lover -visit place price little higher side everything worth never dissappoint u music food excellent sevice definitely visit soon .....',\n",
              " 'quantity le .. never recommend restaurant one',\n",
              " 'good',\n",
              " 'totally love food lotus stem appetizer specially wayyyyyy good delight taste bud long time',\n",
              " 'food excellent ..',\n",
              " 'loved ambience service provided enjoyed ã\\x83â\\x83â\\x83ã\\x83â\\x82â\\x83ã\\x83â\\x83â\\x82ã\\x83â\\x82â\\x83ã\\x83â\\x83â\\x83ã\\x83â\\x82â\\x82ã\\x83â\\x83â\\x82ã\\x83â\\x82ã\\x82â°ã\\x83â\\x83â\\x83ã\\x83â\\x82â\\x83ã\\x83â\\x83â\\x82ã\\x83â\\x82â\\x82ã\\x83â\\x83â\\x83ã\\x83â\\x82â\\x82ã\\x83â\\x83â\\x82ã\\x83â\\x82â\\x9fã\\x83â\\x83â\\x83ã\\x83â\\x82â\\x83ã\\x83â\\x83â\\x82ã\\x83â\\x82â\\x82ã\\x83â\\x83â\\x83ã\\x83â\\x82â\\x82ã\\x83â\\x83â\\x82ã\\x83â\\x82â\\x8dã\\x83â\\x83â\\x83ã\\x83â\\x82â\\x83ã\\x83â\\x83â\\x82ã\\x83â\\x82â\\x82ã\\x83â\\x83â\\x83ã\\x83â\\x82â\\x82ã\\x83â\\x83â\\x82ã\\x83â\\x82ã\\x82âº try lively decent crowd would definitely visit place brewed beer ã\\x83â\\x83â\\x83ã\\x83â\\x82â\\x83ã\\x83â\\x83â\\x82ã\\x83â\\x82â\\x83ã\\x83â\\x83â\\x83ã\\x83â\\x82â\\x82ã\\x83â\\x83â\\x82ã\\x83â\\x82ã\\x82â°ã\\x83â\\x83â\\x83ã\\x83â\\x82â\\x83ã\\x83â\\x83â\\x82ã\\x83â\\x82â\\x82ã\\x83â\\x83â\\x83ã\\x83â\\x82â\\x82ã\\x83â\\x83â\\x82ã\\x83â\\x82â\\x9fã\\x83â\\x83â\\x83ã\\x83â\\x82â\\x83ã\\x83â\\x83â\\x82ã\\x83â\\x82â\\x82ã\\x83â\\x83â\\x83ã\\x83â\\x82â\\x82ã\\x83â\\x83â\\x82ã\\x83â\\x82â\\x99ã\\x83â\\x83â\\x83ã\\x83â\\x82â\\x83ã\\x83â\\x83â\\x82ã\\x83â\\x82â\\x82ã\\x83â\\x83â\\x83ã\\x83â\\x82â\\x82ã\\x83â\\x83â\\x82ã\\x83â\\x82â\\x82ã\\x83â\\x83â\\x83ã\\x83â\\x82â\\x83ã\\x83â\\x83â\\x82ã\\x83â\\x82â\\x83ã\\x83â\\x83â\\x83ã\\x83â\\x82â\\x82ã\\x83â\\x83â\\x82ã\\x83â\\x82ã\\x82â¢ã\\x83â\\x83â\\x83ã\\x83â\\x82â\\x83ã\\x83â\\x83â\\x82ã\\x83â\\x82â\\x82ã\\x83â\\x83â\\x83ã\\x83â\\x82â\\x82ã\\x83â\\x83â\\x82ã\\x83â\\x82â\\x98ã\\x83â\\x83â\\x83ã\\x83â\\x82â\\x83ã\\x83â\\x83â\\x82ã\\x83â\\x82â\\x82ã\\x83â\\x83â\\x83ã\\x83â\\x82â\\x82ã\\x83â\\x83â\\x82ã\\x83â\\x82ã\\x82âºã\\x83â\\x83â\\x83ã\\x83â\\x82â\\x83ã\\x83â\\x83â\\x82ã\\x83â\\x82â\\x83ã\\x83â\\x83â\\x83ã\\x83â\\x82â\\x82ã\\x83â\\x83â\\x82ã\\x83â\\x82ã\\x82â¯ã\\x83â\\x83â\\x83ã\\x83â\\x82â\\x83ã\\x83â\\x83â\\x82ã\\x83â\\x82â\\x82ã\\x83â\\x83â\\x83ã\\x83â\\x82â\\x82ã\\x83â\\x83â\\x82ã\\x83â\\x82ã\\x82â¸ã\\x83â\\x83â\\x83ã\\x83â\\x82â\\x83ã\\x83â\\x83â\\x82ã\\x83â\\x82â\\x82ã\\x83â\\x83â\\x83ã\\x83â\\x82â\\x82ã\\x83â\\x83â\\x82ã\\x83â\\x82â\\x8fã\\x83â\\x83â\\x83ã\\x83â\\x82â\\x83ã\\x83â\\x83â\\x82ã\\x83â\\x82â\\x83ã\\x83â\\x83â\\x83ã\\x83â\\x82â\\x82ã\\x83â\\x83â\\x82ã\\x83â\\x82ã\\x82â°ã\\x83â\\x83â\\x83ã\\x83â\\x82â\\x83ã\\x83â\\x83â\\x82ã\\x83â\\x82â\\x82ã\\x83â\\x83â\\x83ã\\x83â\\x82â\\x82ã\\x83â\\x83â\\x82ã\\x83â\\x82â\\x9fã\\x83â\\x83â\\x83ã\\x83â\\x82â\\x83ã\\x83â\\x83â\\x82ã\\x83â\\x82â\\x82ã\\x83â\\x83â\\x83ã\\x83â\\x82â\\x82ã\\x83â\\x83â\\x82ã\\x83â\\x82â\\x99ã\\x83â\\x83â\\x83ã\\x83â\\x82â\\x83ã\\x83â\\x83â\\x82ã\\x83â\\x82â\\x82ã\\x83â\\x83â\\x83ã\\x83â\\x82â\\x82ã\\x83â\\x83â\\x82ã\\x83â\\x82â\\x83ã\\x83â\\x83â\\x83ã\\x83â\\x82â\\x83ã\\x83â\\x83â\\x82ã\\x83â\\x82â\\x83ã\\x83â\\x83â\\x83ã\\x83â\\x82â\\x82ã\\x83â\\x83â\\x82ã\\x83â\\x82ã\\x82â°ã\\x83â\\x83â\\x83ã\\x83â\\x82â\\x83ã\\x83â\\x83â\\x82ã\\x83â\\x82â\\x82ã\\x83â\\x83â\\x83ã\\x83â\\x82â\\x82ã\\x83â\\x83â\\x82ã\\x83â\\x82â\\x9fã\\x83â\\x83â\\x83ã\\x83â\\x82â\\x83ã\\x83â\\x83â\\x82ã\\x83â\\x82â\\x82ã\\x83â\\x83â\\x83ã\\x83â\\x82â\\x82ã\\x83â\\x83â\\x82ã\\x83â\\x82â\\x99ã\\x83â\\x83â\\x83ã\\x83â\\x82â\\x83ã\\x83â\\x83â\\x82ã\\x83â\\x82â\\x82ã\\x83â\\x83â\\x83ã\\x83â\\x82â\\x82ã\\x83â\\x83â\\x82ã\\x83â\\x82â\\x82',\n",
              " 'huge place open sky lot greenery inside absolutely undoubted place spend quality evening loaded cheese fry tandoori paneer tikka nacho awesome music loud good dance beat near seating spot service quick hospitable price also reasonable compared pub one drawback crowded weekend guess every good thing come price overall happening place large group party lover',\n",
              " '',\n",
              " 'chilld monk located opposite 25 number bmtc bus stand come silk board dessert shop left went inside whim low expectation friday evening sole customer ordered orange flavour ice cream surprisingly excellent taste fresh energizingly sweet refreshed mouth pricey though near ã\\x83â\\x83â\\x83ã\\x83â\\x82â\\x83ã\\x83â\\x83â\\x82ã\\x83â\\x82â\\x83ã\\x83â\\x83â\\x83ã\\x83â\\x82â\\x82ã\\x83â\\x83â\\x82ã\\x83â\\x82ã\\x82â¢ã\\x83â\\x83â\\x83ã\\x83â\\x82â\\x83ã\\x83â\\x83â\\x82ã\\x83â\\x82â\\x82ã\\x83â\\x83â\\x83ã\\x83â\\x82â\\x82ã\\x83â\\x83â\\x82ã\\x83â\\x82â\\x82ã\\x83â\\x83â\\x83ã\\x83â\\x82â\\x83ã\\x83â\\x83â\\x82ã\\x83â\\x82â\\x82ã\\x83â\\x83â\\x83ã\\x83â\\x82â\\x82ã\\x83â\\x83â\\x82ã\\x83â\\x82ã\\x82â¹100 visit yes',\n",
              " \"go place near place time around tried irish cream latte okay though 'm good flat white chilli cheese toast ok. chicken club sandwich nice outdoor sitting area well 's good monsoon also guy follow instagram inhousefoodie ur daily dose awesomeness post recipe picture daily\",\n",
              " 'food good .. whole experience ruined end .. staff different understanding zomato gold work .. pay trying explain three different people 20 minute .. even contacted zomato understanding correct .. still effort went vain .. did not want argue .. still think itã\\x83â\\x83â\\x83ã\\x83â\\x82â\\x83ã\\x83â\\x83â\\x82ã\\x83â\\x82â\\x83ã\\x83â\\x83â\\x83ã\\x83â\\x82â\\x82ã\\x83â\\x83â\\x82ã\\x83â\\x82ã\\x82â¢ã\\x83â\\x83â\\x83ã\\x83â\\x82â\\x83ã\\x83â\\x83â\\x82ã\\x83â\\x82â\\x82ã\\x83â\\x83â\\x83ã\\x83â\\x82â\\x82ã\\x83â\\x83â\\x82ã\\x83â\\x82â\\x80ã\\x83â\\x83â\\x83ã\\x83â\\x82â\\x83ã\\x83â\\x83â\\x82ã\\x83â\\x82â\\x82ã\\x83â\\x83â\\x83ã\\x83â\\x82â\\x82ã\\x83â\\x83â\\x82ã\\x83â\\x82â\\x99s lowest amount complementary donã\\x83â\\x83â\\x83ã\\x83â\\x82â\\x83ã\\x83â\\x83â\\x82ã\\x83â\\x82â\\x83ã\\x83â\\x83â\\x83ã\\x83â\\x82â\\x82ã\\x83â\\x83â\\x82ã\\x83â\\x82ã\\x82â¢ã\\x83â\\x83â\\x83ã\\x83â\\x82â\\x83ã\\x83â\\x83â\\x82ã\\x83â\\x82â\\x82ã\\x83â\\x83â\\x83ã\\x83â\\x82â\\x82ã\\x83â\\x83â\\x82ã\\x83â\\x82â\\x80ã\\x83â\\x83â\\x83ã\\x83â\\x82â\\x83ã\\x83â\\x83â\\x82ã\\x83â\\x82â\\x82ã\\x83â\\x83â\\x83ã\\x83â\\x82â\\x82ã\\x83â\\x83â\\x82ã\\x83â\\x82â\\x99t know sortã\\x83â\\x83â\\x83ã\\x83â\\x82â\\x83ã\\x83â\\x83â\\x82ã\\x83â\\x82â\\x83ã\\x83â\\x83â\\x83ã\\x83â\\x82â\\x82ã\\x83â\\x83â\\x82ã\\x83â\\x82ã\\x82â°ã\\x83â\\x83â\\x83ã\\x83â\\x82â\\x83ã\\x83â\\x83â\\x82ã\\x83â\\x82â\\x82ã\\x83â\\x83â\\x83ã\\x83â\\x82â\\x82ã\\x83â\\x83â\\x82ã\\x83â\\x82â\\x9fã\\x83â\\x83â\\x83ã\\x83â\\x82â\\x83ã\\x83â\\x83â\\x82ã\\x83â\\x82â\\x82ã\\x83â\\x83â\\x83ã\\x83â\\x82â\\x82ã\\x83â\\x83â\\x82ã\\x83â\\x82â\\x98ã\\x83â\\x83â\\x83ã\\x83â\\x82â\\x83ã\\x83â\\x83â\\x82ã\\x83â\\x82â\\x82ã\\x83â\\x83â\\x83ã\\x83â\\x82â\\x82ã\\x83â\\x83â\\x82ã\\x83â\\x82â\\x95',\n",
              " 'best',\n",
              " 'looking new place gang 15 catch ordered couple nutella shake berry smoothie peri peri fry bruschetta potato wedge pasta alfredo food good best past place place i.e ambience sprawling enough lounge friend good book read board game people kept phone aside fought game like yesteryear anyone would want visit place decent food space reasonable pricing definitely go back',\n",
              " 'one pretty decent place waffle try little expensive side though loved white dark chocolate one u customize',\n",
              " 'great place hangout speacially naveen itã\\x83â\\x83â\\x83ã\\x83â\\x82â\\x83ã\\x83â\\x83â\\x82ã\\x83â\\x82â\\x83ã\\x83â\\x83â\\x83ã\\x83â\\x82â\\x82ã\\x83â\\x83â\\x82ã\\x83â\\x82ã\\x82â¢ã\\x83â\\x83â\\x83ã\\x83â\\x82â\\x83ã\\x83â\\x83â\\x82ã\\x83â\\x82â\\x82ã\\x83â\\x83â\\x83ã\\x83â\\x82â\\x82ã\\x83â\\x83â\\x82ã\\x83â\\x82â\\x80ã\\x83â\\x83â\\x83ã\\x83â\\x82â\\x83ã\\x83â\\x83â\\x82ã\\x83â\\x82â\\x82ã\\x83â\\x83â\\x83ã\\x83â\\x82â\\x82ã\\x83â\\x83â\\x82ã\\x83â\\x82â\\x99s great coordination great guy couple time person like naveen not anywhere else',\n",
              " 'packing really bad',\n",
              " 'yup',\n",
              " \"came quick lunch menu definitely did not disappoint .. previously read many review confident coming staff courteous also sweet make whole experience better place food pick anything 'll like recommend visit wonã\\x83â\\x83â\\x83ã\\x83â\\x82â\\x83ã\\x83â\\x83â\\x82ã\\x83â\\x82â\\x82ã\\x83â\\x83â\\x83ã\\x83â\\x82â\\x82ã\\x83â\\x83â\\x82ã\\x83â\\x82â\\x92t disappointed\",\n",
              " 'amazing staff without doubt food finger licking ordered spicy barbecue chicken skewer mushroom barbecue sauce load cocktail like sangria moscow mule liits amazing beautiful view prompt service',\n",
              " 'went sunday lunch definitely one best decision day ordered chef recommended dish marked menu card tasted good every dish including soup freshly made hence tasted amazing also meant dish took longer arrive cold pressed juice smoothy killer price little higher side considering food place lit healthy worth',\n",
              " \"pleasant evening surprised guest home quickly decided order kachoris kota kachori since 've tried amazing no doubt quality food price pay 1 star specifically go service ordered 6 kachoris paid advance shocked see four sent delivery bag disappointed guest home rely place justice really sad highlight place fails also did n't even bother send sweet chutney ridiculous\",\n",
              " \"visited christmas eve though local kinda wierd not sure cz n't know city well lovvveee vine place .. great beer good food .. good bring santa fest\",\n",
              " \"punjabi food lover bacame place opt 's always bring chandigarh day area pleasant walk around recommended place visit\",\n",
              " 'punjab de local dhaabe waali super classic ambiance loved delicious food courteous greeting small yet great place love eat lot northy style food place hsr not non-veg even vegetarian food super slurpy sriparnasthoughts.com',\n",
              " 'good',\n",
              " \"'ve ordered pizza n fully loaded cheesy fry taste yumm .. really loved ambience crazy idea vintage music cassette nd person 's face designed cassette brilliant .. staff v friendly .. need pickup little pace getting order .. outdoor seating also avail smoker .. dnt worry .. haha .. jus go guy 's mind not regret\",\n",
              " 'nice tiny cozy place amazing food especially thin crust pizza affordable menu good staff make overall experience memorable good place occasional chit chat',\n",
              " \"came bangalore asked best biriyani joint one colleague referd try try ordered meghana special chicken biriyani took 40_45mins deliver.fine no issue wait worth got big cover ã\\x83â\\x83â\\x83ã\\x83â\\x82â\\x83ã\\x83â\\x83â\\x82ã\\x83â\\x82â\\x83ã\\x83â\\x83â\\x83ã\\x83â\\x82â\\x82ã\\x83â\\x83â\\x82ã\\x83â\\x82ã\\x82â¢ã\\x83â\\x83â\\x83ã\\x83â\\x82â\\x83ã\\x83â\\x83â\\x82ã\\x83â\\x82â\\x82ã\\x83â\\x83â\\x83ã\\x83â\\x82â\\x82ã\\x83â\\x83â\\x82ã\\x83â\\x82â\\x82ã\\x83â\\x83â\\x83ã\\x83â\\x82â\\x83ã\\x83â\\x83â\\x82ã\\x83â\\x82â\\x82ã\\x83â\\x83â\\x83ã\\x83â\\x82â\\x82ã\\x83â\\x83â\\x82ã\\x83â\\x82ã\\x82â¹10 xtra inside 3_4 packet made plate long grain rice fully covered plate chicken separate pack quantity good much quantity person rice n't look spicey made cry .always andhra food make cry point view typical andhra style biriyani spicey .the taste average.you try one time note please ready dessert packing :4.5/5 delivery 3/5 taste:3/5 vfm 3/5\",\n",
              " \"octopus first time really tasty 's small place outdoor place well food good loved side dish especially pancake foodie save money u r student like visit once.ã\\x83â\\x83â\\x83ã\\x83â\\x82â\\x83ã\\x83â\\x83â\\x82ã\\x83â\\x82â\\x83ã\\x83â\\x83â\\x83ã\\x83â\\x82â\\x82ã\\x83â\\x83â\\x82ã\\x83â\\x82ã\\x82â°ã\\x83â\\x83â\\x83ã\\x83â\\x82â\\x83ã\\x83â\\x83â\\x82ã\\x83â\\x82â\\x82ã\\x83â\\x83â\\x83ã\\x83â\\x82â\\x82ã\\x83â\\x83â\\x82ã\\x83â\\x82â\\x9fã\\x83â\\x83â\\x83ã\\x83â\\x82â\\x83ã\\x83â\\x83â\\x82ã\\x83â\\x82â\\x82ã\\x83â\\x83â\\x83ã\\x83â\\x82â\\x82ã\\x83â\\x83â\\x82ã\\x83â\\x82â\\x98ã\\x83â\\x83â\\x83ã\\x83â\\x82â\\x83ã\\x83â\\x83â\\x82ã\\x83â\\x82â\\x82ã\\x83â\\x83â\\x83ã\\x83â\\x82â\\x82ã\\x83â\\x83â\\x82ã\\x83â\\x82â\\x81\",\n",
              " 'love ordering glen whenever craving cheesecake also like pasta hot chocolate options- seating arrangement delivery well pretty cute cafe u chill friend nicely',\n",
              " 'pepperoni pizza best till date chicken wing not nice service improved point go chilled refreshing beer delicious pizza',\n",
              " 'good place chaats near electronic city area landed lazy stroll place small neat ordered basket chaat pani puri pani puri ok wid 2 type sweet nd spicy water chaat lil average curd wasnt well beaten chutney wasnt tangy enough.the coffee ok bit sweet samosa best thing menu felt suggest try safe instagram.com',\n",
              " \"n't order worst food\",\n",
              " \"ordered almost veg pizza economic really good place sit enjoy limitless one would prefer go first floor rather sitting ground floor better ambiance rest dessert decent drink 'm giving 5 star due unlimited value money package .. else pizza not extra ordinary not worst well\",\n",
              " 'heard lot place wanted visit since long time finally got chance explore place weekday afternoon ordered different type veg non-veg pizza variation delicious however bit disappointed small size also ordered sweet pizza tasted first time concept creative taste not great white sauce chicken pasta ordered quite dilute compared regular pasta ambiance decor beautiful staff cooperative overall good experience visit atleast',\n",
              " 'went casual snack saturday afternoon winston beer average onion ring good specially mustard sauce ambience quite good staff courteous fast service',\n",
              " 'md tokir service really good one .. priya two guy .. served well took u food whatever like',\n",
              " 'spicy',\n",
              " \"since month started craving donne biryani gradually developed taste donne biryani famous legendary restaurant military hotel bengaluru however come delivery not aware good donne biryani joint delivers doorstep recently ordered aramane donne biryani really liked taste quality biryani aromatic open parcel smell aroma spice 's really delicious mutton well cooked add drop lemon juice top biryani flavour reach next level 's definitely must-try item restaurant egg biryani also good\",\n",
              " 'stay far place heard lot got biryani parceled chicken biryani taste amazing one best ever kept reputation soft rice well cooked flesh piece good raita relish soon come check ambience mutton biryani',\n",
              " 'great food kept u coming back 4-5 time consistently terrible service put u finally pity good restaurant ruined apathetic rude staff',\n",
              " \"not one chinese restaurant 's one best bangalore 'm surprised come did n't got eye restaurant earlier tried prawn first time totally worth rice soft marvellous ambience 4.5/5 food 4.4/5 music 3.8/5 cleanliness 5/5 service 4.9/5 coming food vlogging hope 'm allowed\",\n",
              " 'shift one go-to place hsr area located prime location place packed young folk corporate employee absolutely loved terrace section great ambiance music playing throughout night menu extensive wide variety choose lot international beer along lip-smacking cocktail available recommendation dipspactio fried samosa cigar roll peanut masala veg pizza',\n",
              " 'best pocket friendlycafe hangout beautiful ambience.rooftop vibe brilliant sheesha food visit update follow instagram http //www.instagram.com/bangalorefoodielove',\n",
              " 'bad experience ordered 4 different burger veg burger steak burger recommended staff mega zinger zinger burger patty really salty zinger chicken burger hard bite like literally hard felt like made 2 day ago sorry regretted going',\n",
              " 'superb service night delivered yummy biryani loved delivery time great food wild range food dish time delivery',\n",
              " 'nice place hookah peaceful go anytime price also ok type food also good going timing also good not ok looking renuate place look good',\n",
              " \"kindly avoid place looking place eat good meal clearly 's not priority 's given place staff place basically nothing 's irritating tell thing contemplated cancel order got 5 minute pizza lacked taste no seasoning drink ordered horrible zero value money everything overpriced quantity quality service slow hope work game want place open long run sincerely disappointed customer\",\n",
              " 'nandhini hotel ..... andhra speciality multi cuisine restaurant meal banana leaf service good .. frazer town restaurant good .ambience hotel food hotel spending friend nice restaurant family restaurant nice',\n",
              " \"ambiance highlight entrance lead place beautiful canopy leaf make forget much-hated traffic random byproduct civilization outside outside seating soothing say least service really lack pace also tend mix order general food decent 's correctly delivered table\",\n",
              " 'pizza slightly overcooked packed plenty flavour quick delivery',\n",
              " \"orderd peri peri fry burger pesto non veg pasta fry brilliant burger also tasted good however become soggy bread falling apart non veg pasta no trace sort meat pasta salt lacking felt like ripoff late really starving ate anyway did n't patience argue wait fresh delivery non veg pasta actually meat 'd think ordering place experience hope guy get better experience place\",\n",
              " 'chill place pocket friendly .. food service average .. visit gang fun time karaoke ..',\n",
              " 'dessert stop good meal restaurant around office good cake like bakes around',\n",
              " 'food quality 4.5/5 hospitality 4/5 management response 4.5/5 cleanliness 4.5/5 ordered 1 assorted bruschetta included tomato delight herbed mushroom broccoli cheese bruschetta 2 mexican veg delight pizza topped bell pepper onion cherry tomato 3 farmhouse special- topped baby corn bell pepper mushroom 4 virgin mojitos mint lime sprit main ingredient 5 kiwi basil fizz kiwi syrup basil leaf sprit 6 caramel walnut tart 7 chilli chocolate tart 8 baked cherry cheesecake 9 penne al pesto',\n",
              " 'white cyan color themed cafe metro view make roof top cafe great hangout place friend one among best hookah serving cafe mg road great spread food variety cafe not forget cheerful humble service staff try cheese garlic bread nutella shake rajeshwrites',\n",
              " \"ordered panner malai kofta butter paranthas paranthas ok panner malai kofta god horrible.kofta unable break not made panner sure horrible hard gravy bad use good long back quality decreased like ca n't tell u .. bad bad\",\n",
              " 'ordered cafe morish veggie pizza veggie richmond burger cold coffee cold chocolate loved ambience service food pizza cold coffee especially awesome good place go date especially evening ã\\x83â\\x83â\\x83ã\\x83â\\x82â\\x83ã\\x83â\\x83â\\x82ã\\x83â\\x82â\\x83ã\\x83â\\x83â\\x83ã\\x83â\\x82â\\x82ã\\x83â\\x83â\\x82ã\\x83â\\x82ã\\x82â°ã\\x83â\\x83â\\x83ã\\x83â\\x82â\\x83ã\\x83â\\x83â\\x82ã\\x83â\\x82â\\x82ã\\x83â\\x83â\\x83ã\\x83â\\x82â\\x82ã\\x83â\\x83â\\x82ã\\x83â\\x82â\\x9fã\\x83â\\x83â\\x83ã\\x83â\\x82â\\x83ã\\x83â\\x83â\\x82ã\\x83â\\x82â\\x82ã\\x83â\\x83â\\x83ã\\x83â\\x82â\\x82ã\\x83â\\x83â\\x82ã\\x83â\\x82â\\x98ã\\x83â\\x83â\\x83ã\\x83â\\x82â\\x83ã\\x83â\\x83â\\x82ã\\x83â\\x82â\\x82ã\\x83â\\x83â\\x83ã\\x83â\\x82â\\x82ã\\x83â\\x83â\\x82ã\\x83â\\x82â\\x8a',\n",
              " 'tried chicken shawarma alright nothing great bad slightly sweeter taste guess mayonnaise price factor alright good option hunger pang noorinfoodistan.wordpress.com',\n",
              " \"really liked place food really really really great loved service place everything great music volume neither loud low dry pasta exquisite loved food drink not great talking mocktail not sure cocktail place 'd love revisit\",\n",
              " 'common gajar halwa not available zomato pliz make available best gasar halwa swathi u guy good chicken also',\n",
              " 'place adjacent mughal durbar much better ambiance service though food may not good mughal durbar still prefer place crave good food time decent service level privacy',\n",
              " 'small portion cake expecting bit disappointed taste good',\n",
              " 'ordered breakfast place delivery quick packaging perfect ordered chicken hole 9 yard superb ferrero rocher waffle divine filling super delicious breakfast overall food 5/5 packaging 4/5 vfm 4/5',\n",
              " '200 take fill .. easily cheapest best around tilak nagar .. specially like dum biriyani crispy chicken .. no proper service .. worth try ..',\n",
              " 'today went restaurant parent person seemed owner behaved badly father nerve patient eating little slowly did not take much time person continuously complaining said taking much time not bring father',\n",
              " 'one best place whole bangalore hardcore tandoori stuff love family package help save lot money time ambiance not great care care food',\n",
              " \"went today thinking chain bawarchi hyderabad turned n't one franchise biriyanis awesome tasty ordered one mutton biriyani egg biriyani mutton piece soft succulent egg biriyani equally good staff courteous excellent value money\",\n",
              " 'place to-do list long time rooftop along bright sunny colour make perfect combination great food along make great place sunday brunch try pesto fish lamb burger try',\n",
              " 'gud',\n",
              " 'super fast delivery',\n",
              " 'food not hot properly no raita instead sambar',\n",
              " 'taste not good .. ordered boneless chicken biryani no proper chicken not go restaurant .......',\n",
              " 'tasty .. lil spicy',\n",
              " 'place predominately serf good andhra style non veg food veg food also available taste good decent price tag guntur chicken chicken biryani amazing also mutton pepper fry worth trying',\n",
              " 'ordered firangi bake found pretty good consistent includes not sample also one ordered part large gathering place time small order pimento sausage quesadilla herb soaked fish steak rice absolutely brilliant packed good spice exactly like rice phenomenal flavor fish family loved totally quesadilla juicy tantalizing palate did break made mess good food always make mess hey dont complain big fat burger phenomenalworld.in',\n",
              " 'true brunch delight delighted find place although not confident first vr mall well gate outside need walk little good part worth food straightaway coming best part place food perfect brunch light mocktails go beef steak perfection ratatouille coming dessert rum cake point set christmas taste bud ambiance soothing decor lively plant make place easy eye indoor n outdoor seating arrangement brunch prefer sunlight white front wall black european architecture go well cuisine serve service thing place improve service slow people not attentive get food forget short place visit brunch folk',\n",
              " 'taste good',\n",
              " \"one best rajasthani food point locality kachori 's many time never disappointed also upstair seating arrangement tried premium thali super awesome paneer dal mix vegetable boondi raita accompanied chapati ghee dipped visit place\",\n",
              " \"indeed amazing place hangout people kind name suggests ended searching different beer taste great dining together tried belgian german style beer felt taste impressive best thing restaurant chef friendly ordered dry item instead semi gravy requested add gravy re-cooked way 's taste n't change\",\n",
              " 'good place nice food service need improve place small .. one person managing whole .. decor atmosphere nice soothing',\n",
              " 'good ambience good food good music repetative great service amazing staff place worth second visit sandwich pizza good',\n",
              " 'one windy evening seating open space clam place savour sip berry blast cake yummy ã\\x83â\\x83â\\x83ã\\x83â\\x82â\\x83ã\\x83â\\x83â\\x82ã\\x83â\\x82â\\x83ã\\x83â\\x83â\\x83ã\\x83â\\x82â\\x82ã\\x83â\\x83â\\x82ã\\x83â\\x82ã\\x82â°ã\\x83â\\x83â\\x83ã\\x83â\\x82â\\x83ã\\x83â\\x83â\\x82ã\\x83â\\x82â\\x82ã\\x83â\\x83â\\x83ã\\x83â\\x82â\\x82ã\\x83â\\x83â\\x82ã\\x83â\\x82â\\x9fã\\x83â\\x83â\\x83ã\\x83â\\x82â\\x83ã\\x83â\\x83â\\x82ã\\x83â\\x82â\\x82ã\\x83â\\x83â\\x83ã\\x83â\\x82â\\x82ã\\x83â\\x83â\\x82ã\\x83â\\x82â\\x98ã\\x83â\\x83â\\x83ã\\x83â\\x82â\\x83ã\\x83â\\x83â\\x82ã\\x83â\\x82â\\x82ã\\x83â\\x83â\\x83ã\\x83â\\x82â\\x82ã\\x83â\\x83â\\x82ã\\x83â\\x82â\\x8b biryani blended well aroma tender chicken chicken manchurian bit hard mr. sagar took good care u overall worth visiting',\n",
              " 'wish 4.5 rating zomato place deserves also served extra bowl chip table tasty browny point ambience look like small place pretty crowded place make sure book table visiting place specifically weekend ambience 4/5 taste ordered kala khatta mocktail amazing dahi papdi chat best till date definitely try makai kebab good subzi ordered veg karahi decent taste 5/5 price little overpriced quantity food served subzi le quantity price 4/5',\n",
              " 'bassa fish pizza good 500rs unlimited pizza really good option iced tea cold coffee pretty good dessert size small quite decadent lasagne look good although pepperoni pizza also three cheese pasta rich tasty good food decent price',\n",
              " 'tasty .. lil spicy',\n",
              " 'amazing amazing place .. great ambience especially rooftop nice music great service staff .. awesome food .. ordered grilled chimichuri chicken wing veg nacho nalli nihari not authentic taste great mutton curry .. spicy tandoori roti .. everything great .. definitely visit ..',\n",
              " 'great food ambiance nice open terrace friendly staff also plus point experience visit restaurant friend',\n",
              " 'heard lot positive thing place bite did not disappoint bought choco cake double chocolate red velvet butterscotch could not wait dig food photo post devouring 2',\n",
              " \"kindly avoid place looking place eat good meal clearly 's not priority 's given place staff place basically nothing 's irritating tell thing contemplated cancel order got 5 minute pizza lacked taste no seasoning drink ordered horrible zero value money everything overpriced quantity quality service slow hope work game want place open long run sincerely disappointed customer\",\n",
              " 'went quick bite friend menu limited also preparation avarage ambiance good pretty decent place hangout friend',\n",
              " 'best lip smacking food staff polite friendly love food test environment best thing try espetada',\n",
              " 'food taste delicious nice flavour traditional kannada style nati koli curry n mudde also mutton keema one favorite reminds momã\\x83â\\x83â\\x83ã\\x83â\\x82â\\x83ã\\x83â\\x83â\\x82ã\\x83â\\x82â\\x83ã\\x83â\\x83â\\x83ã\\x83â\\x82â\\x82ã\\x83â\\x83â\\x82ã\\x83â\\x82ã\\x82â°ã\\x83â\\x83â\\x83ã\\x83â\\x82â\\x83ã\\x83â\\x83â\\x82ã\\x83â\\x82â\\x82ã\\x83â\\x83â\\x83ã\\x83â\\x82â\\x82ã\\x83â\\x83â\\x82ã\\x83â\\x82â\\x9fã\\x83â\\x83â\\x83ã\\x83â\\x82â\\x83ã\\x83â\\x83â\\x82ã\\x83â\\x82â\\x82ã\\x83â\\x83â\\x83ã\\x83â\\x82â\\x82ã\\x83â\\x83â\\x82ã\\x83â\\x82â\\x98ã\\x83â\\x83â\\x83ã\\x83â\\x82â\\x83ã\\x83â\\x83â\\x82ã\\x83â\\x82â\\x82ã\\x83â\\x83â\\x83ã\\x83â\\x82â\\x82ã\\x83â\\x83â\\x82ã\\x83â\\x82â\\x89ã\\x83â\\x83â\\x83ã\\x83â\\x82â\\x83ã\\x83â\\x83â\\x82ã\\x83â\\x82â\\x83ã\\x83â\\x83â\\x83ã\\x83â\\x82â\\x82ã\\x83â\\x83â\\x82ã\\x83â\\x82ã\\x82â°ã\\x83â\\x83â\\x83ã\\x83â\\x82â\\x83ã\\x83â\\x83â\\x82ã\\x83â\\x82â\\x82ã\\x83â\\x83â\\x83ã\\x83â\\x82â\\x82ã\\x83â\\x83â\\x82ã\\x83â\\x82â\\x9fã\\x83â\\x83â\\x83ã\\x83â\\x82â\\x83ã\\x83â\\x83â\\x82ã\\x83â\\x82â\\x82ã\\x83â\\x83â\\x83ã\\x83â\\x82â\\x82ã\\x83â\\x83â\\x82ã\\x83â\\x82â\\x98ã\\x83â\\x83â\\x83ã\\x83â\\x82â\\x83ã\\x83â\\x83â\\x82ã\\x83â\\x82â\\x82ã\\x83â\\x83â\\x83ã\\x83â\\x82â\\x82ã\\x83â\\x83â\\x82ã\\x83â\\x82â\\x8b kudos kitchen king',\n",
              " \"sandwich taste amazing slow uninterested service low stock weekend ruin never seem bread option given range quite wide really ruin place sometimes n't even coffee hand sandwich taste really good freshly made customised chicken diet multigrain yummy range sandwich beverage combo make quite reasonable\",\n",
              " 'one happening place bangalore best get together party food service taste good also great collection music plus point rooftop beer cold wind becomes great memory worth visiting big thumb side go',\n",
              " 'cozy place located hsr layout.staffs welcoming good nature.little tiny place good food experience.we ordered burger stuffed n filling along mouthwatering yummilicious drinks.a good food destination pocket friendly experience one try restaurant',\n",
              " \"great pub hang chill koramangala good music 's not overbearing still hear partner talking welcoming ambience reminds good ol watering hole countryside uk come early weekend looking quiet dinner friend place get really happening 9.30. owner particularly nice go way make feel comfortable try op special chicken tikka succulent delicious staff prompt courteous overall really pleasant experience hidden gem\",\n",
              " 'not satisfied',\n",
              " \"almost 10 time not think twice going fenny 's food good staff amazing value money drink good need separate place smoking area try creamy chicken pizza spaghetti wo n't disappoint\",\n",
              " \"order egg fried rice chicken kabab 's almost take four hour home delivered order.when ever received order food almost cold 's like spoiled nobody ca n't this.next time n't want order anything restaurant\",\n",
              " 'food yummy tried american cheese trap fry good would highly recommend trying italian pasta also perfectly made- not dry not wet- optimum spice price upsetting slightly costly considering quantity served cost per head come around 180-200 rupee donã\\x83â\\x83â\\x83ã\\x83â\\x82â\\x83ã\\x83â\\x83â\\x82ã\\x83â\\x82â\\x83ã\\x83â\\x83â\\x83ã\\x83â\\x82â\\x82ã\\x83â\\x83â\\x82ã\\x83â\\x82ã\\x82â¢ã\\x83â\\x83â\\x83ã\\x83â\\x82â\\x83ã\\x83â\\x83â\\x82ã\\x83â\\x82â\\x82ã\\x83â\\x83â\\x83ã\\x83â\\x82â\\x82ã\\x83â\\x83â\\x82ã\\x83â\\x82â\\x80ã\\x83â\\x83â\\x83ã\\x83â\\x82â\\x83ã\\x83â\\x83â\\x82ã\\x83â\\x82â\\x82ã\\x83â\\x83â\\x83ã\\x83â\\x82â\\x82ã\\x83â\\x83â\\x82ã\\x83â\\x82â\\x99t eat much',\n",
              " 'saw restaurant many time whenever passed thought another new chinese restaurant area visited completely changed mind went try bubble tea ended trying item ambience really cute service good bubble tea good tried classic bubble tea cranberry bubble tea tapioca bubble apart onion ring good cupcakesontravel.blogspot.com',\n",
              " 'good',\n",
              " 'best place family friend service good food good ambiance really good centre kormangala .....',\n",
              " 'ambience need improved least clean glass door expected starter option le compared xtreme sport bar.service good',\n",
              " 'well second time yesterday .... glad say never disappointed .... biryani r worth giving try .... would say hyd chicken biryani win chicken dum biryani soft n succulent meat jus lip smackin n truly yummy tummy also not forget service quick waiter really helpful .... hand home delivery m8 take loooooong time',\n",
              " \"went review place third floor amazing little place somehow managed stay hidden although 's pretty well known steak ordered schezwan prawn noodle hakka style chicken rice beer price reasonable quantity amazing food yummy surprised rice beer tasted delicious would definitely go back\",\n",
              " 'good response tasty food uu ..................................................................................................................',\n",
              " 'typical punjabi place no fuss hole wall setting home made simple food standard fare dal chappati sabzi/s chawal served twice day week establishment hygienic people serve hospitable good place hearty filling meal',\n",
              " 'want spend splendid afternoon friend want play game gossip zee5 loft perfect neighbourhood cafe find board game small collection book sitting area awesome cafe manages good variety dish whether want snack heavy dish equally delicious roadside parking available',\n",
              " 'indian gravy starving stomach timmie dessert loved food bruno try reverie would love visit ...... service ambience peaceful family place would really good ....',\n",
              " 'first visit place right centre city place well decorated menu card tried item peri peri nacho pesto fish fish finger kit kat shake chicken steak .... trust no complains preparation people visit place sure wouldnã\\x83â\\x83â\\x83ã\\x83â\\x82â\\x83ã\\x83â\\x83â\\x82ã\\x83â\\x82â\\x82ã\\x83â\\x83â\\x83ã\\x83â\\x82â\\x82ã\\x83â\\x83â\\x82ã\\x83â\\x82â\\x92t disappoint',\n",
              " \"place lot option biryani visited place recently loved service ambience yesterday got delivered home 'm glad delivered food btm layout vijaynagar packing excellent biryani cooked firewood amplifies taste ordered chicken maharaja excellent consisted bell pepper onion chillies. hyderbadi dum biryani good piece perfectly marinated rice flavoured spice biryani try people love spicy food. reddy 's biryani good.this biryani rice topped andhra gravy le spicy compared hyderbadi dum biryani\",\n",
              " 'splendid place white interior give greek mediterranean feel service staff friendly sweet ordered sangria loved red wine sangria found white wine sangria ok. food tried tikka well done mezze platter u drooling pizza donã\\x83â\\x83â\\x83ã\\x83â\\x82â\\x83ã\\x83â\\x83â\\x82ã\\x83â\\x82â\\x82ã\\x83â\\x83â\\x83ã\\x83â\\x82â\\x82ã\\x83â\\x83â\\x82ã\\x83â\\x82â\\x92t remember name didnã\\x83â\\x83â\\x83ã\\x83â\\x82â\\x83ã\\x83â\\x83â\\x82ã\\x83â\\x82â\\x82ã\\x83â\\x83â\\x83ã\\x83â\\x82â\\x82ã\\x83â\\x83â\\x82ã\\x83â\\x82â\\x92t like much however vibe music crowd make good chilling place visit',\n",
              " 'awesome',\n",
              " 'cupcake inedible raw broken 2 part worst service ever delivery slow not worth money cupcake cupcake bliss misery',\n",
              " \"always loved going onesta quite excited new menu new unlimited come unlimited pizza+1 dessert+1drink coke sprite etc- quite watery new menu n't old favorite like cheese stick whatever called however no longer pork new menu either entire menu unlimited also restricted one drink disappointing imo .. coming taste quality still good\",\n",
              " \"probably worst stoner outlet entire bangalore main reason visit stoner zomato gold offer provide guy taking order did not tell zomato gold used differently outlet dunno even possible later finished billing said 2 zomato gold third order free ridiculously listen logic need explanation process followed outlet 's special\",\n",
              " \"bangalore bandh feel like chaat wrong time food craving .. desperately waiting one shop opened serf chaat saw bansuri sweet open cash counter guy said dahi curd available moment placed order 4 dahi puri .. came home try eagerly pissed taste first one box four ate stale curd n't taste like dahi puri took entire craving chaat 's worth 40 really went got changed 'm still not happy way 's made .. disappointed first experience unsatisfactory\",\n",
              " 'biryani rice not cooked waste',\n",
              " 'say 2 dosas 1 sent',\n",
              " 'quick service crowded area taste food awesome especially chilly chicken sholay kabab ã\\x83â\\x83â\\x83ã\\x83â\\x82â\\x83ã\\x83â\\x83â\\x82ã\\x83â\\x82â\\x83ã\\x83â\\x83â\\x83ã\\x83â\\x82â\\x82ã\\x83â\\x83â\\x82ã\\x83â\\x82ã\\x82â°ã\\x83â\\x83â\\x83ã\\x83â\\x82â\\x83ã\\x83â\\x83â\\x82ã\\x83â\\x82â\\x82ã\\x83â\\x83â\\x83ã\\x83â\\x82â\\x82ã\\x83â\\x83â\\x82ã\\x83â\\x82â\\x9fã\\x83â\\x83â\\x83ã\\x83â\\x82â\\x83ã\\x83â\\x83â\\x82ã\\x83â\\x82â\\x82ã\\x83â\\x83â\\x83ã\\x83â\\x82â\\x82ã\\x83â\\x83â\\x82ã\\x83â\\x82â\\x91ã\\x83â\\x83â\\x83ã\\x83â\\x82â\\x83ã\\x83â\\x83â\\x82ã\\x83â\\x82â\\x82ã\\x83â\\x83â\\x83ã\\x83â\\x82â\\x82ã\\x83â\\x83â\\x82ã\\x83â\\x82â\\x8cã\\x83â\\x83â\\x83ã\\x83â\\x82â\\x83ã\\x83â\\x83â\\x82ã\\x83â\\x82â\\x83ã\\x83â\\x83â\\x83ã\\x83â\\x82â\\x82ã\\x83â\\x83â\\x82ã\\x83â\\x82ã\\x82â°ã\\x83â\\x83â\\x83ã\\x83â\\x82â\\x83ã\\x83â\\x83â\\x82ã\\x83â\\x82â\\x82ã\\x83â\\x83â\\x83ã\\x83â\\x82â\\x82ã\\x83â\\x83â\\x82ã\\x83â\\x82â\\x9fã\\x83â\\x83â\\x83ã\\x83â\\x82â\\x83ã\\x83â\\x83â\\x82ã\\x83â\\x82â\\x82ã\\x83â\\x83â\\x83ã\\x83â\\x82â\\x82ã\\x83â\\x83â\\x82ã\\x83â\\x82â\\x91ã\\x83â\\x83â\\x83ã\\x83â\\x82â\\x83ã\\x83â\\x83â\\x82ã\\x83â\\x82â\\x82ã\\x83â\\x83â\\x83ã\\x83â\\x82â\\x82ã\\x83â\\x83â\\x82ã\\x83â\\x82â\\x8c andhra meal worth try',\n",
              " \"recent weekend food joint craving big bowl ramen decided give try happy find best combo ever spicy ramen gimbap side delicious peanut caramel sauce best ate heart 's content happy tummy happy\",\n",
              " 'reached ten minute early reservation time wait another fifteen minute get table disappointment food really good cherry top hospitality friendly array dish amazing collection',\n",
              " 'iconic place bangalore every dish brilliant try californian chicken steak chicken rocky road famous shake service quick prompt',\n",
              " 'please introduce vegan option lot vegan bangalore would amazing could consider request.going plant based healthy cruelty free',\n",
              " 'planned team dinner buffet buffet non veg option chicken no sea food included menu pathetic atleast include prawn fish either starter main course buffet item le billing horrible felt cheated asking u added service tax 10 latter noticed management not proper feel',\n",
              " 'roaming eating biryani spree bangalore stay discover good biryani get loved getting eat different type',\n",
              " 'nice biryani spicy nonveg rice egg curry stuff nice biryani really hot good taste loved many time biryani also good need improve controlling spiceiness',\n",
              " 'visited place recently outstanding food best food area quick service hygienic mr.nandakumar owner restaurant helpful catered need biriyanis well rotis gravy rich food affordable price highly recommended',\n",
              " 'visited place last monday team lunch booked buffet seeing great rating food disappointed u greatly welcome drink disaster beer not even cold starter found dahi papdi crispy corn actually yummy dahi chat pizza bbq starter need immense improvement dessert missed fresh baked chocklate fruit cake rabdi dahi bada hard gulab jamun jalebi not right temperature main course pasta pulav good others average dunnu happened monday something else disappoints compare buffet popular one nearby overall- food- 3/5 ambience- 4/5 hospitality-3.5/5',\n",
              " 'visited place sunday lunch ordered mushroom chestnut dumpling pretty good main course ordered thai red curry jasmine rice chicken pad thai okay nothing really exceptional drink drink containing coffee condensed milk ordered expected little different taste normal cold coffee ambience good service prompt lot dish wanted try not present hoping available next time',\n",
              " \"good place quiet place visit .. draught beer menu asked.they told n't draught beer .. option veg starter .. did n't like veg starter option menu\",\n",
              " 'went dinner stuffed ravioli white sauce white sauce wasnã\\x83â\\x83â\\x83ã\\x83â\\x82â\\x83ã\\x83â\\x83â\\x82ã\\x83â\\x82â\\x83ã\\x83â\\x83â\\x83ã\\x83â\\x82â\\x82ã\\x83â\\x83â\\x82ã\\x83â\\x82ã\\x82â¢ã\\x83â\\x83â\\x83ã\\x83â\\x82â\\x83ã\\x83â\\x83â\\x82ã\\x83â\\x82â\\x82ã\\x83â\\x83â\\x83ã\\x83â\\x82â\\x82ã\\x83â\\x83â\\x82ã\\x83â\\x82â\\x80ã\\x83â\\x83â\\x83ã\\x83â\\x82â\\x83ã\\x83â\\x83â\\x82ã\\x83â\\x82â\\x82ã\\x83â\\x83â\\x83ã\\x83â\\x82â\\x82ã\\x83â\\x83â\\x82ã\\x83â\\x82â\\x99t good looked split cheese pineapple pizza good lemon juice chocolate mousse service excellent staff really good worth visit',\n",
              " 'place twice loved hara bhara kebab peppy panner pizza pizza especially lip smacking delicious panner butter masala also good',\n",
              " 'nice',\n",
              " 'late night service good',\n",
              " 'food not good .. dry pulav taste',\n",
              " 'not received food',\n",
              " 'enroute seminar would say stumbled upon place way like rest reviewer meant look like place house converted small cafe found one manager/cashier/waiter well probably cause weekday ordered 3 dish 2 beverage well did not like either one except beverage potato cheese ball soo bland taste gave mayo dip make bland cheesy pasta cheesy alright filled onion like onion pasta errr blacky chicken wing well sound rascist though cooked fine still lacked taste brighter side place/ambience way better staff courteous food 1.5 service 3.0 cost effective 3.0 ambience 3.5',\n",
              " 'gud delivery ..',\n",
              " \"'s located happening place bangalore .. nice place chill great view overlooking mg road hookah nice food n't great three star ambience\",\n",
              " 'wanted try dhaba style food change visited place pretty small place ambience average ordered masala lassi masala pepsi quite okay starter tried paneer tikka mushroom tikka veg seekh kabab babycorn manchurian starter pretty good maincourse ordered paneer tikka masala mix vegetable tasted really well overall good experience taste 4/5 service 3.5/5 ambience 3/5 would give place 3.5 sure',\n",
              " 'service good staff also friendly overall good experience definitely visit recommend others visit',\n",
              " 'understaffed no power backup wait 90 minute food arrive please avoid place want save time food average something mosquito',\n",
              " 'home style food quantity improved',\n",
              " 'send money back send biryani',\n",
              " 'went friday night pretty good experience place quite filled family group sat non- smoking non- hookah area ambience definitely better hookah zone open air seating 5 u ordered schezwan paneer strip azzure special twisted pizza open double patty burger mix sauce pasta kit kat shake sufficient u u big appetite personally really liked pizza paneer starter ambience 4/5 food taste 5/5 quantity dish 4/5 service 3/5 pricing 3/5 overall 4/5 special recommendation azzure special pizza',\n",
              " 'bobã\\x83â\\x83â\\x83ã\\x83â\\x82â\\x83ã\\x83â\\x83â\\x82ã\\x83â\\x82â\\x83ã\\x83â\\x83â\\x83ã\\x83â\\x82â\\x82ã\\x83â\\x83â\\x82ã\\x83â\\x82ã\\x82â¢ã\\x83â\\x83â\\x83ã\\x83â\\x82â\\x83ã\\x83â\\x83â\\x82ã\\x83â\\x82â\\x82ã\\x83â\\x83â\\x83ã\\x83â\\x82â\\x82ã\\x83â\\x83â\\x82ã\\x83â\\x82â\\x80ã\\x83â\\x83â\\x83ã\\x83â\\x82â\\x83ã\\x83â\\x83â\\x82ã\\x83â\\x82â\\x82ã\\x83â\\x83â\\x83ã\\x83â\\x82â\\x82ã\\x83â\\x83â\\x82ã\\x83â\\x82â\\x99s bar nice relaxing atmosphere almost always packed service lacking wait quite served menu choice arenã\\x83â\\x83â\\x83ã\\x83â\\x82â\\x83ã\\x83â\\x83â\\x82ã\\x83â\\x82â\\x83ã\\x83â\\x83â\\x83ã\\x83â\\x82â\\x82ã\\x83â\\x83â\\x82ã\\x83â\\x82ã\\x82â¢ã\\x83â\\x83â\\x83ã\\x83â\\x82â\\x83ã\\x83â\\x83â\\x82ã\\x83â\\x82â\\x82ã\\x83â\\x83â\\x83ã\\x83â\\x82â\\x82ã\\x83â\\x83â\\x82ã\\x83â\\x82â\\x80ã\\x83â\\x83â\\x83ã\\x83â\\x82â\\x83ã\\x83â\\x83â\\x82ã\\x83â\\x82â\\x82ã\\x83â\\x83â\\x83ã\\x83â\\x82â\\x82ã\\x83â\\x83â\\x82ã\\x83â\\x82â\\x99t many either iã\\x83â\\x83â\\x83ã\\x83â\\x82â\\x83ã\\x83â\\x83â\\x82ã\\x83â\\x82â\\x83ã\\x83â\\x83â\\x83ã\\x83â\\x82â\\x82ã\\x83â\\x83â\\x82ã\\x83â\\x82ã\\x82â¢ã\\x83â\\x83â\\x83ã\\x83â\\x82â\\x83ã\\x83â\\x83â\\x82ã\\x83â\\x82â\\x82ã\\x83â\\x83â\\x83ã\\x83â\\x82â\\x82ã\\x83â\\x83â\\x82ã\\x83â\\x82â\\x80ã\\x83â\\x83â\\x83ã\\x83â\\x82â\\x83ã\\x83â\\x83â\\x82ã\\x83â\\x82â\\x82ã\\x83â\\x83â\\x83ã\\x83â\\x82â\\x82ã\\x83â\\x83â\\x82ã\\x83â\\x82â\\x99d recommend going afternoon staff give attention',\n",
              " 'first visit cafe quite wonderful experience service also good .. comfortable place visit next visit family .. strongly recommend visit dream cafe shobhit simmy',\n",
              " \"come ranga shankara theatre love place anju 's seems like appropriate atmospheric extension new city year ago loved grabbing sabudana vadas even vada pavs exiting play enjoy auto-ride back home whoever autowala was.having long term fondness kokum happy see menu love akki roti staff caring friendly one order play not wait long piping hot meal waiting you.what 've often wished real signature chai coffee decent n't stand out.i love reaching hour play seeing light change semi-visible vista pick book usman 's terrific bookshop read.a real flavor-ful chai strong unique coffee would add already pleasurable experience\",\n",
              " \"great budget restaurant regular stay bangalore get pocket friendly idli dosa breakfast 's yum.try chichen/egg chowmin 's good chicken/egg roll could better though stuffing inside would make feel full try bengali thali/dishes bong missing home food wo n't disappointed\",\n",
              " 'place nice .. ambience good .. food descent .. servicing moderate tried near .. no point traveling far n grabbing bite',\n",
              " 'food good',\n",
              " 'went 70 people time food really awesome many variety taste service superb many variety veg non veg food overall awesome taste',\n",
              " 'bangalore nandini deluxe nice result french nandini good taste beautiful restaurant beautiful party wear customer request respect beautiful nice hotel bangalore nandini good service',\n",
              " \"order mugliya mutton biryani got something else no mutton bone suggest n't order order give reason zomato give u order order send\",\n",
              " 'visited place friend lazy afternoon lunch place quite empty p food really good ordered godfather starter served tangy sauce basket full love basically potato wedge two kind french fry 4 different sauses pesto fettucine average veggie pizza nice',\n",
              " 'great pleasure amazing combo midnight really like enjoyed committed time wr delivered earliest thnk u sooooooo much',\n",
              " 'probably best vada sambar town vfm 5 5 taste 5 5 service 5 5 old bangalore restaurant experience 5 5. go quick bite',\n",
              " \"glen 's bakehouse oh love red velvet cake first thing come mind hear name glen 's bakehouseã\\x83â\\x83â\\x83ã\\x83â\\x82â\\x83ã\\x83â\\x83â\\x82ã\\x83â\\x82â\\x83ã\\x83â\\x83â\\x83ã\\x83â\\x82â\\x82ã\\x83â\\x83â\\x82ã\\x83â\\x82ã\\x82â°ã\\x83â\\x83â\\x83ã\\x83â\\x82â\\x83ã\\x83â\\x83â\\x82ã\\x83â\\x82â\\x82ã\\x83â\\x83â\\x83ã\\x83â\\x82â\\x82ã\\x83â\\x83â\\x82ã\\x83â\\x82â\\x9fã\\x83â\\x83â\\x83ã\\x83â\\x82â\\x83ã\\x83â\\x83â\\x82ã\\x83â\\x82â\\x82ã\\x83â\\x83â\\x83ã\\x83â\\x82â\\x82ã\\x83â\\x83â\\x82ã\\x83â\\x82â\\x98ã\\x83â\\x83â\\x83ã\\x83â\\x82â\\x83ã\\x83â\\x83â\\x82ã\\x83â\\x82â\\x82ã\\x83â\\x83â\\x83ã\\x83â\\x82â\\x82ã\\x83â\\x83â\\x82ã\\x83â\\x82â\\x8d glen's=red velvet ã\\x83â\\x83â\\x83ã\\x83â\\x82â\\x83ã\\x83â\\x83â\\x82ã\\x83â\\x82â\\x83ã\\x83â\\x83â\\x83ã\\x83â\\x82â\\x82ã\\x83â\\x83â\\x82ã\\x83â\\x82ã\\x82â°ã\\x83â\\x83â\\x83ã\\x83â\\x82â\\x83ã\\x83â\\x83â\\x82ã\\x83â\\x82â\\x82ã\\x83â\\x83â\\x83ã\\x83â\\x82â\\x82ã\\x83â\\x83â\\x82ã\\x83â\\x82â\\x9fã\\x83â\\x83â\\x83ã\\x83â\\x82â\\x83ã\\x83â\\x83â\\x82ã\\x83â\\x82â\\x82ã\\x83â\\x83â\\x83ã\\x83â\\x82â\\x82ã\\x83â\\x83â\\x82ã\\x83â\\x82â\\x92ã\\x83â\\x83â\\x83ã\\x83â\\x82â\\x83ã\\x83â\\x83â\\x82ã\\x83â\\x82â\\x82ã\\x83â\\x83â\\x83ã\\x83â\\x82â\\x82ã\\x83â\\x83â\\x82ã\\x83â\\x82ã\\x82â¯ red velvet cake perfect ã\\x83â\\x83â\\x83ã\\x83â\\x82â\\x83ã\\x83â\\x83â\\x82ã\\x83â\\x82â\\x83ã\\x83â\\x83â\\x83ã\\x83â\\x82â\\x82ã\\x83â\\x83â\\x82ã\\x83â\\x82ã\\x82â°ã\\x83â\\x83â\\x83ã\\x83â\\x82â\\x83ã\\x83â\\x83â\\x82ã\\x83â\\x82â\\x82ã\\x83â\\x83â\\x83ã\\x83â\\x82â\\x82ã\\x83â\\x83â\\x82ã\\x83â\\x82â\\x9fã\\x83â\\x83â\\x83ã\\x83â\\x82â\\x83ã\\x83â\\x83â\\x82ã\\x83â\\x82â\\x82ã\\x83â\\x83â\\x83ã\\x83â\\x82â\\x82ã\\x83â\\x83â\\x82ã\\x83â\\x82ã\\x82â¤ã\\x83â\\x83â\\x83ã\\x83â\\x82â\\x83ã\\x83â\\x83â\\x82ã\\x83â\\x82â\\x82ã\\x83â\\x83â\\x83ã\\x83â\\x82â\\x82ã\\x83â\\x83â\\x82ã\\x83â\\x82ã\\x82â¤ ordered red velvet sundae 175/- totally worth try\",\n",
              " \"one place satisfy noodle craving located amongst popular restaurant koramangala easily miss food amazing little oily 's noodle without little shine right customisation great get decide go noodle size ordered noodle box veg option limited good get try combination sauce vegetable noodle base staff patient explaining mean noodle option basis made of- maida wheat whole wheat etc sauce taste like schezwan one might know menu overall great food\",\n",
              " \"begin disappointing ordered spicy chicken biryani kebab not worth money b ready whopping delivery charge u r forced pay home delivery .... wo n't b informed earlier say not worth money n disposable spoon tissue saunf .... wo n't help u much\",\n",
              " 'no good biryani',\n",
              " 'went dinner last night decent meal good price place loaded christites best place north indian food sg palya taste worth price highly recommend chilly paneer thalis softy also good',\n",
              " 'fine buffet spread multitude item choose considering location buffet offer definite value money courteous staff welcoming good seating ambiance went cousin thoroughly enjoyed',\n",
              " 'one restaurant open late hour koramangala area however quality food degrading nowadays increasing price point not expect great ambience service restaurant',\n",
              " 'aftrnoon hd ordered butter paneer masala parcel superb maybe worth money belong indore deserves 5star taste delocious',\n",
              " 'usual nice place never go wrong one regular year though simple menu lot offer one certainty freshness food try simple n nice place ranga shankara ..',\n",
              " 'food bad guy not staying standard bawarchi made name hyderabad ordered 2 biryani 1 chicken lollipop chicken lollipop cold dry not fully cooked expensive item menu serving 5 small piece hell charge much biryani supposed hyderabad style atleast andhra style compromise much eat no-style biryani filled spice please learn prepare biryani money bomb place family restaurant decent ambience no complaint interior even place located silk board main road right jayadeva fly-over corner building not one bit difficult spot 2 point comment go elsewhere please',\n",
              " 'not good',\n",
              " 'awesome biryani ever great food awesome service great place family dinner lunch get together go bangalore',\n",
              " 'good home made veg biryani taste.timely delivered .good quantity too.only issue charging 50bucks delivery.that restrict order',\n",
              " 'list ever since came bangalore since 2 month back recently got chance visit colleague true name outlet did not disappoint food .. paradise tasty food quick service good ambiance perfect lunch dinner chicken royal biryani mutton seekh dish won heart try nonveg specially biryani lover',\n",
              " \"daily bread situated n besides bda complex koramangala best known delicious cake pastry variety bread dine option like branch 's nice place grab coffee mainly breakfast kinda item lived panini bread paneer sandwich grilled chicken foccacia .. taste really good choco brownie yummyyyy .. bad part place menu many item actually serf dessert unavailable time .. choosing ur item n't forget ask availability .. overall 's okay place food:3.5/5 food available value money:3.5 /5\",\n",
              " \"amazing food one best part serving till late night like 3am morning wo n't get option bread like place quality food impress try dal makahni\",\n",
              " \"'s near house live impressed burger n sandwich .it also severs juice n shake good nxt time try shorma\",\n",
              " 'nice indian food good daily food friendly staff home-like food try thali aloo pyaaz parantha pyaaz parantha samosa tea',\n",
              " 'impressed',\n",
              " 'food day day becoming worse .... constantly ordering .. hell lot difference first order today ..',\n",
              " 'pocket friendly place drink dine friend ambience not good music really bad spoiled whole mood food average happy hour good',\n",
              " 'nice place want homely taste food specially north indian place not big food awesome paranthas try',\n",
              " \"one best rajasthani food point locality kachori 's many time never disappointed also upstair seating arrangement tried premium thali super awesome paneer dal mix vegetable boondi raita accompanied chapati ghee dipped visit place\",\n",
              " \"accidentally walked place guy small set-up plan make happening carrom game 's house converted cafe peaceful ambience n't pleasing sat ordered veg delight breakfast n't pleased friend hand ordered bacon breakfast delighted 's definitely worth money pocket friendly walked house leave 's realised place 's pretty good place decent food\",\n",
              " 'good food reasonable price try everyone try dehati chicken absolutely home flavour staff service need improved anyway price balanced',\n",
              " 'restaurant known thalis biryani vegetarian meal lunch food served banana leaf meal consisted palak dal sambar chutney curry curd sweet dal made homestyle everything tasty',\n",
              " \"zee5 loft weekend evening 's pretty cafe cozy yet elegant ambiance various game cafe along live sport screening friendly waiter good service nice music enjoyed food playing chess did not know time flew also various book shelf want spend alone time visit cafe start reading tried fish chip butter chicken combo along cold coffee best fish chip ever butter chicken combo melted mouth quantity quality food good reasonable price overall totally enjoyed visit\",\n",
              " 'best chat around liked bit pricy sweet pretty decent good place chat eat',\n",
              " 'place one kind food always amazing lip smacking good drink flat noodle awesome combination favourite old school flat schezwan noodle le oily mistake zomato didnã\\x83â\\x83â\\x83ã\\x83â\\x82â\\x83ã\\x83â\\x83â\\x82ã\\x83â\\x82â\\x82ã\\x83â\\x83â\\x83ã\\x83â\\x82â\\x82ã\\x83â\\x83â\\x82ã\\x83â\\x82â\\x92t pick drink owner came deliver drink place cooperation worth appreciating speaks volume customer experience got panda ring well happy experience willorderagain',\n",
              " 'food nice heard lot saying longest vegetarian buffet place reality did not find many dish taste wise deserves 4 rating without thinking',\n",
              " 'high name suggestsã\\x83â\\x83â\\x83ã\\x83â\\x82â\\x83ã\\x83â\\x83â\\x82ã\\x83â\\x82â\\x83ã\\x83â\\x83â\\x83ã\\x83â\\x82â\\x82ã\\x83â\\x83â\\x82ã\\x83â\\x82ã\\x82â°ã\\x83â\\x83â\\x83ã\\x83â\\x82â\\x83ã\\x83â\\x83â\\x82ã\\x83â\\x82â\\x82ã\\x83â\\x83â\\x83ã\\x83â\\x82â\\x82ã\\x83â\\x83â\\x82ã\\x83â\\x82â\\x9fã\\x83â\\x83â\\x83ã\\x83â\\x82â\\x83ã\\x83â\\x83â\\x82ã\\x83â\\x82â\\x82ã\\x83â\\x83â\\x83ã\\x83â\\x82â\\x82ã\\x83â\\x83â\\x82ã\\x83â\\x82â\\x98ã\\x83â\\x83â\\x83ã\\x83â\\x82â\\x83ã\\x83â\\x83â\\x82ã\\x83â\\x82â\\x82ã\\x83â\\x83â\\x83ã\\x83â\\x82â\\x82ã\\x83â\\x83â\\x82ã\\x83â\\x82â\\x8dã\\x83â\\x83â\\x83ã\\x83â\\x82â\\x83ã\\x83â\\x83â\\x82ã\\x83â\\x82â\\x83ã\\x83â\\x83â\\x83ã\\x83â\\x82â\\x82ã\\x83â\\x83â\\x82ã\\x83â\\x82ã\\x82â°ã\\x83â\\x83â\\x83ã\\x83â\\x82â\\x83ã\\x83â\\x83â\\x82ã\\x83â\\x82â\\x82ã\\x83â\\x83â\\x83ã\\x83â\\x82â\\x82ã\\x83â\\x83â\\x82ã\\x83â\\x82â\\x9fã\\x83â\\x83â\\x83ã\\x83â\\x82â\\x83ã\\x83â\\x83â\\x82ã\\x83â\\x82â\\x82ã\\x83â\\x83â\\x83ã\\x83â\\x82â\\x82ã\\x83â\\x83â\\x82ã\\x83â\\x82â\\x98ã\\x83â\\x83â\\x83ã\\x83â\\x82â\\x83ã\\x83â\\x83â\\x82ã\\x83â\\x82â\\x82ã\\x83â\\x83â\\x83ã\\x83â\\x82â\\x82ã\\x83â\\x83â\\x82ã\\x83â\\x82â\\x8d halloween night high ultra lounge spiced event spookyness around ambience place exceptional beautiful interior soo well done even restroom well doneð\\x9f¤© food really tasty ordered babycorn chicken prawn dish really delicious service quick staff courteous one best place bangalore suit hype get bit costly though order item want guess good amount spend ambience 4.5 food 4.5 cost effective 3.5 service 4.0',\n",
              " \"recent weekend food joint craving big bowl ramen decided give try happy find best combo ever spicy ramen gimbap side delicious peanut caramel sauce best ate heart 's content happy tummy happy\",\n",
              " 'typical small restaurant average-good taste quantity good veg item better one especially mushroom variety make really well would suggest keeping away chicken not good come non veg item small place good quick-dine-in quick-take-away price also really cheap',\n",
              " 'bad condition delivered .. sambaru dal leaked cover',\n",
              " \"underrated undiscovered place feel like market square boston usa rustic local produce fresh everything place endearing menu super appealing lot unique ingredient n't available many place 's got meditarranean edge portion generous 's well plated visually appealing service not efficient great lot attention small detail slight disappointment bubble tea sago seed definitely different not tapioca pearl give texture taste 's not fair substitute original boba tea otherwise look forward visiting trying thing\",\n",
              " \"place nice north east kind food .. best part even continental also highlight place rice beer .. 's called rice beer 's amazing wan na something diff regular beer pork n't great rest really nice good budget place hang ..\",\n",
              " 'far best cold cheesecake happened taste caramel apple crumble blueberry cheese cake simply amazing packing one thing tat really appreciate effort taken decoration packing impeccable anitha no doubt friendly approachable thanks making special event special blissful cake',\n",
              " 'perfect place go want see beautiful city bangalore top 430 ft high ground level breathtaking view sitting hour make feel refreshing food great service slow 5 star lounge service gave 4 star personal experience place give 100 justice money spend perfect place go romantic dinner loved one overall experience ambience 5/5 entertainment 5/5 food 5/5 service 4/5',\n",
              " \"newly opened bakery cafe liked ambience small cafe 's inviting lot dessert display leaf u confused many choice dessert quite reasonable cooky tart macarons cupcake brownie .. etc u name think 's available everything menu eggless limited variety coffee available also serve sandwich pizza shorteats tried chocochip brownie hazelnut capuccino brownie yummy capuccino bad tasted nowhere like capuccino.and expensive quantity served hope improve overall nice place hangout enjoy yummy dessert\",\n",
              " 'zomato page say home delivery available made call refused home delivery even asked minimum amount home delivery done person call told dont deliver wrong information given customer dont know whether zomato mistake shop people change status home delivery',\n",
              " 'good egg curry non veg meal combo affordable price liked',\n",
              " 'friend birthday treat chosen venue black pearl celebrate ordered many thing veg non veg varient though little expensive side thing served worth penny spent',\n",
              " \"raining hungry wanted sandwich no power place saw ice cream container without power like 've cream suggestion not eat finally settled chicken shovarma good wrap could not give point due hygiene taste satisfactory\",\n",
              " 'best place chill friend colleague together come often place good food starter especially noteworthy',\n",
              " 'fine biriyani around koramangala area better meghanas tastier kritungas try place rani kabab super tasty starter item tasty',\n",
              " 'biryani finger licking wow u luv mughlai style go value ur money service something shud work',\n",
              " \"poor 'm not getting actual location zomato even delivery boy facing\",\n",
              " 'ordered online restaurant food quality good quantity also one best place chinese food lover south bangalore overall good experience.recommended dish chicken manchow soup chicken manchurian style chicken/veg hakka noodle special noodle chef special chicken spring roll triple schezwan rice chicken/veg manchow soup chilli chicken quantity 5/5 quality 5/5packaging 5/5 value money 5/5 discount otherwise moderate follow update insta the_black_knight_1',\n",
              " \"first visit asia kitchen bangalore change tried ala carte menu starting soup appetizer main course item everything top notch enjoyed thoroughly top offered orange drink dessert complimentary n't like free compliment haha hope come back soon\",\n",
              " 'happening yet calm place new branch residency road sotally tober koramangala already superhit heard lot nacho visit one sat outdoor area ordered beer along -famous chicken nachos- far satisfying best nacho ever homemade tortilla crisp crispiness lasted till finished plate not even single tortilla soggy -pork cheesy potato skins- 1st time tasted pork did not get know completely baked cheese served potato skin potato skin well done perfection staff friendly courteous matter make big difference new place overall experience taste- 5/5 ambience 4.5/5 service-5/5 value money-4.5/5',\n",
              " 'love panda took place rice served thai curry served shape panda really good tried array thing like dimsums crispy veggie paneer satay came awesome chutney good place',\n",
              " 'first steak ð\\x9f¥© try worth hype tried cottage cheese steak fresh yummy cottage cheese veggie jack daniel sauce thumb starter potato wedge did not like drink even mint artificial essence',\n",
              " 'house common busy crowded place place overcrowded wait half hour turn ambience good place happening food drink served good delicious drink menu need add love non-veg starter value money 4/5 quantity quality 5/5 ambience 4/5',\n",
              " 'food yummy',\n",
              " 'ordered 2 mutton biryani combo due mistake got delivery 1 combo immediately speaking hotel polite refunded money immediately great food .. awesome highly recommended people like spicy food',\n",
              " \"did n't like taste food 've ordered non veg platter okish side liked bbq chicken wing though overall service pathetic need follow 3-4 time order waiter somewhat lost world\",\n",
              " 'great place ice cream good seating place maintained well quick service sundae great ..... nice ambiance.would visit place',\n",
              " \"absolutely like restaurant .. serve testy food good quantity ordered tandoori chicken sooo testy perfect balance spice .. really finger licking ã\\x83â\\x83â\\x83ã\\x83â\\x82â\\x83ã\\x83â\\x83â\\x82ã\\x83â\\x82â\\x83ã\\x83â\\x83â\\x83ã\\x83â\\x82â\\x82ã\\x83â\\x83â\\x82ã\\x83â\\x82ã\\x82â°ã\\x83â\\x83â\\x83ã\\x83â\\x82â\\x83ã\\x83â\\x83â\\x82ã\\x83â\\x82â\\x82ã\\x83â\\x83â\\x83ã\\x83â\\x82â\\x82ã\\x83â\\x83â\\x82ã\\x83â\\x82â\\x9fã\\x83â\\x83â\\x83ã\\x83â\\x82â\\x83ã\\x83â\\x83â\\x82ã\\x83â\\x82â\\x82ã\\x83â\\x83â\\x83ã\\x83â\\x82â\\x82ã\\x83â\\x83â\\x82ã\\x83â\\x82â\\x91ã\\x83â\\x83â\\x83ã\\x83â\\x82â\\x83ã\\x83â\\x83â\\x82ã\\x83â\\x82â\\x82ã\\x83â\\x83â\\x83ã\\x83â\\x82â\\x82ã\\x83â\\x83â\\x82ã\\x83â\\x82â\\x8c sweet lassi omg try lassi .. seriously awesome also remember taste ã\\x83â\\x83â\\x83ã\\x83â\\x82â\\x83ã\\x83â\\x83â\\x82ã\\x83â\\x82â\\x83ã\\x83â\\x83â\\x83ã\\x83â\\x82â\\x82ã\\x83â\\x83â\\x82ã\\x83â\\x82ã\\x82â¢ã\\x83â\\x83â\\x83ã\\x83â\\x82â\\x83ã\\x83â\\x83â\\x82ã\\x83â\\x82â\\x82ã\\x83â\\x83â\\x83ã\\x83â\\x82â\\x82ã\\x83â\\x83â\\x82ã\\x83â\\x82â\\x9dã\\x83â\\x83â\\x83ã\\x83â\\x82â\\x83ã\\x83â\\x83â\\x82ã\\x83â\\x82â\\x82ã\\x83â\\x83â\\x83ã\\x83â\\x82â\\x82ã\\x83â\\x83â\\x82ã\\x83â\\x82ã\\x82â¤ã\\x83â\\x83â\\x83ã\\x83â\\x82â\\x83ã\\x83â\\x83â\\x82ã\\x83â\\x82â\\x83ã\\x83â\\x83â\\x83ã\\x83â\\x82â\\x82ã\\x83â\\x83â\\x82ã\\x83â\\x82ã\\x82â¯ã\\x83â\\x83â\\x83ã\\x83â\\x82â\\x83ã\\x83â\\x83â\\x82ã\\x83â\\x82â\\x82ã\\x83â\\x83â\\x83ã\\x83â\\x82â\\x82ã\\x83â\\x83â\\x82ã\\x83â\\x82ã\\x82â¸ã\\x83â\\x83â\\x83ã\\x83â\\x82â\\x83ã\\x83â\\x83â\\x82ã\\x83â\\x82â\\x82ã\\x83â\\x83â\\x83ã\\x83â\\x82â\\x82ã\\x83â\\x83â\\x82ã\\x83â\\x82â\\x8f butter naan soft testy .. mutton biriyani best good quantity sooo testy load soft juicy mutton .. perfectly cooked .. not spicy perfect ã\\x83â\\x83â\\x83ã\\x83â\\x82â\\x83ã\\x83â\\x83â\\x82ã\\x83â\\x82â\\x83ã\\x83â\\x83â\\x83ã\\x83â\\x82â\\x82ã\\x83â\\x83â\\x82ã\\x83â\\x82ã\\x82â°ã\\x83â\\x83â\\x83ã\\x83â\\x82â\\x83ã\\x83â\\x83â\\x82ã\\x83â\\x82â\\x82ã\\x83â\\x83â\\x83ã\\x83â\\x82â\\x82ã\\x83â\\x83â\\x82ã\\x83â\\x82â\\x9fã\\x83â\\x83â\\x83ã\\x83â\\x82â\\x83ã\\x83â\\x83â\\x82ã\\x83â\\x82â\\x82ã\\x83â\\x83â\\x83ã\\x83â\\x82â\\x82ã\\x83â\\x83â\\x82ã\\x83â\\x82â\\x91ã\\x83â\\x83â\\x83ã\\x83â\\x82â\\x83ã\\x83â\\x83â\\x82ã\\x83â\\x82â\\x82ã\\x83â\\x83â\\x83ã\\x83â\\x82â\\x82ã\\x83â\\x83â\\x82ã\\x83â\\x82â\\x8c rasomalai personally 'm desert lover did n't miss chance .. yes also good ã\\x83â\\x83â\\x83ã\\x83â\\x82â\\x83ã\\x83â\\x83â\\x82ã\\x83â\\x82â\\x83ã\\x83â\\x83â\\x83ã\\x83â\\x82â\\x82ã\\x83â\\x83â\\x82ã\\x83â\\x82ã\\x82â°ã\\x83â\\x83â\\x83ã\\x83â\\x82â\\x83ã\\x83â\\x83â\\x82ã\\x83â\\x82â\\x82ã\\x83â\\x83â\\x83ã\\x83â\\x82â\\x82ã\\x83â\\x83â\\x82ã\\x83â\\x82â\\x9fã\\x83â\\x83â\\x83ã\\x83â\\x82â\\x83ã\\x83â\\x83â\\x82ã\\x83â\\x82â\\x82ã\\x83â\\x83â\\x83ã\\x83â\\x82â\\x82ã\\x83â\\x83â\\x82ã\\x83â\\x82â\\x98ã\\x83â\\x83â\\x83ã\\x83â\\x82â\\x83ã\\x83â\\x83â\\x82ã\\x83â\\x82â\\x82ã\\x83â\\x83â\\x83ã\\x83â\\x82â\\x82ã\\x83â\\x83â\\x82ã\\x83â\\x82â\\x8b ambience okay okay type not good not bad ..\",\n",
              " 'pathetic place food no taste oil good thing sweet not would suggest not waste time rather go fresh concorde manhattan',\n",
              " 'time delivary',\n",
              " 'nice',\n",
              " 'hey folk beautiful name let staff food everything splendid restaurant staff cery friendly courteous well chef efficient thoroughly knowledgeable world cuisine lunch buffet well elaborated food quality taste unquestionably good pretty sure forced lick finger get complete guest experience sure bonapetit itcwelcomhotel',\n",
              " \"amazing food ca n't get better loved paneer meal try tasted like mom 's food\",\n",
              " \"good place grab bite decent quantity pricing pub good variety brew try 3 lancer something strong chicken lollipop spicy good paneer starter amazing overall great experience issue approach long walk 's no direct approach grand parent struggle bit walk place\",\n",
              " \"ordered online placed order chicken fried rice noodle packaging ok cutlery bit disappointed fried rice bit tasteless le salt half boiled omelet top food separately did n't go well overall taste traditionally fried rice mixed rice coming noodle overall taste good could better scrambled egg rather small half boiled omelette could bit lesser oil\",\n",
              " 'good buffet pirate themed restaurant proper choice starter dessert live counter speciality much choose update went second time experience not great 1 star',\n",
              " 'chill place pocket friendly .. food service average .. visit gang fun time karaoke ..',\n",
              " \"'s huge place amazing seating airy found rooftop better air conditioned seating area food tasty portion size good zomato gold added\",\n",
              " \"place nice ambiance good music soothing beer good staff polite overall cozy experience unfortunately taste not good 's giving 3\",\n",
              " 'restaurant certainly not le 3.5/5 hyderabad chicken biryani good try guntur chicken fry delicious',\n",
              " 'place calm full positive vibe away noisy crowd ordered full english breakfast traditional waffle service quick staff inviting food fresh delicious felt like home thoroughly enjoyed breakfast would love visit place .... thanks',\n",
              " \"great ambience one essential part not essential part attract customers.so point thumb ambience here.zero point waiter attenders.one point food not nominal according zomato approx rate fixed rps500 two 's not near approx rps 500.also quantity not enough.hope improve attended u ..... late service quite nervous not clear menu attend customer\",\n",
              " 'wonder took long discover place bangalore 1st jan scrolling restaurant near hsr layout accidentally came across particular place probably best thing happened day ambience beautiful sitting arrangement setup everything top notch amazing people served food thanks person attended table kind lovely helpful order beef tenderloin pork steak mocktail delicious coming reasonable price .. looking forward visiting place sometime soon thanks wonderful evening team ouaf',\n",
              " \"favorite among indirangar place always buzzing.ambiance casual funky great music love menu guy put emphasis food quality n't disappoint.big fan burger anything fried 've got pool table upstairs hang hour without without guy pushing order.not expensive good value money.keep\",\n",
              " \"worst worst worst n't eat manglore bun guess given previous day left bun taste pathetic normally bun soft hard ca n't chew-able also charge high price 2 bun 45rs charged dnt feel give 1 star also\",\n",
              " 'good',\n",
              " 'always best place hangout chill friend family pretty good atmosphere taste always best pocket friendly burger disappointing decreased size french fry staff behavior bit improved',\n",
              " 'ambience good best food loved taste panner ghee roast palak panner budget friendly time favourite place bangalore service good please provide different kind brand beer like tuborg carlsberg etc ..',\n",
              " \"ordered chicken noodle added instruction put le masala chicken noodle received food .... 's fully chilly spicy full masala .. never ate like life .. worst\",\n",
              " 'place try like english breakfast ..... perfect think place good marketing not aware abt place found traveling place beat good english breakfast center',\n",
              " 'visited place saturday night dinner drink could get seating open terrace boundary wall away main serving area place great away noise want talk friend view open area ordered house special chicken nacho chilli chicken potato wedge nacho chilli chicken tasted great went well beer slightly disappointed donã\\x83â\\x83â\\x83ã\\x83â\\x82â\\x83ã\\x83â\\x83â\\x82ã\\x83â\\x82â\\x82ã\\x83â\\x83â\\x83ã\\x83â\\x82â\\x82ã\\x83â\\x83â\\x82ã\\x83â\\x82â\\x92t french fry settle potato wedge not great place lively lot crowd service prompt together zomato gold place bang buck',\n",
              " 'good',\n",
              " 'small colourful lit place amazing food.one place serf various street food corner india menu various rice bowl combo representing different part india ordered peshwari chicken wrap another paneer wrap.it well made spice lineant filling perfect taste.the kulfi shake nice mild sweet wall decor nicely done indian scenario genre dialogue overall nice exp',\n",
              " 'one fewer restaurant offering good vegetarian buffet food quality obviously rest restaurant serving veg-only buffet good spread north indian south indian cuisine ambience classy kinda old school sunday afternoon place packed saw lag la carte service place full quite option dessert starter impressive good place lazy lunch family food 4/5 service 3/5 ambience 4/5 price 3/5',\n",
              " 'place look good far u enter itã\\x83â\\x83â\\x83ã\\x83â\\x82â\\x83ã\\x83â\\x83â\\x82ã\\x83â\\x82â\\x82ã\\x83â\\x83â\\x83ã\\x83â\\x82â\\x82ã\\x83â\\x83â\\x82ã\\x83â\\x82â\\x92s far good ..... table dusty roof falling apart serve plastic glass plastic container ...... le said best',\n",
              " 'friend mine went main course friend tried burger per cafe recommendation tried ã\\x83â\\x83â\\x83ã\\x83â\\x82â\\x83ã\\x83â\\x83â\\x82ã\\x83â\\x82â\\x82ã\\x83â\\x83â\\x83ã\\x83â\\x82â\\x82ã\\x83â\\x83â\\x82ã\\x83â\\x82â\\x91eurasiaã\\x83â\\x83â\\x83ã\\x83â\\x82â\\x83ã\\x83â\\x83â\\x82ã\\x83â\\x82â\\x82ã\\x83â\\x83â\\x83ã\\x83â\\x82â\\x82ã\\x83â\\x83â\\x82ã\\x83â\\x82â\\x92 main ã\\x83â\\x83â\\x83ã\\x83â\\x82â\\x83ã\\x83â\\x83â\\x82ã\\x83â\\x82â\\x82ã\\x83â\\x83â\\x83ã\\x83â\\x82â\\x82ã\\x83â\\x83â\\x82ã\\x83â\\x82â\\x91quattro formaggiã\\x83â\\x83â\\x83ã\\x83â\\x82â\\x83ã\\x83â\\x83â\\x82ã\\x83â\\x82â\\x82ã\\x83â\\x83â\\x83ã\\x83â\\x82â\\x82ã\\x83â\\x83â\\x82ã\\x83â\\x82â\\x92 burger eurasia combination continental oriental flavour total delight touch kaffir lime sauce made even better burger hand totally different term flavour combination 4 different kind cheese made totally heavenly definitely going',\n",
              " 'love restaurant flamed chicken get half quarter full tangy flavour chicken cream soup addictive grilled chicken liver fry try dish restaurant',\n",
              " 'total bad experience 1. taste worst 2. size burger sandwich even smaller cost 3. not dare placing home delivery order waste time finally say long not place order',\n",
              " 'sunny afternoon wanted try chicken wing pasta ordered chicken wing mixed sauce pasta ã\\x83â\\x83â\\x83ã\\x83â\\x82â\\x83ã\\x83â\\x83â\\x82ã\\x83â\\x82â\\x83ã\\x83â\\x83â\\x83ã\\x83â\\x82â\\x82ã\\x83â\\x83â\\x82ã\\x83â\\x82ã\\x82â¢ã\\x83â\\x83â\\x83ã\\x83â\\x82â\\x83ã\\x83â\\x83â\\x82ã\\x83â\\x82â\\x82ã\\x83â\\x83â\\x83ã\\x83â\\x82â\\x82ã\\x83â\\x83â\\x82ã\\x83â\\x82â\\x80ã\\x83â\\x83â\\x83ã\\x83â\\x82â\\x83ã\\x83â\\x83â\\x82ã\\x83â\\x82â\\x82ã\\x83â\\x83â\\x83ã\\x83â\\x82â\\x82ã\\x83â\\x83â\\x82ã\\x83â\\x82ã\\x82â¢chicken wings- quantity good cold expected hot wing turned cold wing big no wing ã\\x83â\\x83â\\x83ã\\x83â\\x82â\\x83ã\\x83â\\x83â\\x82ã\\x83â\\x82â\\x83ã\\x83â\\x83â\\x83ã\\x83â\\x82â\\x82ã\\x83â\\x83â\\x82ã\\x83â\\x82ã\\x82â¢ã\\x83â\\x83â\\x83ã\\x83â\\x82â\\x83ã\\x83â\\x83â\\x82ã\\x83â\\x82â\\x82ã\\x83â\\x83â\\x83ã\\x83â\\x82â\\x82ã\\x83â\\x83â\\x82ã\\x83â\\x82â\\x80ã\\x83â\\x83â\\x83ã\\x83â\\x82â\\x83ã\\x83â\\x83â\\x82ã\\x83â\\x82â\\x82ã\\x83â\\x83â\\x83ã\\x83â\\x82â\\x82ã\\x83â\\x83â\\x82ã\\x83â\\x82ã\\x82â¢pasta- comparatively good expected saucy also place located inside mall good seating ambience -4/5 service-4.2/5',\n",
              " 'amazing concept fell love ambience ^_^ coming food limited choice menu think increase dish quantity totally unsatisfactory including pricing pizza amazing blue lemonade refreshing butter chicken combo chilli chicken combo nothing extraordinary peri peri fry something yã\\x83â\\x83â\\x83ã\\x83â\\x82â\\x83ã\\x83â\\x83â\\x82ã\\x83â\\x82â\\x82ã\\x83â\\x83â\\x83ã\\x83â\\x82â\\x82ã\\x83â\\x83â\\x82ã\\x83â\\x82â\\x92all definitely try coming back staff totally unorganised lost world roaming back forth nothing acting like are.i think hotel management look revamp menu food:3.5/5 ambience:4/5 taste:3/5',\n",
              " 'recently bangalore visited friend beer nibble house common first time pub completely loved amazing happy hour offer settled 2 3lt tower draught beer mushroom loaded fry chicken loaded fry go starter impressive term quality quantity surely coming back',\n",
              " \"went weekday lunch surprise place huge two two floor got great seating arrangement booth table even bar table ambience u best possible thing place utilised place well detailed element poster window decor flashing chilled yet happening vibe huge screen top sport screening going throughout day food menu super appealing dish overall 'm pretty sure place would crowded lit night\",\n",
              " 'poor service customer simply not worth cost paid need improvement quality food served also customer service taste wise average',\n",
              " 'polite cordial staff good food ambience pretty cool hope visit decent spread food centrally located busyness',\n",
              " 'super ok',\n",
              " 'ordered blueberry cheesecake worth craving cheescake lover try amazing totally recommendable place cheesecake make day',\n",
              " \"come ranga shankara theatre love place anju 's seems like appropriate atmospheric extension new city year ago loved grabbing sabudana vadas even vada pavs exiting play enjoy auto-ride back home whoever autowala was.having long term fondness kokum happy see menu love akki roti staff caring friendly one order play not wait long piping hot meal waiting you.what 've often wished real signature chai coffee decent n't stand out.i love reaching hour play seeing light change semi-visible vista pick book usman 's terrific bookshop read.a real flavor-ful chai strong unique coffee would add already pleasurable experience\",\n",
              " \"theatre buff discovering anju 's cafe inevitable someone rush last minute catch show coming early drink cuppa anju 's transition mostly thanks hot chai vada pav served 'd sing praise snack taste good homey vibe however ambiance something else not swanky posh quiet calming unique authentic old school bangalore touch opt pasta sandwich prepared wait visit coincides play coming might space crunch stand-alone place might not received accolade nested amid culture hub 's definitely place need visit 're catching play\",\n",
              " 'awesome place famous bakery known bangalore replicated provide freshest everything fair customer service experience',\n",
              " 'quaint cosy little place right middle office serving yummy south indian food.the atmosphere homely food delicious.i would go back homely south indian meal',\n",
              " 'ordered pork lover breakfast loved completely sausage wer yummy bacon balanced smokey flavour loved sauteed vegetable cooked perfection seldom find breakfast cafã\\x83â\\x83â\\x83ã\\x83â\\x82â\\x83ã\\x83â\\x83â\\x82ã\\x83â\\x82â\\x83ã\\x83â\\x83â\\x83ã\\x83â\\x82â\\x82ã\\x83â\\x83â\\x82ã\\x83â\\x82â\\x83ã\\x83â\\x83â\\x83ã\\x83â\\x82â\\x83ã\\x83â\\x83â\\x82ã\\x83â\\x82â\\x82ã\\x83â\\x83â\\x83ã\\x83â\\x82â\\x82ã\\x83â\\x83â\\x82ã\\x83â\\x82ã\\x82â© request management hire service guy serve customer better wen ter restaurant around 9:45 ter one waiter running around 7-8 table waited order around 20 min worth waiting food good keep',\n",
              " 'not given ...... combo dosa .....',\n",
              " 'love steak search end come hsr get type steak would love apart get biggy buffy mouth watering burger staff friendly really appreciate present manager/head place anticipated wrong order placed would love visit specifically steak',\n",
              " 'ambience good staff slow food not great ordered chicken burger dripping ketchup like literally much ketchup cheese fry okay garlic bread cheese seemed stale cheese also didnã\\x83â\\x83â\\x83ã\\x83â\\x82â\\x83ã\\x83â\\x83â\\x82ã\\x83â\\x82â\\x82ã\\x83â\\x83â\\x83ã\\x83â\\x82â\\x82ã\\x83â\\x83â\\x82ã\\x83â\\x82â\\x92t taste fresh still not sure place 4.2 rating 4 dish ordered average belle average',\n",
              " 'without doubt try place chicken sauce lover located along side bannerghatta road vega city mall guy limited number food item bang hard taste main course item prepared based type sauce given time order tried two food item bang starter chick-inse nothing piece bread ton chicken cheese taste amazing grilled chicken mild sauce made right juicy ice tea bit something improved overall great experience place definitely visit try rest food item highly recommended place',\n",
              " 'ordered 2 cup ginger tea got 2 cup black tea',\n",
              " \"'s darshini kind restaurant situated next beluve 's cambridge hospital cambridge road 's single floor self service setup basic ambience place kept clean tidy tasted jeera rice idli vada pongal among dish food reasonably good price reasonable\",\n",
              " 'leaving indore missing sayaji lot especially kebabsville craving good grilled kebab city voila discovered black pearl like beloved cap jack sparrow blew mind admit place little congested overall ambiance amazing especially pirate theme live music really worth looking forward food first bite malai chicken kebab took u back alley indore beginning one person need special mention person hare krishna served food way wanted sometimes beyond expected taking seat look enhanced experience',\n",
              " 'nice small cafe ulsoor place work pick book read sip cup coffee game well dessert worth visit place visit',\n",
              " 'place really awesome love food ambience one best cafe city staff polite generous proactive',\n",
              " 'order 2 dimsums 2 bowl ramen al-carte noodle .. much 3 people loved food .. nosiy kid running around birthday party .. got food packed .. ok experience .. diviaramesh.com',\n",
              " 'not worth hype price place definitely beautiful nice ambiance not not food ordered mushroom jalapeã\\x83â\\x83â\\x83ã\\x83â\\x82â\\x83ã\\x83â\\x83â\\x82ã\\x83â\\x82â\\x83ã\\x83â\\x83â\\x83ã\\x83â\\x82â\\x82ã\\x83â\\x83â\\x82ã\\x83â\\x82ã\\x82â±o nacho average saucy chicken wing also average thing iã\\x83â\\x83â\\x83ã\\x83â\\x82â\\x83ã\\x83â\\x83â\\x82ã\\x83â\\x82â\\x82ã\\x83â\\x83â\\x83ã\\x83â\\x82â\\x82ã\\x83â\\x83â\\x82ã\\x83â\\x82â\\x92d reorder azzure spl veg pizza chilli guava even famous chocolate freak shake wasnã\\x83â\\x83â\\x83ã\\x83â\\x82â\\x83ã\\x83â\\x83â\\x82ã\\x83â\\x82â\\x82ã\\x83â\\x83â\\x83ã\\x83â\\x82â\\x82ã\\x83â\\x83â\\x82ã\\x83â\\x82â\\x92t good finally iã\\x83â\\x83â\\x83ã\\x83â\\x82â\\x83ã\\x83â\\x83â\\x82ã\\x83â\\x82â\\x82ã\\x83â\\x83â\\x83ã\\x83â\\x82â\\x82ã\\x83â\\x83â\\x82ã\\x83â\\x82â\\x92d give 1 star staff packed veg non veg box',\n",
              " 'thereã\\x83â\\x83â\\x83ã\\x83â\\x82â\\x83ã\\x83â\\x83â\\x82ã\\x83â\\x82â\\x83ã\\x83â\\x83â\\x83ã\\x83â\\x82â\\x82ã\\x83â\\x83â\\x82ã\\x83â\\x82ã\\x82â¢ã\\x83â\\x83â\\x83ã\\x83â\\x82â\\x83ã\\x83â\\x83â\\x82ã\\x83â\\x82â\\x82ã\\x83â\\x83â\\x83ã\\x83â\\x82â\\x82ã\\x83â\\x83â\\x82ã\\x83â\\x82â\\x80ã\\x83â\\x83â\\x83ã\\x83â\\x82â\\x83ã\\x83â\\x83â\\x82ã\\x83â\\x82â\\x82ã\\x83â\\x83â\\x83ã\\x83â\\x82â\\x82ã\\x83â\\x83â\\x82ã\\x83â\\x82â\\x99s literally one item menu taste well customer service staff attitude replacement policy could major rehaul never eat',\n",
              " 'came signature coffee stayed baby red velvet cupcake along mushroom puff quiche blueberry cheesecake carrot cake glen heaven thought teenager think two decade later',\n",
              " 'oh calcutta mumbai really good experience expectation went lunch weekend not experience hit menu fish paturi kachalonka mutton makha sondesh con side rui kalia made small fish much bone lau chingri bland taste misti doi ã\\x83â\\x83â\\x83ã\\x83â\\x82â\\x83ã\\x83â\\x83â\\x82ã\\x83â\\x82â\\x82ã\\x83â\\x83â\\x83ã\\x83â\\x82â\\x82ã\\x83â\\x83â\\x82ã\\x83â\\x82â\\x93mistiã\\x83â\\x83â\\x83ã\\x83â\\x82â\\x83ã\\x83â\\x83â\\x82ã\\x83â\\x82â\\x82ã\\x83â\\x83â\\x83ã\\x83â\\x82â\\x82ã\\x83â\\x83â\\x82ã\\x83â\\x82â\\x94 sweet art completely missing not taste food serving last staff not polite neither little smile face never sort experience bengali restaurant bangalore sorse koshe kosha bhaojohori manna',\n",
              " 'paneer tikka veg seekh kebab order made place famous city opted place ordering taste food even price also not high',\n",
              " \"ambiance great .. bassappa 's service great .. keep rocking .. prefer people come .. great place .. staff awesome ambiance great\",\n",
              " \"visited place colleague sake trying new place hsr since weekday got table easily call 20 min reaching rooftop regular sitting option choose rooftop get quite chilly sometimes ambience nice rooftop sitting place 's nicely curated group size spent quite hour drink constant supply food nice evening u change asked pic lady taking pic guest table n't know purpose new food tasted quite delicious drink also nicely prepared price wise say bit medium pricing worth best shift team\",\n",
              " 'nice place quite fine dining experience tried north indian cuisine not bad decent ambience good service got buffet dinner weekend spread good though not exhaustive overall fine experience not expensive',\n",
              " 'would ideally like rate 3.5 5 place not quite vegetarian-friendly famous barbeque wing pasta arrabbiata fuzzy peach mocktail pasta good mocktail refreshing restaurant space bit cramped manageable',\n",
              " \"favorite cafe south bangalore coz real bangalore feel- simple unpretentious diverse menu fresh food plea anyone 's soul matched good ambience service place look pretty evening lit lantern wooden fence visiting since school day never bored cafe closed monday theater order- signature akki roti sabudana vada time favorite place make decent filter coffee cafe one banana custard pudding try egg burji fry toast carrot halwa 's unique coz calm le noisy environment total different experience loud noisy cafe rest bangalore huge thumb place anytime\",\n",
              " 'want spend splendid afternoon friend want play game gossip zee5 loft perfect neighbourhood cafe find board game small collection book sitting area awesome cafe manages good variety dish whether want snack heavy dish equally delicious roadside parking available',\n",
              " 'visited place twice setup like food court not expect privacy food fresh awesome limited menu ordered thai chicken baos chicken scallion momos awesome chocolate bao quite innovative korean chicken wing really blow mind kudos guy',\n",
              " 'ordered chicken biriyani rate quite cheep apprehended quality surprise simply brilliant delivery time behavior also good',\n",
              " \"think chicken biryani 's always meghana 's probably eaten chicken boneless biryani 10 time never get enough 's spicy gravy taste amazing 1 biryani serf basically 2 people also chicken ghee roast masala melting taste bud service amazing 'd suggest serve biryani good ambience nice good family lunch dinner\",\n",
              " 'biryani rice not cooked waste',\n",
              " 'good place go food awesome high tech menu tab available table see sample food loved staff courteous helpful explaining menue item problem rather disheartening thing felt hygiene sat near kitchen big mouse roaming side kitchen suddenly went right table den decided run away restaurant food already prepared completed food ran away not thought addons order suggestion management please take care proper rodent control treatment',\n",
              " 'nandhini restaurant biriyni chill chicken nice food good service speed home delivery total also everything good good management',\n",
              " 'much late deliver order food cold not happy',\n",
              " 'nice biryani little spicy',\n",
              " 'chicken dish good enjoyed food .. course size meal size slightly big hungry factor high good place go .. sharing option also available enjoy spicy factor also available according requirement',\n",
              " 'nandhini hotel bangalore andhra style biriyani excellent chilly chicken super .andhra meal served banana leaf chicken naty curry nice',\n",
              " \"last weekend long gap 2 month good luck bad luck raining reached top could find no one lounge occupied place ordered food shot beer martini gala martini actually well prepared fell love chicken tenderly cooked mid flame without spoiling aroma taste staff polite decent wanted try famous dom perignon champagne already late movie catch could n't definitely next time would like visit place felt hookah missing lounge ambience would made experience mesmerizing anyways hope management take positively introduce sooner later\",\n",
              " 'good interior lot thought would gone making interior fashion small place self service pretty quick food certainly average chicken wing good version flat wheat noodle good quantity',\n",
              " \"awesome food great taste quality quantity good sent small 'get well soon msg thanks khanasutra great service\",\n",
              " 'came brunch bottled beer non-veg veg dish little slow service worth personally did not like veg momos light could not hold stuffing chicken dish yum spicy crispy mentioned menu light music bg clean ambience',\n",
              " \"straight point place one best place hang office colleagues/ go date/chill buddy budget friendly not bury hole pocket located really good location rooftop sitting area one recommend also try broccoli bengal mustard cheese broccoli hater need try foodie ambience good music good feel comfy staff bit lazy time 's okay .. overall not regret 5/5 's view cheer\",\n",
              " 'cafe set ranga shankara like best place art theatre lover bangalore visit regularly usually take sabudana vadi pasta taste fine review rather tea whole art tea brewing last many time feel tea brewed like made morning boiled served throughout day make even harmful health cafe many item quick bite interval break',\n",
              " 'place famous place bangalore bengali dish reach 2pm need wait table weekend dish authentic yummy call perfect bengali food bengali cuisine lover place correct',\n",
              " 'best place family friend service good food good ambiance really good centre kormangala .....',\n",
              " 'ordered egg biriyani veg rice found chicken piece it.really frustrating',\n",
              " \"bad experience .. service bad .. food also not good .. order curd rice end .. did n't put much curd instead put oil .. totally curd rice become oil rice .. akshaya gowda\",\n",
              " 'best taste ever mutton curry tasted till tasting flavour mutton curry ,the way cooked appreciate entire cheif bawarchi ,who handeling hat bawarchi good flavour franganance serving customer making good food relationship people cost also bearable thanks friend making taste wonderfull mutton curry appreciate mr shiva thanks entire team bawarchi',\n",
              " \"'m not fan vegetarian calling pulao biryani veg biryani really good flavorful fresh chunk paneer vegetable way go kapoor 's\",\n",
              " 'delivery took 2 hour missed 3 item food wasnã\\x83â\\x83â\\x83ã\\x83â\\x82â\\x83ã\\x83â\\x83â\\x82ã\\x83â\\x82â\\x82ã\\x83â\\x83â\\x83ã\\x83â\\x82â\\x82ã\\x83â\\x83â\\x82ã\\x83â\\x82â\\x92t even decent chicken boneless biryani picture not edible throw away bone actually stripped cooked piece thrown rice anything biryani lesson learnt',\n",
              " 'polite friendly staff food loved way treated coming food ordered veg sushi nice pad thai noodle bit spicy good lotus stem dish average overall good experience',\n",
              " 'place good food service fast people serving friendly polite food fairly priced great taste cost would say itã\\x83â\\x83â\\x83ã\\x83â\\x82â\\x83ã\\x83â\\x83â\\x82ã\\x83â\\x82â\\x82ã\\x83â\\x83â\\x83ã\\x83â\\x82â\\x82ã\\x83â\\x83â\\x82ã\\x83â\\x82â\\x92s good value money',\n",
              " 'inspite arriving rather late 9.30pm korean standard warmly welcomed proprietor mr jeff hong charming wife restaurent spic span great ambience table well spaced sit-out area well family five four adult child ordered following starter kimbap ottogi pancake main beef bulgogi veg japchae spicy yukgaejang food excellent brought back fond memory visit seoul portion sufficient enough one get fair share mr hong attended u personally maybe late hour sunday night reason customer restaurant would highly recommend place kalyan nagar',\n",
              " 'mast funjabi nice food naan kulcha paneer paratha soft always recommended mg road mood punjabi food ambience homely family visit place',\n",
              " 'like outdoor ambiance place give chill vibe cheese cake cold coffee really nice even though place hyped red velvet cupcake didnã\\x83â\\x83â\\x83ã\\x83â\\x82â\\x83ã\\x83â\\x83â\\x82ã\\x83â\\x82â\\x83ã\\x83â\\x83â\\x83ã\\x83â\\x82â\\x82ã\\x83â\\x83â\\x82ã\\x83â\\x82ã\\x82â¢ã\\x83â\\x83â\\x83ã\\x83â\\x82â\\x83ã\\x83â\\x83â\\x82ã\\x83â\\x82â\\x82ã\\x83â\\x83â\\x83ã\\x83â\\x82â\\x82ã\\x83â\\x83â\\x82ã\\x83â\\x82â\\x80ã\\x83â\\x83â\\x83ã\\x83â\\x82â\\x83ã\\x83â\\x83â\\x82ã\\x83â\\x82â\\x82ã\\x83â\\x83â\\x83ã\\x83â\\x82â\\x82ã\\x83â\\x83â\\x82ã\\x83â\\x82â\\x99t really enjoy cake dense didnã\\x83â\\x83â\\x83ã\\x83â\\x82â\\x83ã\\x83â\\x83â\\x82ã\\x83â\\x82â\\x83ã\\x83â\\x83â\\x83ã\\x83â\\x82â\\x82ã\\x83â\\x83â\\x82ã\\x83â\\x82ã\\x82â¢ã\\x83â\\x83â\\x83ã\\x83â\\x82â\\x83ã\\x83â\\x83â\\x82ã\\x83â\\x82â\\x82ã\\x83â\\x83â\\x83ã\\x83â\\x82â\\x82ã\\x83â\\x83â\\x82ã\\x83â\\x82â\\x80ã\\x83â\\x83â\\x83ã\\x83â\\x82â\\x83ã\\x83â\\x83â\\x82ã\\x83â\\x82â\\x82ã\\x83â\\x83â\\x83ã\\x83â\\x82â\\x82ã\\x83â\\x83â\\x82ã\\x83â\\x82â\\x99t really taste expected although really like icing',\n",
              " 'dont miss prawn biryani moonlight chicken service realy quick perfect place go week end treditional spicy food',\n",
              " 'loved food best service .. enjoyed lot ã\\x83â\\x83â\\x83ã\\x83â\\x82â\\x83ã\\x83â\\x83â\\x82ã\\x83â\\x82â\\x83ã\\x83â\\x83â\\x83ã\\x83â\\x82â\\x82ã\\x83â\\x83â\\x82ã\\x83â\\x82ã\\x82â¢ã\\x83â\\x83â\\x83ã\\x83â\\x82â\\x83ã\\x83â\\x83â\\x82ã\\x83â\\x82â\\x82ã\\x83â\\x83â\\x83ã\\x83â\\x82â\\x82ã\\x83â\\x83â\\x82ã\\x83â\\x82â\\x9dã\\x83â\\x83â\\x83ã\\x83â\\x82â\\x83ã\\x83â\\x83â\\x82ã\\x83â\\x82â\\x82ã\\x83â\\x83â\\x83ã\\x83â\\x82â\\x82ã\\x83â\\x83â\\x82ã\\x83â\\x82ã\\x82â¤ went thrice week .. much yummy food ã\\x83â\\x83â\\x83ã\\x83â\\x82â\\x83ã\\x83â\\x83â\\x82ã\\x83â\\x82â\\x83ã\\x83â\\x83â\\x83ã\\x83â\\x82â\\x82ã\\x83â\\x83â\\x82ã\\x83â\\x82ã\\x82â°ã\\x83â\\x83â\\x83ã\\x83â\\x82â\\x83ã\\x83â\\x83â\\x82ã\\x83â\\x82â\\x82ã\\x83â\\x83â\\x83ã\\x83â\\x82â\\x82ã\\x83â\\x83â\\x82ã\\x83â\\x82â\\x9fã\\x83â\\x83â\\x83ã\\x83â\\x82â\\x83ã\\x83â\\x83â\\x82ã\\x83â\\x82â\\x82ã\\x83â\\x83â\\x83ã\\x83â\\x82â\\x82ã\\x83â\\x83â\\x82ã\\x83â\\x82â\\x98ã\\x83â\\x83â\\x83ã\\x83â\\x82â\\x83ã\\x83â\\x83â\\x82ã\\x83â\\x82â\\x82ã\\x83â\\x83â\\x83ã\\x83â\\x82â\\x82ã\\x83â\\x83â\\x82ã\\x83â\\x82â\\x84ã\\x83â\\x83â\\x83ã\\x83â\\x82â\\x83ã\\x83â\\x83â\\x82ã\\x83â\\x82â\\x83ã\\x83â\\x83â\\x83ã\\x83â\\x82â\\x82ã\\x83â\\x83â\\x82ã\\x83â\\x82ã\\x82â°ã\\x83â\\x83â\\x83ã\\x83â\\x82â\\x83ã\\x83â\\x83â\\x82ã\\x83â\\x82â\\x82ã\\x83â\\x83â\\x83ã\\x83â\\x82â\\x82ã\\x83â\\x83â\\x82ã\\x83â\\x82â\\x9fã\\x83â\\x83â\\x83ã\\x83â\\x82â\\x83ã\\x83â\\x83â\\x82ã\\x83â\\x82â\\x82ã\\x83â\\x83â\\x83ã\\x83â\\x82â\\x82ã\\x83â\\x83â\\x82ã\\x83â\\x82â\\x98ã\\x83â\\x83â\\x83ã\\x83â\\x82â\\x83ã\\x83â\\x83â\\x82ã\\x83â\\x82â\\x82ã\\x83â\\x83â\\x83ã\\x83â\\x82â\\x82ã\\x83â\\x83â\\x82ã\\x83â\\x82â\\x84 wish outlet cochin',\n",
              " 'found food delivered satisfactory wouldnã\\x83â\\x83â\\x83ã\\x83â\\x82â\\x83ã\\x83â\\x83â\\x82ã\\x83â\\x82â\\x82ã\\x83â\\x83â\\x83ã\\x83â\\x82â\\x82ã\\x83â\\x83â\\x82ã\\x83â\\x82â\\x92t say worth paid chicken wasnã\\x83â\\x83â\\x83ã\\x83â\\x82â\\x83ã\\x83â\\x83â\\x82ã\\x83â\\x82â\\x82ã\\x83â\\x83â\\x83ã\\x83â\\x82â\\x82ã\\x83â\\x83â\\x82ã\\x83â\\x82â\\x92t cooked properly lacked seasoning',\n",
              " 'location place nice u feel like u r beer near lake side .... nice place visit .. food not damn good fine .. pricewise also not high ..',\n",
              " 'ambience good thing service pathetic food not sure rate garlic bread normal bread cheese pizza donã\\x83â\\x83â\\x83ã\\x83â\\x82â\\x83ã\\x83â\\x83â\\x82ã\\x83â\\x82â\\x82ã\\x83â\\x83â\\x83ã\\x83â\\x82â\\x82ã\\x83â\\x83â\\x82ã\\x83â\\x82â\\x92t even ask bland able eat also starter paneer item decent cocktail left halfway mocktails normal overall not sure visit place ever',\n",
              " 'variety option salad numerous healthy dish tried chicken salad chicken sriracha along green tasted great chicken tangy nut pomegranate made unusually good combination',\n",
              " 'quantity food petty low not single person fill craving',\n",
              " \"kindly avoid place looking place eat good meal clearly 's not priority 's given place staff place basically nothing 's irritating tell thing contemplated cancel order got 5 minute pizza lacked taste no seasoning drink ordered horrible zero value money everything overpriced quantity quality service slow hope work game want place open long run sincerely disappointed customer\",\n",
              " 'small place serf mouth watering waffle thick shake twice liked place rating taste 4/5 quality 4/5 ambience 3.5/5 service staff kind time taken serve longer',\n",
              " 'ever since friend introduced place itã\\x83â\\x83â\\x83ã\\x83â\\x82â\\x83ã\\x83â\\x83â\\x82ã\\x83â\\x82â\\x83ã\\x83â\\x83â\\x83ã\\x83â\\x82â\\x82ã\\x83â\\x83â\\x82ã\\x83â\\x82ã\\x82â¢ã\\x83â\\x83â\\x83ã\\x83â\\x82â\\x83ã\\x83â\\x83â\\x82ã\\x83â\\x82â\\x82ã\\x83â\\x83â\\x83ã\\x83â\\x82â\\x82ã\\x83â\\x83â\\x82ã\\x83â\\x82â\\x80ã\\x83â\\x83â\\x83ã\\x83â\\x82â\\x83ã\\x83â\\x83â\\x82ã\\x83â\\x82â\\x82ã\\x83â\\x83â\\x83ã\\x83â\\x82â\\x82ã\\x83â\\x83â\\x82ã\\x83â\\x82â\\x99s go option relaxed afternoon friend great finger food reasonably priced alcohol charm old school bangalore bar iã\\x83â\\x83â\\x83ã\\x83â\\x82â\\x83ã\\x83â\\x83â\\x82ã\\x83â\\x82â\\x83ã\\x83â\\x83â\\x83ã\\x83â\\x82â\\x82ã\\x83â\\x83â\\x82ã\\x83â\\x82ã\\x82â¢ã\\x83â\\x83â\\x83ã\\x83â\\x82â\\x83ã\\x83â\\x83â\\x82ã\\x83â\\x82â\\x82ã\\x83â\\x83â\\x83ã\\x83â\\x82â\\x82ã\\x83â\\x83â\\x82ã\\x83â\\x82â\\x80ã\\x83â\\x83â\\x83ã\\x83â\\x82â\\x83ã\\x83â\\x83â\\x82ã\\x83â\\x82â\\x82ã\\x83â\\x83â\\x83ã\\x83â\\x82â\\x82ã\\x83â\\x83â\\x82ã\\x83â\\x82â\\x99d highly recommend location ambience value money',\n",
              " 'right back itã\\x83â\\x83â\\x83ã\\x83â\\x82â\\x83ã\\x83â\\x83â\\x82ã\\x83â\\x82â\\x82ã\\x83â\\x83â\\x83ã\\x83â\\x82â\\x82ã\\x83â\\x83â\\x82ã\\x83â\\x82â\\x92s small cozy place service hand take time waited food quick everything else placing na order quite quick ..... shout yongtila .... super sweet constantly checked chop oki lil chill mojito perfect',\n",
              " 'went daily bread brunch today giving car service maruti suraksha decent place hangout value money combo italian panini cold coffee hubby chicken salad overall good experience super hungry service good customer place',\n",
              " \"best thing place 's open 1.30am also zomato gold good ice cream option tiramisu try though pizza burger food option available good job making good ambience good positive vibe\",\n",
              " 'good hangout place brunch place twice time great experience although did not find food great brewed beer amazing really like neon skyline gulp fiction pocket-friendly great service',\n",
              " 'not great food',\n",
              " 'ordered food place recently hence not able comment ambience aspect coming food ordered chole bhatura malai ghevar chole quite light tasty not oily bhatura light soft fell love ghewar surely ordering food .. cheer',\n",
              " '~on diet still wan na binge nut salad place be~ nut salad healthy meet tasty offer insane item ranging main course appetizer salad soup pasta burger cold pressed juice dessert etc ordered broccoli almond soup amazing hint garlic elevates taste crunchy bhel oh boy think several helping waiter may physically stop p zoodle bowl someone love salad dish chocolate mousse velvety uniqueness pistachio sauce muah special shoutout cold pressed juice follow arreyohsambar instagram delicious update city 3',\n",
              " \"much lunch hour ca n't believe place polite empty asked abt zomato gold member ship u guy n't accept u need accept zomato food gud service need improve need call everyone everything need ask water also please look\",\n",
              " 'iã\\x83â\\x83â\\x83ã\\x83â\\x82â\\x83ã\\x83â\\x83â\\x82ã\\x83â\\x82â\\x82ã\\x83â\\x83â\\x83ã\\x83â\\x82â\\x82ã\\x83â\\x83â\\x82ã\\x83â\\x82â\\x92m fan asian cuisine hence cutesy place opened try service nice ambience good cute panda statue entrance panda shaped salt pepper shaker stuff found food decent not great ð\\x9f¥¡ like whole concept customising order eating china box though worth visit',\n",
              " 'waste',\n",
              " 'ordered chola bhatura gobi paratha food stale acidity unhygienic food not worth try although ambience ok',\n",
              " \"lovely japanese set one would enjoy double sat plus lovely weather triple bonanza food tasty although n't recall name quite well mushroom dimsum lovely cucumber drink price bit high totally worth good place celebrate anniversary birthday lot\",\n",
              " \"first glance 's tad expensive side however got 15 discount combined extra hundred rupee swiggy got brilliant breakfast r 233 back bacon pork sausage chicken sausage scrambled egg mash baked bean fried tomato fried mushroom buttered toast mango juice say n't back bacon good price overall meal brilliant\",\n",
              " \"'s small pocket friendly place near kalyan nagar restaurant accommodation 18-20 people max ambiance pretty simple poster satyajit ray uttam kumar old bengali movie hung wall service pretty slow though coming food ordered chicken meal served masoor dal jhuri aloo bhaja katla macher kalia basanti pulao.the food really light simple reminded home cooked bengali food quantity pretty decent price pay would love revisit\",\n",
              " \"perhaps first kind bangalore african cuisine sauce selection dish attend vishwa went recommendation beautiful lightning african sauce table decent music slightly loud great tried following lemon herb satay galito 's special chicken prawn combotada flame grilled boneless chicken breast galito 's special paneer espatada grilled vegetable cheesy toast fry garlic bread malva pudding ice cream mocktails mint cooler prompt service quick service recommendation top class tender chicken used satay flame grilled regular use combodata prawn huge different flavor definitely spicy side preferred something hot overall great experience visit african flavor\",\n",
              " 'great time visited place brunch loved outside seating ambience n live music wheat beer loved staff courteous helpful opted buffett includes brewed beer food live grill masala prawn fish lipsmacking live band singing nice number whole environment good lovely time definitely visit place',\n",
              " 'ambience place perfect good evening hour food delicious ordered salmon salad craft beer beer served perfect temperature liked dessert lot rarely taste eat dessert portion dessert perfect not worried calorie plating art perfection',\n",
              " 'heard husband stay far koramangla ordered katchoris dunzo couldnt wait dig teeth katchori really raving not pleased though good not extra ordinary overall good experience surely visit place try snack',\n",
              " 'time delivary',\n",
              " 'wow amazing food amazing service tried octopus deopbap beef gimbap along watermelon pomegranate pressed juice delightful experience definitely going back .. verdict try like korean food',\n",
              " 'order food panda chicken platter worth 150 r type grilled chicken worth value money 6 taste 7',\n",
              " 'puri sabji place snack overall food ordered online packaging 4/5 could applied tape outside taste 4/5 spicy 3/5 perfect',\n",
              " 'went lot expectation excellent hospitality staff found variety bamboo chicken taste food average cost high not worth money',\n",
              " 'food 4.5/5 ambience -4/5 service 4.5/5 hygiene 4/5 value money 5/5 tried aglio olio good type spaghetti pasta simple yet delicious pasta try crunchy cajun burger crispy chicken patty seasoned classic louisiana style cajun spice garlic aioli banana nutella shake pretty awesome osm place hang frnds ..... get nice food great ambiance ..... love something different spicy visit bundle co. staff friendly also make change dish per convenience hold good worth money sure try recommend try bundle co. not disappointed',\n",
              " 'snack awesome ..... raj kachori basket chat .... crispy correct amount sweet spice rasmalai good morning breakfast good better ....',\n",
              " 'tasty .. lil spicy',\n",
              " \"straight point place one best place hang office colleagues/ go date/chill buddy budget friendly not bury hole pocket located really good location rooftop sitting area one recommend also try broccoli bengal mustard cheese broccoli hater need try foodie ambience good music good feel comfy staff bit lazy time 's okay .. overall not regret 5/5 's view cheer\",\n",
              " \"let 's go kinda place couple time indoors outdoors seating smoking outside full bar available lot beer brand choose ambience modern quirky yet comforting food great one always come back place sit friend chat beer great place also pool table next time cheer 4/5 ambience 3.5/5 service 4/5 menu beer option\",\n",
              " \"brew wise one best bangalore roof top spot onwards twilight till night decent experience especially 's lightly windy\",\n",
              " 'great place visit north indian snack tried almost everything dish would recommend puri sabji kota kachori aloo pyaz kachori rasgulla not fan buttermilk served',\n",
              " 'great place hangout friend sport event courteous staff good food overall nice pocket friendly experience .. near place also',\n",
              " 'one economical lunch option hsr get variety south indian dish .. quantity good service also quick .. get really crowded lunch hour still fast pace ..',\n",
              " 'like asian food visit resturantin phoenix marketcity mall 3 plate rainbow maki sushi sticky rice fried prawn cashewnut chicken duck bao pulled chicken bao bit higher side price not everyone might love taste per asian cuisine pretty good',\n",
              " \"perhaps first kind bangalore african cuisine sauce selection dish attend vishwa went recommendation beautiful lightning african sauce table decent music slightly loud great tried following lemon herb satay galito 's special chicken prawn combotada flame grilled boneless chicken breast galito 's special paneer espatada grilled vegetable cheesy toast fry garlic bread malva pudding ice cream mocktails mint cooler prompt service quick service recommendation top class tender chicken used satay flame grilled regular use combodata prawn huge different flavor definitely spicy side preferred something hot overall great experience visit african flavor\",\n",
              " \"looking review hearing extensive buffet menu chose visit place breakfast family however visit n't pleasant one 1. breakfast item unlike restaurant extremely limited 2. thing cold 3. ordered dosa tasted weird guess batter left previous day 4. name fruit banana muskmelon muskmelon unriped 5. took half hour serve boiled egg 6. barely 8 people entire restaurant bread basket empty 7. ordered aloo paratha not stuffed cooked well 8. waffle hard tasteless good thing place quiet could eat breakfast peace bad experience otherwise\",\n",
              " 'not good',\n",
              " 'ordered beef shawarma jumbo roll chicken roll beef roll not fit human consumption meat terrible wasnt cooked even heating microwave tasted like chewing gum',\n",
              " 'good korean restaurant authentic style korean food even korean bbq u order main course give side part korean culture super',\n",
              " 'shiv sagar one oldest famous known hotel brand .. one not good among shiv sagar restaurant weekend usually much crowd wait long time food normal .. not tasty follow explorewithketan1 instagram .. food blog explore various cuisine bangalore',\n",
              " \"ordered margarita corn pizza online though service fast pizza n't upto expectations.it came cold like pizza thin crust one clearly n't reason 'm giving 4 star costed 60 buck including tax\",\n",
              " 'biryani finger licking wow u luv mughlai style go value ur money service something shud work',\n",
              " 'quick tip- starter try go 10 biryani take seating top downstairs sofa dirty no dessert tandoori chicken good not much oil nice juicy piece reshmi- nice succulent piece chicken .. done well mutton sheekh kabab- soft juicy starter try chicken biryani mutton 10 pm- spicy not bad .. biryani good raita super tangy curry side .. double ka meetha- orange coloured bread halwa horrible tasted far compared authentic one gajar ka halwa- much khova heavy yes starter biryani dessert bad ..',\n",
              " 'one friend bought two pastry blackforest red velvet taste good packaging also nice three layer cake thick layer frosting garnished chocolate strip',\n",
              " \"awesome food ambience n't complement food quality also washroom usually bad shape even washing hand beside metro station good place quick meal\",\n",
              " 'delicious homely food perfect flavor one visit place really good .................... ......................................................................',\n",
              " 'ordered egg biryani mango milkshake biryani strong try',\n",
              " \"went saturday evening place not crowded managed get seat right rooftop floor best seat music good place good vibe ordered fiery hot pizza fennys maitai beer pizza good n't spicy much really good cocktail good overall good place chill friend\",\n",
              " 'good hospitality service excellent food good fresh located heart city easily accessible team brilliant cool',\n",
              " 'good',\n",
              " 'peanut butter crunch tawa paneer delicious could easily two zomato gold add incentive visiting place',\n",
              " 'great ambience limited menu tried chicken supreme burger cost could better option bangalore lovely ambience spend time friend coffee',\n",
              " \"gang friend food really awesome expected chicken ghee roast prawn rcp sauce wing honey chilli potato crispy corn best dish would definitely recommend place ambience average though sice 're big group didnt option\",\n",
              " 'bad condition delivered .. sambaru dal leaked cover',\n",
              " 'bad food chicken not good never wrost money',\n",
              " 'one rare place kind asian food located top floor phoenix marketcity itã\\x83â\\x83â\\x83ã\\x83â\\x82â\\x83ã\\x83â\\x83â\\x82ã\\x83â\\x82â\\x83ã\\x83â\\x83â\\x83ã\\x83â\\x82â\\x82ã\\x83â\\x83â\\x82ã\\x83â\\x82ã\\x82â¢ã\\x83â\\x83â\\x83ã\\x83â\\x82â\\x83ã\\x83â\\x83â\\x82ã\\x83â\\x82â\\x82ã\\x83â\\x83â\\x83ã\\x83â\\x82â\\x82ã\\x83â\\x83â\\x82ã\\x83â\\x82â\\x80ã\\x83â\\x83â\\x83ã\\x83â\\x82â\\x83ã\\x83â\\x83â\\x82ã\\x83â\\x82â\\x82ã\\x83â\\x83â\\x83ã\\x83â\\x82â\\x82ã\\x83â\\x83â\\x82ã\\x83â\\x82â\\x99s not difficult find went late lunch ordered shrimp dimsum one noodle soup one prawn fried rice one xo prawn apart xo prawn itemsã\\x83â\\x83â\\x83ã\\x83â\\x82â\\x83ã\\x83â\\x83â\\x82ã\\x83â\\x82â\\x83ã\\x83â\\x83â\\x83ã\\x83â\\x82â\\x82ã\\x83â\\x83â\\x82ã\\x83â\\x82ã\\x82â¢ã\\x83â\\x83â\\x83ã\\x83â\\x82â\\x83ã\\x83â\\x83â\\x82ã\\x83â\\x82â\\x82ã\\x83â\\x83â\\x83ã\\x83â\\x82â\\x82ã\\x83â\\x83â\\x82ã\\x83â\\x82â\\x80ã\\x83â\\x83â\\x83ã\\x83â\\x82â\\x83ã\\x83â\\x83â\\x82ã\\x83â\\x82â\\x82ã\\x83â\\x83â\\x83ã\\x83â\\x82â\\x82ã\\x83â\\x83â\\x82ã\\x83â\\x82â\\x99 name different donã\\x83â\\x83â\\x83ã\\x83â\\x82â\\x83ã\\x83â\\x83â\\x82ã\\x83â\\x82â\\x83ã\\x83â\\x83â\\x83ã\\x83â\\x82â\\x82ã\\x83â\\x83â\\x82ã\\x83â\\x82ã\\x82â¢ã\\x83â\\x83â\\x83ã\\x83â\\x82â\\x83ã\\x83â\\x83â\\x82ã\\x83â\\x82â\\x82ã\\x83â\\x83â\\x83ã\\x83â\\x82â\\x82ã\\x83â\\x83â\\x82ã\\x83â\\x82â\\x80ã\\x83â\\x83â\\x83ã\\x83â\\x82â\\x83ã\\x83â\\x83â\\x82ã\\x83â\\x82â\\x82ã\\x83â\\x83â\\x83ã\\x83â\\x82â\\x82ã\\x83â\\x83â\\x82ã\\x83â\\x82â\\x99t remember summarised taste portion really good much needed fried rice parcelled flavour item good exactly like ambiance place also nice service top notch recommended',\n",
              " \"late night order called resto ordering.they said n't biriyani provide noodle chicken rice around 12:30am decided go chicken biriyani delivered eta.i started trying bangalore food third opened box awsome aroma excited try.the quantity good chicken piece also good enough.pepper taste make fried rice tasty.it good try delivery 5/5 packing :5/5 taste 4.5/5 vfm 4.5\",\n",
              " 'expected fresh food u given unexpected .... experienced worst .... food experienced vomit',\n",
              " \"humble chain authentic sweet north india also serf breakfast lunch dinner pocket friendly price combination thali amazing get wholesome meal mere r 70/- cook working bengali oriya people taste guaranteed place pure veg though offer good variety chat snack evening time overall spread throughout day wo n't disappoint point since budget chain find good ambience prime location else food mostly\",\n",
              " 'great little place proper north indian food one suggestion go not order biriyani may order everything else would strongly recommend murg ka soola starter butter chicken',\n",
              " 'eat paneer subji roti delicious good quantity always try place small good food well served fresh',\n",
              " \"'s small donut outlet situated first floor forum mall offer great variety donut really nice balanced amount suger ordered cookie crunch donut found tasty\",\n",
              " \"fantastic menu great tasting health food especially enjoyed savory waffle cold noodle salad juice 're refreshing though warned pulpy unless specified service friendly ambiance welcoming though noisy wish outlet near could make go lunch dessert bit let wish zomato would allow give 4.5. food 4.5/5 ambiance 4/5 price 5/5 service 5/5\",\n",
              " 'bad restaurant order not deliverd ..........................................................................................................',\n",
              " 'cold food delivered',\n",
              " 'good',\n",
              " 'looking new place gang 15 catch ordered couple nutella shake berry smoothie peri peri fry bruschetta potato wedge pasta alfredo food good best past place place i.e ambience sprawling enough lounge friend good book read board game people kept phone aside fought game like yesteryear anyone would want visit place decent food space reasonable pricing definitely go back',\n",
              " '2 branch branch small pic ambience pic branch bigger surprised see small not comfortable tight placement table crowded suffocated food good ordered starter naan curry tasty',\n",
              " \"nothing better getting shawarmas home delivered really long tiring day 's better prepare shawarmas right front rider arrive make sure food reach warm brilliant customise shawarma option literally create like reach plate hand crafted thank amazing food cheer\",\n",
              " 'courteous staff ordered special biryani not great .. cooked nicely oily .... waiter customer joint ....',\n",
              " 'great place great food great music go place 2 time say would come anything menu itã\\x83â\\x83â\\x83ã\\x83â\\x82â\\x83ã\\x83â\\x83â\\x82ã\\x83â\\x82â\\x83ã\\x83â\\x83â\\x83ã\\x83â\\x82â\\x82ã\\x83â\\x83â\\x82ã\\x83â\\x82â\\x82ã\\x83â\\x83â\\x83ã\\x83â\\x82â\\x83ã\\x83â\\x83â\\x82ã\\x83â\\x82â\\x82ã\\x83â\\x83â\\x83ã\\x83â\\x82â\\x82ã\\x83â\\x83â\\x82ã\\x83â\\x82â\\x92s worth',\n",
              " 'nice food ...... loved biryani try recepie complimentary sweet awsome ..... loved loved .... starter orderd pepper chicken nice definatly visit place',\n",
              " \"well .... say guess fan total waffle lover cbd watch film.and decided stop outlet try one lip smacking offering titled crunchy munch waffle sinful combination corn flake caramel banana cream asked disclude banana tried rest ingredient divine expected also ordered bubble wrap royale.post another one perrenial favourite loved 's creamy texture god bless belgian waffle factory providing awesome.quality affordable price\",\n",
              " \"'s nice place college student kid .. fascinating price .. visiting cafe still wallet heavy 5 u visited .. ate much bill never crossed 500 ..\",\n",
              " 'good taste awesome',\n",
              " \"told branch iconic foodla nd mangalore ordered home delivery food n't good mangalore unit prawn masala fry no match original bangda curry good became much better left next day kane fry average mangalore remove skin descaling did n't prawn biryani also average n't tasted food mangalore foodlands would find place average good price slightly higher side\",\n",
              " \"since time 've shifted bangalore 've hearing place amazing andra style cuisine well surprise best andra meal favourite part amount ghee pour rice big time ghee lover filling not spicy delicious meal .. would rated 5 star served spicer chilly chicken since 've tasting andra style chilly chicken like spicy good experience ambience great clean hygienic\",\n",
              " 'place always delight ordered veg punjabi thali two kind of.parathas kadhi daal makhani actually lot makhan paneer masala tasted good',\n",
              " 'since featured brilliant biryani decided give try ordered chicken biryani ordered takeaway greeted well entered restaurant gave good feel service packing quality quantity good moreover biryani well cooked chicken piece tender piece could somewhat small nevertheless deserves feature brilliant biryani',\n",
              " 'back place almost 2 year .... super good starter paneer tikka hara bhara kebab veg crispies samosa bhajjis .... live chat counter choicest spread variety vegetables/gravies soft kulcha roti neer dosa good load dessert halwa cham cham angoori gulab jamun rabdi payasam 2 type mysore pak pastry fruit custard rating 4.5 surely value money',\n",
              " 'worst restaurant try loot money expensive dont go waiter impolite manager rude sold one water bottle r 50 actual cost 15',\n",
              " 'chicken dish good enjoyed food .. course size meal size slightly big hungry factor high good place go .. sharing option also available enjoy spicy factor also available according requirement',\n",
              " 'another sure shot 5 place want go sick every day take-out menu number item may limited certainly not spice palette fact even range imported sauce sorted level spiciness courteous staff food worth every penny',\n",
              " 'one rare place kind asian food located top floor phoenix marketcity itã\\x83â\\x83â\\x83ã\\x83â\\x82â\\x83ã\\x83â\\x83â\\x82ã\\x83â\\x82â\\x83ã\\x83â\\x83â\\x83ã\\x83â\\x82â\\x82ã\\x83â\\x83â\\x82ã\\x83â\\x82ã\\x82â¢ã\\x83â\\x83â\\x83ã\\x83â\\x82â\\x83ã\\x83â\\x83â\\x82ã\\x83â\\x82â\\x82ã\\x83â\\x83â\\x83ã\\x83â\\x82â\\x82ã\\x83â\\x83â\\x82ã\\x83â\\x82â\\x80ã\\x83â\\x83â\\x83ã\\x83â\\x82â\\x83ã\\x83â\\x83â\\x82ã\\x83â\\x82â\\x82ã\\x83â\\x83â\\x83ã\\x83â\\x82â\\x82ã\\x83â\\x83â\\x82ã\\x83â\\x82â\\x99s not difficult find went late lunch ordered shrimp dimsum one noodle soup one prawn fried rice one xo prawn apart xo prawn itemsã\\x83â\\x83â\\x83ã\\x83â\\x82â\\x83ã\\x83â\\x83â\\x82ã\\x83â\\x82â\\x83ã\\x83â\\x83â\\x83ã\\x83â\\x82â\\x82ã\\x83â\\x83â\\x82ã\\x83â\\x82ã\\x82â¢ã\\x83â\\x83â\\x83ã\\x83â\\x82â\\x83ã\\x83â\\x83â\\x82ã\\x83â\\x82â\\x82ã\\x83â\\x83â\\x83ã\\x83â\\x82â\\x82ã\\x83â\\x83â\\x82ã\\x83â\\x82â\\x80ã\\x83â\\x83â\\x83ã\\x83â\\x82â\\x83ã\\x83â\\x83â\\x82ã\\x83â\\x82â\\x82ã\\x83â\\x83â\\x83ã\\x83â\\x82â\\x82ã\\x83â\\x83â\\x82ã\\x83â\\x82â\\x99 name different donã\\x83â\\x83â\\x83ã\\x83â\\x82â\\x83ã\\x83â\\x83â\\x82ã\\x83â\\x82â\\x83ã\\x83â\\x83â\\x83ã\\x83â\\x82â\\x82ã\\x83â\\x83â\\x82ã\\x83â\\x82ã\\x82â¢ã\\x83â\\x83â\\x83ã\\x83â\\x82â\\x83ã\\x83â\\x83â\\x82ã\\x83â\\x82â\\x82ã\\x83â\\x83â\\x83ã\\x83â\\x82â\\x82ã\\x83â\\x83â\\x82ã\\x83â\\x82â\\x80ã\\x83â\\x83â\\x83ã\\x83â\\x82â\\x83ã\\x83â\\x83â\\x82ã\\x83â\\x82â\\x82ã\\x83â\\x83â\\x83ã\\x83â\\x82â\\x82ã\\x83â\\x83â\\x82ã\\x83â\\x82â\\x99t remember summarised taste portion really good much needed fried rice parcelled flavour item good exactly like ambiance place also nice service top notch recommended',\n",
              " \"ambience pretty amazing great place hangout friend colleague family food great option veg non veg presentation beautiful taste beyond expectation try pineapple striker 's different nice no bake cheesecake best also try cherry passion mocktail service fast\",\n",
              " \"office place near orion mall .. grabbed two draught beer heart content pizza along awesome combination n't place cool staff helpful awesome .. love\",\n",
              " 'ordered chicken biriyani rate quite cheep apprehended quality surprise simply brilliant delivery time behavior also good',\n",
              " 'order sushi place online loved ended coming restaurant next day lovely ambience helpful staff service prompt try sushi chicken pad thai nice well',\n",
              " 'visited lunch place majes feel rajasthan amazing sweet ordered daal baati -4 veg thali -4 service self ambience -3.5',\n",
              " 'worst taste supplied single biryani ordered full biryani',\n",
              " 'visited place craving spicy grilled chicken ordered chicken wing peri peri chicken burger grilled chicken pulled chicken wrap overall everything nice spicy choose different flavour chicken tender juicy add much veggie wrap not giving much chicken flavour drink refreshing got friendly staff thumb new flavour',\n",
              " \"someone said bangalore 's answer bombay 's prithvi theatre cafe miss irish coffee though whether want really quick bite sabudana vada popular though think bit masla/ salt mix wd great quick meal evening play evening play end really late dinner nice friendly place stereotypically looking arty love keema pao parathas kid love chicken sandwich husband omelette chai come highly recommended didnt much like kokum juice think make place superior location/ convenience quickness service would think nice hang even n't going play cd spot theatre celbs sometimes ofcourse catch free performance sometimes done lobby\",\n",
              " 'tried aaloo pyaaz kachori kota kachori poori sabzi snack section amongst dessert tried lachcha rabri kalakand honestly loved taste poori sabzi kachories lachcha rabri melt mouth kalakand best kalakand till date treat taste bud sweetness dessert well balanced also aloo pudina sev aloo pineapple sev namkeen section really delicious nothing special ambience self-service seating area overcrowded serve dessert plastic container food pocket friendly service counter quick',\n",
              " \"frequent place lot food tasty served quickly without fuss appams stew banana custard really good husband like misal pav anju 's friendly presence beautiful arty people add charm place\",\n",
              " 'today visited place got lovely platter starter korean pan cake different kimchi small staff different nice start far east asian cuisine ordered jeyuk bokkeum quite spicy went nice sticky rice beat bibimbup much bland taste suggest take ended fresh watermelon went good cost bit higher compare quantity different taste go',\n",
              " 'worst food need refund',\n",
              " 'mediterranean pizza tasted little blunt flavour good offer free mocktail served choice passion cooler blend lemon mint also tinge orange flavour overall place buzzing good hangout',\n",
              " 'good',\n",
              " 'longggggg longggg island took heart away space small take crowd maybe koramangala seen social could reason however vibe awesome dj nail music boon street walk come beautiful social chill interesting work displayed wall speaking worth talk staff organized management get space would love sit enjoy friend anyone',\n",
              " 'good',\n",
              " 'ordered veg biriyani food less/ no spice south indian taste bud channa added biriyani like tamarind rice trying figure part country making biriyani channa quantity 2 ppl fairly good portion package good raitha cucumber slice box cusp pulao biriyani tamarind rice',\n",
              " 'go place mood perfectly cooked steak best part restaurant zomato gold partner brownie point service reached late around 10:30 one restaurant weekday time staff super polite patient thoroughly enjoyed meal',\n",
              " 'good food no bull service good excellent variety south east asian cuisine one might able get elsewhere easily ambience decent seating comfortable place get high rating particularly food variety',\n",
              " \"budget friendly place according 's go place fry chilly baby corn excellent beer good cheer\",\n",
              " 'good egg curry non veg meal combo affordable price liked',\n",
              " 'good',\n",
              " \"place best aloo paratha .. good stuffing .. big .. cheap whenever u come place order aloo paratha n cup curd .. ull b done day .. 's filling\",\n",
              " 'first neer dosa tasty also ordered baby corn ghee roast never ordering anything main ingredient ghee one ghee lot lot chilies not sure spice try ordering dish make judgement',\n",
              " 'go place want pocket friendly homely food food taste excellent service good hygeine wise good well overall awesome place amazing food affordable rate',\n",
              " 'ordered veg biryani pathetic find chicken peices called mediator back not even apologetic sence refund karlenge aapke paisa not ordered not recommend anyone',\n",
              " 'chinese good north indian not good',\n",
              " \"ordered sabudana khichdi sabudana vada curd fasting quantity gave le khichdi usually sabudana dish bit spicy sweet did n't like 's good people like sweetness dish follow explorewithketan1 instagram explore eatery\",\n",
              " \"amazing aloo parathas filling close tasting like one home tip -- 'd wan na use proper container home delivery maybe add aerated drink menu coz go well parathas least\",\n",
              " 'like outdoor ambiance place give chill vibe cheese cake cold coffee really nice even though place hyped red velvet cupcake didnã\\x83â\\x83â\\x83ã\\x83â\\x82â\\x83ã\\x83â\\x83â\\x82ã\\x83â\\x82â\\x83ã\\x83â\\x83â\\x83ã\\x83â\\x82â\\x82ã\\x83â\\x83â\\x82ã\\x83â\\x82ã\\x82â¢ã\\x83â\\x83â\\x83ã\\x83â\\x82â\\x83ã\\x83â\\x83â\\x82ã\\x83â\\x82â\\x82ã\\x83â\\x83â\\x83ã\\x83â\\x82â\\x82ã\\x83â\\x83â\\x82ã\\x83â\\x82â\\x80ã\\x83â\\x83â\\x83ã\\x83â\\x82â\\x83ã\\x83â\\x83â\\x82ã\\x83â\\x82â\\x82ã\\x83â\\x83â\\x83ã\\x83â\\x82â\\x82ã\\x83â\\x83â\\x82ã\\x83â\\x82â\\x99t really enjoy cake dense didnã\\x83â\\x83â\\x83ã\\x83â\\x82â\\x83ã\\x83â\\x83â\\x82ã\\x83â\\x82â\\x83ã\\x83â\\x83â\\x83ã\\x83â\\x82â\\x82ã\\x83â\\x83â\\x82ã\\x83â\\x82ã\\x82â¢ã\\x83â\\x83â\\x83ã\\x83â\\x82â\\x83ã\\x83â\\x83â\\x82ã\\x83â\\x82â\\x82ã\\x83â\\x83â\\x83ã\\x83â\\x82â\\x82ã\\x83â\\x83â\\x82ã\\x83â\\x82â\\x80ã\\x83â\\x83â\\x83ã\\x83â\\x82â\\x83ã\\x83â\\x83â\\x82ã\\x83â\\x82â\\x82ã\\x83â\\x83â\\x83ã\\x83â\\x82â\\x82ã\\x83â\\x83â\\x82ã\\x83â\\x82â\\x99t really taste expected although really like icing',\n",
              " \"place good place food regular basis usually take lunch weekday thali good combo roti rice two curry dal raita sweet roti 's r really soft service prompt try sweet yummm stand par renowned sweet shop love\",\n",
              " 'no chicken curry',\n",
              " 'want spend splendid afternoon friend want play game gossip zee5 loft perfect neighbourhood cafe find board game small collection book sitting area awesome cafe manages good variety dish whether want snack heavy dish equally delicious roadside parking available',\n",
              " 'place nati style food bangalore ragi mudde chapathi rice place good family room separately mutton chop mutton kurma awesome try',\n",
              " \"go place burger ice ream late night craving zomato gold approach pocket friendly loved chicken peri peri burger best part fresh bun amazing sauce yumm ice cream cold stone variety guy quite generous topping compared competitor lot nut nutty fudgy best lot lot lot caramelised nut place no competition closeby maintained 's quality throughout visit made .. kudos team\",\n",
              " 'good open space ambience really great place hangout friend weekend nice choice music homely way serving food staff helpful',\n",
              " 'normal',\n",
              " \"straight point place one best place hang office colleagues/ go date/chill buddy budget friendly not bury hole pocket located really good location rooftop sitting area one recommend also try broccoli bengal mustard cheese broccoli hater need try foodie ambience good music good feel comfy staff bit lazy time 's okay .. overall not regret 5/5 's view cheer\",\n",
              " 'tasty nd yummy',\n",
              " \"food n't great\",\n",
              " '100 authentic asian food explicit menu appeal go bharat helped u select menu per taste ordered pecking duck bao lobster tempura bao bao soft melt mouth stuffing balanced right .. kudos chef black bean udon noodle hibachi sticky rice cashewnut chicken yumm subtle not forget tender coconut cheese cake greatttt decent place dining phoenix mall ã\\x83â\\x83â\\x83ã\\x83â\\x82â\\x83ã\\x83â\\x83â\\x82ã\\x83â\\x82â\\x83ã\\x83â\\x83â\\x83ã\\x83â\\x82â\\x82ã\\x83â\\x83â\\x82ã\\x83â\\x82ã\\x82â°ã\\x83â\\x83â\\x83ã\\x83â\\x82â\\x83ã\\x83â\\x83â\\x82ã\\x83â\\x82â\\x82ã\\x83â\\x83â\\x83ã\\x83â\\x82â\\x82ã\\x83â\\x83â\\x82ã\\x83â\\x82â\\x9fã\\x83â\\x83â\\x83ã\\x83â\\x82â\\x83ã\\x83â\\x83â\\x82ã\\x83â\\x82â\\x82ã\\x83â\\x83â\\x83ã\\x83â\\x82â\\x82ã\\x83â\\x83â\\x82ã\\x83â\\x82â\\x98ã\\x83â\\x83â\\x83ã\\x83â\\x82â\\x83ã\\x83â\\x83â\\x82ã\\x83â\\x82â\\x82ã\\x83â\\x83â\\x83ã\\x83â\\x82â\\x82ã\\x83â\\x83â\\x82ã\\x83â\\x82â\\x8aã\\x83â\\x83â\\x83ã\\x83â\\x82â\\x83ã\\x83â\\x83â\\x82ã\\x83â\\x82â\\x83ã\\x83â\\x83â\\x83ã\\x83â\\x82â\\x82ã\\x83â\\x83â\\x82ã\\x83â\\x82ã\\x82â°ã\\x83â\\x83â\\x83ã\\x83â\\x82â\\x83ã\\x83â\\x83â\\x82ã\\x83â\\x82â\\x82ã\\x83â\\x83â\\x83ã\\x83â\\x82â\\x82ã\\x83â\\x83â\\x82ã\\x83â\\x82â\\x9fã\\x83â\\x83â\\x83ã\\x83â\\x82â\\x83ã\\x83â\\x83â\\x82ã\\x83â\\x82â\\x82ã\\x83â\\x83â\\x83ã\\x83â\\x82â\\x82ã\\x83â\\x83â\\x82ã\\x83â\\x82â\\x98ã\\x83â\\x83â\\x83ã\\x83â\\x82â\\x83ã\\x83â\\x83â\\x82ã\\x83â\\x82â\\x82ã\\x83â\\x83â\\x83ã\\x83â\\x82â\\x82ã\\x83â\\x83â\\x82ã\\x83â\\x82â\\x8aã\\x83â\\x83â\\x83ã\\x83â\\x82â\\x83ã\\x83â\\x83â\\x82ã\\x83â\\x82â\\x83ã\\x83â\\x83â\\x83ã\\x83â\\x82â\\x82ã\\x83â\\x83â\\x82ã\\x83â\\x82ã\\x82â°ã\\x83â\\x83â\\x83ã\\x83â\\x82â\\x83ã\\x83â\\x83â\\x82ã\\x83â\\x82â\\x82ã\\x83â\\x83â\\x83ã\\x83â\\x82â\\x82ã\\x83â\\x83â\\x82ã\\x83â\\x82â\\x9fã\\x83â\\x83â\\x83ã\\x83â\\x82â\\x83ã\\x83â\\x83â\\x82ã\\x83â\\x82â\\x82ã\\x83â\\x83â\\x83ã\\x83â\\x82â\\x82ã\\x83â\\x83â\\x82ã\\x83â\\x82â\\x98ã\\x83â\\x83â\\x83ã\\x83â\\x82â\\x83ã\\x83â\\x83â\\x82ã\\x83â\\x82â\\x82ã\\x83â\\x83â\\x83ã\\x83â\\x82â\\x82ã\\x83â\\x83â\\x82ã\\x83â\\x82â\\x8a tummy khush dil khush ã\\x83â\\x83â\\x83ã\\x83â\\x82â\\x83ã\\x83â\\x83â\\x82ã\\x83â\\x82â\\x83ã\\x83â\\x83â\\x83ã\\x83â\\x82â\\x82ã\\x83â\\x83â\\x82ã\\x83â\\x82ã\\x82â°ã\\x83â\\x83â\\x83ã\\x83â\\x82â\\x83ã\\x83â\\x83â\\x82ã\\x83â\\x82â\\x82ã\\x83â\\x83â\\x83ã\\x83â\\x82â\\x82ã\\x83â\\x83â\\x82ã\\x83â\\x82â\\x9fã\\x83â\\x83â\\x83ã\\x83â\\x82â\\x83ã\\x83â\\x83â\\x82ã\\x83â\\x82â\\x82ã\\x83â\\x83â\\x83ã\\x83â\\x82â\\x82ã\\x83â\\x83â\\x82ã\\x83â\\x82â\\x98ã\\x83â\\x83â\\x83ã\\x83â\\x82â\\x83ã\\x83â\\x83â\\x82ã\\x83â\\x82â\\x82ã\\x83â\\x83â\\x83ã\\x83â\\x82â\\x82ã\\x83â\\x83â\\x82ã\\x83â\\x82â\\x8d',\n",
              " \"saw place koramangala last time since wish list long time .. visited weekend lunch guess reached quite early p starter blow mind .. 10 veg non-veg starter equally amazing .. main course pretty normal .. live counter toooo served u customised foood item .. coming dessert like icing cake .. everything delicious .. could n't try ice cream since already full special appreciation go staff great hospitality .. staff polite took good care u\",\n",
              " 'ordered variety cheesecake like kiwi blueberry raspberry cheesecake extremely delicious aesthetically pleasing cake melt within second inside mouth looking forward order variety place wishing best future endeavour',\n",
              " \"woah gem place .. unscheduled visit nice ambience great food service good ordered lassi 's surprise badaam afghani kebab juicy soft chicken lababdar up-to mark butter tandoori roti soft overall great experience\",\n",
              " 'came colleague birthday celebration place awesome celebration food great especially starter good love sea food good option octopus squid rabbit quail bird awesome food suman person serving u humble polite job sincerely thanks suman extreme care definitely visit recommend colleague',\n",
              " 'kerala beef chilli chicken tikka biryani beef bit spicy biryani amazing loved service good',\n",
              " \"one cheapest bar bangalore totally male dominated 've like several time not seen single girl typical place guy hangout come totally drunk much high delicious food serf food pork pork awesome .. starter crazy good .. pork chilly/fry chicken kabab/french onion rings/frenchfries .. awesome 5/5 .. drink unbelievably cheap like spirit ambience care 3 floor building always crowded guy .. drink forget ur sorrow kinda place 3.5/5 staff one guy polite give right bill others manipulate put one 2 extra peg especially u r drunk 4/5 one sweet guy music nothing .. chatting n disturbance overall awesome place u want real gud guy time .. done month u wo n't regret place jolly good time\",\n",
              " 'london shake located bangaluru restaurant nice ambience ordered butterscotch shake pasta really tasty authentic 5/5 star side foodiediary.in',\n",
              " \"place amazing food taste good thing did n't like 1 near dine inn ceiling work going not happy cause dust flying 2 ordered cheesy chicken burger taste good slice cheese no hype per detail given description product 3 oreo shake could bit thick watery test good hope management take care issue food good presentation superb keep\",\n",
              " 'beautiful place mouthwatering food reason im giving one star le cause serve u veg dish due complication rest food amazing quantity apt price',\n",
              " 'place never disappoint .. every time visited best time something perfect .. perfect food perfect drink amazing music collection r known guess perfect service ..',\n",
              " 'amazning pub located opp empire jnc lane .nice location amazing place hangout friend sat night .. ambiance great seating comfortable staff friendly give good offer happy hour got free vodka shot end 5 place',\n",
              " \"'s great place consider ambiance decor come food 'd probably not suggest place well-constructed menu n't match expectation otherwise 's fun place good vibe 's well located definitely attracts people\",\n",
              " 'high ultra lounge amazing place cozy wheather ultimate banglore view 31st floor staff good main thing place lift start ground 30th floor no break nice food impressive cocktail definitely visit',\n",
              " 'one hyped brand term resto pub place remains packed almost throughout day went quick lunch interestingly not alcohol decor cool desi vibe music blaring around pretty good handling never ending crowd service fast cup cappuccino good chicken garlic dimsum delicate amazing not big fan steel plate serve cool vibe work crowd chicken noodle served chinese box average term taste overall great place hangout looking good time drinking hogging food worth visit',\n",
              " 'went place lunch team mate close office.1st floor next pizza hut ambience good ã\\x83â\\x83â\\x83ã\\x83â\\x82â\\x83ã\\x83â\\x83â\\x82ã\\x83â\\x82â\\x82ã\\x83â\\x83â\\x83ã\\x83â\\x82â\\x82ã\\x83â\\x83â\\x82ã\\x83â\\x82â\\x96 add type furniture used staff friendly food ã\\x83â\\x83â\\x83ã\\x83â\\x82â\\x83ã\\x83â\\x83â\\x82ã\\x83â\\x82â\\x82ã\\x83â\\x83â\\x83ã\\x83â\\x82â\\x82ã\\x83â\\x83â\\x82ã\\x83â\\x82â\\x96 good little spicy budget ã\\x83â\\x83â\\x83ã\\x83â\\x82â\\x83ã\\x83â\\x83â\\x82ã\\x83â\\x82â\\x82ã\\x83â\\x83â\\x83ã\\x83â\\x82â\\x82ã\\x83â\\x83â\\x82ã\\x83â\\x82â\\x96 average serve time ã\\x83â\\x83â\\x83ã\\x83â\\x82â\\x83ã\\x83â\\x83â\\x82ã\\x83â\\x82â\\x82ã\\x83â\\x83â\\x83ã\\x83â\\x82â\\x82ã\\x83â\\x83â\\x82ã\\x83â\\x82â\\x96 10-15 min taste wise good everyone liked serf 2 ppl ala-carte dish overall ã\\x83â\\x83â\\x83ã\\x83â\\x82â\\x83ã\\x83â\\x83â\\x82ã\\x83â\\x82â\\x82ã\\x83â\\x83â\\x83ã\\x83â\\x82â\\x82ã\\x83â\\x83â\\x82ã\\x83â\\x82â\\x96 everyone enjoyed lunch ã\\x83â\\x83â\\x83ã\\x83â\\x82â\\x83ã\\x83â\\x83â\\x82ã\\x83â\\x82â\\x82ã\\x83â\\x83â\\x83ã\\x83â\\x82â\\x82ã\\x83â\\x83â\\x82ã\\x83â\\x82â\\x96 good food ã\\x83â\\x83â\\x83ã\\x83â\\x82â\\x83ã\\x83â\\x83â\\x82ã\\x83â\\x82â\\x82ã\\x83â\\x83â\\x83ã\\x83â\\x82â\\x82ã\\x83â\\x83â\\x82ã\\x83â\\x82â\\x96 nice ambience ã\\x83â\\x83â\\x83ã\\x83â\\x82â\\x83ã\\x83â\\x83â\\x82ã\\x83â\\x82â\\x82ã\\x83â\\x83â\\x83ã\\x83â\\x82â\\x82ã\\x83â\\x83â\\x82ã\\x83â\\x82â\\x96 friendly staff suggest place lot option try',\n",
              " 'worst kabab',\n",
              " 'absolutely love place authentic pan asian cuisine extensive selection ambience top notch staff courteous rashim waiter took good care u would definitely recommend coming',\n",
              " 'place extremely good well themed also located prime area reason would give 3 star force pay service charge 10 thoroughly loved',\n",
              " 'ordered mutton biryani unfortunately no mutton full spicy wasnã\\x83â\\x83â\\x83ã\\x83â\\x82â\\x83ã\\x83â\\x83â\\x82ã\\x83â\\x82â\\x83ã\\x83â\\x83â\\x83ã\\x83â\\x82â\\x82ã\\x83â\\x83â\\x82ã\\x83â\\x82â\\x82ã\\x83â\\x83â\\x83ã\\x83â\\x82â\\x83ã\\x83â\\x83â\\x82ã\\x83â\\x82â\\x82ã\\x83â\\x83â\\x83ã\\x83â\\x82â\\x82ã\\x83â\\x83â\\x82ã\\x83â\\x82â\\x92t able eat got wasted curd gave spoiled onion rotten suggest not buy anything restaurant',\n",
              " 'place couple time light ambience lovely happy place staff warm welcoming pizza freshly made scratch give extra edge spaghetti dessert along dessert absolute favorite .. tasty pleasing eye highly recommend place',\n",
              " 'pizza good.but chef need cleaner seen using old dirty cloth wipe kitchen table.and gross arrogant compared pizza stop outlet lot changed',\n",
              " 'good place chill friend catch wish pasta menu apart every dish good enough lovely drink',\n",
              " 'good place hang friend great dj good food house beer also good ambience big plus point friendly staff definitely recommend',\n",
              " 'awesome hyderabadi biryani biryani awesome dum ka chicken .... surprisingly offer going ordered one biryani got one free also got complimentary double ka meetha',\n",
              " 'lively place courteous staff live music night went 250 r guess 1000 r cover charge not sure ordered nacho burger 4 drink using 2 2 drink zomato gold everything great not good place want talk though good enough fun',\n",
              " 'chicken dish good enjoyed food .. course size meal size slightly big hungry factor high good place go .. sharing option also available enjoy spicy factor also available according requirement',\n",
              " \"great ambiance good food tried chicken pizza great blew mind frozen mud pie 's one best try dessert\",\n",
              " 'located busy 100 ft road trooped office get together dish ordered amazing big let fish served stale pocket friendly place dine incase food delayed thereã\\x83â\\x83â\\x83ã\\x83â\\x82â\\x83ã\\x83â\\x83â\\x82ã\\x83â\\x82â\\x83ã\\x83â\\x83â\\x83ã\\x83â\\x82â\\x82ã\\x83â\\x83â\\x82ã\\x83â\\x82ã\\x82â¢ã\\x83â\\x83â\\x83ã\\x83â\\x82â\\x83ã\\x83â\\x83â\\x82ã\\x83â\\x82â\\x82ã\\x83â\\x83â\\x83ã\\x83â\\x82â\\x82ã\\x83â\\x83â\\x82ã\\x83â\\x82â\\x80ã\\x83â\\x83â\\x83ã\\x83â\\x82â\\x83ã\\x83â\\x83â\\x82ã\\x83â\\x82â\\x82ã\\x83â\\x83â\\x83ã\\x83â\\x82â\\x82ã\\x83â\\x83â\\x82ã\\x83â\\x82â\\x99s jewelry store rooftop amazing stuff buy',\n",
              " \"good ambience old age themed one dome seems checkpost theme quite good wide range segment went falooda did n't met expectation totally not worth money\",\n",
              " 'not baked properly',\n",
              " 'hard rock cafe one best resto-pub garden city india captivates moment arrive palatial colourful interior modern plus cosmopolitan appeal great opus live music .the highlight cafe garnered souvenir used rock band member around globe specially musical instrument outfit sophistically showcased wall read full post abhiniblog.wordpress.com',\n",
              " 'one late noon friend went perfect spicy veg biryani accompanied good gravy n raitha along cashew curry vfm n good quantity along come good taste .. love cashew curry lot ..',\n",
              " 'looking good veg restaurant near zomato found really amazing restaurant took mind blowing taste service restaurant provided one coolest ambiance theme metro train fun beautiful dinner themed resto coming food good fantastic would suggest crispy corn peppet schzwen noodle ambiance 4.5/5 food 4.5/5 price 4/5 service 4/5',\n",
              " \"two word excellent food n't look appealing outside go satisfy taste bud chicken burger stake blueberry cheesecake delicious worth price service 4.5/5 ambience mediocre food 5/5\",\n",
              " \"located main road tilaknagar place taste biryani ca n't say 's authentic like get hyderabad spicy good serve half full portion half fine one person give one piece chicken along gravy raita fine limited parking space service good ur looking pocket friendly biryani jayanagar good option visit\",\n",
              " 'clean neat place food stored served hygenic environment staff well trained well taste sweet really good maintain standard across store serve chaats bsk generally quite sweet well love dhai balla katori chat dhai puri priced slightly higher avg sweet shop quality taste justifies pricing sweet like kaju katli priced 930/kg packing premium well good sweet clean ambience good service',\n",
              " \"good buffet restaurant team lunch/dinner went lunch place really crowded would recommend prior reservation internal decor really nice pirate caribbean theme justice 's name coming food nothing special serve type menu buffet restaurant offer taste decent need improve main course though buffet restaurant everybody concentrate starter dessert want stay bit different need something main course n't taste good dessert really did n't try anything else except jalebi-rabdi good\",\n",
              " \"banaswadi outlet not showed zomato situated right next lenskart showroom happened go 's interior external appearance pleasing bought double choco chip cooky chocolate cooky butter cooky burger bun though cooky bun seemed freshly baked tasted good sweet content little bit higher cooky felt seating not available resembles exactly commercial street outlet 's nothing much try menu limited quick bite grab stuffed puff bun samosa opted takeaway nice packaging ..\",\n",
              " 'amazing concept fell love ambience ^_^ coming food limited choice menu think increase dish quantity totally unsatisfactory including pricing pizza amazing blue lemonade refreshing butter chicken combo chilli chicken combo nothing extraordinary peri peri fry something yã\\x83â\\x83â\\x83ã\\x83â\\x82â\\x83ã\\x83â\\x83â\\x82ã\\x83â\\x82â\\x82ã\\x83â\\x83â\\x83ã\\x83â\\x82â\\x82ã\\x83â\\x83â\\x82ã\\x83â\\x82â\\x92all definitely try coming back staff totally unorganised lost world roaming back forth nothing acting like are.i think hotel management look revamp menu food:3.5/5 ambience:4/5 taste:3/5',\n",
              " 'did takeaway long time ...... utterly disappointed.ive food umpteen number time ....... food used good .... typical andhra joint ........ pure bull ......... andhra chilli prawn maida ..... cornflour ...... garlic disgusting.i hope management listening ................',\n",
              " 'still hear lot people talking biryani meghana since right next door decided drop lunch order boneless chicken biryani glass lemon soda chicken biryani batter fried though soggy biryani nothing special did take home chicken 65 much better biryani though tad spicy rjheartnsoul.com',\n",
              " 'beer amazing ambience friendly staff super quick service finger food average limited beer variety try',\n",
              " 'found place looking different cuisine zomato try galito specializes african flame grilled meat thoroughly enjoyed food holiday restaurant crowded patron shown good table courteous staff food delicious even grilled corn cobb amazing lemonade could probably bit upgrade tasted much essence overall loved place wait visit soon',\n",
              " 'loved food ambience service sushi lovely ordered two different kind cooked perfection perfect evening would definitely cone',\n",
              " 'ordered drink snack trust liit lit ã\\x83â\\x83â\\x83ã\\x83â\\x82â\\x83ã\\x83â\\x83â\\x82ã\\x83â\\x82â\\x83ã\\x83â\\x83â\\x83ã\\x83â\\x82â\\x82ã\\x83â\\x83â\\x82ã\\x83â\\x82ã\\x82â¢ã\\x83â\\x83â\\x83ã\\x83â\\x82â\\x83ã\\x83â\\x83â\\x82ã\\x83â\\x82â\\x82ã\\x83â\\x83â\\x83ã\\x83â\\x82â\\x82ã\\x83â\\x83â\\x82ã\\x83â\\x82â\\x9cã\\x83â\\x83â\\x83ã\\x83â\\x82â\\x83ã\\x83â\\x83â\\x82ã\\x83â\\x82â\\x82ã\\x83â\\x83â\\x83ã\\x83â\\x82â\\x82ã\\x83â\\x83â\\x82ã\\x83â\\x82ã\\x82â¨ food drink ambience service exceptionally good good go place m.g road',\n",
              " \"never restaurant want delivery never count order delayed 1 hour 30 minute follow restaurant give delivery man 's number check finally maggi won battle\",\n",
              " 'didnã\\x83â\\x83â\\x83ã\\x83â\\x82â\\x83ã\\x83â\\x83â\\x82ã\\x83â\\x82â\\x83ã\\x83â\\x83â\\x83ã\\x83â\\x82â\\x82ã\\x83â\\x83â\\x82ã\\x83â\\x82ã\\x82â¢ã\\x83â\\x83â\\x83ã\\x83â\\x82â\\x83ã\\x83â\\x83â\\x82ã\\x83â\\x82â\\x82ã\\x83â\\x83â\\x83ã\\x83â\\x82â\\x82ã\\x83â\\x83â\\x82ã\\x83â\\x82â\\x80ã\\x83â\\x83â\\x83ã\\x83â\\x82â\\x83ã\\x83â\\x83â\\x82ã\\x83â\\x82â\\x82ã\\x83â\\x83â\\x83ã\\x83â\\x82â\\x82ã\\x83â\\x83â\\x82ã\\x83â\\x82â\\x99t quite liked place much went around 7pm looking beer 4 pint left hoegarden didnã\\x83â\\x83â\\x83ã\\x83â\\x82â\\x83ã\\x83â\\x83â\\x82ã\\x83â\\x82â\\x83ã\\x83â\\x83â\\x83ã\\x83â\\x82â\\x82ã\\x83â\\x83â\\x82ã\\x83â\\x82ã\\x82â¢ã\\x83â\\x83â\\x83ã\\x83â\\x82â\\x83ã\\x83â\\x83â\\x82ã\\x83â\\x82â\\x82ã\\x83â\\x83â\\x83ã\\x83â\\x82â\\x82ã\\x83â\\x83â\\x82ã\\x83â\\x82â\\x80ã\\x83â\\x83â\\x83ã\\x83â\\x82â\\x83ã\\x83â\\x83â\\x82ã\\x83â\\x82â\\x82ã\\x83â\\x83â\\x83ã\\x83â\\x82â\\x82ã\\x83â\\x83â\\x82ã\\x83â\\x82â\\x99t expect inventory le masala peanut really good',\n",
              " 'ice-creams not good abience okay given place sit not many option available selected menu',\n",
              " \"restaurant thriving heart food hub bengaluru busy church street bound set high expectation however management staff restaurant spree towards setting lowest possible standard ordered tandoori roti malai kofta presented roti long malai kofta served result time kofta arrived roti already become hard eat one expects malai kofta sweet however one blend sour salty since starving binge ate one two koftas meanwhile complained food quality brought bowl malai kofta load sugar added separate piece kofta first time life malai kofta 'malai kofta courtesy funjabi staff extremely rude unrelenting one worst dining experience life never gon na repeat ever\",\n",
              " 'ordered vada kumar idli rani set 4 each.comes sambhar coconut chutney onion tomato chutney .. not sure loved taste chutney sambhar still hot reached decent quantity price .. price 3.5/5packing 5/5delivery 4.5/5food quality 4.5/5',\n",
              " 'good place hangout friend usually not much crowded weekday quiet place among tree soft music peace around place .... food good visited snack continental',\n",
              " \"name alone enough inspire get track healthy lifestyle eat.fit justifies 's tagline healthy tasty fresh meal got lunch delivered outlet quite impressed health taste ratio maintained dish north indian food lunch today tried rajma rice veg thali really nice rajma really delectable would definitely recommend trying thali also pretty decent included daal paneer along chapati salad cold coffee well perfect yum beverage health conscious people follow u instagram khaanebaaz facebook bekhaanebaaz\",\n",
              " 'heard lot place wanted try biriyani hearing fanfare biriyani nothing much say place everything people said biriyani true heavenly lived every single positive review heard wish staff little le confused since much unnecessary discussion seat u food 5/5 taste 5/5 ambience 3.5/5 hygiene 4/5 quality 4.5/5',\n",
              " \"absolutely love place .. 's located inside rangashankara .. serve crispy hot akki rotti .. best ginger tomato chutney .. sabudana vada kokum juice personal favourite ..\",\n",
              " 'affordable tasty food delivery take time worth waiting try combo affordable quality 4.5 taste 4.5 quantity 4.0',\n",
              " 'good',\n",
              " \"kindly avoid place looking place eat good meal clearly 's not priority 's given place staff place basically nothing 's irritating tell thing contemplated cancel order got 5 minute pizza lacked taste no seasoning drink ordered horrible zero value money everything overpriced quantity quality service slow hope work game want place open long run sincerely disappointed customer\",\n",
              " 'food salty',\n",
              " '4 star chicken burger beetroot bun salad average place still good healthy eating quantity good everything',\n",
              " \"n't expect really fancy bakery offering place homely neighbourhood pastry shop stock pretty tasty chocolate tart range bread\",\n",
              " 'nandhini deluxe hotel excellent multi cuisine restaurant andhra full meal nice .. cole road hotel food good tasty ..',\n",
              " 'best filter coffee ever drinking holy grail quaff coffee felt marvelously heavenly ordered idly bonda truly authentic taste paw bhaji cheap best place eat looking forward visit',\n",
              " 'beer amazing ambience friendly staff super quick service finger food average limited beer variety try',\n",
              " 'kheema paratha did not kheema',\n",
              " \"n't taste good\",\n",
              " 'good',\n",
              " \"new management come doubled price no improvement service still slow quality food used come cheaper place still providing good food changed n't get value money used recommend place others not anymore ship sailed\",\n",
              " 'check durga pujo menu excited taste authentic bengali food started vegetable chop tikki beetroot stuffing non-vegetarians 2-3 option stuffing mouth no wonder looked happy paired starter aam pora shorbot really liked tanginess flavor main aloor dom yummy jhinge aloo posto dhokar dalna along mouth watering luchis stuffed miss rice cholar dal good something different taste palette dessert undoubtedly best part nolen gurer ice cream favorite also got hand bhapa sondesh payesh wish non vegetarian experience people did especially kakra dish cheer vedshree littlefoodiegirl littlefoodiegirl.com',\n",
              " 'great evening church street social.a really cool place.food amazing.ambience great.dessert mouth watering.must try dessert called chocolate bloody bath love dessert',\n",
              " 'good service love food',\n",
              " \"love place healthy light food n't come feeling stuffed wanting take nap decor beautiful green board game bonus\",\n",
              " 'best place sit chat friend instead juss going pub listening loud music .. u actually sit talk play n njoy nixe food .. loved d place .. good food .. nice service .. quite reasonable well .. u guya rock ..',\n",
              " 'one happening place bangalore best get together party food service taste good also great collection music plus point rooftop beer cold wind becomes great memory worth visiting big thumb side go',\n",
              " \"ordered first time seems name bawarchi not right name even biriyani called andra style le no spicy order took lot time mistake rectify explain took nearly 15 min replacement done food quality average meat used looked frozen made taste horrible seemed coated lot south indian spice curry leaf did n't seem pleasant next time definitely think ordering even min order high guess created brand not name disappointed\",\n",
              " 'happened visit place today bunch friend .. awesome place .. nice ambience delicious food special variety burger .. great service quality visit',\n",
              " 'really good approach towards customer drink food really tasty good ambiance music good service well .. visit',\n",
              " 'ordered couple chicken starter baby corn chicken taste good decent pricing decent quantity however turn baby corn smell bad look like spoiled one couldnã\\x83â\\x83â\\x83ã\\x83â\\x82â\\x83ã\\x83â\\x83â\\x82ã\\x83â\\x82â\\x83ã\\x83â\\x83â\\x83ã\\x83â\\x82â\\x82ã\\x83â\\x83â\\x82ã\\x83â\\x82ã\\x82â¢ã\\x83â\\x83â\\x83ã\\x83â\\x82â\\x83ã\\x83â\\x83â\\x82ã\\x83â\\x82â\\x82ã\\x83â\\x83â\\x83ã\\x83â\\x82â\\x82ã\\x83â\\x83â\\x82ã\\x83â\\x82â\\x80ã\\x83â\\x83â\\x83ã\\x83â\\x82â\\x83ã\\x83â\\x83â\\x82ã\\x83â\\x82â\\x82ã\\x83â\\x83â\\x83ã\\x83â\\x82â\\x82ã\\x83â\\x83â\\x82ã\\x83â\\x82â\\x99t take sent email zomato support not much use think preserved food double checked serving see similar review',\n",
              " \"'s good food.its atmiosfire nice place good.but biranie not good aro develop korte hobe funjabi service.amder frnd deer jaga ta be lage\",\n",
              " 'like boneless birynai chicken lollipop never visited restaurant always ordered online zomato quantity reasonable taste good didnã\\x83â\\x83â\\x83ã\\x83â\\x82â\\x83ã\\x83â\\x83â\\x82ã\\x83â\\x82â\\x83ã\\x83â\\x83â\\x83ã\\x83â\\x82â\\x82ã\\x83â\\x83â\\x82ã\\x83â\\x82ã\\x82â¢ã\\x83â\\x83â\\x83ã\\x83â\\x82â\\x83ã\\x83â\\x83â\\x82ã\\x83â\\x82â\\x82ã\\x83â\\x83â\\x83ã\\x83â\\x82â\\x82ã\\x83â\\x83â\\x82ã\\x83â\\x82â\\x80ã\\x83â\\x83â\\x83ã\\x83â\\x82â\\x83ã\\x83â\\x83â\\x82ã\\x83â\\x82â\\x82ã\\x83â\\x83â\\x83ã\\x83â\\x82â\\x82ã\\x83â\\x83â\\x82ã\\x83â\\x82â\\x99t like bamboo chicken dish pale bad smell dish good',\n",
              " \"place good stall visited dosalicious pizza dosa give totally terrible cost high better n't prefer dosalicious eat street\",\n",
              " 'kota kachori restaurant really dutifully restaurant ambience please u looking like food quality asm good testing service great experience .. thanks',\n",
              " 'amazing food fish really awesome ghee rice properly made daal panner really awesome.enjoy food lot .thanks',\n",
              " 'lunch food fine dine-in also available wont find crowded aisnt great one thing worry hygiene food taste fine quite pocket friendly service average couple people attend customer always hustle bustle thing liked serve traditionally banana leaf',\n",
              " 'delicious',\n",
              " 'decent place fill tummy without much amount wallet malai kofta really nice .. expected veg noodle bad since thick one .. taste pretty awesome',\n",
              " 'much chilli muton boti',\n",
              " \"good place good food purely money no quality service food menu card really overpriced unfortunately andra style hotel frazer town many really n't choice\",\n",
              " 'delicious food good afordable place kormanagala quench hunger asian food staff good good time thanks',\n",
              " \"lot roast upon n't know start 'll try keep short polite start delivery service late took finish whole replay finished ipl match waiting food arrive secondly chicken dry seemed still alive although even add 'll stop hope enough hit ground running\",\n",
              " 'menu shown zomato not food joint offer buffet 2 sabzi roti rice unlimited dal need buy separately sabzi need buy separately funniest place ever came across',\n",
              " 'came colleague birthday celebration place awesome celebration food great especially starter good love sea food good option octopus squid rabbit quail bird awesome food suman person serving u humble polite job sincerely thanks suman extreme care definitely visit recommend colleague',\n",
              " 'super tasty food selected item menu place ambient service sincere con food take little longer prepare otherwise great food joint reasonable menu',\n",
              " \"ordered chicken chowmein chilli chicken combo place food cold chicken spicy consumed please n't compromise quality food cost price pathetic food never going order place\",\n",
              " '2 chicken biriyani combo delight consists 2big piece chicken along 1 pc chicken kebab along raita curry 1 200ml soft drink 1pc gulab jamun taste biriyani good reasonable price staff polite overall good experience',\n",
              " 'heard husband stay far koramangla ordered katchoris dunzo couldnt wait dig teeth katchori really raving not pleased though good not extra ordinary overall good experience surely visit place try snack',\n",
              " \"amazing place wd good food food excellent especially cafe azzure special pizza sizzlers also try ambience situated topmost floor view might not good 's airy really nice place hang service 's almost always crowded better book table staff friendly polite 's definite\",\n",
              " 'mid koramangala roof top place totally soothing french like ambience loved place even food looked pretty nice staff courteous helpful thing bothered price look like little overpriced give importance ambience would surely love pay little extra food 3.5/5 staff 4/5 ambience 4/5 not budget friendly place guy advice not go month end',\n",
              " 'food tasty quantity also good.packing also good.hope order restaurant thanks',\n",
              " \"great ambience one essential part not essential part attract customers.so point thumb ambience here.zero point waiter attenders.one point food not nominal according zomato approx rate fixed rps500 two 's not near approx rps 500.also quantity not enough.hope improve attended u ..... late service quite nervous not clear menu attend customer\",\n",
              " \"great place beautiful ambience food also nice crispy paper corn favourite p. overall 's good place family dinner\",\n",
              " 'keep visiting place itã\\x83â\\x83â\\x83ã\\x83â\\x82â\\x83ã\\x83â\\x83â\\x82ã\\x83â\\x82â\\x82ã\\x83â\\x83â\\x83ã\\x83â\\x82â\\x82ã\\x83â\\x83â\\x82ã\\x83â\\x82â\\x92s one best place buffet staff much courteous service way good highly recommended place lunch dinner',\n",
              " 'nutty squirrel offer good varied flavour ice cream dark chocolate mango maple walnut really nice however place loses price exorbitant price fail justice service variety',\n",
              " 'pork baos little tangy taste stuffed generously kimchi lover gon na gorge also ordered fried golden butter garlic prawn wasnã\\x83â\\x83â\\x83ã\\x83â\\x82â\\x83ã\\x83â\\x83â\\x82ã\\x83â\\x82â\\x82ã\\x83â\\x83â\\x83ã\\x83â\\x82â\\x82ã\\x83â\\x83â\\x82ã\\x83â\\x82â\\x92t like anything iã\\x83â\\x83â\\x83ã\\x83â\\x82â\\x83ã\\x83â\\x83â\\x82ã\\x83â\\x82â\\x82ã\\x83â\\x83â\\x83ã\\x83â\\x82â\\x82ã\\x83â\\x83â\\x82ã\\x83â\\x82â\\x92ve didnã\\x83â\\x83â\\x83ã\\x83â\\x82â\\x83ã\\x83â\\x83â\\x82ã\\x83â\\x82â\\x82ã\\x83â\\x83â\\x83ã\\x83â\\x82â\\x82ã\\x83â\\x83â\\x82ã\\x83â\\x82â\\x92t like much though coated coconut powder burmese khao suey amazing overall ontheedgeblr thanks great service bangalore bangalorefood bangalorefoodies bangalorefoodiesclub bao pork kimchi asianfood dishiidish ontheedgeblr',\n",
              " 'went first time caught attention dropped wednesday evening luckily karaoke night karaoke night every wednesday crowd amazing actually get bangalore pub feel dance laugh sing along no one going judge also staff friendly warm young start feeling comfortable no time thumb time table service also complementary drink end ordered beer pitcher ã\\x83â\\x83â\\x83ã\\x83â\\x82â\\x83ã\\x83â\\x83â\\x82ã\\x83â\\x82â\\x83ã\\x83â\\x83â\\x83ã\\x83â\\x82â\\x82ã\\x83â\\x83â\\x82ã\\x83â\\x82ã\\x82â¢ã\\x83â\\x83â\\x83ã\\x83â\\x82â\\x83ã\\x83â\\x83â\\x82ã\\x83â\\x82â\\x82ã\\x83â\\x83â\\x83ã\\x83â\\x82â\\x82ã\\x83â\\x83â\\x82ã\\x83â\\x82â\\x80ã\\x83â\\x83â\\x83ã\\x83â\\x82â\\x83ã\\x83â\\x83â\\x82ã\\x83â\\x82â\\x82ã\\x83â\\x83â\\x83ã\\x83â\\x82â\\x82ã\\x83â\\x83â\\x82ã\\x83â\\x82â\\x9cjumbo combo-non vegã\\x83â\\x83â\\x83ã\\x83â\\x82â\\x83ã\\x83â\\x83â\\x82ã\\x83â\\x82â\\x83ã\\x83â\\x83â\\x83ã\\x83â\\x82â\\x82ã\\x83â\\x83â\\x82ã\\x83â\\x82ã\\x82â¢ã\\x83â\\x83â\\x83ã\\x83â\\x82â\\x83ã\\x83â\\x83â\\x82ã\\x83â\\x82â\\x82ã\\x83â\\x83â\\x83ã\\x83â\\x82â\\x82ã\\x83â\\x83â\\x82ã\\x83â\\x82â\\x80ã\\x83â\\x83â\\x83ã\\x83â\\x82â\\x83ã\\x83â\\x83â\\x82ã\\x83â\\x82â\\x82ã\\x83â\\x83â\\x83ã\\x83â\\x82â\\x82ã\\x83â\\x83â\\x82ã\\x83â\\x82â\\x9d perfect starter platter good enough share among 3 people absolutely worth moneyã\\x83â\\x83â\\x83ã\\x83â\\x82â\\x83ã\\x83â\\x83â\\x82ã\\x83â\\x82â\\x83ã\\x83â\\x83â\\x83ã\\x83â\\x82â\\x82ã\\x83â\\x83â\\x82ã\\x83â\\x82ã\\x82â°ã\\x83â\\x83â\\x83ã\\x83â\\x82â\\x83ã\\x83â\\x83â\\x82ã\\x83â\\x82â\\x82ã\\x83â\\x83â\\x83ã\\x83â\\x82â\\x82ã\\x83â\\x83â\\x82ã\\x83â\\x82â\\x9fã\\x83â\\x83â\\x83ã\\x83â\\x82â\\x83ã\\x83â\\x83â\\x82ã\\x83â\\x82â\\x82ã\\x83â\\x83â\\x83ã\\x83â\\x82â\\x82ã\\x83â\\x83â\\x82ã\\x83â\\x82â\\x91ã\\x83â\\x83â\\x83ã\\x83â\\x82â\\x83ã\\x83â\\x83â\\x82ã\\x83â\\x82â\\x82ã\\x83â\\x83â\\x83ã\\x83â\\x82â\\x82ã\\x83â\\x83â\\x82ã\\x83â\\x82â\\x8dã\\x83â\\x83â\\x83ã\\x83â\\x82â\\x83ã\\x83â\\x83â\\x82ã\\x83â\\x82â\\x83ã\\x83â\\x83â\\x83ã\\x83â\\x82â\\x82ã\\x83â\\x83â\\x82ã\\x83â\\x82ã\\x82â°ã\\x83â\\x83â\\x83ã\\x83â\\x82â\\x83ã\\x83â\\x83â\\x82ã\\x83â\\x82â\\x82ã\\x83â\\x83â\\x83ã\\x83â\\x82â\\x82ã\\x83â\\x83â\\x82ã\\x83â\\x82â\\x9fã\\x83â\\x83â\\x83ã\\x83â\\x82â\\x83ã\\x83â\\x83â\\x82ã\\x83â\\x82â\\x82ã\\x83â\\x83â\\x83ã\\x83â\\x82â\\x82ã\\x83â\\x83â\\x82ã\\x83â\\x82â\\x8fã\\x83â\\x83â\\x83ã\\x83â\\x82â\\x83ã\\x83â\\x83â\\x82ã\\x83â\\x82â\\x82ã\\x83â\\x83â\\x83ã\\x83â\\x82â\\x82ã\\x83â\\x83â\\x82ã\\x83â\\x82ã\\x82â » going come back party feel ã\\x83â\\x83â\\x83ã\\x83â\\x82â\\x83ã\\x83â\\x83â\\x82ã\\x83â\\x82â\\x83ã\\x83â\\x83â\\x83ã\\x83â\\x82â\\x82ã\\x83â\\x83â\\x82ã\\x83â\\x82ã\\x82â¢ã\\x83â\\x83â\\x83ã\\x83â\\x82â\\x83ã\\x83â\\x83â\\x82ã\\x83â\\x82â\\x82ã\\x83â\\x83â\\x83ã\\x83â\\x82â\\x82ã\\x83â\\x83â\\x82ã\\x83â\\x82â\\x9dã\\x83â\\x83â\\x83ã\\x83â\\x82â\\x83ã\\x83â\\x83â\\x82ã\\x83â\\x82â\\x82ã\\x83â\\x83â\\x83ã\\x83â\\x82â\\x82ã\\x83â\\x83â\\x82ã\\x83â\\x82ã\\x82â¤ã\\x83â\\x83â\\x83ã\\x83â\\x82â\\x83ã\\x83â\\x83â\\x82ã\\x83â\\x82â\\x83ã\\x83â\\x83â\\x83ã\\x83â\\x82â\\x82ã\\x83â\\x83â\\x82ã\\x83â\\x82ã\\x82â¯ã\\x83â\\x83â\\x83ã\\x83â\\x82â\\x83ã\\x83â\\x83â\\x82ã\\x83â\\x82â\\x82ã\\x83â\\x83â\\x83ã\\x83â\\x82â\\x82ã\\x83â\\x83â\\x82ã\\x83â\\x82ã\\x82â¸ã\\x83â\\x83â\\x83ã\\x83â\\x82â\\x83ã\\x83â\\x83â\\x82ã\\x83â\\x82â\\x82ã\\x83â\\x83â\\x83ã\\x83â\\x82â\\x82ã\\x83â\\x83â\\x82ã\\x83â\\x82â\\x8f overall experience taste-4.5/5 ambience-5/5 service-5/5 value money-4.5/5',\n",
              " 'love restaurant much favourite place love pastry lot especially lemon tart hopscotch cake recently stuffed fungi starter loved combination mushroom cheese friazo milano frozen hazelnut cold coffee liked latter better coz former high sugar spaghetti pasta main course satisfying eating didnã\\x83â\\x83â\\x83ã\\x83â\\x82â\\x83ã\\x83â\\x83â\\x82ã\\x83â\\x82â\\x82ã\\x83â\\x83â\\x83ã\\x83â\\x82â\\x82ã\\x83â\\x83â\\x82ã\\x83â\\x82â\\x92t space fav dessert hence skipped overall itã\\x83â\\x83â\\x83ã\\x83â\\x82â\\x83ã\\x83â\\x83â\\x82ã\\x83â\\x82â\\x82ã\\x83â\\x83â\\x83ã\\x83â\\x82â\\x82ã\\x83â\\x83â\\x82ã\\x83â\\x82â\\x92s good place lighter pocket keep dropping iã\\x83â\\x83â\\x83ã\\x83â\\x82â\\x83ã\\x83â\\x83â\\x82ã\\x83â\\x82â\\x82ã\\x83â\\x83â\\x83ã\\x83â\\x82â\\x82ã\\x83â\\x83â\\x82ã\\x83â\\x82â\\x92m happy dining',\n",
              " 'food delicious try chicken wing went quick bite food filling .. ended ordering pasta quantity great space cozy staff service ver perfect enjoyed',\n",
              " 'ordered rice bath delivered item bisibelebath',\n",
              " 'thes chicken dum bariyani not god .. tha cow food thes chicken bariyani to60 avabe salt .... thes chicken bariyani not good weist many',\n",
              " \"want fancy bottle go come 's inside fancy bottle 's not great place average shake cost tooooo high not worth would like pay shake great big no place\",\n",
              " 'awesome food',\n",
              " \"great place good pizza try buy unlimited menu/ pizza huge range pizza taste come friend buy unlimited simply loved dessert favorite dessert always chilli chocolate tart pizza excellent tip 's usually crowded time 'll wait 15-20 min appointment save time\",\n",
              " 'team lunch couple time ambience good small bar lounge buffet times.it not satisfactory term food liked chicken corn starter service could definitely better food well server good mocktails drink loved karaoke room place big group book room',\n",
              " 'delivery delayed 1 hr',\n",
              " 'per menu dal not served ordered got rasam waste',\n",
              " 'place nice .. ambience good .. food descent .. servicing moderate tried near .. no point traveling far n grabbing bite',\n",
              " 'price 5/5 food 5/5 service 4/5 ambience 4/5 small place really good food quantity price perfect match starting prawn chilly big bowl chicken boneless biryani loved bit potato biryani also detectable try chicken 555 prawn chilly',\n",
              " 'ordered couscous salad chicken absolutely mind blowing couscous filled yummy nut pomogranate colored capsicum olive nice fresh herb dressing nice personally wish little dressing esp since order order via app black bean rice salad good came boiled egg peaunut sauce spicy mint sauce unuadusl yummy tasting salad say quality quantity taste mind blowing total value money',\n",
              " \"warning illegal string offset 'width /home/thehe9xj/public_html/wp-content/plugins/jetpack/class.photon.php line 473warning illegal string offset 'height /home/thehe9xj/public_html/wp-content/plugins/jetpack/class.photon.php line 474warning illegal string offset 'width /home/thehe9xj/public_html/wp-content/plugins/jetpack/class.photon.php line 473warning illegal string offset 'height /home/thehe9xj/public_html/wp-content/plugins/jetpack/class.photon.php line 474 read full post theheebee.com\",\n",
              " \"'s delightful place cozy ambience friendly staff peanut caramel sauce almost addictive dolsot bibimbap deobap absolute soul food along ttukbaegi bulgogi amazing experience overall\",\n",
              " \"food good delivery service poor unprofessional .... recommend not go home delivery option would request zomato not include restaurant list not capable delivering food time 's use order biryani night ......\",\n",
              " 'ordered grape green salad dinner night filling delicious dressing came separate salad fresh',\n",
              " 'worst.i would give negative rating food spicy used much colour food worst packaging everything spilled couldnt eat',\n",
              " 'one cute pizzeria bangalore offer best starter believe le much quantity apt single dinner offer pizza square apart get lasagne ravioli time favourite pizza florentine yum yum',\n",
              " 'amazing restaurant .. good food awesome parathas visit foodie .. staff good nice place spend time friend family',\n",
              " 'small little place jp nagar good buffet spread chose alacarte though n enjoyed every dish fish masala fry thai basil fish prawn neer dosa n biryani reasonable n totally yummy',\n",
              " \"great ambience one essential part not essential part attract customers.so point thumb ambience here.zero point waiter attenders.one point food not nominal according zomato approx rate fixed rps500 two 's not near approx rps 500.also quantity not enough.hope improve attended u ..... late service quite nervous not clear menu attend customer\",\n",
              " 'promotion ordered margherita sauted mushroom pizza combo small pizza tiny slice cake pizza tasted average hardly topping small size cake also tasted average try visiting place pizza hope experience change',\n",
              " \"met long lost friend great place beer friend chat music good not loud mean n't shout talk friend serve bottled beer decent ambiance food good not great service good\",\n",
              " \"ordered pajeon pancake beef dolsot bimimbap stone pot meat veggie rice could n't eat one go omg quantity enormous ate lunch dinner exotic well-made lot quantity impressive\",\n",
              " 'place pay no heed basic sanitation restaurant heed however menu quite varied every dish cheap delightful pocket friendly joint',\n",
              " \"'re craving home style food place serve authentic north south indian home style food unique catchy name dish ordered aloo paratha aapna aaloo paratha came home style pickle ordered fried onion raitha nice lil salt even paratha not spicy would taste amazing lil chilly dish option making vegan 's really great n't seating area taste 7/10 packing 9/10 service 10/10 value money 10/10\",\n",
              " \"fan onesta 's menu dish shock ordered food home delivery pizza served unbaked kept ready baking morning never cooked no topping 1. no cheese sauce thats feeling get eat pizza ordered 150 r combo pizza accompanied double chocolate cake excellence dessert made order combo got pathetic pizza awesome even though slice thin one order particular cake 49 r thin slice onesta hope provide value money\",\n",
              " 'nice ..... amazing food .... loved nice place go friend family visit sitting comfortable thank much desi bite',\n",
              " 'went shift relaxed lunch weekend place offer buffet located third fourth floor co-working space drink liked blue lagoon starter liked cigar roll mushroom chicken tikka main consisted paneer dal makhani chicken biryani andhra fish curry bit spicy went well naan dessert tried panna cotta gajar halwa',\n",
              " 'good collection cocktail even shooter quite exclusive ambiance great good choice music ordered coffee whiskey mixed cocktail good squid fry bit oily though ordered plate cucumber unfortunately charged 200 buck would still go vibe',\n",
              " 'good',\n",
              " 'good',\n",
              " \"'s good place hangout ambience lively simple talking food favourite red velvet cupcake paneer go mexican ã\\x83â\\x83â\\x83ã\\x83â\\x82â\\x83ã\\x83â\\x83â\\x82ã\\x83â\\x82â\\x83ã\\x83â\\x83â\\x83ã\\x83â\\x82â\\x82ã\\x83â\\x83â\\x82ã\\x83â\\x82ã\\x82â¢ã\\x83â\\x83â\\x83ã\\x83â\\x82â\\x83ã\\x83â\\x83â\\x82ã\\x83â\\x82â\\x82ã\\x83â\\x83â\\x83ã\\x83â\\x82â\\x82ã\\x83â\\x83â\\x82ã\\x83â\\x82â\\x9dã\\x83â\\x83â\\x83ã\\x83â\\x82â\\x83ã\\x83â\\x83â\\x82ã\\x83â\\x82â\\x82ã\\x83â\\x83â\\x83ã\\x83â\\x82â\\x82ã\\x83â\\x83â\\x82ã\\x83â\\x82ã\\x82â¤ã\\x83â\\x83â\\x83ã\\x83â\\x82â\\x83ã\\x83â\\x83â\\x82ã\\x83â\\x82â\\x83ã\\x83â\\x83â\\x83ã\\x83â\\x82â\\x82ã\\x83â\\x83â\\x82ã\\x83â\\x82ã\\x82â¯ã\\x83â\\x83â\\x83ã\\x83â\\x82â\\x83ã\\x83â\\x83â\\x82ã\\x83â\\x82â\\x82ã\\x83â\\x83â\\x83ã\\x83â\\x82â\\x82ã\\x83â\\x83â\\x82ã\\x83â\\x82ã\\x82â¸ã\\x83â\\x83â\\x83ã\\x83â\\x82â\\x83ã\\x83â\\x83â\\x82ã\\x83â\\x82â\\x82ã\\x83â\\x83â\\x83ã\\x83â\\x82â\\x82ã\\x83â\\x83â\\x82ã\\x83â\\x82â\\x8f ã\\x83â\\x83â\\x83ã\\x83â\\x82â\\x83ã\\x83â\\x83â\\x82ã\\x83â\\x82â\\x83ã\\x83â\\x83â\\x83ã\\x83â\\x82â\\x82ã\\x83â\\x83â\\x82ã\\x83â\\x82ã\\x82â¢ã\\x83â\\x83â\\x83ã\\x83â\\x82â\\x83ã\\x83â\\x83â\\x82ã\\x83â\\x82â\\x82ã\\x83â\\x83â\\x83ã\\x83â\\x82â\\x82ã\\x83â\\x83â\\x82ã\\x83â\\x82â\\x9cã\\x83â\\x83â\\x83ã\\x83â\\x82â\\x83ã\\x83â\\x83â\\x82ã\\x83â\\x82â\\x82ã\\x83â\\x83â\\x83ã\\x83â\\x82â\\x82ã\\x83â\\x83â\\x82ã\\x83â\\x82â\\x94ã\\x83â\\x83â\\x83ã\\x83â\\x82â\\x83ã\\x83â\\x83â\\x82ã\\x83â\\x82â\\x83ã\\x83â\\x83â\\x83ã\\x83â\\x82â\\x82ã\\x83â\\x83â\\x82ã\\x83â\\x82ã\\x82â¯ã\\x83â\\x83â\\x83ã\\x83â\\x82â\\x83ã\\x83â\\x83â\\x82ã\\x83â\\x82â\\x82ã\\x83â\\x83â\\x83ã\\x83â\\x82â\\x82ã\\x83â\\x83â\\x82ã\\x83â\\x82ã\\x82â¸ã\\x83â\\x83â\\x83ã\\x83â\\x82â\\x83ã\\x83â\\x83â\\x82ã\\x83â\\x82â\\x82ã\\x83â\\x83â\\x83ã\\x83â\\x82â\\x82ã\\x83â\\x83â\\x82ã\\x83â\\x82â\\x8ffood ã\\x83â\\x83â\\x83ã\\x83â\\x82â\\x83ã\\x83â\\x83â\\x82ã\\x83â\\x82â\\x83ã\\x83â\\x83â\\x83ã\\x83â\\x82â\\x82ã\\x83â\\x83â\\x82ã\\x83â\\x82ã\\x82â°ã\\x83â\\x83â\\x83ã\\x83â\\x82â\\x83ã\\x83â\\x83â\\x82ã\\x83â\\x82â\\x82ã\\x83â\\x83â\\x83ã\\x83â\\x82â\\x82ã\\x83â\\x83â\\x82ã\\x83â\\x82â\\x9fã\\x83â\\x83â\\x83ã\\x83â\\x82â\\x83ã\\x83â\\x83â\\x82ã\\x83â\\x82â\\x82ã\\x83â\\x83â\\x83ã\\x83â\\x82â\\x82ã\\x83â\\x83â\\x82ã\\x83â\\x82â\\x98ã\\x83â\\x83â\\x83ã\\x83â\\x82â\\x83ã\\x83â\\x83â\\x82ã\\x83â\\x82â\\x82ã\\x83â\\x83â\\x83ã\\x83â\\x82â\\x82ã\\x83â\\x83â\\x82ã\\x83â\\x82â\\x8b ã\\x83â\\x83â\\x83ã\\x83â\\x82â\\x83ã\\x83â\\x83â\\x82ã\\x83â\\x82â\\x83ã\\x83â\\x83â\\x83ã\\x83â\\x82â\\x82ã\\x83â\\x83â\\x82ã\\x83â\\x82ã\\x82â¢ã\\x83â\\x83â\\x83ã\\x83â\\x82â\\x83ã\\x83â\\x83â\\x82ã\\x83â\\x82â\\x82ã\\x83â\\x83â\\x83ã\\x83â\\x82â\\x82ã\\x83â\\x83â\\x82ã\\x83â\\x82â\\x9cã\\x83â\\x83â\\x83ã\\x83â\\x82â\\x83ã\\x83â\\x83â\\x82ã\\x83â\\x82â\\x82ã\\x83â\\x83â\\x83ã\\x83â\\x82â\\x82ã\\x83â\\x83â\\x82ã\\x83â\\x82â\\x94ã\\x83â\\x83â\\x83ã\\x83â\\x82â\\x83ã\\x83â\\x83â\\x82ã\\x83â\\x82â\\x83ã\\x83â\\x83â\\x83ã\\x83â\\x82â\\x82ã\\x83â\\x83â\\x82ã\\x83â\\x82ã\\x82â¯ã\\x83â\\x83â\\x83ã\\x83â\\x82â\\x83ã\\x83â\\x83â\\x82ã\\x83â\\x82â\\x82ã\\x83â\\x83â\\x83ã\\x83â\\x82â\\x82ã\\x83â\\x83â\\x82ã\\x83â\\x82ã\\x82â¸ã\\x83â\\x83â\\x83ã\\x83â\\x82â\\x83ã\\x83â\\x83â\\x82ã\\x83â\\x82â\\x82ã\\x83â\\x83â\\x83ã\\x83â\\x82â\\x82ã\\x83â\\x83â\\x82ã\\x83â\\x82â\\x8ffriendly staff ã\\x83â\\x83â\\x83ã\\x83â\\x82â\\x83ã\\x83â\\x83â\\x82ã\\x83â\\x82â\\x83ã\\x83â\\x83â\\x83ã\\x83â\\x82â\\x82ã\\x83â\\x83â\\x82ã\\x83â\\x82ã\\x82â¢ã\\x83â\\x83â\\x83ã\\x83â\\x82â\\x83ã\\x83â\\x83â\\x82ã\\x83â\\x82â\\x82ã\\x83â\\x83â\\x83ã\\x83â\\x82â\\x82ã\\x83â\\x83â\\x82ã\\x83â\\x82â\\x9cã\\x83â\\x83â\\x83ã\\x83â\\x82â\\x83ã\\x83â\\x83â\\x82ã\\x83â\\x82â\\x82ã\\x83â\\x83â\\x83ã\\x83â\\x82â\\x82ã\\x83â\\x83â\\x82ã\\x83â\\x82â\\x94ã\\x83â\\x83â\\x83ã\\x83â\\x82â\\x83ã\\x83â\\x83â\\x82ã\\x83â\\x82â\\x83ã\\x83â\\x83â\\x83ã\\x83â\\x82â\\x82ã\\x83â\\x83â\\x82ã\\x83â\\x82ã\\x82â¯ã\\x83â\\x83â\\x83ã\\x83â\\x82â\\x83ã\\x83â\\x83â\\x82ã\\x83â\\x82â\\x82ã\\x83â\\x83â\\x83ã\\x83â\\x82â\\x82ã\\x83â\\x83â\\x82ã\\x83â\\x82ã\\x82â¸ã\\x83â\\x83â\\x83ã\\x83â\\x82â\\x83ã\\x83â\\x83â\\x82ã\\x83â\\x82â\\x82ã\\x83â\\x83â\\x83ã\\x83â\\x82â\\x82ã\\x83â\\x83â\\x82ã\\x83â\\x82â\\x8f ambience ð\\x9f¤© ã\\x83â\\x83â\\x83ã\\x83â\\x82â\\x83ã\\x83â\\x83â\\x82ã\\x83â\\x82â\\x83ã\\x83â\\x83â\\x83ã\\x83â\\x82â\\x82ã\\x83â\\x83â\\x82ã\\x83â\\x82ã\\x82â¢ã\\x83â\\x83â\\x83ã\\x83â\\x82â\\x83ã\\x83â\\x83â\\x82ã\\x83â\\x82â\\x82ã\\x83â\\x83â\\x83ã\\x83â\\x82â\\x82ã\\x83â\\x83â\\x82ã\\x83â\\x82â\\x9cã\\x83â\\x83â\\x83ã\\x83â\\x82â\\x83ã\\x83â\\x83â\\x82ã\\x83â\\x82â\\x82ã\\x83â\\x83â\\x83ã\\x83â\\x82â\\x82ã\\x83â\\x83â\\x82ã\\x83â\\x82â\\x96ã\\x83â\\x83â\\x83ã\\x83â\\x82â\\x83ã\\x83â\\x83â\\x82ã\\x83â\\x82â\\x83ã\\x83â\\x83â\\x83ã\\x83â\\x82â\\x82ã\\x83â\\x83â\\x82ã\\x83â\\x82ã\\x82â¯ã\\x83â\\x83â\\x83ã\\x83â\\x82â\\x83ã\\x83â\\x83â\\x82ã\\x83â\\x82â\\x82ã\\x83â\\x83â\\x83ã\\x83â\\x82â\\x82ã\\x83â\\x83â\\x82ã\\x83â\\x82ã\\x82â¸ã\\x83â\\x83â\\x83ã\\x83â\\x82â\\x83ã\\x83â\\x83â\\x82ã\\x83â\\x82â\\x82ã\\x83â\\x83â\\x83ã\\x83â\\x82â\\x82ã\\x83â\\x83â\\x82ã\\x83â\\x82â\\x8fbudget friendly ã\\x83â\\x83â\\x83ã\\x83â\\x82â\\x83ã\\x83â\\x83â\\x82ã\\x83â\\x82â\\x83ã\\x83â\\x83â\\x83ã\\x83â\\x82â\\x82ã\\x83â\\x83â\\x82ã\\x83â\\x82ã\\x82â¢ã\\x83â\\x83â\\x83ã\\x83â\\x82â\\x83ã\\x83â\\x83â\\x82ã\\x83â\\x82â\\x82ã\\x83â\\x83â\\x83ã\\x83â\\x82â\\x82ã\\x83â\\x83â\\x82ã\\x83â\\x82â\\x9cã\\x83â\\x83â\\x83ã\\x83â\\x82â\\x83ã\\x83â\\x83â\\x82ã\\x83â\\x82â\\x82ã\\x83â\\x83â\\x83ã\\x83â\\x82â\\x82ã\\x83â\\x83â\\x82ã\\x83â\\x82â\\x96ã\\x83â\\x83â\\x83ã\\x83â\\x82â\\x83ã\\x83â\\x83â\\x82ã\\x83â\\x82â\\x83ã\\x83â\\x83â\\x83ã\\x83â\\x82â\\x82ã\\x83â\\x83â\\x82ã\\x83â\\x82ã\\x82â¯ã\\x83â\\x83â\\x83ã\\x83â\\x82â\\x83ã\\x83â\\x83â\\x82ã\\x83â\\x82â\\x82ã\\x83â\\x83â\\x83ã\\x83â\\x82â\\x82ã\\x83â\\x83â\\x82ã\\x83â\\x82ã\\x82â¸ã\\x83â\\x83â\\x83ã\\x83â\\x82â\\x83ã\\x83â\\x83â\\x82ã\\x83â\\x82â\\x82ã\\x83â\\x83â\\x83ã\\x83â\\x82â\\x82ã\\x83â\\x83â\\x82ã\\x83â\\x82â\\x8f le option good overall experience ã\\x83â\\x83â\\x83ã\\x83â\\x82â\\x83ã\\x83â\\x83â\\x82ã\\x83â\\x82â\\x83ã\\x83â\\x83â\\x83ã\\x83â\\x82â\\x82ã\\x83â\\x83â\\x82ã\\x83â\\x82ã\\x82â¢ã\\x83â\\x83â\\x83ã\\x83â\\x82â\\x83ã\\x83â\\x83â\\x82ã\\x83â\\x82â\\x82ã\\x83â\\x83â\\x83ã\\x83â\\x82â\\x82ã\\x83â\\x83â\\x82ã\\x83â\\x82â\\x9cã\\x83â\\x83â\\x83ã\\x83â\\x82â\\x83ã\\x83â\\x83â\\x82ã\\x83â\\x82â\\x82ã\\x83â\\x83â\\x83ã\\x83â\\x82â\\x82ã\\x83â\\x83â\\x82ã\\x83â\\x82â\\x8cã\\x83â\\x83â\\x83ã\\x83â\\x82â\\x83ã\\x83â\\x83â\\x82ã\\x83â\\x82â\\x83ã\\x83â\\x83â\\x83ã\\x83â\\x82â\\x82ã\\x83â\\x83â\\x82ã\\x83â\\x82ã\\x82â°ã\\x83â\\x83â\\x83ã\\x83â\\x82â\\x83ã\\x83â\\x83â\\x82ã\\x83â\\x82â\\x82ã\\x83â\\x83â\\x83ã\\x83â\\x82â\\x82ã\\x83â\\x83â\\x82ã\\x83â\\x82â\\x9fã\\x83â\\x83â\\x83ã\\x83â\\x82â\\x83ã\\x83â\\x83â\\x82ã\\x83â\\x82â\\x82ã\\x83â\\x83â\\x83ã\\x83â\\x82â\\x82ã\\x83â\\x83â\\x82ã\\x83â\\x82â\\x8fã\\x83â\\x83â\\x83ã\\x83â\\x82â\\x83ã\\x83â\\x83â\\x82ã\\x83â\\x82â\\x82ã\\x83â\\x83â\\x83ã\\x83â\\x82â\\x82ã\\x83â\\x83â\\x82ã\\x83â\\x82ã\\x82â » ã\\x83â\\x83â\\x83ã\\x83â\\x82â\\x83ã\\x83â\\x83â\\x82ã\\x83â\\x82â\\x83ã\\x83â\\x83â\\x83ã\\x83â\\x82â\\x82ã\\x83â\\x83â\\x82ã\\x83â\\x82ã\\x82â°ã\\x83â\\x83â\\x83ã\\x83â\\x82â\\x83ã\\x83â\\x83â\\x82ã\\x83â\\x82â\\x82ã\\x83â\\x83â\\x83ã\\x83â\\x82â\\x82ã\\x83â\\x83â\\x82ã\\x83â\\x82â\\x9fã\\x83â\\x83â\\x83ã\\x83â\\x82â\\x83ã\\x83â\\x83â\\x82ã\\x83â\\x82â\\x82ã\\x83â\\x83â\\x83ã\\x83â\\x82â\\x82ã\\x83â\\x83â\\x82ã\\x83â\\x82â\\x98ã\\x83â\\x83â\\x83ã\\x83â\\x82â\\x83ã\\x83â\\x83â\\x82ã\\x83â\\x82â\\x82ã\\x83â\\x83â\\x83ã\\x83â\\x82â\\x82ã\\x83â\\x83â\\x82ã\\x83â\\x82â\\x8e\",\n",
              " 'bbb perfect breakfast start day good amount option food prepared perfection ambience not high scale lunch though pull cash pocket good starter desert lover want value money food prefer place breakfast',\n",
              " 'small palace compared restaurant different place food neutral also zomato gold tried leg chicken man whole leg two big piece perfectly seasoned grilled nalli nihari turn one three piece mutton seemed old rotis really nice',\n",
              " \"one best waffle ever life amazing delicious one pretty decent place waffle tried midnight dream waffle chocolate overload waffle waffle delicious yumm chocolate overload favourite full chocolate full nut loved would n't definitely recommended place amazing waffle\",\n",
              " 'taste not good ok bean not fried properly downside rice white',\n",
              " 'hell spicy could eat half even',\n",
              " 'worst delivery told post order starving coz skipped lunch still delivered 3 hour pathetic never order restaurant',\n",
              " 'best place food bangalore .... reasonable great taste .. guy whenever u visit bangalore dont forget go fanoos',\n",
              " 'mutton biryani cooked perfect mutton pepper dry good tried leg soup- little spicy taste good typical naati style food anyone go not get disappointed',\n",
              " 'nandhini deluxe hotel excellent multi cuisine restaurant andhra full meal nice .. cole road hotel food good tasty ..',\n",
              " 'located one cafeteria cessna business park place offer quick hot food term price not find value place chicken biryani come around 180 inr taste moist unfortunately oily chicken piece tender juicy oil spoiler chicken gravy served poor taste quality paratha bad instagram.com',\n",
              " 'best lip smacking food staff polite friendly love food test environment best thing try espetada',\n",
              " 'proper flavor rajasthan get taste bud food ordered chole kulche ghari kachori taste blew mind satisfied taste bud service quickest might need get vehicle stand/ sit hog onto best rajasthani food',\n",
              " \"love place healthy light food n't come feeling stuffed wanting take nap decor beautiful green board game bonus\",\n",
              " 'new outlet locality koramangala honey dew melon cucumber drink cooling watermelon basil drink refreshing spicy dan dan noodle chicken prawn slurpy noodle chunk meat ur choice udan noodle box non veg burrp filling service- good ambience good food taste good food quantity/quality sufficient one come back yes',\n",
              " 'came friend breakfast liked ambience pretty good food amazing tasty ambience perfect per renaissance standard best thing staff restaurant good everyone came spoke regarding service food overall experience excellent recommend go friend family',\n",
              " 'long waiting time especially saturday food drink usual okay even though place jam packed timing decent service good',\n",
              " \"ordered cappuccino bowl maggi served polite guy work really loved evening vibe try especially 're christite looking place chill around sg palya\",\n",
              " 'truly recommend spot ordering food amazing taste come food not far away home',\n",
              " \"came couple beer friend .... good ambience staff not courteous may one allotted u n't ordered two starter .... one never came 1hr leave asked waiter happened order ran came back stating tandoor not yet started take time left better way manage inform customer\",\n",
              " 'would start way food quite good well presented staff really well beheaved know customer prefer beautiful thing cafe surroundings serve time would rate 10 10',\n",
              " 'food ã\\x83â\\x83â\\x83ã\\x83â\\x82â\\x83ã\\x83â\\x83â\\x82ã\\x83â\\x82â\\x83ã\\x83â\\x83â\\x83ã\\x83â\\x82â\\x82ã\\x83â\\x83â\\x82ã\\x83â\\x82ã\\x82â¢ã\\x83â\\x83â\\x83ã\\x83â\\x82â\\x83ã\\x83â\\x83â\\x82ã\\x83â\\x82â\\x82ã\\x83â\\x83â\\x83ã\\x83â\\x82â\\x82ã\\x83â\\x83â\\x82ã\\x83â\\x82â\\xadã\\x83â\\x83â\\x83ã\\x83â\\x82â\\x83ã\\x83â\\x83â\\x82ã\\x83â\\x82â\\x82ã\\x83â\\x83â\\x83ã\\x83â\\x82â\\x82ã\\x83â\\x83â\\x82ã\\x83â\\x82â\\x90ã\\x83â\\x83â\\x83ã\\x83â\\x82â\\x83ã\\x83â\\x83â\\x82ã\\x83â\\x82â\\x83ã\\x83â\\x83â\\x83ã\\x83â\\x82â\\x82ã\\x83â\\x83â\\x82ã\\x83â\\x82ã\\x82â¢ã\\x83â\\x83â\\x83ã\\x83â\\x82â\\x83ã\\x83â\\x83â\\x82ã\\x83â\\x82â\\x82ã\\x83â\\x83â\\x83ã\\x83â\\x82â\\x82ã\\x83â\\x83â\\x82ã\\x83â\\x82â\\xadã\\x83â\\x83â\\x83ã\\x83â\\x82â\\x83ã\\x83â\\x83â\\x82ã\\x83â\\x82â\\x82ã\\x83â\\x83â\\x83ã\\x83â\\x82â\\x82ã\\x83â\\x83â\\x82ã\\x83â\\x82â\\x90ã\\x83â\\x83â\\x83ã\\x83â\\x82â\\x83ã\\x83â\\x83â\\x82ã\\x83â\\x82â\\x83ã\\x83â\\x83â\\x83ã\\x83â\\x82â\\x82ã\\x83â\\x83â\\x82ã\\x83â\\x82ã\\x82â¢ã\\x83â\\x83â\\x83ã\\x83â\\x82â\\x83ã\\x83â\\x83â\\x82ã\\x83â\\x82â\\x82ã\\x83â\\x83â\\x83ã\\x83â\\x82â\\x82ã\\x83â\\x83â\\x82ã\\x83â\\x82â\\xadã\\x83â\\x83â\\x83ã\\x83â\\x82â\\x83ã\\x83â\\x83â\\x82ã\\x83â\\x82â\\x82ã\\x83â\\x83â\\x83ã\\x83â\\x82â\\x82ã\\x83â\\x83â\\x82ã\\x83â\\x82â\\x90ã\\x83â\\x83â\\x83ã\\x83â\\x82â\\x83ã\\x83â\\x83â\\x82ã\\x83â\\x82â\\x83ã\\x83â\\x83â\\x83ã\\x83â\\x82â\\x82ã\\x83â\\x83â\\x82ã\\x83â\\x82ã\\x82â¢ã\\x83â\\x83â\\x83ã\\x83â\\x82â\\x83ã\\x83â\\x83â\\x82ã\\x83â\\x82â\\x82ã\\x83â\\x83â\\x83ã\\x83â\\x82â\\x82ã\\x83â\\x83â\\x82ã\\x83â\\x82â\\xadã\\x83â\\x83â\\x83ã\\x83â\\x82â\\x83ã\\x83â\\x83â\\x82ã\\x83â\\x82â\\x82ã\\x83â\\x83â\\x83ã\\x83â\\x82â\\x82ã\\x83â\\x83â\\x82ã\\x83â\\x82â\\x90ã\\x83â\\x83â\\x83ã\\x83â\\x82â\\x83ã\\x83â\\x83â\\x82ã\\x83â\\x82â\\x83ã\\x83â\\x83â\\x83ã\\x83â\\x82â\\x82ã\\x83â\\x83â\\x82ã\\x83â\\x82ã\\x82â¢ã\\x83â\\x83â\\x83ã\\x83â\\x82â\\x83ã\\x83â\\x83â\\x82ã\\x83â\\x82â\\x82ã\\x83â\\x83â\\x83ã\\x83â\\x82â\\x82ã\\x83â\\x83â\\x82ã\\x83â\\x82â\\xadã\\x83â\\x83â\\x83ã\\x83â\\x82â\\x83ã\\x83â\\x83â\\x82ã\\x83â\\x82â\\x82ã\\x83â\\x83â\\x83ã\\x83â\\x82â\\x82ã\\x83â\\x83â\\x82ã\\x83â\\x82â\\x90 ambianceã\\x83â\\x83â\\x83ã\\x83â\\x82â\\x83ã\\x83â\\x83â\\x82ã\\x83â\\x82â\\x83ã\\x83â\\x83â\\x83ã\\x83â\\x82â\\x82ã\\x83â\\x83â\\x82ã\\x83â\\x82ã\\x82â¢ã\\x83â\\x83â\\x83ã\\x83â\\x82â\\x83ã\\x83â\\x83â\\x82ã\\x83â\\x82â\\x82ã\\x83â\\x83â\\x83ã\\x83â\\x82â\\x82ã\\x83â\\x83â\\x82ã\\x83â\\x82â\\xadã\\x83â\\x83â\\x83ã\\x83â\\x82â\\x83ã\\x83â\\x83â\\x82ã\\x83â\\x82â\\x82ã\\x83â\\x83â\\x83ã\\x83â\\x82â\\x82ã\\x83â\\x83â\\x82ã\\x83â\\x82â\\x90ã\\x83â\\x83â\\x83ã\\x83â\\x82â\\x83ã\\x83â\\x83â\\x82ã\\x83â\\x82â\\x83ã\\x83â\\x83â\\x83ã\\x83â\\x82â\\x82ã\\x83â\\x83â\\x82ã\\x83â\\x82ã\\x82â¢ã\\x83â\\x83â\\x83ã\\x83â\\x82â\\x83ã\\x83â\\x83â\\x82ã\\x83â\\x82â\\x82ã\\x83â\\x83â\\x83ã\\x83â\\x82â\\x82ã\\x83â\\x83â\\x82ã\\x83â\\x82â\\xadã\\x83â\\x83â\\x83ã\\x83â\\x82â\\x83ã\\x83â\\x83â\\x82ã\\x83â\\x82â\\x82ã\\x83â\\x83â\\x83ã\\x83â\\x82â\\x82ã\\x83â\\x83â\\x82ã\\x83â\\x82â\\x90ã\\x83â\\x83â\\x83ã\\x83â\\x82â\\x83ã\\x83â\\x83â\\x82ã\\x83â\\x82â\\x83ã\\x83â\\x83â\\x83ã\\x83â\\x82â\\x82ã\\x83â\\x83â\\x82ã\\x83â\\x82ã\\x82â¢ã\\x83â\\x83â\\x83ã\\x83â\\x82â\\x83ã\\x83â\\x83â\\x82ã\\x83â\\x82â\\x82ã\\x83â\\x83â\\x83ã\\x83â\\x82â\\x82ã\\x83â\\x83â\\x82ã\\x83â\\x82â\\xadã\\x83â\\x83â\\x83ã\\x83â\\x82â\\x83ã\\x83â\\x83â\\x82ã\\x83â\\x82â\\x82ã\\x83â\\x83â\\x83ã\\x83â\\x82â\\x82ã\\x83â\\x83â\\x82ã\\x83â\\x82â\\x90 serviceã\\x83â\\x83â\\x83ã\\x83â\\x82â\\x83ã\\x83â\\x83â\\x82ã\\x83â\\x82â\\x83ã\\x83â\\x83â\\x83ã\\x83â\\x82â\\x82ã\\x83â\\x83â\\x82ã\\x83â\\x82ã\\x82â¢ã\\x83â\\x83â\\x83ã\\x83â\\x82â\\x83ã\\x83â\\x83â\\x82ã\\x83â\\x82â\\x82ã\\x83â\\x83â\\x83ã\\x83â\\x82â\\x82ã\\x83â\\x83â\\x82ã\\x83â\\x82â\\xadã\\x83â\\x83â\\x83ã\\x83â\\x82â\\x83ã\\x83â\\x83â\\x82ã\\x83â\\x82â\\x82ã\\x83â\\x83â\\x83ã\\x83â\\x82â\\x82ã\\x83â\\x83â\\x82ã\\x83â\\x82â\\x90ã\\x83â\\x83â\\x83ã\\x83â\\x82â\\x83ã\\x83â\\x83â\\x82ã\\x83â\\x82â\\x83ã\\x83â\\x83â\\x83ã\\x83â\\x82â\\x82ã\\x83â\\x83â\\x82ã\\x83â\\x82ã\\x82â¢ã\\x83â\\x83â\\x83ã\\x83â\\x82â\\x83ã\\x83â\\x83â\\x82ã\\x83â\\x82â\\x82ã\\x83â\\x83â\\x83ã\\x83â\\x82â\\x82ã\\x83â\\x83â\\x82ã\\x83â\\x82â\\xadã\\x83â\\x83â\\x83ã\\x83â\\x82â\\x83ã\\x83â\\x83â\\x82ã\\x83â\\x82â\\x82ã\\x83â\\x83â\\x83ã\\x83â\\x82â\\x82ã\\x83â\\x83â\\x82ã\\x83â\\x82â\\x90ã\\x83â\\x83â\\x83ã\\x83â\\x82â\\x83ã\\x83â\\x83â\\x82ã\\x83â\\x82â\\x83ã\\x83â\\x83â\\x83ã\\x83â\\x82â\\x82ã\\x83â\\x83â\\x82ã\\x83â\\x82ã\\x82â¢ã\\x83â\\x83â\\x83ã\\x83â\\x82â\\x83ã\\x83â\\x83â\\x82ã\\x83â\\x82â\\x82ã\\x83â\\x83â\\x83ã\\x83â\\x82â\\x82ã\\x83â\\x83â\\x82ã\\x83â\\x82â\\xadã\\x83â\\x83â\\x83ã\\x83â\\x82â\\x83ã\\x83â\\x83â\\x82ã\\x83â\\x82â\\x82ã\\x83â\\x83â\\x83ã\\x83â\\x82â\\x82ã\\x83â\\x83â\\x82ã\\x83â\\x82â\\x90ã\\x83â\\x83â\\x83ã\\x83â\\x82â\\x83ã\\x83â\\x83â\\x82ã\\x83â\\x82â\\x83ã\\x83â\\x83â\\x83ã\\x83â\\x82â\\x82ã\\x83â\\x83â\\x82ã\\x83â\\x82ã\\x82â¢ã\\x83â\\x83â\\x83ã\\x83â\\x82â\\x83ã\\x83â\\x83â\\x82ã\\x83â\\x82â\\x82ã\\x83â\\x83â\\x83ã\\x83â\\x82â\\x82ã\\x83â\\x83â\\x82ã\\x83â\\x82â\\xadã\\x83â\\x83â\\x83ã\\x83â\\x82â\\x83ã\\x83â\\x83â\\x82ã\\x83â\\x82â\\x82ã\\x83â\\x83â\\x83ã\\x83â\\x82â\\x82ã\\x83â\\x83â\\x82ã\\x83â\\x82â\\x90 value ã\\x83â\\x83â\\x83ã\\x83â\\x82â\\x83ã\\x83â\\x83â\\x82ã\\x83â\\x82â\\x83ã\\x83â\\x83â\\x83ã\\x83â\\x82â\\x82ã\\x83â\\x83â\\x82ã\\x83â\\x82ã\\x82â¢ã\\x83â\\x83â\\x83ã\\x83â\\x82â\\x83ã\\x83â\\x83â\\x82ã\\x83â\\x82â\\x82ã\\x83â\\x83â\\x83ã\\x83â\\x82â\\x82ã\\x83â\\x83â\\x82ã\\x83â\\x82â\\xadã\\x83â\\x83â\\x83ã\\x83â\\x82â\\x83ã\\x83â\\x83â\\x82ã\\x83â\\x82â\\x82ã\\x83â\\x83â\\x83ã\\x83â\\x82â\\x82ã\\x83â\\x83â\\x82ã\\x83â\\x82â\\x90ã\\x83â\\x83â\\x83ã\\x83â\\x82â\\x83ã\\x83â\\x83â\\x82ã\\x83â\\x82â\\x83ã\\x83â\\x83â\\x83ã\\x83â\\x82â\\x82ã\\x83â\\x83â\\x82ã\\x83â\\x82ã\\x82â¢ã\\x83â\\x83â\\x83ã\\x83â\\x82â\\x83ã\\x83â\\x83â\\x82ã\\x83â\\x82â\\x82ã\\x83â\\x83â\\x83ã\\x83â\\x82â\\x82ã\\x83â\\x83â\\x82ã\\x83â\\x82â\\xadã\\x83â\\x83â\\x83ã\\x83â\\x82â\\x83ã\\x83â\\x83â\\x82ã\\x83â\\x82â\\x82ã\\x83â\\x83â\\x83ã\\x83â\\x82â\\x82ã\\x83â\\x83â\\x82ã\\x83â\\x82â\\x90ã\\x83â\\x83â\\x83ã\\x83â\\x82â\\x83ã\\x83â\\x83â\\x82ã\\x83â\\x82â\\x83ã\\x83â\\x83â\\x83ã\\x83â\\x82â\\x82ã\\x83â\\x83â\\x82ã\\x83â\\x82ã\\x82â¢ã\\x83â\\x83â\\x83ã\\x83â\\x82â\\x83ã\\x83â\\x83â\\x82ã\\x83â\\x82â\\x82ã\\x83â\\x83â\\x83ã\\x83â\\x82â\\x82ã\\x83â\\x83â\\x82ã\\x83â\\x82â\\xadã\\x83â\\x83â\\x83ã\\x83â\\x82â\\x83ã\\x83â\\x83â\\x82ã\\x83â\\x82â\\x82ã\\x83â\\x83â\\x83ã\\x83â\\x82â\\x82ã\\x83â\\x83â\\x82ã\\x83â\\x82â\\x90ã\\x83â\\x83â\\x83ã\\x83â\\x82â\\x83ã\\x83â\\x83â\\x82ã\\x83â\\x82â\\x83ã\\x83â\\x83â\\x83ã\\x83â\\x82â\\x82ã\\x83â\\x83â\\x82ã\\x83â\\x82ã\\x82â¢ã\\x83â\\x83â\\x83ã\\x83â\\x82â\\x83ã\\x83â\\x83â\\x82ã\\x83â\\x82â\\x82ã\\x83â\\x83â\\x83ã\\x83â\\x82â\\x82ã\\x83â\\x83â\\x82ã\\x83â\\x82â\\xadã\\x83â\\x83â\\x83ã\\x83â\\x82â\\x83ã\\x83â\\x83â\\x82ã\\x83â\\x82â\\x82ã\\x83â\\x83â\\x83ã\\x83â\\x82â\\x82ã\\x83â\\x83â\\x82ã\\x83â\\x82â\\x90ã\\x83â\\x83â\\x83ã\\x83â\\x82â\\x83ã\\x83â\\x83â\\x82ã\\x83â\\x82â\\x83ã\\x83â\\x83â\\x83ã\\x83â\\x82â\\x82ã\\x83â\\x83â\\x82ã\\x83â\\x82ã\\x82â¢ã\\x83â\\x83â\\x83ã\\x83â\\x82â\\x83ã\\x83â\\x83â\\x82ã\\x83â\\x82â\\x82ã\\x83â\\x83â\\x83ã\\x83â\\x82â\\x82ã\\x83â\\x83â\\x82ã\\x83â\\x82â\\xadã\\x83â\\x83â\\x83ã\\x83â\\x82â\\x83ã\\x83â\\x83â\\x82ã\\x83â\\x82â\\x82ã\\x83â\\x83â\\x83ã\\x83â\\x82â\\x82ã\\x83â\\x83â\\x82ã\\x83â\\x82â\\x90 thanks zomato gold ã\\x83â\\x83â\\x83ã\\x83â\\x82â\\x83ã\\x83â\\x83â\\x82ã\\x83â\\x82â\\x83ã\\x83â\\x83â\\x83ã\\x83â\\x82â\\x82ã\\x83â\\x83â\\x82ã\\x83â\\x82ã\\x82â°ã\\x83â\\x83â\\x83ã\\x83â\\x82â\\x83ã\\x83â\\x83â\\x82ã\\x83â\\x82â\\x82ã\\x83â\\x83â\\x83ã\\x83â\\x82â\\x82ã\\x83â\\x83â\\x82ã\\x83â\\x82â\\x9fã\\x83â\\x83â\\x83ã\\x83â\\x82â\\x83ã\\x83â\\x83â\\x82ã\\x83â\\x82â\\x82ã\\x83â\\x83â\\x83ã\\x83â\\x82â\\x82ã\\x83â\\x83â\\x82ã\\x83â\\x82â\\x98ã\\x83â\\x83â\\x83ã\\x83â\\x82â\\x83ã\\x83â\\x83â\\x82ã\\x83â\\x82â\\x82ã\\x83â\\x83â\\x83ã\\x83â\\x82â\\x82ã\\x83â\\x83â\\x82ã\\x83â\\x82â\\x89 carpaccio try prawn cooked garlic olive oil yum char grilled lamb shank really good grilled salmon',\n",
              " 'beautiful place good ambience great time friend family nacho pizza variety try champagne wine great taste',\n",
              " \"ordered 1 veg burger served potato wedge 2 chicken sandwich 3 ny cheesecake burger sandwich 're okay cheesecake\",\n",
              " 'orderd two prawn dish stock replaced top capsicum onion little fish/prawn',\n",
              " 'great play food wise roll kebab not sutiable dine cheap rate real vally money personal fav afghani murg nizzam roll',\n",
              " 'food good .. really enjoyed everything .. thanks everyone .. reached late still make u sit eat full eased comfort thank team keep ..',\n",
              " 'one favorite hangout place love rangashankara little cafe extension managed anju pretty warm relaxing food sabudana vada kheema pav topped half done gooey egg brilliant hot chocolate yumm tiled roof greenery around theater crowd yup might run girish karnad rajat kapoor frequently arundhati naag love',\n",
              " \"craving maharashtrian taste head place four outlet whole bangalore main kitchen seating normal kind n't spend much ambience per price thali 1 vada pav good 2 puran poli thali yum curry kadhis .. specially chatni seemed famous non veg thalis kolhapuri chappal entrance highlight\",\n",
              " \"everything 's overpriced restaurant look bad waiter manager arrogant bad time dealing get order done finally leave waiting 20mins without order worst ever experience restaurant till date no body give damn 're walking without order n't mind losing business n't expect speak english kannada know speak hindi one bad experience\",\n",
              " 'average chicken covered cold piece roti',\n",
              " 'cosy place.in starter basil fish sticks.we wanted steak ordered treasure chest steak chicken captain jack special steak chicken honey flamed steak pork one .food dessert super awesome.definitely call second visit',\n",
              " 'lunch buffet wide variety wonton dumpling asian starter indonesian thai cuisine mostly maybe add sushi customer taste desert good werent authentic asian dessert overall nice buffet great ambience super friendly staff',\n",
              " 'lovely ambiance great food greatly priced even say people around nice visit place meeting lazying around potato basket pork sausage ardent tea drinker day perfectly blended dinner jumbo burger say jumbo visit',\n",
              " 'place serf good burger beef burger chicken burger jumbo bacon burger .. realy worth money tasty nice .. good place ..... homely atomshr .....',\n",
              " 'ambience wise quite decent food wi not good donã\\x83â\\x83â\\x83ã\\x83â\\x82â\\x83ã\\x83â\\x83â\\x82ã\\x83â\\x82â\\x82ã\\x83â\\x83â\\x83ã\\x83â\\x82â\\x82ã\\x83â\\x83â\\x82ã\\x83â\\x82â\\x92t serve alcohol alcohol lover refrain paying visit pasta horrendous pizza service also not upto mark name carry disappointed',\n",
              " 'ordered kukkad pot rice peri peri paneer steak presentation good liked first like rice kukkad rice later removing topping realized taste okay okay not good not bad provided tamarind sauce novelty liked need try item',\n",
              " 'biryani lover heard place friend apart taste quality one thing stressed upon packaging packaging one point usually come last people describe review place nevertheless decided check yes packaging good day age people resorted using foil cut costs.the quantity decent enough could not finish entire thing one go juicy succulent piece meat placed fragrant biryani rice mix entire thing start eat complimentary sweet nice gesture part recommend place friend colleague',\n",
              " \"'s always great biryani paradise mutton biryani yummm love desert ice cream place last week recommended biryani lover\",\n",
              " \"located comfortable walking distance mantri mall restaurant lot thing offer delicious food nice interior sweet staff went family dinner good time starter lip smackingly delicious paneer kadai could 've better though visit foodie\",\n",
              " \"picture spiced pineapple pastry light vanilla cream filling served coorg pineapple chutney top _______________________________ 's great south india coastal finger food ambience load people always waiting seat bonus noise important value money _______________________________ rating taste ã\\x83â\\x83â\\x83ã\\x83â\\x82â\\x83ã\\x83â\\x83â\\x82ã\\x83â\\x82â\\x83ã\\x83â\\x83â\\x83ã\\x83â\\x82â\\x82ã\\x83â\\x83â\\x82ã\\x83â\\x82ã\\x82â°ã\\x83â\\x83â\\x83ã\\x83â\\x82â\\x83ã\\x83â\\x83â\\x82ã\\x83â\\x82â\\x82ã\\x83â\\x83â\\x83ã\\x83â\\x82â\\x82ã\\x83â\\x83â\\x82ã\\x83â\\x82â\\x9fã\\x83â\\x83â\\x83ã\\x83â\\x82â\\x83ã\\x83â\\x83â\\x82ã\\x83â\\x82â\\x82ã\\x83â\\x83â\\x83ã\\x83â\\x82â\\x82ã\\x83â\\x83â\\x82ã\\x83â\\x82ã\\x82â¥ã\\x83â\\x83â\\x83ã\\x83â\\x82â\\x83ã\\x83â\\x83â\\x82ã\\x83â\\x82â\\x82ã\\x83â\\x83â\\x83ã\\x83â\\x82â\\x82ã\\x83â\\x83â\\x82ã\\x83â\\x82â\\x98 4/5 ambience ã\\x83â\\x83â\\x83ã\\x83â\\x82â\\x83ã\\x83â\\x83â\\x82ã\\x83â\\x82â\\x83ã\\x83â\\x83â\\x83ã\\x83â\\x82â\\x82ã\\x83â\\x83â\\x82ã\\x83â\\x82ã\\x82â°ã\\x83â\\x83â\\x83ã\\x83â\\x82â\\x83ã\\x83â\\x83â\\x82ã\\x83â\\x82â\\x82ã\\x83â\\x83â\\x83ã\\x83â\\x82â\\x82ã\\x83â\\x83â\\x82ã\\x83â\\x82â\\x9fã\\x83â\\x83â\\x83ã\\x83â\\x82â\\x83ã\\x83â\\x83â\\x82ã\\x83â\\x82â\\x82ã\\x83â\\x83â\\x83ã\\x83â\\x82â\\x82ã\\x83â\\x83â\\x82ã\\x83â\\x82â\\x8fã\\x83â\\x83â\\x83ã\\x83â\\x82â\\x83ã\\x83â\\x83â\\x82ã\\x83â\\x82â\\x82ã\\x83â\\x83â\\x83ã\\x83â\\x82â\\x82ã\\x83â\\x83â\\x82ã\\x83â\\x82â\\x9bã\\x83â\\x83â\\x83ã\\x83â\\x82â\\x83ã\\x83â\\x83â\\x82ã\\x83â\\x82â\\x83ã\\x83â\\x83â\\x83ã\\x83â\\x82â\\x82ã\\x83â\\x83â\\x82ã\\x83â\\x82ã\\x82â¯ã\\x83â\\x83â\\x83ã\\x83â\\x82â\\x83ã\\x83â\\x83â\\x82ã\\x83â\\x82â\\x82ã\\x83â\\x83â\\x83ã\\x83â\\x82â\\x82ã\\x83â\\x83â\\x82ã\\x83â\\x82ã\\x82â¸ã\\x83â\\x83â\\x83ã\\x83â\\x82â\\x83ã\\x83â\\x83â\\x82ã\\x83â\\x82â\\x82ã\\x83â\\x83â\\x83ã\\x83â\\x82â\\x82ã\\x83â\\x83â\\x82ã\\x83â\\x82â\\x8f 4/5 hygiene ã\\x83â\\x83â\\x83ã\\x83â\\x82â\\x83ã\\x83â\\x83â\\x82ã\\x83â\\x82â\\x83ã\\x83â\\x83â\\x83ã\\x83â\\x82â\\x82ã\\x83â\\x83â\\x82ã\\x83â\\x82ã\\x82â°ã\\x83â\\x83â\\x83ã\\x83â\\x82â\\x83ã\\x83â\\x83â\\x82ã\\x83â\\x82â\\x82ã\\x83â\\x83â\\x83ã\\x83â\\x82â\\x82ã\\x83â\\x83â\\x82ã\\x83â\\x82â\\x9fã\\x83â\\x83â\\x83ã\\x83â\\x82â\\x83ã\\x83â\\x83â\\x82ã\\x83â\\x82â\\x82ã\\x83â\\x83â\\x83ã\\x83â\\x82â\\x82ã\\x83â\\x83â\\x82ã\\x83â\\x82â\\x98ã\\x83â\\x83â\\x83ã\\x83â\\x82â\\x83ã\\x83â\\x83â\\x82ã\\x83â\\x82â\\x82ã\\x83â\\x83â\\x83ã\\x83â\\x82â\\x82ã\\x83â\\x83â\\x82ã\\x83â\\x82â\\x87 4/5 value money ã\\x83â\\x83â\\x83ã\\x83â\\x82â\\x83ã\\x83â\\x83â\\x82ã\\x83â\\x82â\\x83ã\\x83â\\x83â\\x83ã\\x83â\\x82â\\x82ã\\x83â\\x83â\\x82ã\\x83â\\x82ã\\x82â°ã\\x83â\\x83â\\x83ã\\x83â\\x82â\\x83ã\\x83â\\x83â\\x82ã\\x83â\\x82â\\x82ã\\x83â\\x83â\\x83ã\\x83â\\x82â\\x82ã\\x83â\\x83â\\x82ã\\x83â\\x82â\\x9fã\\x83â\\x83â\\x83ã\\x83â\\x82â\\x83ã\\x83â\\x83â\\x82ã\\x83â\\x82â\\x82ã\\x83â\\x83â\\x83ã\\x83â\\x82â\\x82ã\\x83â\\x83â\\x82ã\\x83â\\x82ã\\x82â¤ã\\x83â\\x83â\\x83ã\\x83â\\x82â\\x83ã\\x83â\\x83â\\x82ã\\x83â\\x82â\\x82ã\\x83â\\x83â\\x83ã\\x83â\\x82â\\x82ã\\x83â\\x83â\\x82ã\\x83â\\x82â\\x91- 5/5\",\n",
              " \"'s nice place college student kid .. fascinating price .. visiting cafe still wallet heavy 5 u visited .. ate much bill never crossed 500 ..\",\n",
              " 'graty taste sweet',\n",
              " 'menu shown zomato not food joint offer buffet 2 sabzi roti rice unlimited dal need buy separately sabzi need buy separately funniest place ever came across',\n",
              " 'food 4.5/5 ambience -4/5 service 4.5/5 hygiene 4/5 value money 5/5 tried aglio olio good type spaghetti pasta simple yet delicious pasta try crunchy cajun burger crispy chicken patty seasoned classic louisiana style cajun spice garlic aioli banana nutella shake pretty awesome osm place hang frnds ..... get nice food great ambiance ..... love something different spicy visit bundle co. staff friendly also make change dish per convenience hold good worth money sure try recommend try bundle co. not disappointed',\n",
              " 'orderd two prawn dish stock replaced top capsicum onion little fish/prawn',\n",
              " 'good',\n",
              " \"people crazy paradise biryani yeah 's one old authentic bririyani brand india hyderabad outlet also missing flavour one two outlet good hyderabad coming bangalore outlet bririyani taste ok. outlet wise good embience spicy level need improve\",\n",
              " 'place need no introduction frequented lot breakfast ready sit waiting time english breakfast menu pancake waffle time favorite',\n",
              " 'terrible experience sandesh back ordered veg thali gave cold one.i felt rice taken fridge hardly ate it.the place sat fully surrounded fly cleanliness not mark please improve standard though felt evening snack good',\n",
              " \"love asia kitchen kolkata did n't hesitate minute celebrate anniversary went bangalore ambience amazing usual staff behavior polite warm tried 1 duck roll highlight entire meal loved crispy outside duck meat succulent sauce went perfectly 's 5/5 2 hunan prawn since hunan festival decided try something special menu hunan prawn good expected 3.5/5 3 chicken noodle perfectly cooked noodle enough portion two 4.5/5 4 lamb 'm sorry forgot name dish lamb second highlight meal amaaaazing cooking lamb good personal favourite 5/5 5 spring jade refreshing subtle 've tried kolkata one tasted exactly 5/5 definitely brilliant experience loved everything\",\n",
              " \"man place tiny located opposite blue frog church street found place coz zomato steak came ordered beef steak one best steak 've bangalore 5/5 pork rib really yummy rib bbq sauce wow 4.5/5 chilly chicken really good quantity flavor 4/5 best thing rice beer 's like home made kind beer beer good food .. nothing better also screen football match visit non veg heaven\",\n",
              " 'late',\n",
              " 'biryani chicken kebab nice kebab contains bone',\n",
              " 'delivery delayed 1 hr',\n",
              " 'review 11th january 2019 dinner way room lalabag thirst hunger rushed u savoury.even bad experience lunch another branch savoury no doubt u choose branch coz love food visit place whenever come banglore.our freind also joined u parking available frontage .. heavy crowd infront restaurant heard longroute bus stop friday night.ordered soup bbq fish green salad poraatta appam mutton stew bamboo biriyani .... savoury maintained taste almost dishes.i liked appam stew bbq fish.bamboo biriyani rice felt like boiled rice small.overall good experience',\n",
              " \"best kachoris bangalore bangalore 's best place indain/rajasthani snacks.the place bangalore fulfill craving authentic rajasthani kachori .except beverages- lassi n shake found almost every item good term authenticity taste dish super flavourful balanced rajasthan time not spice punchy place never bore you. recommendation kota kachori aloo pyaz kachori malai ghewar aloo paneer pyaz sabzi rajasthani roti robin wadhwa\",\n",
              " 'good',\n",
              " 'excellent food ordered kheema pav tea bread done warm kheema delicious washed milky tea emboldened ordered mango custard came standard chai glass delicious fresh awesome place definitely come',\n",
              " \"ordered butter chicken foul smell cooked previous day something reheated several time serving n't realised process reheating actually burnt gravy also bit chicken floating pool gravy running short chicken whatever leftover added gravy even 1 rating much\",\n",
              " 'nice place friendly staff.food good served fresh.we ordered 1.lemon grass chicken flavour lemon grass could little stronger.the chicken soft juicy nice taste 2.tandoori chicken finely done correct amount spice blend served nice dip spicy onion ring 3.chicken basket-worth try.batter fried chicken served french fry spicy mayo dip.it good really filling 4.funghi pizza awesome combination shiittake mushroom pizza.it light nicely done cheese leaf burst flavour tongue 5. complementary mocktails banana smoothie citrus melon punch good refreshing overall good plce visit friend reasonable price keep good work',\n",
              " 'big fan kota dal kachori kachori amazing jalebi also thin crispy khaman dhokla though sweet traditional khaman dhokla isnt surely order kachori though',\n",
              " 'loved food ofcrz deepesh hospitality quite descent n enjoyed yum food try step clear cravong food finally f item r enough good n tasty',\n",
              " 'place adjacent mughal durbar much better ambiance service though food may not good mughal durbar still prefer place crave good food time decent service level privacy',\n",
              " 'ordered kukkad pot rice peri peri paneer steak presentation good liked first like rice kukkad rice later removing topping realized taste okay okay not good not bad provided tamarind sauce novelty liked need try item',\n",
              " 'ordered burito zoodle box mushroom soup powerhouse bowl unfortunately bit disappointed taste neatly packed took 1 hour deliver burito disappointing bland veggie decent quality mushroom soup average quantity good',\n",
              " \"ended blueberry ny cheesecake vietnamese coffee honestly cheesecake wonderful good quantity extremely disappointed saw coffee quantity really really le unlike place 've exact drink lesser much value money give entire place experience 6/10\",\n",
              " 'found place looking different cuisine zomato try galitoã\\x83â\\x83â\\x83ã\\x83â\\x82â\\x83ã\\x83â\\x83â\\x82ã\\x83â\\x82â\\x82ã\\x83â\\x83â\\x83ã\\x83â\\x82â\\x82ã\\x83â\\x83â\\x82ã\\x83â\\x82â\\x92s specializes african flame grilled meat thoroughly enjoyed food holiday restaurant crowded patron shown good table courteous staff food delicious even grilled corn cobb amazing lemonade could probably bit upgrade tasted much essence overall loved place canã\\x83â\\x83â\\x83ã\\x83â\\x82â\\x83ã\\x83â\\x83â\\x82ã\\x83â\\x82â\\x82ã\\x83â\\x83â\\x83ã\\x83â\\x82â\\x82ã\\x83â\\x83â\\x82ã\\x83â\\x82â\\x92t wait visit soon',\n",
              " \"place quite small par ambience compensate finger licking food fast service mutton gelawati kabab chicken boti kabab tunday 's paratha everything really good food 9/10 service 8/10 ambience 5/10\",\n",
              " 'not received rice bath',\n",
              " \"chose herb hummus not presented played beautifully grilled pita greek salad taste equally delicious quantity good well also bubble tea could 've better ambiance perfect quiet afternoon service also quick earnest\",\n",
              " 'economical great food service decent welcoming although food prepared bit fresh renovated place better used overall good experience',\n",
              " 'wanted try chinese food ordered baby corn chilly mushroom chilli starter felt else taste liked mushroom chili baby corn main course veg mom quantity ok little hard chew ordered veg kohito tasty taste meter 3/5 service 3/5 ambience 3.5/5 quality 3.5/5 quality 3.5/5 overall 3/5',\n",
              " 'best taste ever mutton curry tasted till tasting flavour mutton curry ,the way cooked appreciate entire cheif bawarchi ,who handeling hat bawarchi good flavour franganance serving customer making good food relationship people cost also bearable thanks friend making taste wonderfull mutton curry appreciate mr shiva thanks entire team bawarchi',\n",
              " 'ordered kukkad pot rice peri peri paneer steak presentation good liked first like rice kukkad rice later removing topping realized taste okay okay not good not bad provided tamarind sauce novelty liked need try item',\n",
              " 'first experience curefit eatfit healthyfood protien carbs cleaneating location service friendly ambience ã\\x83â\\x83â\\x83ã\\x83â\\x82â\\x83ã\\x83â\\x83â\\x82ã\\x83â\\x82â\\x83ã\\x83â\\x83â\\x83ã\\x83â\\x82â\\x82ã\\x83â\\x83â\\x82ã\\x83â\\x82ã\\x82â°ã\\x83â\\x83â\\x83ã\\x83â\\x82â\\x83ã\\x83â\\x83â\\x82ã\\x83â\\x82â\\x82ã\\x83â\\x83â\\x83ã\\x83â\\x82â\\x82ã\\x83â\\x83â\\x82ã\\x83â\\x82â\\x9fã\\x83â\\x83â\\x83ã\\x83â\\x82â\\x83ã\\x83â\\x83â\\x82ã\\x83â\\x82â\\x82ã\\x83â\\x83â\\x83ã\\x83â\\x82â\\x82ã\\x83â\\x83â\\x82ã\\x83â\\x82â\\x92ã\\x83â\\x83â\\x83ã\\x83â\\x82â\\x83ã\\x83â\\x83â\\x82ã\\x83â\\x82â\\x82ã\\x83â\\x83â\\x83ã\\x83â\\x82â\\x82ã\\x83â\\x83â\\x82ã\\x83â\\x82ã\\x82â¯ service ã\\x83â\\x83â\\x83ã\\x83â\\x82â\\x83ã\\x83â\\x83â\\x82ã\\x83â\\x82â\\x83ã\\x83â\\x83â\\x83ã\\x83â\\x82â\\x82ã\\x83â\\x83â\\x82ã\\x83â\\x82ã\\x82â°ã\\x83â\\x83â\\x83ã\\x83â\\x82â\\x83ã\\x83â\\x83â\\x82ã\\x83â\\x82â\\x82ã\\x83â\\x83â\\x83ã\\x83â\\x82â\\x82ã\\x83â\\x83â\\x82ã\\x83â\\x82â\\x9fã\\x83â\\x83â\\x83ã\\x83â\\x82â\\x83ã\\x83â\\x83â\\x82ã\\x83â\\x82â\\x82ã\\x83â\\x83â\\x83ã\\x83â\\x82â\\x82ã\\x83â\\x83â\\x82ã\\x83â\\x82â\\x92ã\\x83â\\x83â\\x83ã\\x83â\\x82â\\x83ã\\x83â\\x83â\\x82ã\\x83â\\x82â\\x82ã\\x83â\\x83â\\x83ã\\x83â\\x82â\\x82ã\\x83â\\x83â\\x82ã\\x83â\\x82ã\\x82â¯ food ã\\x83â\\x83â\\x83ã\\x83â\\x82â\\x83ã\\x83â\\x83â\\x82ã\\x83â\\x82â\\x83ã\\x83â\\x83â\\x83ã\\x83â\\x82â\\x82ã\\x83â\\x83â\\x82ã\\x83â\\x82ã\\x82â°ã\\x83â\\x83â\\x83ã\\x83â\\x82â\\x83ã\\x83â\\x83â\\x82ã\\x83â\\x82â\\x82ã\\x83â\\x83â\\x83ã\\x83â\\x82â\\x82ã\\x83â\\x83â\\x82ã\\x83â\\x82â\\x9fã\\x83â\\x83â\\x83ã\\x83â\\x82â\\x83ã\\x83â\\x83â\\x82ã\\x83â\\x82â\\x82ã\\x83â\\x83â\\x83ã\\x83â\\x82â\\x82ã\\x83â\\x83â\\x82ã\\x83â\\x82â\\x92ã\\x83â\\x83â\\x83ã\\x83â\\x82â\\x83ã\\x83â\\x83â\\x82ã\\x83â\\x82â\\x82ã\\x83â\\x83â\\x83ã\\x83â\\x82â\\x82ã\\x83â\\x83â\\x82ã\\x83â\\x82ã\\x82â¯ interior ã\\x83â\\x83â\\x83ã\\x83â\\x82â\\x83ã\\x83â\\x83â\\x82ã\\x83â\\x82â\\x83ã\\x83â\\x83â\\x83ã\\x83â\\x82â\\x82ã\\x83â\\x83â\\x82ã\\x83â\\x82ã\\x82â°ã\\x83â\\x83â\\x83ã\\x83â\\x82â\\x83ã\\x83â\\x83â\\x82ã\\x83â\\x82â\\x82ã\\x83â\\x83â\\x83ã\\x83â\\x82â\\x82ã\\x83â\\x83â\\x82ã\\x83â\\x82â\\x9fã\\x83â\\x83â\\x83ã\\x83â\\x82â\\x83ã\\x83â\\x83â\\x82ã\\x83â\\x82â\\x82ã\\x83â\\x83â\\x83ã\\x83â\\x82â\\x82ã\\x83â\\x83â\\x82ã\\x83â\\x82â\\x92ã\\x83â\\x83â\\x83ã\\x83â\\x82â\\x83ã\\x83â\\x83â\\x82ã\\x83â\\x82â\\x82ã\\x83â\\x83â\\x83ã\\x83â\\x82â\\x82ã\\x83â\\x83â\\x82ã\\x83â\\x82ã\\x82â¯ approach friendly took time explain service guiding u counter heavy rush hour highly appreciate donã\\x83â\\x83â\\x83ã\\x83â\\x82â\\x83ã\\x83â\\x83â\\x82ã\\x83â\\x82â\\x83ã\\x83â\\x83â\\x83ã\\x83â\\x82â\\x82ã\\x83â\\x83â\\x82ã\\x83â\\x82ã\\x82â¢ã\\x83â\\x83â\\x83ã\\x83â\\x82â\\x83ã\\x83â\\x83â\\x82ã\\x83â\\x82â\\x82ã\\x83â\\x83â\\x83ã\\x83â\\x82â\\x82ã\\x83â\\x83â\\x82ã\\x83â\\x82â\\x80ã\\x83â\\x83â\\x83ã\\x83â\\x82â\\x83ã\\x83â\\x83â\\x82ã\\x83â\\x82â\\x82ã\\x83â\\x83â\\x83ã\\x83â\\x82â\\x82ã\\x83â\\x83â\\x82ã\\x83â\\x82â\\x99t mind going regularly atmosphere positive ã\\x83â\\x83â\\x83ã\\x83â\\x82â\\x83ã\\x83â\\x83â\\x82ã\\x83â\\x82â\\x83ã\\x83â\\x83â\\x83ã\\x83â\\x82â\\x82ã\\x83â\\x83â\\x82ã\\x83â\\x82ã\\x82â¢ã\\x83â\\x83â\\x83ã\\x83â\\x82â\\x83ã\\x83â\\x83â\\x82ã\\x83â\\x82â\\x82ã\\x83â\\x83â\\x83ã\\x83â\\x82â\\x82ã\\x83â\\x83â\\x82ã\\x83â\\x82â\\x80ã\\x83â\\x83â\\x83ã\\x83â\\x82â\\x83ã\\x83â\\x83â\\x82ã\\x83â\\x82â\\x82ã\\x83â\\x83â\\x83ã\\x83â\\x82â\\x82ã\\x83â\\x83â\\x82ã\\x83â\\x82â\\x9cmasha allahã\\x83â\\x83â\\x83ã\\x83â\\x82â\\x83ã\\x83â\\x83â\\x82ã\\x83â\\x82â\\x83ã\\x83â\\x83â\\x83ã\\x83â\\x82â\\x82ã\\x83â\\x83â\\x82ã\\x83â\\x82ã\\x82â¢ã\\x83â\\x83â\\x83ã\\x83â\\x82â\\x83ã\\x83â\\x83â\\x82ã\\x83â\\x82â\\x82ã\\x83â\\x83â\\x83ã\\x83â\\x82â\\x82ã\\x83â\\x83â\\x82ã\\x83â\\x82â\\x80ã\\x83â\\x83â\\x83ã\\x83â\\x82â\\x83ã\\x83â\\x83â\\x82ã\\x83â\\x82â\\x82ã\\x83â\\x83â\\x83ã\\x83â\\x82â\\x82ã\\x83â\\x83â\\x82ã\\x83â\\x82â\\x9d',\n",
              " 'canã\\x83â\\x83â\\x83ã\\x83â\\x82â\\x83ã\\x83â\\x83â\\x82ã\\x83â\\x82â\\x83ã\\x83â\\x83â\\x83ã\\x83â\\x82â\\x82ã\\x83â\\x83â\\x82ã\\x83â\\x82ã\\x82â¢ã\\x83â\\x83â\\x83ã\\x83â\\x82â\\x83ã\\x83â\\x83â\\x82ã\\x83â\\x82â\\x82ã\\x83â\\x83â\\x83ã\\x83â\\x82â\\x82ã\\x83â\\x83â\\x82ã\\x83â\\x82â\\x80ã\\x83â\\x83â\\x83ã\\x83â\\x82â\\x83ã\\x83â\\x83â\\x82ã\\x83â\\x82â\\x82ã\\x83â\\x83â\\x83ã\\x83â\\x82â\\x82ã\\x83â\\x83â\\x82ã\\x83â\\x82â\\x99t disappointed bong ordering bong resturant getting aweful food rating gave chicken kasa tasted somewhat like bong dish chicken 65 total disaster bong resturant make chicken 65 many curry leaf andra masala load garlic bad whole dish n dustbin wastage money',\n",
              " 'totally not worth',\n",
              " \"one italian restaurant one get good portion food great price thumb wide variety dish choose courteous staff ambience great simple yet elegant valet service available plus one overall one looking great italian cuisine restaurant would n't leave hole pocket place visit try chicken warm salad pepper chicken soup grilled mushroom\",\n",
              " 'good',\n",
              " 'good food nicely packed',\n",
              " 'food taste decent reasonably priced door delivery quick reliable place could better ambience',\n",
              " 'went friend great time spend no one bother disturb .... food good .... service good ambience excellent ..................................',\n",
              " 'b',\n",
              " 'last day ordered biriyani awesome also price reasonable taste good really loved biriyani recommend biriyani lover also service really good',\n",
              " 'would one best place hangout category go often delicious breakfast delightful evening snack like authentic sandwich burger smoothy potato wedge chill friend come date wonã\\x83â\\x83â\\x83ã\\x83â\\x82â\\x83ã\\x83â\\x83â\\x82ã\\x83â\\x82â\\x83ã\\x83â\\x83â\\x83ã\\x83â\\x82â\\x82ã\\x83â\\x83â\\x82ã\\x83â\\x82ã\\x82â¢ã\\x83â\\x83â\\x83ã\\x83â\\x82â\\x83ã\\x83â\\x83â\\x82ã\\x83â\\x82â\\x82ã\\x83â\\x83â\\x83ã\\x83â\\x82â\\x82ã\\x83â\\x83â\\x82ã\\x83â\\x82â\\x80ã\\x83â\\x83â\\x83ã\\x83â\\x82â\\x83ã\\x83â\\x83â\\x82ã\\x83â\\x82â\\x82ã\\x83â\\x83â\\x83ã\\x83â\\x82â\\x82ã\\x83â\\x83â\\x82ã\\x83â\\x82â\\x99t disappoint ambiance- 4/5 pricing- 4.5/5 food- 4.5/5 service 4/5',\n",
              " 'love indonesian dish donã\\x83â\\x83â\\x83ã\\x83â\\x82â\\x83ã\\x83â\\x83â\\x82ã\\x83â\\x82â\\x83ã\\x83â\\x83â\\x83ã\\x83â\\x82â\\x82ã\\x83â\\x83â\\x82ã\\x83â\\x82ã\\x82â¢ã\\x83â\\x83â\\x83ã\\x83â\\x82â\\x83ã\\x83â\\x83â\\x82ã\\x83â\\x82â\\x82ã\\x83â\\x83â\\x83ã\\x83â\\x82â\\x82ã\\x83â\\x83â\\x82ã\\x83â\\x82â\\x80ã\\x83â\\x83â\\x83ã\\x83â\\x82â\\x83ã\\x83â\\x83â\\x82ã\\x83â\\x82â\\x82ã\\x83â\\x83â\\x83ã\\x83â\\x82â\\x82ã\\x83â\\x83â\\x82ã\\x83â\\x82â\\x99t really approve effortlessly went biergarten thought trying nasi goreng yes one best tried bangalore presentation accompaniment taste everything good server well trained drink ã\\x83â\\x83â\\x83ã\\x83â\\x82â\\x83ã\\x83â\\x83â\\x82ã\\x83â\\x82â\\x83ã\\x83â\\x83â\\x83ã\\x83â\\x82â\\x82ã\\x83â\\x83â\\x82ã\\x83â\\x82ã\\x82â¢ã\\x83â\\x83â\\x83ã\\x83â\\x82â\\x83ã\\x83â\\x83â\\x82ã\\x83â\\x82â\\x82ã\\x83â\\x83â\\x83ã\\x83â\\x82â\\x82ã\\x83â\\x83â\\x82ã\\x83â\\x82â\\x80ã\\x83â\\x83â\\x83ã\\x83â\\x82â\\x83ã\\x83â\\x83â\\x82ã\\x83â\\x82â\\x82ã\\x83â\\x83â\\x83ã\\x83â\\x82â\\x82ã\\x83â\\x83â\\x82ã\\x83â\\x82â\\x94 good go food ã\\x83â\\x83â\\x83ã\\x83â\\x82â\\x83ã\\x83â\\x83â\\x82ã\\x83â\\x82â\\x83ã\\x83â\\x83â\\x83ã\\x83â\\x82â\\x82ã\\x83â\\x83â\\x82ã\\x83â\\x82ã\\x82â¢ã\\x83â\\x83â\\x83ã\\x83â\\x82â\\x83ã\\x83â\\x83â\\x82ã\\x83â\\x82â\\x82ã\\x83â\\x83â\\x83ã\\x83â\\x82â\\x82ã\\x83â\\x83â\\x82ã\\x83â\\x82â\\x80ã\\x83â\\x83â\\x83ã\\x83â\\x82â\\x83ã\\x83â\\x83â\\x82ã\\x83â\\x82â\\x82ã\\x83â\\x83â\\x83ã\\x83â\\x82â\\x82ã\\x83â\\x83â\\x82ã\\x83â\\x82â\\x94 ã\\x83â\\x83â\\x83ã\\x83â\\x82â\\x83ã\\x83â\\x83â\\x82ã\\x83â\\x82â\\x83ã\\x83â\\x83â\\x83ã\\x83â\\x82â\\x82ã\\x83â\\x83â\\x82ã\\x83â\\x82ã\\x82â¢ã\\x83â\\x83â\\x83ã\\x83â\\x82â\\x83ã\\x83â\\x83â\\x82ã\\x83â\\x82â\\x82ã\\x83â\\x83â\\x83ã\\x83â\\x82â\\x82ã\\x83â\\x83â\\x82ã\\x83â\\x82â\\x9dã\\x83â\\x83â\\x83ã\\x83â\\x82â\\x83ã\\x83â\\x83â\\x82ã\\x83â\\x82â\\x82ã\\x83â\\x83â\\x83ã\\x83â\\x82â\\x82ã\\x83â\\x83â\\x82ã\\x83â\\x82ã\\x82â¤ã\\x83â\\x83â\\x83ã\\x83â\\x82â\\x83ã\\x83â\\x83â\\x82ã\\x83â\\x82â\\x83ã\\x83â\\x83â\\x83ã\\x83â\\x82â\\x82ã\\x83â\\x83â\\x82ã\\x83â\\x82ã\\x82â¯ã\\x83â\\x83â\\x83ã\\x83â\\x82â\\x83ã\\x83â\\x83â\\x82ã\\x83â\\x82â\\x82ã\\x83â\\x83â\\x83ã\\x83â\\x82â\\x82ã\\x83â\\x83â\\x82ã\\x83â\\x82ã\\x82â¸ã\\x83â\\x83â\\x83ã\\x83â\\x82â\\x83ã\\x83â\\x83â\\x82ã\\x83â\\x82â\\x82ã\\x83â\\x83â\\x83ã\\x83â\\x82â\\x82ã\\x83â\\x83â\\x82ã\\x83â\\x82â\\x8fã\\x83â\\x83â\\x83ã\\x83â\\x82â\\x83ã\\x83â\\x83â\\x82ã\\x83â\\x82â\\x83ã\\x83â\\x83â\\x83ã\\x83â\\x82â\\x82ã\\x83â\\x83â\\x82ã\\x83â\\x82ã\\x82â¢ã\\x83â\\x83â\\x83ã\\x83â\\x82â\\x83ã\\x83â\\x83â\\x82ã\\x83â\\x82â\\x82ã\\x83â\\x83â\\x83ã\\x83â\\x82â\\x82ã\\x83â\\x83â\\x82ã\\x83â\\x82â\\x9dã\\x83â\\x83â\\x83ã\\x83â\\x82â\\x83ã\\x83â\\x83â\\x82ã\\x83â\\x82â\\x82ã\\x83â\\x83â\\x83ã\\x83â\\x82â\\x82ã\\x83â\\x83â\\x82ã\\x83â\\x82ã\\x82â¤ã\\x83â\\x83â\\x83ã\\x83â\\x82â\\x83ã\\x83â\\x83â\\x82ã\\x83â\\x82â\\x83ã\\x83â\\x83â\\x83ã\\x83â\\x82â\\x82ã\\x83â\\x83â\\x82ã\\x83â\\x82ã\\x82â¯ã\\x83â\\x83â\\x83ã\\x83â\\x82â\\x83ã\\x83â\\x83â\\x82ã\\x83â\\x82â\\x82ã\\x83â\\x83â\\x83ã\\x83â\\x82â\\x82ã\\x83â\\x83â\\x82ã\\x83â\\x82ã\\x82â¸ã\\x83â\\x83â\\x83ã\\x83â\\x82â\\x83ã\\x83â\\x83â\\x82ã\\x83â\\x82â\\x82ã\\x83â\\x83â\\x83ã\\x83â\\x82â\\x82ã\\x83â\\x83â\\x82ã\\x83â\\x82â\\x8f please guy try fav nasi goreng .. thanks chef lovely dish ..',\n",
              " 'got cockroach chicken biryani eating',\n",
              " 'came colleague birthday celebration place awesome celebration food great especially starter good love sea food good option octopus squid rabbit quail bird awesome food suman person serving u humble polite job sincerely thanks suman extreme care definitely visit recommend colleague',\n",
              " 'really good place chat sweet chat tasty .. service oriented friendly wish clean place though different compared usual chat sweet shop affordable price',\n",
              " \"food amazing stuck starter totally worth staff friendly respond request quickly n't lift could let people cause climb 2 floor like mock quote churchill put everywhere 's well stocked bar rather well placed smoking zone among mock tail iced tea good 's accessible metro easy locate 'd imagine car parking hassle ambience perfect good light music\",\n",
              " 'place really good located good locality view metro flyover place 100 metre close mg road station place really good ambience suggest get book advance case planning visit weekend also note hookah limit 1 hour food good mojitos even better try green apple black currant served beautiful way staff service also good music great',\n",
              " 'restaurant top floor phoenix marketcity indoor outdoor seating good place pan asian cuisine thai dish mainly friendly staff take time suggest dish quick service good experience would visit pan asian cuisine dish steamed edamame salmon nigri vegetarian friend not ã\\x83â\\x83â\\x83ã\\x83â\\x82â\\x83ã\\x83â\\x83â\\x82ã\\x83â\\x82â\\x83ã\\x83â\\x83â\\x83ã\\x83â\\x82â\\x82ã\\x83â\\x83â\\x82ã\\x83â\\x82ã\\x82â°ã\\x83â\\x83â\\x83ã\\x83â\\x82â\\x83ã\\x83â\\x83â\\x82ã\\x83â\\x82â\\x82ã\\x83â\\x83â\\x83ã\\x83â\\x82â\\x82ã\\x83â\\x83â\\x82ã\\x83â\\x82â\\x9fã\\x83â\\x83â\\x83ã\\x83â\\x82â\\x83ã\\x83â\\x83â\\x82ã\\x83â\\x82â\\x82ã\\x83â\\x83â\\x83ã\\x83â\\x82â\\x82ã\\x83â\\x83â\\x82ã\\x83â\\x82â\\x98ã\\x83â\\x83â\\x83ã\\x83â\\x82â\\x83ã\\x83â\\x83â\\x82ã\\x83â\\x82â\\x82ã\\x83â\\x83â\\x83ã\\x83â\\x82â\\x82ã\\x83â\\x83â\\x82ã\\x83â\\x82â\\x8b half moon lattice gyoza dimsums thai red curry jasmin rice ok lah',\n",
              " 'good service loved maanga cocktail suggested friend one monkey bar special cocktail try ambience good would love visit place',\n",
              " 'great place hangout .... great ambience great music great brew pizza good food item average no value money staff doesnã\\x83â\\x83â\\x83ã\\x83â\\x82â\\x83ã\\x83â\\x83â\\x82ã\\x83â\\x82â\\x82ã\\x83â\\x83â\\x83ã\\x83â\\x82â\\x82ã\\x83â\\x83â\\x82ã\\x83â\\x82â\\x92t care simon say wtf',\n",
              " 'want spend splendid afternoon friend want play game gossip zee5 loft perfect neighbourhood cafe find board game small collection book sitting area awesome cafe manages good variety dish whether want snack heavy dish equally delicious roadside parking available',\n",
              " \"food good got one item wrong ordered chicken kabab got tandoori kabab zomato delivery guy not professional idiot stand next house call direction n't know live tracking\",\n",
              " \"visited place team lunch.nice decor comfortable seating seemed positive vibe.i liked idea island table salad dessert back back.it like getting glimpse heaven healthy salad hell dessert expanding waistline time.the food delicious try baked gulab jamun alias heart attack plate.definitely worth visit note n't stand weighing scale week\",\n",
              " 'ordered crunchy veg burger swiggy everything packaging taste unique commendable burger veg pakoras quite crispy promised size burger huge recommended going try variant soon',\n",
              " \"worth every penny u spent tried buffet tired eating quality starter n't room left main course veg non veg option yummy specially liked tawa machhi fish hot ginger pahadi murg banarasi seekh rajma ke tikke ambience brilliant well loved seating arrangement treat taste bud not heavy wallet either great experience good time\",\n",
              " \"located right opposite cosmos adjacent goli great variety ice cream sundae special mention gulkand ice cream ate first time brownie also yum drawback 's overpriced especially n't proper seating 4-5 table shared 3 outlet\",\n",
              " \"person n't like salad eten flipped dislike head officially ca n't get enough fresh crunchy tasty\",\n",
              " 'good option hanging friend office people bold offer varied option food drink along hooka place seperate dance floor dance lover really enjoy evening food get good option indian continental italian cuisine loved honey basil chicken starter',\n",
              " \"worst restaurant service ever got food delivered not hot chicken ordered coke .. managed deliver room temperature not taken frim fridge .. really frustrating order food night get type delivery ordered around 1.45am food delivered 2.48am anyways chat customer care highly not understanding issue telling ca n't anything case disgusting worst experience night\",\n",
              " \"ambience 4/5 value money 4/5 food 4/5 service 3/5 hygiene- 3/5 try nope worth visiting twice nope good couple yes location okay usp unique selling point invite band artist sometime bollywood artist 's fun\",\n",
              " 'happened come across place walking cunningham road decided give shot since restaurant boast near perfect italian food chicken mushroom soup absolute delight loved richness quantity plenty risotto alla crema super rich taste well served quickly give strawberry cheese cake try amazing experience overall',\n",
              " \"ordered plate veg noodle chilli chicken gravy though zomato easy meal food came neatly packed however noodle bit thick chicken chunk quite large let 's say price enough satisfy hunger night may try item future\",\n",
              " 'decent place get seating even busy friday night food average ordered prawn chicken starter ok. even peanut much salt visit place no option not like much crowd',\n",
              " 'bad experience cockroach dal serving meal not first time nandhini restaurant bad hygiene',\n",
              " 'no taste homely food pale food taste food similar train disappointing per name least food taste like one',\n",
              " \"double chicken roll ordered new royal treat .. onion n capsicum hardly find chicken piece 'm thinking ordered chicken roll .. guess roti would delivered without filling\",\n",
              " 'one best cafeã\\x83â\\x83â\\x83ã\\x83â\\x82â\\x83ã\\x83â\\x83â\\x82ã\\x83â\\x82â\\x83ã\\x83â\\x83â\\x83ã\\x83â\\x82â\\x82ã\\x83â\\x83â\\x82ã\\x83â\\x82ã\\x82â¢ã\\x83â\\x83â\\x83ã\\x83â\\x82â\\x83ã\\x83â\\x83â\\x82ã\\x83â\\x82â\\x82ã\\x83â\\x83â\\x83ã\\x83â\\x82â\\x82ã\\x83â\\x83â\\x82ã\\x83â\\x82â\\x80ã\\x83â\\x83â\\x83ã\\x83â\\x82â\\x83ã\\x83â\\x83â\\x82ã\\x83â\\x82â\\x82ã\\x83â\\x83â\\x83ã\\x83â\\x82â\\x82ã\\x83â\\x83â\\x82ã\\x83â\\x82â\\x99s bangalore.a visit place try item red velvet mango cheesecake pizza liked place .will visit soon',\n",
              " 'ordered kulcha vegetable biryani paneer murg good try vegetable biryani good self service limited seat need stand eat food first come first seat hotel',\n",
              " 'located near sobha mayflower real gem find bread bun fresh puff tasty wish open outlet marathahalli well visit regularly',\n",
              " \"one best brewery city fell love place moment stepped foot whole vibe place amazing love love love ambience ordered starters- prawn malabar roti chicken tikka finger licking delicious also wheat beer also one best ive city music good nothing experienced ate drank average place visited place windmill favorite place blew away 's charm surely surely going back soon\",\n",
              " 'craving crunch spicy noodle noodle panda place go tried onion ring katsu chicken bao myo noodle food yumm especially onion ring amazingly crisp light noodle panda everything panda bao serving wrap cutest thing ever hat ingenuity menu load offer heart set wasabi centre chicken wing next round already look absolutely mouth-watering plate neighbour',\n",
              " \"amazing red velvet cake try though ate brother 's advise ambience really good food smelled amazing wish get back try dish soon ..\",\n",
              " \"dinner family 're seated comfortably welcom drink place good ambeiance excellent cordial staff ordered fulkas paneer veg pulao food teasty also complementary green salad\",\n",
              " 'excellent food ordered kheema pav tea bread done warm kheema delicious washed milky tea emboldened ordered mango custard came standard chai glass delicious fresh awesome place definitely come',\n",
              " 'roll burnt throw away',\n",
              " 'small place not clean food pretty decent value money service pretty good well restaurant take delivery sometimes tends get slightly overcrowded try extend veg thali night well taste 9/10 ambience 7/10',\n",
              " 'avoid place oily greasy gravy mixed not balanced spice would make stomach loose apetite next time think restaurant sad see jp nagar 7th phase not good restaurant',\n",
              " 'popped dessert coffee not good idea coffee cold well except cold coffee dessert totally disappointing felt like eating overpriced milkmaid .. best thing decoration gingerbread house',\n",
              " 'ordered malabar mutton biryani place delivery time good considering bangalore traffic opened box bit shocked disappointed white/light yellow rice visible however started eating pleasantly surprised mutton masala beneath rice great mutton piece succulent well cooked zomato offer 50 sunday made order steal word advice management please include bit salad raita along biryani possible may interchange box reddish stuff give overall good experience worth attempt',\n",
              " 'place nice ambience good provided u complimentary veg appetizer well food taste average middle liked picked from.the buffet instead prepared ordered ala carte.staff nice',\n",
              " \"always mine husband 's favourite place relax experimenting north indian taste bud dal panchamel hyderabad dum aloo n biryani time favourite\",\n",
              " 'ordered briyani taste good',\n",
              " 'spicy',\n",
              " 'kota kochari located main road koramangala meter away sony world signal shop comprises 2 shop need visit different counter get different item ordered kulfi falooda come kulfi topped falooda rabdi dry fruit taste good could better also tried malai ghevar amazing thick layer malai run one counter another get also tried moong dal halwa thick layer ghee top wasnt authentic place decent verdict food/taste ã\\x83â\\x83â\\x83ã\\x83â\\x82â\\x83ã\\x83â\\x83â\\x82ã\\x83â\\x82â\\x83ã\\x83â\\x83â\\x83ã\\x83â\\x82â\\x82ã\\x83â\\x83â\\x82ã\\x83â\\x82â\\x82ã\\x83â\\x83â\\x83ã\\x83â\\x82â\\x83ã\\x83â\\x83â\\x82ã\\x83â\\x82â\\x82ã\\x83â\\x83â\\x83ã\\x83â\\x82â\\x82ã\\x83â\\x83â\\x82ã\\x83â\\x82â\\x96 6/10 service 5/10 ambiance 5/10 value money ã\\x83â\\x83â\\x83ã\\x83â\\x82â\\x83ã\\x83â\\x83â\\x82ã\\x83â\\x82â\\x83ã\\x83â\\x83â\\x83ã\\x83â\\x82â\\x82ã\\x83â\\x83â\\x82ã\\x83â\\x82â\\x82ã\\x83â\\x83â\\x83ã\\x83â\\x82â\\x83ã\\x83â\\x83â\\x82ã\\x83â\\x82â\\x82ã\\x83â\\x83â\\x83ã\\x83â\\x82â\\x82ã\\x83â\\x83â\\x82ã\\x83â\\x82â\\x96 6/10 quantity/quality ã\\x83â\\x83â\\x83ã\\x83â\\x82â\\x83ã\\x83â\\x83â\\x82ã\\x83â\\x82â\\x83ã\\x83â\\x83â\\x83ã\\x83â\\x82â\\x82ã\\x83â\\x83â\\x82ã\\x83â\\x82â\\x82ã\\x83â\\x83â\\x83ã\\x83â\\x82â\\x83ã\\x83â\\x83â\\x82ã\\x83â\\x82â\\x82ã\\x83â\\x83â\\x83ã\\x83â\\x82â\\x82ã\\x83â\\x83â\\x82ã\\x83â\\x82â\\x96 6/10 decent sweet chaat shop rohitdassani.com',\n",
              " 'tall guy mind head walk door height five foot give feel old chettinad home ambience liked old typewriter placed cupboard nandu soup crab eratchi chukka mutton parota chicken gravy kaada fry theethar eratchi biryani jigarthanda pepper used preparation crab soup awesome parota nice gravy kaada fry disappointment wasnt tender.biryani also average.jigarthanda guess mangalorean gadbads chettinad cousin decent though friend say not best available parking problem area.worth another visit',\n",
              " \"'s not hot .. taste not good ..\",\n",
              " 'ok food nothing grt wing wer u get litti cokha known chilli peper good taste north indian dish ambiance ok kind',\n",
              " 'good place nice location price good quantity not filing u end ordering taste good canoli really really good',\n",
              " 'awesome food',\n",
              " \"menu look interesting little did know pizza samosa vegetable filling macaroni samosa nice 's small joint easy miss n't looking carefully would like try everything menu since n't seen concept like anywhere else\",\n",
              " 'boneless chicken biriyani staple diet duration exam one biriyani split 2 people making cheap taste amazing another dish bowled chicken sixer anyone love spicy non veg food answer reasonable rate would recommend home delivery found significant difference quantity.i f ambience looking not place tasty food reasonable rate get',\n",
              " 'place judged music collection rather food variety worst music collection town end wasting money despite reasonably good dã\\x83â\\x83â\\x83ã\\x83â\\x82â\\x83ã\\x83â\\x83â\\x82ã\\x83â\\x82â\\x83ã\\x83â\\x83â\\x83ã\\x83â\\x82â\\x82ã\\x83â\\x83â\\x82ã\\x83â\\x82ã\\x82â©cor main dining area lounge bad music surely put dent dining experience play depressing sad bollywood 80ã\\x83â\\x83â\\x83ã\\x83â\\x82â\\x83ã\\x83â\\x83â\\x82ã\\x83â\\x82â\\x82ã\\x83â\\x83â\\x83ã\\x83â\\x82â\\x82ã\\x83â\\x83â\\x82ã\\x83â\\x82â\\x92s 90ã\\x83â\\x83â\\x83ã\\x83â\\x82â\\x83ã\\x83â\\x83â\\x82ã\\x83â\\x82â\\x82ã\\x83â\\x83â\\x83ã\\x83â\\x82â\\x82ã\\x83â\\x83â\\x82ã\\x83â\\x82â\\x92s song full pessimism really uncomfortable obviously made u leave quickly moreover food nothing great talk rate not go together feedback management change dj music collection food quality need improved current quality price need revisited',\n",
              " 'donã\\x83â\\x83â\\x83ã\\x83â\\x82â\\x83ã\\x83â\\x83â\\x82ã\\x83â\\x82â\\x82ã\\x83â\\x83â\\x83ã\\x83â\\x82â\\x82ã\\x83â\\x83â\\x82ã\\x83â\\x82â\\x92t remember last time utterly disappointed disgusted food joint ordered grilled chicken salad barely 6 piece chicken 2 exact piece cucumber 3 piece tomato load lettuce no salad dressing way lettuce cut appalling 4+ rating zomato baffle 270+ not ordering',\n",
              " \"last year year happened visit place first thing liked place hookah hardly asked guy refill coal worst part ordered cheese ball gave u 6 plate without sauce asked response came rude saying n't serve tomato sauce sauce item weird normally get sauce eat music good till 11 pm started playing old sad song beyond understanding would someone play sad song 11. closing time would prefer visit place hookah not food sure\",\n",
              " 'amazing place even better food one place bangalore would get authentic korean food try kim bap korean bbq',\n",
              " 'new place visit around visited place dinner nice small place ordered alacart usuall veg limited option opted thali hmm could better taste wise variety good yes filling .. ordered banofee pie guess not worth try harddddd .. banana top like rock unable break hmm one time visit',\n",
              " 'good place italian cuisine service good n friendly ambiance amazing .. pasta lasagne creamy spot pizza good',\n",
              " 'mess like place ambience-can sit till gulp food best thing place garma garam phulkas soft go well daily changing sabjis visited twice consistent taste time',\n",
              " 'ideally experience 5 star experience fact told wear little bit restrictive private dinner experience public setup hotel manager welcomed u really warmly wait staff personally look u hari came good recommendation korean gochujang beef done right sauce not overpowering yakisoba chicken noodle really flavourful rendang lamb really special overall awesome family lunch right atmosphere restaurant appears expensive not',\n",
              " \"spacious microbrewery indoor outdoor seating option offering great ambience 's situated vr bengaluru mall whitefield serve wide range starter main course beer mocktails dessert althingsbeautiful.wordpress.com\",\n",
              " \"food delicious 's cheap service good chicken good ambience also nice everything budget chicken best\",\n",
              " \"place long back office colleague experience not good first ordered beer nice finishing drink ordered food not good n't know issue food not fresh informed table attended no answer coz monday completely empty might reason sorry team bold need work around food ....\",\n",
              " 'place weekday lunch like service quick ambience good go family colleague friend ordered babycorn manchurian loose prawn veg biryani spl chicken biryani tasty quantity food lot food really spicy justifies andhra restaurant costed around 900 4 us.very light pocket say service 4/5 food 3.5/5 money 4/5 ambience 3.5/5',\n",
              " 'good',\n",
              " 'no taste bakwas',\n",
              " 'really place hang food price cheap tasty well staff friendly interior quite good small game like snake ladder zenga uno etc keep entertained visit cool snack',\n",
              " \"amazing red velvet cake try though ate brother 's advise ambience really good food smelled amazing wish get back try dish soon ..\",\n",
              " \"visited restaurant recently light snack coffee restaurant located tilak nagar opposite sagar hospital right signal junction next restaurant named mehak coming food ordered 1.bonda soup samber different regular samber pepper samber went really well bonda wish hot luke warm 2.mangalore bonda not great bonda oily texture n't great could better chutney great though spicy 3.coffee usual filter coffee ambience n't much .... self service standing usually crowded capacity le place clean visit place search darshini nothing great food ok get filter coffee price nominal\",\n",
              " 'ambience well maintained noon time pretty hot theme restaurant seek attention compared buffet taste food not great price',\n",
              " 'biryani like normal masala rice no taste starter good here.quality food amazing .. compromise biryani .............',\n",
              " 'find best meal biryani entire city prefre meghana instead nagarjuna restaurant come meal .... food served fresh quick service light pocket visit restaurant want try andhra meal course biryani',\n",
              " 'bad delivery',\n",
              " 'big shoutout siraj mukherjee sir thank place really amazing chill party definitely big happing place koramangala saturday bollywood night mad quick table reserved beer tap good yumm food hop try paneer tika masala pizza burger',\n",
              " 'best place.i ordered one thali.the food like home cooked food taste also good.i suggest place friend .loved food',\n",
              " 'one best restaurant btm layout.had visited place many times.food excellent main thing observed treat u like thing worth money',\n",
              " 'raitha sambar packing not good came cover',\n",
              " 'give best food without comprising quantity really cheesy chicken lasagna succulent piece chicken cooked perfection spaghetti cheese ball .. worth price pay',\n",
              " 'good fast also tasry',\n",
              " \"kerala style restaurant say still mispells 'kannur okay let 's get point though wide verity food option did n't get satisfaction two encounter look lil cozy look wo n't tell whole story\",\n",
              " \"heard lot place .. choice offered breakfast amazing tried pizza omelette bacon side dish roasted chicken cold coffee chocolate shake hole 9 yard deviled egg .. quite meal service quick decor good .. taste could much better .. season dish well kick missing overall good experience .. though n't think repeating place\",\n",
              " 'food nothing much',\n",
              " 'friendly staff good ambience corn cheese sandwich good lemon tea need improved cheese ball average hot chocolate coffee awesome death chocolate good overall good place hangout',\n",
              " \"great place excellent food awesome company u n't tried place yet u really missing great great great food rice person stuck chicken skewer saffron rice sooooooo good straight burger blue cheese sister ordered kaput le minuteã\\x83â\\x83â\\x83ã\\x83â\\x82â\\x83ã\\x83â\\x83â\\x82ã\\x83â\\x82â\\x83ã\\x83â\\x83â\\x83ã\\x83â\\x82â\\x82ã\\x83â\\x83â\\x82ã\\x83â\\x82ã\\x82â°ã\\x83â\\x83â\\x83ã\\x83â\\x82â\\x83ã\\x83â\\x83â\\x82ã\\x83â\\x82â\\x82ã\\x83â\\x83â\\x83ã\\x83â\\x82â\\x82ã\\x83â\\x83â\\x82ã\\x83â\\x82â\\x9fã\\x83â\\x83â\\x83ã\\x83â\\x82â\\x83ã\\x83â\\x83â\\x82ã\\x83â\\x82â\\x82ã\\x83â\\x83â\\x83ã\\x83â\\x82â\\x82ã\\x83â\\x83â\\x82ã\\x83â\\x82â\\x98ã\\x83â\\x83â\\x83ã\\x83â\\x82â\\x83ã\\x83â\\x83â\\x82ã\\x83â\\x82â\\x82ã\\x83â\\x83â\\x83ã\\x83â\\x82â\\x82ã\\x83â\\x83â\\x82ã\\x83â\\x82â\\x82ã\\x83â\\x83â\\x83ã\\x83â\\x82â\\x83ã\\x83â\\x83â\\x82ã\\x83â\\x82â\\x83ã\\x83â\\x83â\\x83ã\\x83â\\x82â\\x82ã\\x83â\\x83â\\x82ã\\x83â\\x82ã\\x82â°ã\\x83â\\x83â\\x83ã\\x83â\\x82â\\x83ã\\x83â\\x83â\\x82ã\\x83â\\x82â\\x82ã\\x83â\\x83â\\x83ã\\x83â\\x82â\\x82ã\\x83â\\x83â\\x82ã\\x83â\\x82â\\x9fã\\x83â\\x83â\\x83ã\\x83â\\x82â\\x83ã\\x83â\\x83â\\x82ã\\x83â\\x82â\\x82ã\\x83â\\x83â\\x83ã\\x83â\\x82â\\x82ã\\x83â\\x83â\\x82ã\\x83â\\x82â\\x98ã\\x83â\\x83â\\x83ã\\x83â\\x82â\\x83ã\\x83â\\x83â\\x82ã\\x83â\\x82â\\x82ã\\x83â\\x83â\\x83ã\\x83â\\x82â\\x82ã\\x83â\\x83â\\x82ã\\x83â\\x82â\\x82 thank u thebundlecoblr u awesome ã\\x83â\\x83â\\x83ã\\x83â\\x82â\\x83ã\\x83â\\x83â\\x82ã\\x83â\\x82â\\x83ã\\x83â\\x83â\\x83ã\\x83â\\x82â\\x82ã\\x83â\\x83â\\x82ã\\x83â\\x82ã\\x82â°ã\\x83â\\x83â\\x83ã\\x83â\\x82â\\x83ã\\x83â\\x83â\\x82ã\\x83â\\x82â\\x82ã\\x83â\\x83â\\x83ã\\x83â\\x82â\\x82ã\\x83â\\x83â\\x82ã\\x83â\\x82â\\x9fã\\x83â\\x83â\\x83ã\\x83â\\x82â\\x83ã\\x83â\\x83â\\x82ã\\x83â\\x82â\\x82ã\\x83â\\x83â\\x83ã\\x83â\\x82â\\x82ã\\x83â\\x83â\\x82ã\\x83â\\x82â\\x92ã\\x83â\\x83â\\x83ã\\x83â\\x82â\\x83ã\\x83â\\x83â\\x82ã\\x83â\\x82â\\x82ã\\x83â\\x83â\\x83ã\\x83â\\x82â\\x82ã\\x83â\\x83â\\x82ã\\x83â\\x82â\\x95ã\\x83â\\x83â\\x83ã\\x83â\\x82â\\x83ã\\x83â\\x83â\\x82ã\\x83â\\x82â\\x83ã\\x83â\\x83â\\x83ã\\x83â\\x82â\\x82ã\\x83â\\x83â\\x82ã\\x83â\\x82ã\\x82â°ã\\x83â\\x83â\\x83ã\\x83â\\x82â\\x83ã\\x83â\\x83â\\x82ã\\x83â\\x82â\\x82ã\\x83â\\x83â\\x83ã\\x83â\\x82â\\x82ã\\x83â\\x83â\\x82ã\\x83â\\x82â\\x9fã\\x83â\\x83â\\x83ã\\x83â\\x82â\\x83ã\\x83â\\x83â\\x82ã\\x83â\\x82â\\x82ã\\x83â\\x83â\\x83ã\\x83â\\x82â\\x82ã\\x83â\\x83â\\x82ã\\x83â\\x82â\\x92ã\\x83â\\x83â\\x83ã\\x83â\\x82â\\x83ã\\x83â\\x83â\\x82ã\\x83â\\x82â\\x82ã\\x83â\\x83â\\x83ã\\x83â\\x82â\\x82ã\\x83â\\x83â\\x82ã\\x83â\\x82â\\x95ã\\x83â\\x83â\\x83ã\\x83â\\x82â\\x83ã\\x83â\\x83â\\x82ã\\x83â\\x82â\\x83ã\\x83â\\x83â\\x83ã\\x83â\\x82â\\x82ã\\x83â\\x83â\\x82ã\\x83â\\x82ã\\x82â°ã\\x83â\\x83â\\x83ã\\x83â\\x82â\\x83ã\\x83â\\x83â\\x82ã\\x83â\\x82â\\x82ã\\x83â\\x83â\\x83ã\\x83â\\x82â\\x82ã\\x83â\\x83â\\x82ã\\x83â\\x82â\\x9fã\\x83â\\x83â\\x83ã\\x83â\\x82â\\x83ã\\x83â\\x83â\\x82ã\\x83â\\x82â\\x82ã\\x83â\\x83â\\x83ã\\x83â\\x82â\\x82ã\\x83â\\x83â\\x82ã\\x83â\\x82â\\x92ã\\x83â\\x83â\\x83ã\\x83â\\x82â\\x83ã\\x83â\\x83â\\x82ã\\x83â\\x82â\\x82ã\\x83â\\x83â\\x83ã\\x83â\\x82â\\x82ã\\x83â\\x83â\\x82ã\\x83â\\x82â\\x95ã\\x83â\\x83â\\x83ã\\x83â\\x82â\\x83ã\\x83â\\x83â\\x82ã\\x83â\\x82â\\x83ã\\x83â\\x83â\\x83ã\\x83â\\x82â\\x82ã\\x83â\\x83â\\x82ã\\x83â\\x82ã\\x82â°ã\\x83â\\x83â\\x83ã\\x83â\\x82â\\x83ã\\x83â\\x83â\\x82ã\\x83â\\x82â\\x82ã\\x83â\\x83â\\x83ã\\x83â\\x82â\\x82ã\\x83â\\x83â\\x82ã\\x83â\\x82â\\x9fã\\x83â\\x83â\\x83ã\\x83â\\x82â\\x83ã\\x83â\\x83â\\x82ã\\x83â\\x82â\\x82ã\\x83â\\x83â\\x83ã\\x83â\\x82â\\x82ã\\x83â\\x83â\\x82ã\\x83â\\x82â\\x92ã\\x83â\\x83â\\x83ã\\x83â\\x82â\\x83ã\\x83â\\x83â\\x82ã\\x83â\\x82â\\x82ã\\x83â\\x83â\\x83ã\\x83â\\x82â\\x82ã\\x83â\\x83â\\x82ã\\x83â\\x82â\\x95 food surpasses expectation ã\\x83â\\x83â\\x83ã\\x83â\\x82â\\x83ã\\x83â\\x83â\\x82ã\\x83â\\x82â\\x83ã\\x83â\\x83â\\x83ã\\x83â\\x82â\\x82ã\\x83â\\x83â\\x82ã\\x83â\\x82ã\\x82â°ã\\x83â\\x83â\\x83ã\\x83â\\x82â\\x83ã\\x83â\\x83â\\x82ã\\x83â\\x82â\\x82ã\\x83â\\x83â\\x83ã\\x83â\\x82â\\x82ã\\x83â\\x83â\\x82ã\\x83â\\x82â\\x9fã\\x83â\\x83â\\x83ã\\x83â\\x82â\\x83ã\\x83â\\x83â\\x82ã\\x83â\\x82â\\x82ã\\x83â\\x83â\\x83ã\\x83â\\x82â\\x82ã\\x83â\\x83â\\x82ã\\x83â\\x82â\\x98ã\\x83â\\x83â\\x83ã\\x83â\\x82â\\x83ã\\x83â\\x83â\\x82ã\\x83â\\x82â\\x82ã\\x83â\\x83â\\x83ã\\x83â\\x82â\\x82ã\\x83â\\x83â\\x82ã\\x83â\\x82â\\x8dã\\x83â\\x83â\\x83ã\\x83â\\x82â\\x83ã\\x83â\\x83â\\x82ã\\x83â\\x82â\\x83ã\\x83â\\x83â\\x83ã\\x83â\\x82â\\x82ã\\x83â\\x83â\\x82ã\\x83â\\x82ã\\x82â°ã\\x83â\\x83â\\x83ã\\x83â\\x82â\\x83ã\\x83â\\x83â\\x82ã\\x83â\\x82â\\x82ã\\x83â\\x83â\\x83ã\\x83â\\x82â\\x82ã\\x83â\\x83â\\x82ã\\x83â\\x82â\\x9fã\\x83â\\x83â\\x83ã\\x83â\\x82â\\x83ã\\x83â\\x83â\\x82ã\\x83â\\x82â\\x82ã\\x83â\\x83â\\x83ã\\x83â\\x82â\\x82ã\\x83â\\x83â\\x82ã\\x83â\\x82â\\x98ã\\x83â\\x83â\\x83ã\\x83â\\x82â\\x83ã\\x83â\\x83â\\x82ã\\x83â\\x82â\\x82ã\\x83â\\x83â\\x83ã\\x83â\\x82â\\x82ã\\x83â\\x83â\\x82ã\\x83â\\x82â\\x8dã\\x83â\\x83â\\x83ã\\x83â\\x82â\\x83ã\\x83â\\x83â\\x82ã\\x83â\\x82â\\x83ã\\x83â\\x83â\\x83ã\\x83â\\x82â\\x82ã\\x83â\\x83â\\x82ã\\x83â\\x82ã\\x82â°ã\\x83â\\x83â\\x83ã\\x83â\\x82â\\x83ã\\x83â\\x83â\\x82ã\\x83â\\x82â\\x82ã\\x83â\\x83â\\x83ã\\x83â\\x82â\\x82ã\\x83â\\x83â\\x82ã\\x83â\\x82â\\x9fã\\x83â\\x83â\\x83ã\\x83â\\x82â\\x83ã\\x83â\\x83â\\x82ã\\x83â\\x82â\\x82ã\\x83â\\x83â\\x83ã\\x83â\\x82â\\x82ã\\x83â\\x83â\\x82ã\\x83â\\x82â\\x98ã\\x83â\\x83â\\x83ã\\x83â\\x82â\\x83ã\\x83â\\x83â\\x82ã\\x83â\\x82â\\x82ã\\x83â\\x83â\\x83ã\\x83â\\x82â\\x82ã\\x83â\\x83â\\x82ã\\x83â\\x82â\\x8d\",\n",
              " 'terrible food undercooked chicken stale',\n",
              " 'restaurant opened 24 hour reached 11 p.m la carte paneer tikka spring roll good starter fresh lime soda tomato soup ok. loved dal makhani dal khichdi',\n",
              " \"dikhave pe mat jao apni akkal lagao perfectly suit bar restaurant photo represent good stunning n't dismay many 5/5 offer free snack rate 5/5 reason behind many 5 rating go little depth hardly genuine review reviewer either one review single digit follower reviewed 5/5 want enjoy live match want alcohol kind average ambience mean ambience n't mater food n't something care give try zomato kindly maintain strict policy regarding 5 rating review restaurant offering bribe openly kindly look personally never visit double check review authenticity ambience 0.5/5 service 4/5 location 2/5 taste 3/5 representation 1/5\",\n",
              " 'first outlet bangalore tried punjabi famous allo pranthas finger licking yummy befriended owner take loan pranthas whenever used broke',\n",
              " 'one best place aloo paratha loved please send pickle online order try aloo paratha 3 star aloo partha',\n",
              " 'good',\n",
              " 'bad',\n",
              " \"place know odia sweet snack chat item available ambiance not great looking food odia food 's place odia sweet badi puffed rice etc available favourite dahi bara aloo dum bara googni vada white pea curry\",\n",
              " 'lovely place grand decor service excellent middle row table 4 chair however not friendly nice dinner difficult manage especially shape table one better ã\\x83â\\x83â\\x83ã\\x83â\\x82â\\x83ã\\x83â\\x83â\\x82ã\\x83â\\x82â\\x83ã\\x83â\\x83â\\x83ã\\x83â\\x82â\\x82ã\\x83â\\x83â\\x82ã\\x83â\\x82ã\\x82â¢ã\\x83â\\x83â\\x83ã\\x83â\\x82â\\x83ã\\x83â\\x83â\\x82ã\\x83â\\x82â\\x82ã\\x83â\\x83â\\x83ã\\x83â\\x82â\\x82ã\\x83â\\x83â\\x82ã\\x83â\\x82â\\x80ã\\x83â\\x83â\\x83ã\\x83â\\x82â\\x83ã\\x83â\\x83â\\x82ã\\x83â\\x82â\\x82ã\\x83â\\x83â\\x83ã\\x83â\\x82â\\x82ã\\x83â\\x83â\\x82ã\\x83â\\x82â\\x98old fashionã\\x83â\\x83â\\x83ã\\x83â\\x82â\\x83ã\\x83â\\x83â\\x82ã\\x83â\\x82â\\x83ã\\x83â\\x83â\\x83ã\\x83â\\x82â\\x82ã\\x83â\\x83â\\x82ã\\x83â\\x82ã\\x82â¢ã\\x83â\\x83â\\x83ã\\x83â\\x82â\\x83ã\\x83â\\x83â\\x82ã\\x83â\\x82â\\x82ã\\x83â\\x83â\\x83ã\\x83â\\x82â\\x82ã\\x83â\\x83â\\x82ã\\x83â\\x82â\\x80ã\\x83â\\x83â\\x83ã\\x83â\\x82â\\x83ã\\x83â\\x83â\\x82ã\\x83â\\x82â\\x82ã\\x83â\\x83â\\x83ã\\x83â\\x82â\\x82ã\\x83â\\x83â\\x82ã\\x83â\\x82â\\x99 sangria well balanced potent described friend food excellent everything ordered really nice highlight tapa shrimp beautiful balance lemon chilli cous cous salad bacon first new refreshing definitely recommend',\n",
              " \"someone love asian cuisine try place .loved food .black bean udon yum first time trying .. ramen also good did n't like momo though .. still rest food good\",\n",
              " 'taste good felt quantity could better',\n",
              " \"'s cold supposed warm not good\",\n",
              " 'friendly staff small cafe yummy soup salad main course dessert loved gud friend family get together .... also accept party order lovely restaurant',\n",
              " 'beautifully arranged place admits busy mg road iã\\x83â\\x83â\\x83ã\\x83â\\x82â\\x83ã\\x83â\\x83â\\x82ã\\x83â\\x82â\\x82ã\\x83â\\x83â\\x83ã\\x83â\\x82â\\x82ã\\x83â\\x83â\\x82ã\\x83â\\x82â\\x92ve sunday pretty filled family kid see bright place good food smoke donã\\x83â\\x83â\\x83ã\\x83â\\x82â\\x83ã\\x83â\\x83â\\x82ã\\x83â\\x82â\\x82ã\\x83â\\x83â\\x83ã\\x83â\\x82â\\x82ã\\x83â\\x83â\\x82ã\\x83â\\x82â\\x92t like smell hookah stay away place itã\\x83â\\x83â\\x83ã\\x83â\\x82â\\x83ã\\x83â\\x83â\\x82ã\\x83â\\x82â\\x82ã\\x83â\\x83â\\x83ã\\x83â\\x82â\\x82ã\\x83â\\x83â\\x82ã\\x83â\\x82â\\x92s filled smoke menu pretty different lot experimental dish indeed try iã\\x83â\\x83â\\x83ã\\x83â\\x82â\\x83ã\\x83â\\x83â\\x82ã\\x83â\\x82â\\x82ã\\x83â\\x83â\\x83ã\\x83â\\x82â\\x82ã\\x83â\\x83â\\x82ã\\x83â\\x82â\\x92d rate place try busy mg road need quick place settle',\n",
              " 'hey .. awesome food .. loved fastest delivery best thing restaurant proprieter called asked abt food taste nd quality .. not seen far restaurant thanks zomato thanks ton new royal treat ..',\n",
              " 'big shoutout siraj mukherjee sir thank place really amazing chill party definitely big happing place koramangala saturday bollywood night mad quick table reserved beer tap good yumm food hop try paneer tika masala pizza burger',\n",
              " 'good place get fast kolkata style cuisine .. chinese north indian speciality ordered chinese noodle roti curry tasted home cooked food best part salad .. amazing .. never feel salad taste sooo good order .....',\n",
              " \"n't expect really fancy bakery offering place homely neighbourhood pastry shop stock pretty tasty chocolate tart range bread\",\n",
              " \"went last weekend get treat friend heard galito 's never visited first visit first visit became yummmmmmm n tastyyyyyy specially sauce different flavor ordered many thing n't remember exactly name almost ordered snack chicken n one prawn well set prawn n chicken hanging stand taste one best please try least whenever plan visit really recommendable one thing liked taste food prepare choice flavor whether le spicy ordered drink well flavor mint mango green apple one suggestion please use real fruit instead using flavor ..\",\n",
              " 'onesta twice now- ala carte unlimited pizza buffet ala carte visit disaster realised everything starter pasta etc apart pizza not forte second visit expectation high given rating place started carmalized onion pizza thin crust good everything went downhill ricotta stuffed pizza disaster keep ricotta home whatever pizza either not poorest version repeat couple variety thought dessert might respite nothing stood out- cannoli not actually stuffed brioche like thing best insipid overall average food not going visit',\n",
              " 'spacious n comfortable seating ordered quatro formagii pizza latte chamomile tea pizza okay along cheese add veggie latte average tea 200 overpriced',\n",
              " \"went lunch colleague place close workplace bad experience order chicken biryani did n't arrive even co worker finished eating not handle two table food over-expensive there cute cat life though\",\n",
              " 'one best hukka place bangalore serve delicious food ambience attractive good service amazing crowd good place hang friend usually crowded evening',\n",
              " 'visited place evening ambience place really good food disappointed little ordered char grill veg pizza mousakka service good ambience 4.5/5 food 3/5 service 4/5 value money 3.5/5',\n",
              " \"went 2 year ago still good impression towards restaurant however quite disappointed time pizza crust taste like soft bread not proper type pizza would expect thing cheap quantity 1 person u definitely pay double get something better bigger thing like walnut caramel tart bit sweet still acceptable still 's good place quick bite not proper dining\",\n",
              " 'visited place birthday though discount liquor opted zomato gold food instead ambience improve alot beer food tasty ordered alot item great especially main course visit future',\n",
              " 'black pearl black pearl one best buffet restaurant ever found bangalore pirate theam restaurant decorate nicely no word say .. found excellent hospitality ever ever .. visit place try multiple dish live grill dish get black pearl.as choose dish get lovely delicious food really love different tasted food.i recommend place find excellent hospitality ambiance',\n",
              " \"'s cozy quirky place brigade road .. no drama laughing llama light ambience food drink music good chill evening friend family ca n't get llama quote pun way go\",\n",
              " 'dint like food taste neither kebab not pizza biryani better food-1/5 ambiance-4/5 cost-2/5 food taste pathetic service-0/5 person serving got angry asked food not good',\n",
              " 'advice waiter management ã\\x83â\\x83â\\x83ã\\x83â\\x82â\\x83ã\\x83â\\x83â\\x82ã\\x83â\\x82â\\x82ã\\x83â\\x83â\\x83ã\\x83â\\x82â\\x82ã\\x83â\\x83â\\x82ã\\x83â\\x82â\\x93donã\\x83â\\x83â\\x83ã\\x83â\\x82â\\x83ã\\x83â\\x83â\\x82ã\\x83â\\x82â\\x82ã\\x83â\\x83â\\x83ã\\x83â\\x82â\\x82ã\\x83â\\x83â\\x82ã\\x83â\\x82â\\x92t stareã\\x83â\\x83â\\x83ã\\x83â\\x82â\\x83ã\\x83â\\x83â\\x82ã\\x83â\\x82â\\x82ã\\x83â\\x83â\\x83ã\\x83â\\x82â\\x82ã\\x83â\\x83â\\x82ã\\x83â\\x82â\\x94 waiter staring u entire time sitting trying eat super uncomfortable people visit restaurant good time enjoying not cautious wait staff judging donã\\x83â\\x83â\\x83ã\\x83â\\x82â\\x83ã\\x83â\\x83â\\x82ã\\x83â\\x82â\\x82ã\\x83â\\x83â\\x83ã\\x83â\\x82â\\x82ã\\x83â\\x83â\\x82ã\\x83â\\x82â\\x92t table serve get sight something else waiter arguing loudly staff cook food average ambience average wouldnã\\x83â\\x83â\\x83ã\\x83â\\x82â\\x83ã\\x83â\\x83â\\x82ã\\x83â\\x82â\\x82ã\\x83â\\x83â\\x83ã\\x83â\\x82â\\x82ã\\x83â\\x83â\\x82ã\\x83â\\x82â\\x92t visit',\n",
              " 'charming little asian restaurant lovely ambience friendly prompt service loved sticky pork rib yum lamb rendang cooked beautifully orange colour chutney type thing fiery kick definitely recommend',\n",
              " \"glen 's bakehouse- ask anyone living bangalore get best cupcake coffee recommend glen 's red velvet cupcake took heart signature coffee good recommend 100/100 try 're bangalore\",\n",
              " 'good tasty',\n",
              " \"lit lit lit ã\\x83â\\x83â\\x83ã\\x83â\\x82â\\x83ã\\x83â\\x83â\\x82ã\\x83â\\x82â\\x83ã\\x83â\\x83â\\x83ã\\x83â\\x82â\\x82ã\\x83â\\x83â\\x82ã\\x83â\\x82ã\\x82â°ã\\x83â\\x83â\\x83ã\\x83â\\x82â\\x83ã\\x83â\\x83â\\x82ã\\x83â\\x82â\\x82ã\\x83â\\x83â\\x83ã\\x83â\\x82â\\x82ã\\x83â\\x83â\\x82ã\\x83â\\x82â\\x9fã\\x83â\\x83â\\x83ã\\x83â\\x82â\\x83ã\\x83â\\x83â\\x82ã\\x83â\\x82â\\x82ã\\x83â\\x83â\\x83ã\\x83â\\x82â\\x82ã\\x83â\\x83â\\x82ã\\x83â\\x82â\\x94ã\\x83â\\x83â\\x83ã\\x83â\\x82â\\x83ã\\x83â\\x83â\\x82ã\\x83â\\x82â\\x82ã\\x83â\\x83â\\x83ã\\x83â\\x82â\\x82ã\\x83â\\x83â\\x82ã\\x83â\\x82ã\\x82â¥ say place lit 32nd floor bangalore night view steal ur heart view food ambience people fabulous place dinned last wednesday place excellent food excellent service full enjoyment excitement always ask saurabh rohit serve 've great way treating u warm hospitality recommended visit great unforgettable fun go high get highã\\x83â\\x83â\\x83ã\\x83â\\x82â\\x83ã\\x83â\\x83â\\x82ã\\x83â\\x82â\\x83ã\\x83â\\x83â\\x83ã\\x83â\\x82â\\x82ã\\x83â\\x83â\\x82ã\\x83â\\x82ã\\x82â°ã\\x83â\\x83â\\x83ã\\x83â\\x82â\\x83ã\\x83â\\x83â\\x82ã\\x83â\\x82â\\x82ã\\x83â\\x83â\\x83ã\\x83â\\x82â\\x82ã\\x83â\\x83â\\x82ã\\x83â\\x82â\\x9fã\\x83â\\x83â\\x83ã\\x83â\\x82â\\x83ã\\x83â\\x83â\\x82ã\\x83â\\x82â\\x82ã\\x83â\\x83â\\x83ã\\x83â\\x82â\\x82ã\\x83â\\x83â\\x82ã\\x83â\\x82ã\\x82â¤ã\\x83â\\x83â\\x83ã\\x83â\\x82â\\x83ã\\x83â\\x83â\\x82ã\\x83â\\x82â\\x82ã\\x83â\\x83â\\x83ã\\x83â\\x82â\\x82ã\\x83â\\x83â\\x82ã\\x83â\\x82â\\x98ã\\x83â\\x83â\\x83ã\\x83â\\x82â\\x83ã\\x83â\\x83â\\x82ã\\x83â\\x82â\\x83ã\\x83â\\x83â\\x83ã\\x83â\\x82â\\x82ã\\x83â\\x83â\\x82ã\\x83â\\x82ã\\x82â°ã\\x83â\\x83â\\x83ã\\x83â\\x82â\\x83ã\\x83â\\x83â\\x82ã\\x83â\\x82â\\x82ã\\x83â\\x83â\\x83ã\\x83â\\x82â\\x82ã\\x83â\\x83â\\x82ã\\x83â\\x82â\\x9fã\\x83â\\x83â\\x83ã\\x83â\\x82â\\x83ã\\x83â\\x83â\\x82ã\\x83â\\x82â\\x82ã\\x83â\\x83â\\x83ã\\x83â\\x82â\\x82ã\\x83â\\x83â\\x82ã\\x83â\\x82â\\x8fã\\x83â\\x83â\\x83ã\\x83â\\x82â\\x83ã\\x83â\\x83â\\x82ã\\x83â\\x82â\\x82ã\\x83â\\x83â\\x83ã\\x83â\\x82â\\x82ã\\x83â\\x83â\\x82ã\\x83â\\x82ã\\x82â » ã\\x83â\\x83â\\x83ã\\x83â\\x82â\\x83ã\\x83â\\x83â\\x82ã\\x83â\\x82â\\x83ã\\x83â\\x83â\\x83ã\\x83â\\x82â\\x82ã\\x83â\\x83â\\x82ã\\x83â\\x82ã\\x82â¢ã\\x83â\\x83â\\x83ã\\x83â\\x82â\\x83ã\\x83â\\x83â\\x82ã\\x83â\\x82â\\x82ã\\x83â\\x83â\\x83ã\\x83â\\x82â\\x82ã\\x83â\\x83â\\x82ã\\x83â\\x82â\\x9cã\\x83â\\x83â\\x83ã\\x83â\\x82â\\x83ã\\x83â\\x83â\\x82ã\\x83â\\x82â\\x82ã\\x83â\\x83â\\x83ã\\x83â\\x82â\\x82ã\\x83â\\x83â\\x82ã\\x83â\\x82â\\x8cã\\x83â\\x83â\\x83ã\\x83â\\x82â\\x83ã\\x83â\\x83â\\x82ã\\x83â\\x82â\\x83ã\\x83â\\x83â\\x83ã\\x83â\\x82â\\x82ã\\x83â\\x83â\\x82ã\\x83â\\x82ã\\x82â°ã\\x83â\\x83â\\x83ã\\x83â\\x82â\\x83ã\\x83â\\x83â\\x82ã\\x83â\\x82â\\x82ã\\x83â\\x83â\\x83ã\\x83â\\x82â\\x82ã\\x83â\\x83â\\x82ã\\x83â\\x82â\\x9fã\\x83â\\x83â\\x83ã\\x83â\\x82â\\x83ã\\x83â\\x83â\\x82ã\\x83â\\x82â\\x82ã\\x83â\\x83â\\x83ã\\x83â\\x82â\\x82ã\\x83â\\x83â\\x82ã\\x83â\\x82â\\x8fã\\x83â\\x83â\\x83ã\\x83â\\x82â\\x83ã\\x83â\\x83â\\x82ã\\x83â\\x82â\\x82ã\\x83â\\x83â\\x83ã\\x83â\\x82â\\x82ã\\x83â\\x83â\\x82ã\\x83â\\x82ã\\x82â »\",\n",
              " 'visited tonight quick drink along mate say place real good ambience overlooking courtyard phoenix vr mall place offer real chill vibe enjoy weekend drink friend long day work however time short one two drink accompany u next surely longer experience try item bit pricey side recommend havenã\\x83â\\x83â\\x83ã\\x83â\\x82â\\x83ã\\x83â\\x83â\\x82ã\\x83â\\x82â\\x83ã\\x83â\\x83â\\x83ã\\x83â\\x82â\\x82ã\\x83â\\x83â\\x82ã\\x83â\\x82ã\\x82â¢ã\\x83â\\x83â\\x83ã\\x83â\\x82â\\x83ã\\x83â\\x83â\\x82ã\\x83â\\x82â\\x82ã\\x83â\\x83â\\x83ã\\x83â\\x82â\\x82ã\\x83â\\x83â\\x82ã\\x83â\\x82â\\x80ã\\x83â\\x83â\\x83ã\\x83â\\x82â\\x83ã\\x83â\\x83â\\x82ã\\x83â\\x82â\\x82ã\\x83â\\x83â\\x83ã\\x83â\\x82â\\x82ã\\x83â\\x83â\\x82ã\\x83â\\x82â\\x99t ã\\x83â\\x83â\\x83ã\\x83â\\x82â\\x83ã\\x83â\\x83â\\x82ã\\x83â\\x82â\\x83ã\\x83â\\x83â\\x83ã\\x83â\\x82â\\x82ã\\x83â\\x83â\\x82ã\\x83â\\x82ã\\x82â°ã\\x83â\\x83â\\x83ã\\x83â\\x82â\\x83ã\\x83â\\x83â\\x82ã\\x83â\\x82â\\x82ã\\x83â\\x83â\\x83ã\\x83â\\x82â\\x82ã\\x83â\\x83â\\x82ã\\x83â\\x82â\\x9fã\\x83â\\x83â\\x83ã\\x83â\\x82â\\x83ã\\x83â\\x83â\\x82ã\\x83â\\x82â\\x82ã\\x83â\\x83â\\x83ã\\x83â\\x82â\\x82ã\\x83â\\x83â\\x82ã\\x83â\\x82â\\x91ã\\x83â\\x83â\\x83ã\\x83â\\x82â\\x83ã\\x83â\\x83â\\x82ã\\x83â\\x82â\\x82ã\\x83â\\x83â\\x83ã\\x83â\\x82â\\x82ã\\x83â\\x83â\\x82ã\\x83â\\x82â\\x8dã\\x83â\\x83â\\x83ã\\x83â\\x82â\\x83ã\\x83â\\x83â\\x82ã\\x83â\\x82â\\x83ã\\x83â\\x83â\\x83ã\\x83â\\x82â\\x82ã\\x83â\\x83â\\x82ã\\x83â\\x82ã\\x82â°ã\\x83â\\x83â\\x83ã\\x83â\\x82â\\x83ã\\x83â\\x83â\\x82ã\\x83â\\x82â\\x82ã\\x83â\\x83â\\x83ã\\x83â\\x82â\\x82ã\\x83â\\x83â\\x82ã\\x83â\\x82â\\x9fã\\x83â\\x83â\\x83ã\\x83â\\x82â\\x83ã\\x83â\\x83â\\x82ã\\x83â\\x82â\\x82ã\\x83â\\x83â\\x83ã\\x83â\\x82â\\x82ã\\x83â\\x83â\\x82ã\\x83â\\x82â\\x8fã\\x83â\\x83â\\x83ã\\x83â\\x82â\\x83ã\\x83â\\x83â\\x82ã\\x83â\\x82â\\x82ã\\x83â\\x83â\\x83ã\\x83â\\x82â\\x82ã\\x83â\\x83â\\x82ã\\x83â\\x82ã\\x82â½',\n",
              " 'itã\\x83â\\x83â\\x83ã\\x83â\\x82â\\x83ã\\x83â\\x83â\\x82ã\\x83â\\x82â\\x83ã\\x83â\\x83â\\x83ã\\x83â\\x82â\\x82ã\\x83â\\x83â\\x82ã\\x83â\\x82ã\\x82â¢ã\\x83â\\x83â\\x83ã\\x83â\\x82â\\x83ã\\x83â\\x83â\\x82ã\\x83â\\x82â\\x82ã\\x83â\\x83â\\x83ã\\x83â\\x82â\\x82ã\\x83â\\x83â\\x82ã\\x83â\\x82â\\x80ã\\x83â\\x83â\\x83ã\\x83â\\x82â\\x83ã\\x83â\\x83â\\x82ã\\x83â\\x82â\\x82ã\\x83â\\x83â\\x83ã\\x83â\\x82â\\x82ã\\x83â\\x83â\\x82ã\\x83â\\x82â\\x99s local 50rs biryani',\n",
              " 'good place food family friend well maintained place well mannered staff food simply awesome place cleanliness place good taste',\n",
              " 'biryani worst',\n",
              " \"went monthly team party retro themed brewpub serf decent beer metallic pipe around neon neon around even menu card overall nice concept talking food non veg platter awesome really loved however sea food platter disappointing king prawn smelled spoiled mood evening dish tasting pretty much not great starter marcella cigar try better non veg starter day desi bite modern section paw bhaji served pretty good would love try item section want go place dance floor place not spacious 's cramped think twice visit wish 3.5 rating option place\",\n",
              " \"'s delightful place cozy ambience friendly staff peanut caramel sauce almost addictive dolsot bibimbap deobap absolute soul food along ttukbaegi bulgogi amazing experience overall\",\n",
              " 'chicken dish good enjoyed food .. course size meal size slightly big hungry factor high good place go .. sharing option also available enjoy spicy factor also available according requirement',\n",
              " 'order chipotle veggie pizza say amazing base thin crispy better seller specifically pizza loved ordered cjuan hawaian pizza yea usual yummy stoner gained position favourite love',\n",
              " 'craving momos today did not want put maida stomach arrived paltry 8 piece momos spicy tasted really bad rating given idea whole wheat momos really regret spending money',\n",
              " 'kulfi falooda death chocolate ice cream falooda okay lot rose drink extra sweet death chocolate ice cream complete terrible experience- plain vanilla ice ceam choco chip chocolate cream',\n",
              " 'seems like one well restaurant hsr kinda give posh vibe food good quantity quality wise recommend dish spaghetti bolognese chicken mince burger mushy ã\\x83â\\x83â\\x83ã\\x83â\\x82â\\x83ã\\x83â\\x83â\\x82ã\\x83â\\x82â\\x82ã\\x83â\\x83â\\x83ã\\x83â\\x82â\\x82ã\\x83â\\x83â\\x82ã\\x83â\\x82â\\x91bout captain jackã\\x83â\\x83â\\x83ã\\x83â\\x82â\\x83ã\\x83â\\x83â\\x82ã\\x83â\\x82â\\x82ã\\x83â\\x83â\\x83ã\\x83â\\x82â\\x82ã\\x83â\\x83â\\x82ã\\x83â\\x82â\\x92s special',\n",
              " 'god service',\n",
              " 'awesome review coming stay tuned place simon say microbrewery location 5th block kormangala bengaluru name dish rating 5 restaurant 4 dish featured 4 flavour 4 service quick friendly overall',\n",
              " \"never think ordering anything south indian veg thali teamed mutton pepper fry even though ordered pair many time n't yet got bored well say long live nagarjunaã\\x83â\\x83â\\x83ã\\x83â\\x82â\\x83ã\\x83â\\x83â\\x82ã\\x83â\\x82â\\x83ã\\x83â\\x83â\\x83ã\\x83â\\x82â\\x82ã\\x83â\\x83â\\x82ã\\x83â\\x82ã\\x82â°ã\\x83â\\x83â\\x83ã\\x83â\\x82â\\x83ã\\x83â\\x83â\\x82ã\\x83â\\x82â\\x82ã\\x83â\\x83â\\x83ã\\x83â\\x82â\\x82ã\\x83â\\x83â\\x82ã\\x83â\\x82â\\x9fã\\x83â\\x83â\\x83ã\\x83â\\x82â\\x83ã\\x83â\\x83â\\x82ã\\x83â\\x82â\\x82ã\\x83â\\x83â\\x83ã\\x83â\\x82â\\x82ã\\x83â\\x83â\\x82ã\\x83â\\x82â\\x98ã\\x83â\\x83â\\x83ã\\x83â\\x82â\\x83ã\\x83â\\x83â\\x82ã\\x83â\\x82â\\x82ã\\x83â\\x83â\\x83ã\\x83â\\x82â\\x82ã\\x83â\\x83â\\x82ã\\x83â\\x82â\\x80\",\n",
              " 'one best place whole bangalore hardcore tandoori stuff love family package help save lot money time ambiance not great care care food',\n",
              " 'worst place ever.we wait 1.5 hour food ordered veg burger made fruit bun waiter ever guy roaming around pyjama ordered burger coldrink fry combo forgot bring fries.one burger upside no wonder place no footfall',\n",
              " 'taste amazing',\n",
              " \"chicken not fresh think serve display food next day india serve crap high price disgusted .... n't know place n't eat mantri mall\",\n",
              " \"please start catering vegan population well would love y'all introduced vegan cheesecake huge demand vegan food\",\n",
              " 'wonderful place .. pizza burger tasty.the way presentation also nice u not stop ordering again.the icecream also delicious service quick.simply liked place pizza lover place visit',\n",
              " 'nice place want homely taste food specially north indian place not big food awesome paranthas try',\n",
              " 'ordered one pyaaz kachori dhokla difficult simple order right instead kachori sent jalebi restaurant didnã\\x83â\\x83â\\x83ã\\x83â\\x82â\\x83ã\\x83â\\x83â\\x82ã\\x83â\\x82â\\x83ã\\x83â\\x83â\\x83ã\\x83â\\x82â\\x82ã\\x83â\\x83â\\x82ã\\x83â\\x82â\\x82ã\\x83â\\x83â\\x83ã\\x83â\\x82â\\x83ã\\x83â\\x83â\\x82ã\\x83â\\x82â\\x82ã\\x83â\\x83â\\x83ã\\x83â\\x82â\\x82ã\\x83â\\x83â\\x82ã\\x83â\\x82â\\x92t pick tried calling no change made asked enjoy jabelis forced guess found jalebi- larva guy please donã\\x83â\\x83â\\x83ã\\x83â\\x82â\\x83ã\\x83â\\x83â\\x82ã\\x83â\\x82â\\x83ã\\x83â\\x83â\\x83ã\\x83â\\x82â\\x82ã\\x83â\\x83â\\x82ã\\x83â\\x82â\\x82ã\\x83â\\x83â\\x83ã\\x83â\\x82â\\x83ã\\x83â\\x83â\\x82ã\\x83â\\x82â\\x82ã\\x83â\\x83â\\x83ã\\x83â\\x82â\\x82ã\\x83â\\x83â\\x82ã\\x83â\\x82â\\x92t order not wan na gulp kind insect something didnã\\x83â\\x83â\\x83ã\\x83â\\x82â\\x83ã\\x83â\\x83â\\x82ã\\x83â\\x82â\\x83ã\\x83â\\x83â\\x83ã\\x83â\\x82â\\x82ã\\x83â\\x83â\\x82ã\\x83â\\x82â\\x82ã\\x83â\\x83â\\x83ã\\x83â\\x82â\\x83ã\\x83â\\x83â\\x82ã\\x83â\\x82â\\x82ã\\x83â\\x83â\\x83ã\\x83â\\x82â\\x82ã\\x83â\\x83â\\x82ã\\x83â\\x82â\\x92t even order attaching picture testimony',\n",
              " 'amazing food loved every bit try place anyone want try chinese food really loved noodle box concept also decently priced something really liked service staff also polite humble please look uploaded pic detail yes soon come back place .....',\n",
              " 'bad way spicy food could not eat throw away chicken roll pathetic roti like rubber bhuna chicken not chicken tikka bad one',\n",
              " 'ordered chicken biryani got biryani rice',\n",
              " 'location restaurant convenient easy spot food alright ordered fish steak beef steak fish better beef dish came good portion mashed potato creamy delicious fragrant rice sautã\\x83â\\x83â\\x83ã\\x83â\\x82â\\x83ã\\x83â\\x83â\\x82ã\\x83â\\x82â\\x83ã\\x83â\\x83â\\x83ã\\x83â\\x82â\\x82ã\\x83â\\x83â\\x82ã\\x83â\\x82ã\\x82â©ed veggie overall would rate fish mark go 4/5 beef steakalypse 3/5 worth try',\n",
              " \"pasta street cunningham road number occasion always returned satisfied happy food service name suggests great selection pasta least one pasta dish visit no-brainer liked bolognese minced chicken pasta pasta chicken primavera pizza also great thin crust served hot spicy chicken prato pizza grilled basa fish absolute delight also try delectable selection antipastis starter especially barbeque chicken wing top glass delicious wine opportunity interacting head chef flown italy great guy staff courteous polite service n't take much time pasta street satisfy italian food craving wonderful experience visit\",\n",
              " 'bad service no one care cust coming counter no proper service bad experience never ever suggest place',\n",
              " 'send family friend gap 2 year although made reservation no table lot people waiting wait 25 minute place become popular need managed better although service team polite clearly stretched limit',\n",
              " 'food good',\n",
              " 'ordered kitkat overload waffle rich taste .. sufficient 2 people service quick worth money paid waffle',\n",
              " 'looking drink frenz decent restaurant place highly recommended pro near eco space lighter pocket large capacity',\n",
              " 'biryani finger licking wow u luv mughlai style go value ur money service something shud work',\n",
              " 'good',\n",
              " \"food good ambience not great compared mg road restaurant manchurian really good personally did n't find better manchurian bangalore found delay service people working nice overall good experience full enjoyed ordered monchaw soup lemon chicken manchurian butter chicken 2-3 item\",\n",
              " 'great place meat lover pro variety option great taste pocket friendly con nothing go family friend enjoy',\n",
              " 'located inside ranga shankara going place friend past year ambience good informal give nice rustic feeling love artistic thing keep putting like handmade lampshade artwork food good love bhel puri really best bhel puri u find part town place calm occasionally disturbed due vehicle passing relax work hang friend keep theater upstairs',\n",
              " 'check durga pujo menu excited taste authentic bengali food started vegetable chop tikki beetroot stuffing non-vegetarians 2-3 option stuffing mouth no wonder looked happy paired starter aam pora shorbot really liked tanginess flavor main aloor dom yummy jhinge aloo posto dhokar dalna along mouth watering luchis stuffed miss rice cholar dal good something different taste palette dessert undoubtedly best part nolen gurer ice cream favorite also got hand bhapa sondesh payesh wish non vegetarian experience people did especially kakra dish cheer vedshree littlefoodiegirl littlefoodiegirl.com',\n",
              " 'ordered burito zoodle box mushroom soup powerhouse bowl unfortunately bit disappointed taste neatly packed took 1 hour deliver burito disappointing bland veggie decent quality mushroom soup average quantity good',\n",
              " \"cozy cafe located koramangala 1st block serf english breakfast menu completely continental english breakfast fanatic paid visit cafe taste dish tasted french toast bacon cheesy fry received order span 10 min ambience n't great okayish french toast bread toasted perfectly golden perfection small slice banana layered top syrup n't soo sweet manageable amount cinnamon powder added toast le taste pleasant bacon cheesy fry combination bacon french fry served mayonnaise fry perfectly fried crispy bacon taste good fresh felt mayonnaise bit salty bacon fanatic try overall good cafe get tasty english breakfast decent pricing\",\n",
              " \"coffee bean tea leaf quiet atmosphere seems like nice place coffee silently reading book working however cushion seat torn service alright n't much communication staff member ordered chilly cheese overload ham cheese omelette tasted alright nothing really great p.s- zomato gold 're lurking around area place might pocket friendly solution hunger food- 3.5/5 ambiance- 3/5 service- 3.5/5 overall- 3.5/5\",\n",
              " 'nandini restaurant bangalore cole road beautiful hotel nandhini deluxe nice restaurant nice test beautiful test good good hotel serviced good service thank nandini restaurant good thank',\n",
              " \"worst restaurant ...... wo n't deliver food time .... delivered 2 hour cold .... n't respond properly worst quality worst taste food\",\n",
              " 'loved garlic prawn avacado toast chicken caesar salad delicious food good though sore point pancake shot kid itã\\x83â\\x83â\\x83ã\\x83â\\x82â\\x83ã\\x83â\\x83â\\x82ã\\x83â\\x82â\\x82ã\\x83â\\x83â\\x83ã\\x83â\\x82â\\x82ã\\x83â\\x83â\\x82ã\\x83â\\x82â\\x92s small quaint place breakfast surprised keto option health police',\n",
              " 'place amazing ordered glenã\\x83â\\x83â\\x83ã\\x83â\\x82â\\x83ã\\x83â\\x83â\\x82ã\\x83â\\x82â\\x83ã\\x83â\\x83â\\x83ã\\x83â\\x82â\\x82ã\\x83â\\x83â\\x82ã\\x83â\\x82ã\\x82â¢ã\\x83â\\x83â\\x83ã\\x83â\\x82â\\x83ã\\x83â\\x83â\\x82ã\\x83â\\x82â\\x82ã\\x83â\\x83â\\x83ã\\x83â\\x82â\\x82ã\\x83â\\x83â\\x82ã\\x83â\\x82â\\x80ã\\x83â\\x83â\\x83ã\\x83â\\x82â\\x83ã\\x83â\\x83â\\x82ã\\x83â\\x82â\\x82ã\\x83â\\x83â\\x83ã\\x83â\\x82â\\x82ã\\x83â\\x83â\\x82ã\\x83â\\x82â\\x99s signature coffee lemon tart mushroom puff absolutely amazing ambience staff amazing loved experience',\n",
              " 'first time noodle bar oh boy impressed wholesome variety noodle top notch taste cutesy ambience point service doesnã\\x83â\\x83â\\x83ã\\x83â\\x82â\\x83ã\\x83â\\x83â\\x82ã\\x83â\\x82â\\x82ã\\x83â\\x83â\\x83ã\\x83â\\x82â\\x82ã\\x83â\\x83â\\x82ã\\x83â\\x82â\\x92t end itã\\x83â\\x83â\\x83ã\\x83â\\x82â\\x83ã\\x83â\\x83â\\x82ã\\x83â\\x82â\\x82ã\\x83â\\x83â\\x83ã\\x83â\\x82â\\x82ã\\x83â\\x83â\\x82ã\\x83â\\x82â\\x92s also easy pocket highly recommended bangalore need guy kudos team',\n",
              " \"ordered dinner zomato 's exclusive box offer empire since 50 highly happy got discounted rate ordered empire box 16 ghee rice butter chicken curry manchurian dry butter chicken tasted extremely tasty manchurian dry did n't like much could n't finish box unfortunately next day woke stomach upset pain though heard good review restaurant did n't work\",\n",
              " 'burger really gud milkshake taste need improved',\n",
              " \"would rated 4 unless poor service ordered saboodana vada akki rotti different variety coffee set rangashankar theatre jp nagar wont get cafe 's name displayed outside ambience bit alien u c ppl diff art theatre background lazying around saboodana vada hot n crispy chilly akki rotti amazing bit pricey wait time 15 min get served coolest place hangout frens lazy sat evening hot coffee good saboodana vada akki rotti bad wait time cooking free ppl theatre background\",\n",
              " 'wanting visit place long time finally got chance go place went afternoon quite crowded ambience place really nice ordered honky tunk burger cheesy fry oreo pancake cheese tease burger white pasta lime mint cooler raspberry coke float honky tunk burger filled fry cheese grilled chicken patty really tasty cheesy fry also good cheese tease burger veg burger filled lot cheese white pasta alright beverage good oreo pancake disappointment crumbled easily tasted cakey otherwise food really good one definitely visit place',\n",
              " 'looking new place gang 15 catch ordered couple nutella shake berry smoothie peri peri fry bruschetta potato wedge pasta alfredo food good best past place place i.e ambience sprawling enough lounge friend good book read board game people kept phone aside fought game like yesteryear anyone would want visit place decent food space reasonable pricing definitely go back',\n",
              " \"n't judge book cover restaurant appearance puliyogare point one tiny eatery delicious food highlight place fantastic puliyogare tamarind rice taste exactly like would iyengar home sakkare pongal another delicious dish version second none 're also try akki rotti mini idli sambar ambode kanchipuram idli ragi dosa would say quantity quite le price considering quality food 's totally worth try 're around basavangudi\",\n",
              " 'ordered chicken biriyani rate quite cheep apprehended quality surprise simply brilliant delivery time behavior also good',\n",
              " \"suppeerrr duppeerrr place live music .. great food awesome ambiance great taste prompt service .... person ask .... highly recommended place 're kormngla\",\n",
              " 'awesome place best food best beer ipa brown ale top notch food excellent guy loki serving u made sure service top-notch',\n",
              " \"always loved going onesta quite excited new menu new unlimited come unlimited pizza+1 dessert+1drink coke sprite etc- quite watery new menu n't old favorite like cheese stick whatever called however no longer pork new menu either entire menu unlimited also restricted one drink disappointing imo .. coming taste quality still good\",\n",
              " 'went beer grill really good spacious nice ambience did take arrive still worth wait ..',\n",
              " 'usually come biryani small good place go friend ambiance ok staff helpful food biryani good chicken n item not mark ok 3/5',\n",
              " 'every time miss one item',\n",
              " 'inattentive saturday afternoon place pretty crowded got table no one attend table 15mins even spending 15mins walk receptionist ask attend table ala got waiter ordered- blue heaven bad black current granita okay sneaker milkshake okay nutella milkshake okay saucy peri peri chicken supreme yummy cheese mushroom jalapeã\\x83â\\x83â\\x83ã\\x83â\\x82â\\x83ã\\x83â\\x83â\\x82ã\\x83â\\x82â\\x83ã\\x83â\\x83â\\x83ã\\x83â\\x82â\\x82ã\\x83â\\x83â\\x82ã\\x83â\\x82ã\\x82â±o nacho good penne arabiata chicken pasta good good place decent food service pathetic management hell lot attitude',\n",
              " 'small place typical andhra style food always itã\\x83â\\x83â\\x83ã\\x83â\\x82â\\x83ã\\x83â\\x83â\\x82ã\\x83â\\x82â\\x83ã\\x83â\\x83â\\x83ã\\x83â\\x82â\\x82ã\\x83â\\x83â\\x82ã\\x83â\\x82ã\\x82â¢ã\\x83â\\x83â\\x83ã\\x83â\\x82â\\x83ã\\x83â\\x83â\\x82ã\\x83â\\x82â\\x82ã\\x83â\\x83â\\x83ã\\x83â\\x82â\\x82ã\\x83â\\x83â\\x82ã\\x83â\\x82â\\x80ã\\x83â\\x83â\\x83ã\\x83â\\x82â\\x83ã\\x83â\\x83â\\x82ã\\x83â\\x82â\\x82ã\\x83â\\x83â\\x83ã\\x83â\\x82â\\x82ã\\x83â\\x83â\\x82ã\\x83â\\x82â\\x99s biryani meghnaã\\x83â\\x83â\\x83ã\\x83â\\x82â\\x83ã\\x83â\\x83â\\x82ã\\x83â\\x82â\\x83ã\\x83â\\x83â\\x83ã\\x83â\\x82â\\x82ã\\x83â\\x83â\\x82ã\\x83â\\x82ã\\x82â¢ã\\x83â\\x83â\\x83ã\\x83â\\x82â\\x83ã\\x83â\\x83â\\x82ã\\x83â\\x82â\\x82ã\\x83â\\x83â\\x83ã\\x83â\\x82â\\x82ã\\x83â\\x83â\\x82ã\\x83â\\x82â\\x80ã\\x83â\\x83â\\x83ã\\x83â\\x82â\\x83ã\\x83â\\x83â\\x82ã\\x83â\\x82â\\x82ã\\x83â\\x83â\\x83ã\\x83â\\x82â\\x82ã\\x83â\\x83â\\x82ã\\x83â\\x82â\\x99s special biryani chicken boneless biryani try canã\\x83â\\x83â\\x83ã\\x83â\\x82â\\x83ã\\x83â\\x83â\\x82ã\\x83â\\x82â\\x83ã\\x83â\\x83â\\x83ã\\x83â\\x82â\\x82ã\\x83â\\x83â\\x82ã\\x83â\\x82ã\\x82â¢ã\\x83â\\x83â\\x83ã\\x83â\\x82â\\x83ã\\x83â\\x83â\\x82ã\\x83â\\x82â\\x82ã\\x83â\\x83â\\x83ã\\x83â\\x82â\\x82ã\\x83â\\x83â\\x82ã\\x83â\\x82â\\x80ã\\x83â\\x83â\\x83ã\\x83â\\x82â\\x83ã\\x83â\\x83â\\x82ã\\x83â\\x82â\\x82ã\\x83â\\x83â\\x83ã\\x83â\\x82â\\x82ã\\x83â\\x83â\\x82ã\\x83â\\x82â\\x99t much spice make sure order soft drink hand',\n",
              " 'buff buffet buff probably one best buffet spot koramangala rate decent list aliment endless dozen starter relishing moreish main course delicious dessert ambience great best place satisfactory buffet ambience 8/10 food 9/10 variety 9/10 dessert 8/10 staff 9/10 value money 9.5/10 nice place hangout friend try',\n",
              " \"not pleasant experience first visit karama ordered mutton paya karachi naan sheesh tawook since first time trying dish not sure ordered wrong item food bad karachi naan fine like tandoori roti normal place add service bad asked beverage menu never provided gave somebody else 's order table even though different type paan ready counter said n't serve 4pm 8pm many staff yet nothing seemed place even though not peak time seriously feel empire 's chain restaurant hyped\",\n",
              " 'known everyone unlimited serving tried unlimited food heaven hunger bunch want load pizza dessert beverage served one rest good delicious price',\n",
              " \"stunning place also kinda crowded sit smoking section non smoker like well talking food tasted almost similar loved cocktail ambiance good sitting facing road n't really pleasant overall good time\",\n",
              " 'tasty',\n",
              " 'nice evening spent friend .. 2 yr visiting place .. memory refreshed .. good service happy hour make happy .. nice food .. quantity le price paid',\n",
              " 'excellent food quality nd quantity',\n",
              " 'polite staff minimal yet beautifully decorated christmas good food super moist chocolate cake made almond flour body mind heart feel good cause really healthy yet super tasty food',\n",
              " \"'s yummmmmmmmmmmmmmmmmmmmmmmmmmmmmmmmmmmmmmmmmmmmmmmmmmmmmmmmmmmmmmmmmmyummmmmmmmmmmmmmmmmmmmmmmmmmmmmmmmmmmmmmmmmmmmmmmmmmmmmmmmmmmmmmmmmmyummmmmmmmmmmmmmmmmmmmmmmmmmmmmmmmmmmmmmmmmmmmmmmmmmmmmmmmmmmmmmmmmm\",\n",
              " \"'s actually hookah cafe awesome ambience good food bit slow service ordered chicken burger n't good barbecue chicken wing awesome great place hanging friend\",\n",
              " 'ordered chicken schezwan rice extra masala normal rice disappointed',\n",
              " 'nice outdoor place eat artsy people kheema masala kheema biryani akki rotti stand good regular eat',\n",
              " 'upon time hyderabadi dum biryani use taste awesome real deal .. quality gone carrier meal could serve rice upto 2-3 people along dal even reduced personally still like andhra veg meal served plantain mushroom chilli fry wouldnt recommend chilli chicken though flavorflamefusion.blogspot.com',\n",
              " 'old chicken served .. smell bad not recommended',\n",
              " 'recently visited eunoia grab pre-ordered focaccia bread first visit totally loved decor beautiful cafe stand neighborhood surprised pocket friendly well.i devoured focaccia bread freshly baked healthy well did want next visit enjoy cafe experience enjoy baked samosa no take aways amazing quality courtesy bet lot thought go behind aromatic oven everyday cater hunger soul like',\n",
              " 'known authentic bengali cuisine restaurant justifies itã\\x83â\\x83â\\x83ã\\x83â\\x82â\\x83ã\\x83â\\x83â\\x82ã\\x83â\\x82â\\x82ã\\x83â\\x83â\\x83ã\\x83â\\x82â\\x82ã\\x83â\\x83â\\x82ã\\x83â\\x82â\\x92s known bengali trace back taste flavour memory lane mochar chop payesh dish point service really great not tired explain ingredient end complimentary pan served sweet lining feast',\n",
              " '5 star packaging 3 delivery 4 taste 2.5 quality- 3 quantity 2.5 bit overpriced taste fine didnt expected size overall rating 3',\n",
              " \"pizza great tried chilli chicken pizza butter chicken pizza liked dessert come crunchy wafer 're great\",\n",
              " 'one favourite place whitefield area love wheat beer lot went 4 time recommend mushroom galawti kabab ghee roast little bit crowded weekend worth wait queue beer-lovers not miss beer also booking head-off went navonil rahut',\n",
              " 'perfect place ice cream however also provide lot option food place comfortable big service point taste trust upon paan flavour best',\n",
              " 'awesome taste .. ordered home delivery.everything tasted awesome .packing neat would like order soon 5 star rating tasty food',\n",
              " 'good',\n",
              " \"ambience could little better went lunch no electricity food compensated everything staff member courteous 're little laid back overall nice experience could better butter chicken roomali roti amazing\",\n",
              " 'cute little place amazing vibe happened pancake nice not fan pancake peanut butter banana managed staff polite',\n",
              " \"located inside ranga shankar theatre anju 's cafe really nice place sit catch friend yummy pocket friendly food wholesome interesting muffin pretty good go well tea snack even sandwich good place definitely value money recommend never get tired going\",\n",
              " 'chicken dish good enjoyed food .. course size meal size slightly big hungry factor high good place go .. sharing option also available enjoy spicy factor also available according requirement',\n",
              " \"over-rated restaurant serf average cocktail skeptical try place read mixed review decision gone wrong say nothing place 's food positive starter menial quantity embarrassing guy need pull sock provide better experience customer\",\n",
              " 'visited saturday friend place seems cool live music good seating arrangement colourful place.i find place quite innovative food also fine reasonable price definitely visit place ....',\n",
              " 'house common best place friend great hangout college friend great food amazing offer nice offer running bacardi moment tried watermelon mojito loved',\n",
              " 'pocket friendly place drink dine friend ambience not good music really bad spoiled whole mood food average happy hour good',\n",
              " \"'s nice place college student kid .. fascinating price .. visiting cafe still wallet heavy 5 u visited .. ate much bill never crossed 500 ..\",\n",
              " 'best place english breakfast kormangala loved french toast oreo nutty shake -hazelnut coffee -black coffee visit u craving english break fast',\n",
              " \"ah 'd walked past place many time finally made yesterday 's street small chic vibe menu simple pretty much point went sister ordered 2 burger 1 pasta 3 drink total boiling 1k approx pretty decent burger tandoori burp say cheese cheese veg penne alfredo pasta cinnister blueberry cooler citrus mojito peach mosco mule drink loved service ambience food\",\n",
              " \"'s decent place sure located couple block kalamandir marathahlli .the food good enough not complain food sense.if stay marathahlli area close good option talking ambiance need worked upon bar area corner comfy worst part service work snail 's pace brings whole mojo place .the staff not swift might get little hard pressed wait longer order arrive sometimes large group\",\n",
              " 'recommended authentic paanipoori tasty paani chaats good flavour like west best chaats whitefield area',\n",
              " \"place good buzzing young crowd hukka cafe find smoke smell everywhere n't go not okay stuff courteous not trained n't understand english well good place hangout smoke hukka\",\n",
              " 'place located right three dot n dash jp nagar near mini forest saw resto didnã\\x83â\\x83â\\x83ã\\x83â\\x82â\\x83ã\\x83â\\x83â\\x82ã\\x83â\\x82â\\x82ã\\x83â\\x83â\\x83ã\\x83â\\x82â\\x82ã\\x83â\\x83â\\x82ã\\x83â\\x82â\\x92t think served amazing mangalorean food iã\\x83â\\x83â\\x83ã\\x83â\\x82â\\x83ã\\x83â\\x83â\\x82ã\\x83â\\x82â\\x82ã\\x83â\\x83â\\x83ã\\x83â\\x82â\\x82ã\\x83â\\x83â\\x82ã\\x83â\\x82â\\x92ve ordered multiple time hope visit resto soon crab ghee roast chicken ghee roast chicken sukka fish tawa fry prawn curry dish name personally feel quantity pricing perfect ghee roast not spicy hint sweetness end dish iã\\x83â\\x83â\\x83ã\\x83â\\x82â\\x83ã\\x83â\\x83â\\x82ã\\x83â\\x82â\\x82ã\\x83â\\x83â\\x83ã\\x83â\\x82â\\x82ã\\x83â\\x83â\\x82ã\\x83â\\x82â\\x92ve ordered delish give place try want good mouth watering mangalorean food',\n",
              " 'well kota always big fan alu pyaaz ke kachori finding almost taste bangalore make feel like home everytime miss kota ke kachori order place tell thing definitely try aloo pyaaz kachori malai ghewar makkhania lassi shri khand absolutely love place',\n",
              " 'one regular visitor good food worth money especially break fast item idly vada poori sabji roti sabji good meal feel rice quantity le',\n",
              " 'biriyani colored rice n cooked chicken',\n",
              " \"went friday lunch buffet ship pirate themed restaurant awesome ambiance element even staff dressed pirate logo cap menu item name theme based save seating arrangement rooftop well bottom floor staff polite service slow not bad many starter n't able even try starter almost full crispy corn mexican potato strawberry pineapple grill corn tikki pav bhaji chat pani puri dahi puri almost number starter taste awesome main course good desert live ice cream counter mixed ice-creams made dry ice many desert best pop chocolate biscuit gulab jamun gave u free cocktail/mocktail/beer person\",\n",
              " ...]"
            ]
          },
          "metadata": {},
          "execution_count": 45
        }
      ],
      "source": [
        "X_train"
      ]
    },
    {
      "cell_type": "markdown",
      "metadata": {
        "id": "ps0dYNdOegct"
      },
      "source": [
        "## **Document term matrix using TfIdf**"
      ]
    },
    {
      "cell_type": "markdown",
      "metadata": {
        "id": "qFRqXSSqeeHy"
      },
      "source": [
        "* Full form of TF is term frequency. It is the count of word “x” in a sentence.\n",
        "\n",
        "* Full form of IDF is inverse document frequency. Document frequency is the number of documents which contain the word “x”. \n",
        "Natural language processing (NLP) uses tf-idf technique to convert text documents to a machine understandable form. Each sentence is a document and words in the sentence are tokens. Tfidf vectorizer creates a matrix with documents and token scores therefore it is also known as document term matrix (dtm).\n",
        "\n",
        "**Vectorization**: tfidfVectorizer performs this task by first creating an array where each value represents a word in your training data set and its corresponding weight.\n",
        "\n",
        "To understand tf-idf, let’s take a look at the following example. A document is made up of words, each word is assigned a weight from 1 to 100 (where 1 is the most important and 100 means it has no importance in that particular context). Given this information, TfidfVectorizer will output a vector for each document in which the values correspond to these weights.\n",
        "\n",
        "Vectorization: tfidfVectorizer performs this task by first creating an array where each value represents a word in your training data set and its corresponding weight.*\n",
        "What we get after applying TfidfVectorizer is a matrix of dimensions (2397, 75889).\n",
        "\n",
        "This is where the magic happens.\n",
        "\n",
        "Once you have applied TfidfVectorizer to your corpus, what you get is a sparse matrix of dimensions (2397, 75889). This means that there are only non-zero values in this matrix. The first dimension represents the document IDs and second dimension represents our words or terms in the corpus. Each row of this matrix contains information about how often was a given word used across all documents in our corpus along with TFIDF value for that term/word (float).\n",
        "\n",
        "So basically we can say TfidfVectorizer has turned our text data into numerical form so that it can be used by other ML algorithms such as LDA\n",
        "\n",
        "In this example, we have 2397 documents and 75889 different words in our corpus.\n",
        "\n",
        "The sklearn library uses a sparse matrix format for storing this matrix which means that it only stores the non-zero values and indices. This makes the process of loading and saving the model extremely fast as well as saves memory space. The sparse format also allows us to use less memory when dealing with large datasets."
      ]
    },
    {
      "cell_type": "code",
      "execution_count": 51,
      "metadata": {
        "id": "pg8FkGTeeknv"
      },
      "outputs": [],
      "source": [
        "vectorizer = TfidfVectorizer(max_features = 10000)"
      ]
    },
    {
      "cell_type": "code",
      "execution_count": 52,
      "metadata": {
        "colab": {
          "base_uri": "https://localhost:8080/"
        },
        "id": "uQFo__xWemdu",
        "outputId": "90f9733b-8d67-4202-c170-c5f3d21dacec"
      },
      "outputs": [
        {
          "output_type": "execute_result",
          "data": {
            "text/plain": [
              "(19423, 8325)"
            ]
          },
          "metadata": {},
          "execution_count": 52
        }
      ],
      "source": [
        "len(X_train), len(X_test)"
      ]
    },
    {
      "cell_type": "code",
      "execution_count": 53,
      "metadata": {
        "id": "nJfq6gySeodi"
      },
      "outputs": [],
      "source": [
        "X_train_bow = vectorizer.fit_transform(X_train)"
      ]
    },
    {
      "cell_type": "code",
      "execution_count": 54,
      "metadata": {
        "id": "kygqIoyDeqqD"
      },
      "outputs": [],
      "source": [
        "X_test_bow = vectorizer.transform(X_test)"
      ]
    },
    {
      "cell_type": "code",
      "execution_count": 55,
      "metadata": {
        "colab": {
          "base_uri": "https://localhost:8080/"
        },
        "id": "axiHgybpetou",
        "outputId": "8346e711-f4a9-4c7b-f595-46c8f7c214f8"
      },
      "outputs": [
        {
          "output_type": "execute_result",
          "data": {
            "text/plain": [
              "((19423, 10000), (8325, 10000))"
            ]
          },
          "metadata": {},
          "execution_count": 55
        }
      ],
      "source": [
        "X_train_bow.shape, X_test_bow.shape"
      ]
    },
    {
      "cell_type": "markdown",
      "metadata": {
        "id": "N_mAME4Ge080"
      },
      "source": [
        "## **Model building**\n",
        "\n",
        "#### Random forest \n",
        "\n",
        "Random Forest is an ensemble technique capable of performing both regression and classification tasks with the use of multiple decision trees and a technique called Bootstrap and Aggregation, commonly known as bagging. The basic idea behind this is to combine multiple decision trees in determining the final output rather than relying on individual decision trees. "
      ]
    },
    {
      "cell_type": "code",
      "execution_count": null,
      "metadata": {
        "id": "_5djuSlFe7HZ"
      },
      "outputs": [],
      "source": [
        "?RandomForestRegressor"
      ]
    },
    {
      "cell_type": "code",
      "execution_count": 56,
      "metadata": {
        "id": "LhcXZknVe-TE"
      },
      "outputs": [],
      "source": [
        "learner_rf = RandomForestRegressor(random_state=42)"
      ]
    },
    {
      "cell_type": "code",
      "execution_count": 57,
      "metadata": {
        "colab": {
          "base_uri": "https://localhost:8080/"
        },
        "id": "IjtZL0yIfCul",
        "outputId": "35ee4488-9c2b-4ba1-d30a-850603ff2b34"
      },
      "outputs": [
        {
          "output_type": "execute_result",
          "data": {
            "text/plain": [
              "RandomForestRegressor(random_state=42)"
            ]
          },
          "metadata": {},
          "execution_count": 57
        }
      ],
      "source": [
        "learner_rf.fit(X_train_bow, y_train)"
      ]
    },
    {
      "cell_type": "code",
      "execution_count": 58,
      "metadata": {
        "id": "je2jgF8lfHPm"
      },
      "outputs": [],
      "source": [
        "y_train_preds = learner_rf.predict(X_train_bow)"
      ]
    },
    {
      "cell_type": "code",
      "execution_count": 62,
      "metadata": {
        "id": "EO-8MAjJhnYz"
      },
      "outputs": [],
      "source": [
        "from sklearn.metrics import mean_squared_error,r2_score"
      ]
    },
    {
      "cell_type": "code",
      "execution_count": 63,
      "metadata": {
        "colab": {
          "base_uri": "https://localhost:8080/"
        },
        "id": "dpnQrm1wht_B",
        "outputId": "afc9076d-df4d-44d8-abff-8d595e08102d"
      },
      "outputs": [
        {
          "output_type": "execute_result",
          "data": {
            "text/plain": [
              "0.2280107027325059"
            ]
          },
          "metadata": {},
          "execution_count": 63
        }
      ],
      "source": [
        "mean_squared_error(y_train, y_train_preds)**0.5"
      ]
    },
    {
      "cell_type": "code",
      "source": [
        "r2_score(y_train,y_train_preds)"
      ],
      "metadata": {
        "colab": {
          "base_uri": "https://localhost:8080/"
        },
        "id": "U0jAqbOJDkaa",
        "outputId": "0180a3cd-427c-4618-b174-32167b5e9fbd"
      },
      "execution_count": 64,
      "outputs": [
        {
          "output_type": "execute_result",
          "data": {
            "text/plain": [
              "0.9683257307920315"
            ]
          },
          "metadata": {},
          "execution_count": 64
        }
      ]
    },
    {
      "cell_type": "code",
      "source": [],
      "metadata": {
        "id": "A55ep_9ZDsSb"
      },
      "execution_count": null,
      "outputs": []
    },
    {
      "cell_type": "markdown",
      "metadata": {
        "id": "YmbT600yj8BU"
      },
      "source": [
        "## **Increasing the number of trees**\n",
        "\n"
      ]
    },
    {
      "cell_type": "code",
      "execution_count": 68,
      "metadata": {
        "id": "aG1XFRnkhwHM"
      },
      "outputs": [],
      "source": [
        "learner_rf = RandomForestRegressor(random_state=42, n_estimators=1000)\n"
      ]
    },
    {
      "cell_type": "code",
      "execution_count": 72,
      "metadata": {
        "colab": {
          "base_uri": "https://localhost:8080/"
        },
        "id": "lTM6g10Wj1As",
        "outputId": "43ee7ab5-26ea-4339-f754-a26601989134"
      },
      "outputs": [
        {
          "output_type": "stream",
          "name": "stdout",
          "text": [
            "CPU times: user 58min 12s, sys: 4.4 s, total: 58min 16s\n",
            "Wall time: 58min\n"
          ]
        },
        {
          "output_type": "execute_result",
          "data": {
            "text/plain": [
              "RandomForestRegressor(n_estimators=1000, random_state=42)"
            ]
          },
          "metadata": {},
          "execution_count": 72
        }
      ],
      "source": [
        "%%time\n",
        "learner_rf.fit(X_train_bow, y_train)"
      ]
    },
    {
      "cell_type": "code",
      "execution_count": 73,
      "metadata": {
        "id": "Ulux2VfEj6oc"
      },
      "outputs": [],
      "source": [
        "y_train_preds = learner_rf.predict(X_train_bow)"
      ]
    },
    {
      "cell_type": "code",
      "execution_count": 74,
      "metadata": {
        "colab": {
          "base_uri": "https://localhost:8080/"
        },
        "id": "oNvp1GJHl0rC",
        "outputId": "ac138f0c-64fb-421f-ed3c-df42629954c1"
      },
      "outputs": [
        {
          "output_type": "execute_result",
          "data": {
            "text/plain": [
              "0.22514344099837558"
            ]
          },
          "metadata": {},
          "execution_count": 74
        }
      ],
      "source": [
        "mean_squared_error(y_train, y_train_preds)**0.5"
      ]
    },
    {
      "cell_type": "markdown",
      "metadata": {
        "id": "2N-UknnD-Yws"
      },
      "source": [
        "**Increasing the number of trees increases the performance of the model**"
      ]
    },
    {
      "cell_type": "markdown",
      "metadata": {
        "id": "iWl_-RNZmLR0"
      },
      "source": [
        "## **Hyper-parameter tuning**"
      ]
    },
    {
      "cell_type": "markdown",
      "metadata": {
        "id": "J712I_LumFL9"
      },
      "source": [
        "A model hyperparameter is a characteristic of a model that is external to the model and whose value cannot be estimated from data. The value of the hyperparameter has to be set before the learning process begins. For example, c in Support Vector Machines, k in k-Nearest Neighbors, the number of hidden layers in Neural Networks.\n",
        "\n",
        "**Grid-search** is used to find the optimal hyperparameters of a model which results in the most ‘accurate’ predictions.\n",
        "\n",
        "**cross-validation** is used to evaluate the performance of the models. Cross-validation measures how a model generalizes itself to an independent dataset. We use cross-validation to get a good estimate of how well a predictive model performs."
      ]
    },
    {
      "cell_type": "code",
      "execution_count": null,
      "metadata": {
        "id": "Xpw6hKWbmQRd"
      },
      "outputs": [],
      "source": [
        "?RandomForestRegressor"
      ]
    },
    {
      "cell_type": "code",
      "execution_count": 75,
      "metadata": {
        "id": "SutsM2qZmToQ"
      },
      "outputs": [],
      "source": [
        "learner_rf = RandomForestRegressor(random_state=42,n_estimators=35)"
      ]
    },
    {
      "cell_type": "code",
      "execution_count": 76,
      "metadata": {
        "id": "O0iPjhgsmdR3"
      },
      "outputs": [],
      "source": [
        "# Create the parameter grid based on the results of random search \n",
        "param_grid = {\n",
        "    'max_features': [500, \"sqrt\", \"log2\", \"auto\"],\n",
        "    'max_depth': [10, 15, 20]\n",
        "}"
      ]
    },
    {
      "cell_type": "markdown",
      "metadata": {
        "id": "lKcnBGy9-Yww"
      },
      "source": [
        "The param_grid parameter takes a list of parameters and ranges for each, as we have shown above."
      ]
    },
    {
      "cell_type": "code",
      "execution_count": 77,
      "metadata": {
        "id": "Rg0tFcMVmnjL"
      },
      "outputs": [],
      "source": [
        "# Instantiate the grid search model\n",
        "grid_search = GridSearchCV(estimator = learner_rf, param_grid = param_grid, \n",
        "                          cv = 6, n_jobs = -1, verbose = 1, scoring = \"neg_mean_squared_error\" )\n"
      ]
    },
    {
      "cell_type": "markdown",
      "metadata": {
        "id": "IwsyAo22-Ywx"
      },
      "source": [
        "We mentioned that cross-validation is carried out to estimate the performance of a model. In k-fold cross-validation, k is the number of folds. As shown below, through `cv=5`, we use cross-validation to train the model 5 times. This means that 5 would be the k value.\n",
        "\n",
        "`scoring='neg_mean_squared_error'` gives us the mean squared error. It is used in this form in grid search. This is meant to take the negative of the mean squared error to maximize and optimize it instead of minimizing the actual error.\n",
        "\n",
        "`n_jobs` parameter specifies the number of concurrent processes that should be used for routines parallelized with the library joblib. In our case, at -1, it means that all CPUs are in use.\n",
        "\n",
        "`verbose` gives us an option to produce logging information. We keep it at 0 to disable it since it may slow down our algorithm."
      ]
    },
    {
      "cell_type": "markdown",
      "metadata": {
        "id": "NeC9W0KR-Ywy"
      },
      "source": [
        "## Fitting the data.\n",
        "We do this through grid.fit(X,y), which does the fitting with all the parameters."
      ]
    },
    {
      "cell_type": "code",
      "execution_count": 78,
      "metadata": {
        "colab": {
          "base_uri": "https://localhost:8080/"
        },
        "id": "-KbWuW7Tm9Nr",
        "outputId": "3238a1e1-cd9e-49c0-d453-5e471e0f7781"
      },
      "outputs": [
        {
          "output_type": "stream",
          "name": "stdout",
          "text": [
            "Fitting 6 folds for each of 12 candidates, totalling 72 fits\n"
          ]
        },
        {
          "output_type": "execute_result",
          "data": {
            "text/plain": [
              "GridSearchCV(cv=6,\n",
              "             estimator=RandomForestRegressor(n_estimators=35, random_state=42),\n",
              "             n_jobs=-1,\n",
              "             param_grid={'max_depth': [10, 15, 20],\n",
              "                         'max_features': [500, 'sqrt', 'log2', 'auto']},\n",
              "             scoring='neg_mean_squared_error', verbose=1)"
            ]
          },
          "metadata": {},
          "execution_count": 78
        }
      ],
      "source": [
        "grid_search.fit(X_train_bow, y_train)"
      ]
    },
    {
      "cell_type": "code",
      "execution_count": 79,
      "metadata": {
        "colab": {
          "base_uri": "https://localhost:8080/"
        },
        "id": "Oy9SQj8J-Yw0",
        "outputId": "b277fdc1-908a-4bb0-ad26-7a53bf17a562"
      },
      "outputs": [
        {
          "output_type": "execute_result",
          "data": {
            "text/plain": [
              "{'mean_fit_time': array([ 1.55667675,  0.48463802,  0.185449  , 15.7205048 ,  2.64798319,\n",
              "         0.74193919,  0.23918275, 26.13915626,  4.10916062,  1.05066343,\n",
              "         0.31177219, 36.87497274]),\n",
              " 'std_fit_time': array([0.06125171, 0.00829479, 0.0208894 , 0.26152519, 0.07144849,\n",
              "        0.02317705, 0.01425118, 0.41991089, 0.09625898, 0.03442877,\n",
              "        0.00943139, 1.03852334]),\n",
              " 'mean_score_time': array([0.01489802, 0.01492568, 0.01412133, 0.01659008, 0.01763829,\n",
              "        0.01750565, 0.01590065, 0.01945802, 0.02098342, 0.02267734,\n",
              "        0.01808715, 0.02059579]),\n",
              " 'std_score_time': array([0.00043385, 0.00053641, 0.00053077, 0.00234973, 0.00036372,\n",
              "        0.00116304, 0.00041194, 0.00094548, 0.00066643, 0.00679073,\n",
              "        0.00087608, 0.00183534]),\n",
              " 'param_max_depth': masked_array(data=[10, 10, 10, 10, 15, 15, 15, 15, 20, 20, 20, 20],\n",
              "              mask=[False, False, False, False, False, False, False, False,\n",
              "                    False, False, False, False],\n",
              "        fill_value='?',\n",
              "             dtype=object),\n",
              " 'param_max_features': masked_array(data=[500, 'sqrt', 'log2', 'auto', 500, 'sqrt', 'log2',\n",
              "                    'auto', 500, 'sqrt', 'log2', 'auto'],\n",
              "              mask=[False, False, False, False, False, False, False, False,\n",
              "                    False, False, False, False],\n",
              "        fill_value='?',\n",
              "             dtype=object),\n",
              " 'params': [{'max_depth': 10, 'max_features': 500},\n",
              "  {'max_depth': 10, 'max_features': 'sqrt'},\n",
              "  {'max_depth': 10, 'max_features': 'log2'},\n",
              "  {'max_depth': 10, 'max_features': 'auto'},\n",
              "  {'max_depth': 15, 'max_features': 500},\n",
              "  {'max_depth': 15, 'max_features': 'sqrt'},\n",
              "  {'max_depth': 15, 'max_features': 'log2'},\n",
              "  {'max_depth': 15, 'max_features': 'auto'},\n",
              "  {'max_depth': 20, 'max_features': 500},\n",
              "  {'max_depth': 20, 'max_features': 'sqrt'},\n",
              "  {'max_depth': 20, 'max_features': 'log2'},\n",
              "  {'max_depth': 20, 'max_features': 'auto'}],\n",
              " 'split0_test_score': array([-0.96339959, -1.24009587, -1.53248494, -0.89555035, -0.79074766,\n",
              "        -1.12071232, -1.47953376, -0.72789433, -0.65513895, -0.99428626,\n",
              "        -1.4242403 , -0.60940598]),\n",
              " 'split1_test_score': array([-0.95527304, -1.30030327, -1.56323956, -0.82431308, -0.75176316,\n",
              "        -1.15802245, -1.50192749, -0.66636674, -0.62610562, -1.0288235 ,\n",
              "        -1.44964361, -0.57076923]),\n",
              " 'split2_test_score': array([-0.9039286 , -1.25144025, -1.50744659, -0.789938  , -0.72985593,\n",
              "        -1.1035836 , -1.46294931, -0.63560598, -0.60035811, -0.96759866,\n",
              "        -1.40466423, -0.53750994]),\n",
              " 'split3_test_score': array([-0.9064056 , -1.25170272, -1.49655035, -0.83862014, -0.71974106,\n",
              "        -1.08560462, -1.44966172, -0.69910176, -0.59223686, -0.9651627 ,\n",
              "        -1.39537256, -0.59703013]),\n",
              " 'split4_test_score': array([-0.90178762, -1.20329878, -1.49375719, -0.77901728, -0.71812611,\n",
              "        -1.05334459, -1.43918167, -0.63640509, -0.59430523, -0.93427106,\n",
              "        -1.38763114, -0.53832711]),\n",
              " 'split5_test_score': array([-0.93277457, -1.24298914, -1.53831844, -0.77956823, -0.73689699,\n",
              "        -1.11874762, -1.48765351, -0.64409766, -0.6119041 , -1.00106831,\n",
              "        -1.42636537, -0.5497327 ]),\n",
              " 'mean_test_score': array([-0.9272615 , -1.24830501, -1.52196618, -0.81783451, -0.74118848,\n",
              "        -1.1066692 , -1.47015124, -0.66824526, -0.61334148, -0.98186842,\n",
              "        -1.41465287, -0.56712918]),\n",
              " 'std_test_score': array([0.02499771, 0.02842066, 0.02494682, 0.04135833, 0.02485506,\n",
              "        0.03234451, 0.02173666, 0.03458296, 0.02194071, 0.03020991,\n",
              "        0.0210362 , 0.02800042]),\n",
              " 'rank_test_score': array([ 6,  9, 12,  5,  4,  8, 11,  3,  2,  7, 10,  1], dtype=int32)}"
            ]
          },
          "metadata": {},
          "execution_count": 79
        }
      ],
      "source": [
        "grid_search.cv_results_"
      ]
    },
    {
      "cell_type": "code",
      "execution_count": 80,
      "metadata": {
        "colab": {
          "base_uri": "https://localhost:8080/"
        },
        "id": "zkuWESFSqyII",
        "outputId": "fdb414b0-b43d-41f1-e51c-cb1bca595c9f"
      },
      "outputs": [
        {
          "output_type": "execute_result",
          "data": {
            "text/plain": [
              "RandomForestRegressor(max_depth=20, n_estimators=35, random_state=42)"
            ]
          },
          "metadata": {},
          "execution_count": 80
        }
      ],
      "source": [
        "grid_search.best_estimator_"
      ]
    },
    {
      "cell_type": "code",
      "execution_count": 81,
      "metadata": {
        "id": "hlGYNkmWrn7v"
      },
      "outputs": [],
      "source": [
        "y_train_pred = grid_search.best_estimator_.predict(X_train_bow)"
      ]
    },
    {
      "cell_type": "code",
      "execution_count": 82,
      "metadata": {
        "id": "6p7niVZDrvf5"
      },
      "outputs": [],
      "source": [
        "y_test_pred = grid_search.best_estimator_.predict(X_test_bow)\n"
      ]
    },
    {
      "cell_type": "code",
      "execution_count": 83,
      "metadata": {
        "colab": {
          "base_uri": "https://localhost:8080/"
        },
        "id": "sPZY5hmPr2A8",
        "outputId": "28017067-9524-4218-ebe8-a8b85d43644b"
      },
      "outputs": [
        {
          "output_type": "execute_result",
          "data": {
            "text/plain": [
              "0.6747454928551583"
            ]
          },
          "metadata": {},
          "execution_count": 83
        }
      ],
      "source": [
        "mean_squared_error(y_train, y_train_pred)**0.5"
      ]
    },
    {
      "cell_type": "code",
      "execution_count": 84,
      "metadata": {
        "colab": {
          "base_uri": "https://localhost:8080/"
        },
        "id": "txxVpPx9r4Bp",
        "outputId": "fad2c03d-05b0-418a-94e9-87738918af6f"
      },
      "outputs": [
        {
          "output_type": "execute_result",
          "data": {
            "text/plain": [
              "0.7517546027617316"
            ]
          },
          "metadata": {},
          "execution_count": 84
        }
      ],
      "source": [
        "mean_squared_error(y_test, y_test_pred)**0.5"
      ]
    },
    {
      "cell_type": "code",
      "source": [
        "r2_score(y_train,y_train_preds)"
      ],
      "metadata": {
        "colab": {
          "base_uri": "https://localhost:8080/"
        },
        "id": "Xr7-Gs-Wjcwd",
        "outputId": "8c2aa03e-9c5f-480a-d2b1-1734f4fbc683"
      },
      "execution_count": 88,
      "outputs": [
        {
          "output_type": "execute_result",
          "data": {
            "text/plain": [
              "0.9691173374381444"
            ]
          },
          "metadata": {},
          "execution_count": 88
        }
      ]
    },
    {
      "cell_type": "markdown",
      "metadata": {
        "id": "yGylkuzv-Yw4"
      },
      "source": [
        "## Identifying the mismatches"
      ]
    },
    {
      "cell_type": "code",
      "execution_count": 85,
      "metadata": {
        "id": "tzUYub80r7_A"
      },
      "outputs": [],
      "source": [
        "res_df = pd.DataFrame({'review':X_test, 'rating':y_test, 'rating_pred':y_test_pred})"
      ]
    },
    {
      "cell_type": "code",
      "execution_count": 86,
      "metadata": {
        "colab": {
          "base_uri": "https://localhost:8080/"
        },
        "id": "1VF7lbrgsGvN",
        "outputId": "c1810d84-a03f-4c83-9bc5-510d4cf901bc"
      },
      "outputs": [
        {
          "output_type": "execute_result",
          "data": {
            "text/plain": [
              "(17, 3)"
            ]
          },
          "metadata": {},
          "execution_count": 86
        }
      ],
      "source": [
        "res_df[(res_df.rating - res_df.rating_pred)>=2].shape"
      ]
    },
    {
      "cell_type": "code",
      "execution_count": 87,
      "metadata": {
        "colab": {
          "base_uri": "https://localhost:8080/",
          "height": 582
        },
        "id": "kzrsKhY2sI3g",
        "outputId": "a4ccef93-0892-4af3-f58d-8fca58a362bd"
      },
      "outputs": [
        {
          "output_type": "execute_result",
          "data": {
            "text/plain": [
              "                                                  review  rating  rating_pred\n",
              "7277   life saviour serving excellent food worst time...     5.0     1.045725\n",
              "26186  manjushree restaurant quite old one main eater...     4.0     1.857143\n",
              "2141                 food good did not get item one pack     4.0     1.930098\n",
              "6835                     food good onion lemon not given     4.0     1.391083\n",
              "21981  another restaurant main street j p nagar wide ...     5.0     2.901780\n",
              "7104                          nice taste biryani not hot     4.0     1.655281\n",
              "4771                                            not good     5.0     1.895617\n",
              "19793  part review programme ordered bombay masala qu...     5.0     1.776756\n",
              "13196  delicious food say vegetarian thought might sh...     5.0     1.975555\n",
              "16510  may not polished serving packaging etc never b...     5.0     1.692914\n",
              "14845  oh memory place first drink bangalore almost e...     5.0     1.986221\n",
              "15201                                 sauce not included     4.0     1.524643\n",
              "6830                     food good onion lemon not given     4.0     1.391083\n",
              "27705  option would improvement long quality not comp...     4.0     1.614466\n",
              "7668   wow owner awesome friendly tampa explained men...     5.0     2.410272\n",
              "26957  food fabolous no service no fancy decor nothin...     4.0     1.987732\n",
              "16515  may not polished serving packaging etc never b...     5.0     1.692914"
            ],
            "text/html": [
              "\n",
              "  <div id=\"df-d6d2826c-f6b8-49af-bd07-93484a3fe16f\">\n",
              "    <div class=\"colab-df-container\">\n",
              "      <div>\n",
              "<style scoped>\n",
              "    .dataframe tbody tr th:only-of-type {\n",
              "        vertical-align: middle;\n",
              "    }\n",
              "\n",
              "    .dataframe tbody tr th {\n",
              "        vertical-align: top;\n",
              "    }\n",
              "\n",
              "    .dataframe thead th {\n",
              "        text-align: right;\n",
              "    }\n",
              "</style>\n",
              "<table border=\"1\" class=\"dataframe\">\n",
              "  <thead>\n",
              "    <tr style=\"text-align: right;\">\n",
              "      <th></th>\n",
              "      <th>review</th>\n",
              "      <th>rating</th>\n",
              "      <th>rating_pred</th>\n",
              "    </tr>\n",
              "  </thead>\n",
              "  <tbody>\n",
              "    <tr>\n",
              "      <th>7277</th>\n",
              "      <td>life saviour serving excellent food worst time...</td>\n",
              "      <td>5.0</td>\n",
              "      <td>1.045725</td>\n",
              "    </tr>\n",
              "    <tr>\n",
              "      <th>26186</th>\n",
              "      <td>manjushree restaurant quite old one main eater...</td>\n",
              "      <td>4.0</td>\n",
              "      <td>1.857143</td>\n",
              "    </tr>\n",
              "    <tr>\n",
              "      <th>2141</th>\n",
              "      <td>food good did not get item one pack</td>\n",
              "      <td>4.0</td>\n",
              "      <td>1.930098</td>\n",
              "    </tr>\n",
              "    <tr>\n",
              "      <th>6835</th>\n",
              "      <td>food good onion lemon not given</td>\n",
              "      <td>4.0</td>\n",
              "      <td>1.391083</td>\n",
              "    </tr>\n",
              "    <tr>\n",
              "      <th>21981</th>\n",
              "      <td>another restaurant main street j p nagar wide ...</td>\n",
              "      <td>5.0</td>\n",
              "      <td>2.901780</td>\n",
              "    </tr>\n",
              "    <tr>\n",
              "      <th>7104</th>\n",
              "      <td>nice taste biryani not hot</td>\n",
              "      <td>4.0</td>\n",
              "      <td>1.655281</td>\n",
              "    </tr>\n",
              "    <tr>\n",
              "      <th>4771</th>\n",
              "      <td>not good</td>\n",
              "      <td>5.0</td>\n",
              "      <td>1.895617</td>\n",
              "    </tr>\n",
              "    <tr>\n",
              "      <th>19793</th>\n",
              "      <td>part review programme ordered bombay masala qu...</td>\n",
              "      <td>5.0</td>\n",
              "      <td>1.776756</td>\n",
              "    </tr>\n",
              "    <tr>\n",
              "      <th>13196</th>\n",
              "      <td>delicious food say vegetarian thought might sh...</td>\n",
              "      <td>5.0</td>\n",
              "      <td>1.975555</td>\n",
              "    </tr>\n",
              "    <tr>\n",
              "      <th>16510</th>\n",
              "      <td>may not polished serving packaging etc never b...</td>\n",
              "      <td>5.0</td>\n",
              "      <td>1.692914</td>\n",
              "    </tr>\n",
              "    <tr>\n",
              "      <th>14845</th>\n",
              "      <td>oh memory place first drink bangalore almost e...</td>\n",
              "      <td>5.0</td>\n",
              "      <td>1.986221</td>\n",
              "    </tr>\n",
              "    <tr>\n",
              "      <th>15201</th>\n",
              "      <td>sauce not included</td>\n",
              "      <td>4.0</td>\n",
              "      <td>1.524643</td>\n",
              "    </tr>\n",
              "    <tr>\n",
              "      <th>6830</th>\n",
              "      <td>food good onion lemon not given</td>\n",
              "      <td>4.0</td>\n",
              "      <td>1.391083</td>\n",
              "    </tr>\n",
              "    <tr>\n",
              "      <th>27705</th>\n",
              "      <td>option would improvement long quality not comp...</td>\n",
              "      <td>4.0</td>\n",
              "      <td>1.614466</td>\n",
              "    </tr>\n",
              "    <tr>\n",
              "      <th>7668</th>\n",
              "      <td>wow owner awesome friendly tampa explained men...</td>\n",
              "      <td>5.0</td>\n",
              "      <td>2.410272</td>\n",
              "    </tr>\n",
              "    <tr>\n",
              "      <th>26957</th>\n",
              "      <td>food fabolous no service no fancy decor nothin...</td>\n",
              "      <td>4.0</td>\n",
              "      <td>1.987732</td>\n",
              "    </tr>\n",
              "    <tr>\n",
              "      <th>16515</th>\n",
              "      <td>may not polished serving packaging etc never b...</td>\n",
              "      <td>5.0</td>\n",
              "      <td>1.692914</td>\n",
              "    </tr>\n",
              "  </tbody>\n",
              "</table>\n",
              "</div>\n",
              "      <button class=\"colab-df-convert\" onclick=\"convertToInteractive('df-d6d2826c-f6b8-49af-bd07-93484a3fe16f')\"\n",
              "              title=\"Convert this dataframe to an interactive table.\"\n",
              "              style=\"display:none;\">\n",
              "        \n",
              "  <svg xmlns=\"http://www.w3.org/2000/svg\" height=\"24px\"viewBox=\"0 0 24 24\"\n",
              "       width=\"24px\">\n",
              "    <path d=\"M0 0h24v24H0V0z\" fill=\"none\"/>\n",
              "    <path d=\"M18.56 5.44l.94 2.06.94-2.06 2.06-.94-2.06-.94-.94-2.06-.94 2.06-2.06.94zm-11 1L8.5 8.5l.94-2.06 2.06-.94-2.06-.94L8.5 2.5l-.94 2.06-2.06.94zm10 10l.94 2.06.94-2.06 2.06-.94-2.06-.94-.94-2.06-.94 2.06-2.06.94z\"/><path d=\"M17.41 7.96l-1.37-1.37c-.4-.4-.92-.59-1.43-.59-.52 0-1.04.2-1.43.59L10.3 9.45l-7.72 7.72c-.78.78-.78 2.05 0 2.83L4 21.41c.39.39.9.59 1.41.59.51 0 1.02-.2 1.41-.59l7.78-7.78 2.81-2.81c.8-.78.8-2.07 0-2.86zM5.41 20L4 18.59l7.72-7.72 1.47 1.35L5.41 20z\"/>\n",
              "  </svg>\n",
              "      </button>\n",
              "      \n",
              "  <style>\n",
              "    .colab-df-container {\n",
              "      display:flex;\n",
              "      flex-wrap:wrap;\n",
              "      gap: 12px;\n",
              "    }\n",
              "\n",
              "    .colab-df-convert {\n",
              "      background-color: #E8F0FE;\n",
              "      border: none;\n",
              "      border-radius: 50%;\n",
              "      cursor: pointer;\n",
              "      display: none;\n",
              "      fill: #1967D2;\n",
              "      height: 32px;\n",
              "      padding: 0 0 0 0;\n",
              "      width: 32px;\n",
              "    }\n",
              "\n",
              "    .colab-df-convert:hover {\n",
              "      background-color: #E2EBFA;\n",
              "      box-shadow: 0px 1px 2px rgba(60, 64, 67, 0.3), 0px 1px 3px 1px rgba(60, 64, 67, 0.15);\n",
              "      fill: #174EA6;\n",
              "    }\n",
              "\n",
              "    [theme=dark] .colab-df-convert {\n",
              "      background-color: #3B4455;\n",
              "      fill: #D2E3FC;\n",
              "    }\n",
              "\n",
              "    [theme=dark] .colab-df-convert:hover {\n",
              "      background-color: #434B5C;\n",
              "      box-shadow: 0px 1px 3px 1px rgba(0, 0, 0, 0.15);\n",
              "      filter: drop-shadow(0px 1px 2px rgba(0, 0, 0, 0.3));\n",
              "      fill: #FFFFFF;\n",
              "    }\n",
              "  </style>\n",
              "\n",
              "      <script>\n",
              "        const buttonEl =\n",
              "          document.querySelector('#df-d6d2826c-f6b8-49af-bd07-93484a3fe16f button.colab-df-convert');\n",
              "        buttonEl.style.display =\n",
              "          google.colab.kernel.accessAllowed ? 'block' : 'none';\n",
              "\n",
              "        async function convertToInteractive(key) {\n",
              "          const element = document.querySelector('#df-d6d2826c-f6b8-49af-bd07-93484a3fe16f');\n",
              "          const dataTable =\n",
              "            await google.colab.kernel.invokeFunction('convertToInteractive',\n",
              "                                                     [key], {});\n",
              "          if (!dataTable) return;\n",
              "\n",
              "          const docLinkHtml = 'Like what you see? Visit the ' +\n",
              "            '<a target=\"_blank\" href=https://colab.research.google.com/notebooks/data_table.ipynb>data table notebook</a>'\n",
              "            + ' to learn more about interactive tables.';\n",
              "          element.innerHTML = '';\n",
              "          dataTable['output_type'] = 'display_data';\n",
              "          await google.colab.output.renderOutput(dataTable, element);\n",
              "          const docLink = document.createElement('div');\n",
              "          docLink.innerHTML = docLinkHtml;\n",
              "          element.appendChild(docLink);\n",
              "        }\n",
              "      </script>\n",
              "    </div>\n",
              "  </div>\n",
              "  "
            ]
          },
          "metadata": {},
          "execution_count": 87
        }
      ],
      "source": [
        "res_df[(res_df.rating - res_df.rating_pred)>=2]"
      ]
    },
    {
      "cell_type": "code",
      "execution_count": null,
      "metadata": {
        "id": "-BQxL1YisV-0"
      },
      "outputs": [],
      "source": []
    },
    {
      "cell_type": "code",
      "execution_count": null,
      "metadata": {
        "id": "Zr-H2ns7-Yw6"
      },
      "outputs": [],
      "source": []
    },
    {
      "cell_type": "code",
      "execution_count": null,
      "metadata": {
        "id": "87EYVACX-Yw6"
      },
      "outputs": [],
      "source": []
    }
  ],
  "metadata": {
    "colab": {
      "provenance": []
    },
    "kernelspec": {
      "display_name": "Python 3 (ipykernel)",
      "language": "python",
      "name": "python3"
    },
    "language_info": {
      "codemirror_mode": {
        "name": "ipython",
        "version": 3
      },
      "file_extension": ".py",
      "mimetype": "text/x-python",
      "name": "python",
      "nbconvert_exporter": "python",
      "pygments_lexer": "ipython3",
      "version": "3.9.12"
    }
  },
  "nbformat": 4,
  "nbformat_minor": 0
}